{
 "cells": [
  {
   "cell_type": "markdown",
   "metadata": {},
   "source": [
    "# Venture Funding with Deep Learning\n",
    "\n",
    "You work as a risk management associate at Alphabet Soup, a venture capital firm. Alphabet Soup’s business team receives many funding applications from startups every day. This team has asked you to help them create a model that predicts whether applicants will be successful if funded by Alphabet Soup.\n",
    "\n",
    "The business team has given you a CSV containing more than 34,000 organizations that have received funding from Alphabet Soup over the years. With your knowledge of machine learning and neural networks, you decide to use the features in the provided dataset to create a binary classifier model that will predict whether an applicant will become a successful business. The CSV file contains a variety of information about these businesses, including whether or not they ultimately became successful.\n",
    "\n",
    "## Instructions:\n",
    "\n",
    "The steps for this challenge are broken out into the following sections:\n",
    "\n",
    "* Prepare the data for use on a neural network model.\n",
    "\n",
    "* Compile and evaluate a binary classification model using a neural network.\n",
    "\n",
    "* Optimize the neural network model.\n",
    "\n",
    "### Prepare the Data for Use on a Neural Network Model \n",
    "\n",
    "Using your knowledge of Pandas and scikit-learn’s `StandardScaler()`, preprocess the dataset so that you can use it to compile and evaluate the neural network model later.\n",
    "\n",
    "Open the starter code file, and complete the following data preparation steps:\n",
    "\n",
    "1. Read the `applicants_data.csv` file into a Pandas DataFrame. Review the DataFrame, looking for categorical variables that will need to be encoded, as well as columns that could eventually define your features and target variables.   \n",
    "\n",
    "2. Drop the “EIN” (Employer Identification Number) and “NAME” columns from the DataFrame, because they are not relevant to the binary classification model.\n",
    " \n",
    "3. Encode the dataset’s categorical variables using `OneHotEncoder`, and then place the encoded variables into a new DataFrame.\n",
    "\n",
    "4. Add the original DataFrame’s numerical variables to the DataFrame containing the encoded variables.\n",
    "\n",
    "> **Note** To complete this step, you will employ the Pandas `concat()` function that was introduced earlier in this course. \n",
    "\n",
    "5. Using the preprocessed data, create the features (`X`) and target (`y`) datasets. The target dataset should be defined by the preprocessed DataFrame column “IS_SUCCESSFUL”. The remaining columns should define the features dataset. \n",
    "\n",
    "6. Split the features and target sets into training and testing datasets.\n",
    "\n",
    "7. Use scikit-learn's `StandardScaler` to scale the features data.\n",
    "\n",
    "### Compile and Evaluate a Binary Classification Model Using a Neural Network\n",
    "\n",
    "Use your knowledge of TensorFlow to design a binary classification deep neural network model. This model should use the dataset’s features to predict whether an Alphabet Soup&ndash;funded startup will be successful based on the features in the dataset. Consider the number of inputs before determining the number of layers that your model will contain or the number of neurons on each layer. Then, compile and fit your model. Finally, evaluate your binary classification model to calculate the model’s loss and accuracy. \n",
    " \n",
    "To do so, complete the following steps:\n",
    "\n",
    "1. Create a deep neural network by assigning the number of input features, the number of layers, and the number of neurons on each layer using Tensorflow’s Keras.\n",
    "\n",
    "> **Hint** You can start with a two-layer deep neural network model that uses the `relu` activation function for both layers.\n",
    "\n",
    "2. Compile and fit the model using the `binary_crossentropy` loss function, the `adam` optimizer, and the `accuracy` evaluation metric.\n",
    "\n",
    "> **Hint** When fitting the model, start with a small number of epochs, such as 20, 50, or 100.\n",
    "\n",
    "3. Evaluate the model using the test data to determine the model’s loss and accuracy.\n",
    "\n",
    "4. Save and export your model to an HDF5 file, and name the file `AlphabetSoup.h5`. \n",
    "\n",
    "### Optimize the Neural Network Model\n",
    "\n",
    "Using your knowledge of TensorFlow and Keras, optimize your model to improve the model's accuracy. Even if you do not successfully achieve a better accuracy, you'll need to demonstrate at least two attempts to optimize the model. You can include these attempts in your existing notebook. Or, you can make copies of the starter notebook in the same folder, rename them, and code each model optimization in a new notebook. \n",
    "\n",
    "> **Note** You will not lose points if your model does not achieve a high accuracy, as long as you make at least two attempts to optimize the model.\n",
    "\n",
    "To do so, complete the following steps:\n",
    "\n",
    "1. Define at least three new deep neural network models (the original plus 2 optimization attempts). With each, try to improve on your first model’s predictive accuracy.\n",
    "\n",
    "> **Rewind** Recall that perfect accuracy has a value of 1, so accuracy improves as its value moves closer to 1. To optimize your model for a predictive accuracy as close to 1 as possible, you can use any or all of the following techniques:\n",
    ">\n",
    "> * Adjust the input data by dropping different features columns to ensure that no variables or outliers confuse the model.\n",
    ">\n",
    "> * Add more neurons (nodes) to a hidden layer.\n",
    ">\n",
    "> * Add more hidden layers.\n",
    ">\n",
    "> * Use different activation functions for the hidden layers.\n",
    ">\n",
    "> * Add to or reduce the number of epochs in the training regimen.\n",
    "\n",
    "2. After finishing your models, display the accuracy scores achieved by each model, and compare the results.\n",
    "\n",
    "3. Save each of your models as an HDF5 file.\n"
   ]
  },
  {
   "cell_type": "code",
   "execution_count": 1,
   "metadata": {},
   "outputs": [],
   "source": [
    "# Imports\n",
    "import pandas as pd\n",
    "import numpy as np\n",
    "from pathlib import Path\n",
    "import tensorflow as tf\n",
    "from tensorflow.keras.layers import Dense\n",
    "from tensorflow.keras.models import Sequential\n",
    "from sklearn.model_selection import train_test_split\n",
    "from sklearn.preprocessing import StandardScaler,OneHotEncoder\n",
    "\n",
    "import warnings\n",
    "warnings.filterwarnings('ignore')"
   ]
  },
  {
   "cell_type": "markdown",
   "metadata": {},
   "source": [
    "---\n",
    "\n",
    "## Prepare the data to be used on a neural network model"
   ]
  },
  {
   "cell_type": "markdown",
   "metadata": {},
   "source": [
    "### Step 1: Read the `applicants_data.csv` file into a Pandas DataFrame. Review the DataFrame, looking for categorical variables that will need to be encoded, as well as columns that could eventually define your features and target variables.  \n"
   ]
  },
  {
   "cell_type": "code",
   "execution_count": 2,
   "metadata": {},
   "outputs": [
    {
     "name": "stdout",
     "output_type": "stream",
     "text": [
      "applicants.csv data frame head:\n"
     ]
    },
    {
     "data": {
      "text/html": [
       "<div>\n",
       "<style scoped>\n",
       "    .dataframe tbody tr th:only-of-type {\n",
       "        vertical-align: middle;\n",
       "    }\n",
       "\n",
       "    .dataframe tbody tr th {\n",
       "        vertical-align: top;\n",
       "    }\n",
       "\n",
       "    .dataframe thead th {\n",
       "        text-align: right;\n",
       "    }\n",
       "</style>\n",
       "<table border=\"1\" class=\"dataframe\">\n",
       "  <thead>\n",
       "    <tr style=\"text-align: right;\">\n",
       "      <th></th>\n",
       "      <th>EIN</th>\n",
       "      <th>NAME</th>\n",
       "      <th>APPLICATION_TYPE</th>\n",
       "      <th>AFFILIATION</th>\n",
       "      <th>CLASSIFICATION</th>\n",
       "      <th>USE_CASE</th>\n",
       "      <th>ORGANIZATION</th>\n",
       "      <th>STATUS</th>\n",
       "      <th>INCOME_AMT</th>\n",
       "      <th>SPECIAL_CONSIDERATIONS</th>\n",
       "      <th>ASK_AMT</th>\n",
       "      <th>IS_SUCCESSFUL</th>\n",
       "    </tr>\n",
       "  </thead>\n",
       "  <tbody>\n",
       "    <tr>\n",
       "      <th>0</th>\n",
       "      <td>10520599</td>\n",
       "      <td>BLUE KNIGHTS MOTORCYCLE CLUB</td>\n",
       "      <td>T10</td>\n",
       "      <td>Independent</td>\n",
       "      <td>C1000</td>\n",
       "      <td>ProductDev</td>\n",
       "      <td>Association</td>\n",
       "      <td>1</td>\n",
       "      <td>0</td>\n",
       "      <td>N</td>\n",
       "      <td>5000</td>\n",
       "      <td>1</td>\n",
       "    </tr>\n",
       "    <tr>\n",
       "      <th>1</th>\n",
       "      <td>10531628</td>\n",
       "      <td>AMERICAN CHESAPEAKE CLUB CHARITABLE TR</td>\n",
       "      <td>T3</td>\n",
       "      <td>Independent</td>\n",
       "      <td>C2000</td>\n",
       "      <td>Preservation</td>\n",
       "      <td>Co-operative</td>\n",
       "      <td>1</td>\n",
       "      <td>1-9999</td>\n",
       "      <td>N</td>\n",
       "      <td>108590</td>\n",
       "      <td>1</td>\n",
       "    </tr>\n",
       "    <tr>\n",
       "      <th>2</th>\n",
       "      <td>10547893</td>\n",
       "      <td>ST CLOUD PROFESSIONAL FIREFIGHTERS</td>\n",
       "      <td>T5</td>\n",
       "      <td>CompanySponsored</td>\n",
       "      <td>C3000</td>\n",
       "      <td>ProductDev</td>\n",
       "      <td>Association</td>\n",
       "      <td>1</td>\n",
       "      <td>0</td>\n",
       "      <td>N</td>\n",
       "      <td>5000</td>\n",
       "      <td>0</td>\n",
       "    </tr>\n",
       "    <tr>\n",
       "      <th>3</th>\n",
       "      <td>10553066</td>\n",
       "      <td>SOUTHSIDE ATHLETIC ASSOCIATION</td>\n",
       "      <td>T3</td>\n",
       "      <td>CompanySponsored</td>\n",
       "      <td>C2000</td>\n",
       "      <td>Preservation</td>\n",
       "      <td>Trust</td>\n",
       "      <td>1</td>\n",
       "      <td>10000-24999</td>\n",
       "      <td>N</td>\n",
       "      <td>6692</td>\n",
       "      <td>1</td>\n",
       "    </tr>\n",
       "    <tr>\n",
       "      <th>4</th>\n",
       "      <td>10556103</td>\n",
       "      <td>GENETIC RESEARCH INSTITUTE OF THE DESERT</td>\n",
       "      <td>T3</td>\n",
       "      <td>Independent</td>\n",
       "      <td>C1000</td>\n",
       "      <td>Heathcare</td>\n",
       "      <td>Trust</td>\n",
       "      <td>1</td>\n",
       "      <td>100000-499999</td>\n",
       "      <td>N</td>\n",
       "      <td>142590</td>\n",
       "      <td>1</td>\n",
       "    </tr>\n",
       "  </tbody>\n",
       "</table>\n",
       "</div>"
      ],
      "text/plain": [
       "        EIN                                      NAME APPLICATION_TYPE  \\\n",
       "0  10520599              BLUE KNIGHTS MOTORCYCLE CLUB              T10   \n",
       "1  10531628    AMERICAN CHESAPEAKE CLUB CHARITABLE TR               T3   \n",
       "2  10547893        ST CLOUD PROFESSIONAL FIREFIGHTERS               T5   \n",
       "3  10553066            SOUTHSIDE ATHLETIC ASSOCIATION               T3   \n",
       "4  10556103  GENETIC RESEARCH INSTITUTE OF THE DESERT               T3   \n",
       "\n",
       "        AFFILIATION CLASSIFICATION      USE_CASE  ORGANIZATION  STATUS  \\\n",
       "0       Independent          C1000    ProductDev   Association       1   \n",
       "1       Independent          C2000  Preservation  Co-operative       1   \n",
       "2  CompanySponsored          C3000    ProductDev   Association       1   \n",
       "3  CompanySponsored          C2000  Preservation         Trust       1   \n",
       "4       Independent          C1000     Heathcare         Trust       1   \n",
       "\n",
       "      INCOME_AMT SPECIAL_CONSIDERATIONS  ASK_AMT  IS_SUCCESSFUL  \n",
       "0              0                      N     5000              1  \n",
       "1         1-9999                      N   108590              1  \n",
       "2              0                      N     5000              0  \n",
       "3    10000-24999                      N     6692              1  \n",
       "4  100000-499999                      N   142590              1  "
      ]
     },
     "metadata": {},
     "output_type": "display_data"
    }
   ],
   "source": [
    "# Read the applicants_data.csv file from the Resources folder into a Pandas DataFrame\n",
    "applicant_data_df =  pd.read_csv(Path('./Resources/applicants_data.csv'))\n",
    "\n",
    "# Review the DataFrame\n",
    "print(\"applicants.csv data frame head:\")\n",
    "display(applicant_data_df.head())"
   ]
  },
  {
   "cell_type": "code",
   "execution_count": 3,
   "metadata": {},
   "outputs": [
    {
     "data": {
      "text/plain": [
       "EIN                        int64\n",
       "NAME                      object\n",
       "APPLICATION_TYPE          object\n",
       "AFFILIATION               object\n",
       "CLASSIFICATION            object\n",
       "USE_CASE                  object\n",
       "ORGANIZATION              object\n",
       "STATUS                     int64\n",
       "INCOME_AMT                object\n",
       "SPECIAL_CONSIDERATIONS    object\n",
       "ASK_AMT                    int64\n",
       "IS_SUCCESSFUL              int64\n",
       "dtype: object"
      ]
     },
     "metadata": {},
     "output_type": "display_data"
    }
   ],
   "source": [
    "# Review the data types associated with the columns\n",
    "display(applicant_data_df.dtypes)"
   ]
  },
  {
   "cell_type": "code",
   "execution_count": 4,
   "metadata": {},
   "outputs": [
    {
     "data": {
      "text/plain": [
       "(34299, 12)"
      ]
     },
     "metadata": {},
     "output_type": "display_data"
    }
   ],
   "source": [
    "# Degug checkpoint\n",
    "display(applicant_data_df.shape)"
   ]
  },
  {
   "cell_type": "markdown",
   "metadata": {},
   "source": [
    "### Step 2: Drop the “EIN” (Employer Identification Number) and “NAME” columns from the DataFrame, because they are not relevant to the binary classification model."
   ]
  },
  {
   "cell_type": "code",
   "execution_count": 5,
   "metadata": {},
   "outputs": [
    {
     "name": "stdout",
     "output_type": "stream",
     "text": [
      "applicants.csv data frame head:\n"
     ]
    },
    {
     "data": {
      "text/html": [
       "<div>\n",
       "<style scoped>\n",
       "    .dataframe tbody tr th:only-of-type {\n",
       "        vertical-align: middle;\n",
       "    }\n",
       "\n",
       "    .dataframe tbody tr th {\n",
       "        vertical-align: top;\n",
       "    }\n",
       "\n",
       "    .dataframe thead th {\n",
       "        text-align: right;\n",
       "    }\n",
       "</style>\n",
       "<table border=\"1\" class=\"dataframe\">\n",
       "  <thead>\n",
       "    <tr style=\"text-align: right;\">\n",
       "      <th></th>\n",
       "      <th>APPLICATION_TYPE</th>\n",
       "      <th>AFFILIATION</th>\n",
       "      <th>CLASSIFICATION</th>\n",
       "      <th>USE_CASE</th>\n",
       "      <th>ORGANIZATION</th>\n",
       "      <th>STATUS</th>\n",
       "      <th>INCOME_AMT</th>\n",
       "      <th>SPECIAL_CONSIDERATIONS</th>\n",
       "      <th>ASK_AMT</th>\n",
       "      <th>IS_SUCCESSFUL</th>\n",
       "    </tr>\n",
       "  </thead>\n",
       "  <tbody>\n",
       "    <tr>\n",
       "      <th>0</th>\n",
       "      <td>T10</td>\n",
       "      <td>Independent</td>\n",
       "      <td>C1000</td>\n",
       "      <td>ProductDev</td>\n",
       "      <td>Association</td>\n",
       "      <td>1</td>\n",
       "      <td>0</td>\n",
       "      <td>N</td>\n",
       "      <td>5000</td>\n",
       "      <td>1</td>\n",
       "    </tr>\n",
       "    <tr>\n",
       "      <th>1</th>\n",
       "      <td>T3</td>\n",
       "      <td>Independent</td>\n",
       "      <td>C2000</td>\n",
       "      <td>Preservation</td>\n",
       "      <td>Co-operative</td>\n",
       "      <td>1</td>\n",
       "      <td>1-9999</td>\n",
       "      <td>N</td>\n",
       "      <td>108590</td>\n",
       "      <td>1</td>\n",
       "    </tr>\n",
       "    <tr>\n",
       "      <th>2</th>\n",
       "      <td>T5</td>\n",
       "      <td>CompanySponsored</td>\n",
       "      <td>C3000</td>\n",
       "      <td>ProductDev</td>\n",
       "      <td>Association</td>\n",
       "      <td>1</td>\n",
       "      <td>0</td>\n",
       "      <td>N</td>\n",
       "      <td>5000</td>\n",
       "      <td>0</td>\n",
       "    </tr>\n",
       "    <tr>\n",
       "      <th>3</th>\n",
       "      <td>T3</td>\n",
       "      <td>CompanySponsored</td>\n",
       "      <td>C2000</td>\n",
       "      <td>Preservation</td>\n",
       "      <td>Trust</td>\n",
       "      <td>1</td>\n",
       "      <td>10000-24999</td>\n",
       "      <td>N</td>\n",
       "      <td>6692</td>\n",
       "      <td>1</td>\n",
       "    </tr>\n",
       "    <tr>\n",
       "      <th>4</th>\n",
       "      <td>T3</td>\n",
       "      <td>Independent</td>\n",
       "      <td>C1000</td>\n",
       "      <td>Heathcare</td>\n",
       "      <td>Trust</td>\n",
       "      <td>1</td>\n",
       "      <td>100000-499999</td>\n",
       "      <td>N</td>\n",
       "      <td>142590</td>\n",
       "      <td>1</td>\n",
       "    </tr>\n",
       "  </tbody>\n",
       "</table>\n",
       "</div>"
      ],
      "text/plain": [
       "  APPLICATION_TYPE       AFFILIATION CLASSIFICATION      USE_CASE  \\\n",
       "0              T10       Independent          C1000    ProductDev   \n",
       "1               T3       Independent          C2000  Preservation   \n",
       "2               T5  CompanySponsored          C3000    ProductDev   \n",
       "3               T3  CompanySponsored          C2000  Preservation   \n",
       "4               T3       Independent          C1000     Heathcare   \n",
       "\n",
       "   ORGANIZATION  STATUS     INCOME_AMT SPECIAL_CONSIDERATIONS  ASK_AMT  \\\n",
       "0   Association       1              0                      N     5000   \n",
       "1  Co-operative       1         1-9999                      N   108590   \n",
       "2   Association       1              0                      N     5000   \n",
       "3         Trust       1    10000-24999                      N     6692   \n",
       "4         Trust       1  100000-499999                      N   142590   \n",
       "\n",
       "   IS_SUCCESSFUL  \n",
       "0              1  \n",
       "1              1  \n",
       "2              0  \n",
       "3              1  \n",
       "4              1  "
      ]
     },
     "metadata": {},
     "output_type": "display_data"
    }
   ],
   "source": [
    "# Drop the 'EIN' and 'NAME' columns from the DataFrame\n",
    "applicant_data_df = applicant_data_df.drop(columns=['EIN', 'NAME'])\n",
    "\n",
    "# Review the DataFrame\n",
    "print(\"applicants.csv data frame head:\")\n",
    "display(applicant_data_df.head())"
   ]
  },
  {
   "cell_type": "markdown",
   "metadata": {},
   "source": [
    "### Step 3: Encode the dataset’s categorical variables using `OneHotEncoder`, and then place the encoded variables into a new DataFrame."
   ]
  },
  {
   "cell_type": "code",
   "execution_count": 6,
   "metadata": {},
   "outputs": [
    {
     "data": {
      "text/plain": [
       "(34299, 10)"
      ]
     },
     "metadata": {},
     "output_type": "display_data"
    }
   ],
   "source": [
    "# Degug checkpoint\n",
    "display(applicant_data_df.shape)"
   ]
  },
  {
   "cell_type": "code",
   "execution_count": 7,
   "metadata": {},
   "outputs": [
    {
     "name": "stdout",
     "output_type": "stream",
     "text": [
      "applicant_categorical_col_lst:\n"
     ]
    },
    {
     "data": {
      "text/plain": [
       "['APPLICATION_TYPE',\n",
       " 'AFFILIATION',\n",
       " 'CLASSIFICATION',\n",
       " 'USE_CASE',\n",
       " 'ORGANIZATION',\n",
       " 'INCOME_AMT',\n",
       " 'SPECIAL_CONSIDERATIONS']"
      ]
     },
     "metadata": {},
     "output_type": "display_data"
    }
   ],
   "source": [
    "# Create a list of categorical variables \n",
    "applicant_categorical_col_lst = list(applicant_data_df.dtypes[applicant_data_df.dtypes == \"object\"].index)\n",
    "\n",
    "# Display the categorical variables list\n",
    "print(\"applicant_categorical_col_lst:\")\n",
    "display(applicant_categorical_col_lst)"
   ]
  },
  {
   "cell_type": "code",
   "execution_count": 8,
   "metadata": {},
   "outputs": [],
   "source": [
    "# Create a OneHotEncoder instance\n",
    "one_hot_enc_inst = OneHotEncoder(sparse=False)"
   ]
  },
  {
   "cell_type": "code",
   "execution_count": 9,
   "metadata": {},
   "outputs": [
    {
     "data": {
      "text/plain": [
       "sklearn.preprocessing._encoders.OneHotEncoder"
      ]
     },
     "metadata": {},
     "output_type": "display_data"
    }
   ],
   "source": [
    "# Degug checkpoint\n",
    "display(type(one_hot_enc_inst))"
   ]
  },
  {
   "cell_type": "code",
   "execution_count": 10,
   "metadata": {},
   "outputs": [],
   "source": [
    "# Encode the categorcal variables using OneHotEncoder\n",
    "applicant_data_categorical_onehotenc_npa = one_hot_enc_inst.fit_transform(applicant_data_df[applicant_categorical_col_lst])"
   ]
  },
  {
   "cell_type": "code",
   "execution_count": 11,
   "metadata": {},
   "outputs": [
    {
     "data": {
      "text/plain": [
       "numpy.ndarray"
      ]
     },
     "metadata": {},
     "output_type": "display_data"
    },
    {
     "data": {
      "text/plain": [
       "34299"
      ]
     },
     "metadata": {},
     "output_type": "display_data"
    },
    {
     "data": {
      "text/plain": [
       "114"
      ]
     },
     "metadata": {},
     "output_type": "display_data"
    },
    {
     "data": {
      "text/plain": [
       "array([[1., 0., 0., ..., 0., 1., 0.],\n",
       "       [0., 0., 0., ..., 0., 1., 0.],\n",
       "       [0., 0., 0., ..., 0., 1., 0.],\n",
       "       ...,\n",
       "       [0., 0., 0., ..., 0., 1., 0.],\n",
       "       [0., 0., 0., ..., 0., 1., 0.],\n",
       "       [0., 0., 0., ..., 0., 1., 0.]])"
      ]
     },
     "metadata": {},
     "output_type": "display_data"
    }
   ],
   "source": [
    "# Degug checkpoint\n",
    "display(type(applicant_data_categorical_onehotenc_npa))\n",
    "display(len(applicant_data_categorical_onehotenc_npa))  # rows\n",
    "display(len(applicant_data_categorical_onehotenc_npa[0]))  # columns\n",
    "display(applicant_data_categorical_onehotenc_npa)"
   ]
  },
  {
   "cell_type": "code",
   "execution_count": 12,
   "metadata": {},
   "outputs": [
    {
     "data": {
      "text/plain": [
       "['APPLICATION_TYPE',\n",
       " 'AFFILIATION',\n",
       " 'CLASSIFICATION',\n",
       " 'USE_CASE',\n",
       " 'ORGANIZATION',\n",
       " 'INCOME_AMT',\n",
       " 'SPECIAL_CONSIDERATIONS']"
      ]
     },
     "metadata": {},
     "output_type": "display_data"
    }
   ],
   "source": [
    "display(applicant_categorical_col_lst)"
   ]
  },
  {
   "cell_type": "code",
   "execution_count": 13,
   "metadata": {},
   "outputs": [],
   "source": [
    "applicant_categorical_onehotenc_col_lst = one_hot_enc_inst.get_feature_names(applicant_categorical_col_lst)"
   ]
  },
  {
   "cell_type": "code",
   "execution_count": 14,
   "metadata": {},
   "outputs": [
    {
     "data": {
      "text/plain": [
       "(114,)"
      ]
     },
     "metadata": {},
     "output_type": "display_data"
    },
    {
     "data": {
      "text/plain": [
       "array(['APPLICATION_TYPE_T10', 'APPLICATION_TYPE_T12',\n",
       "       'APPLICATION_TYPE_T13', 'APPLICATION_TYPE_T14',\n",
       "       'APPLICATION_TYPE_T15', 'APPLICATION_TYPE_T17',\n",
       "       'APPLICATION_TYPE_T19', 'APPLICATION_TYPE_T2',\n",
       "       'APPLICATION_TYPE_T25', 'APPLICATION_TYPE_T29',\n",
       "       'APPLICATION_TYPE_T3', 'APPLICATION_TYPE_T4',\n",
       "       'APPLICATION_TYPE_T5', 'APPLICATION_TYPE_T6',\n",
       "       'APPLICATION_TYPE_T7', 'APPLICATION_TYPE_T8',\n",
       "       'APPLICATION_TYPE_T9', 'AFFILIATION_CompanySponsored',\n",
       "       'AFFILIATION_Family/Parent', 'AFFILIATION_Independent',\n",
       "       'AFFILIATION_National', 'AFFILIATION_Other',\n",
       "       'AFFILIATION_Regional', 'CLASSIFICATION_C0',\n",
       "       'CLASSIFICATION_C1000', 'CLASSIFICATION_C1200',\n",
       "       'CLASSIFICATION_C1230', 'CLASSIFICATION_C1234',\n",
       "       'CLASSIFICATION_C1235', 'CLASSIFICATION_C1236',\n",
       "       'CLASSIFICATION_C1237', 'CLASSIFICATION_C1238',\n",
       "       'CLASSIFICATION_C1240', 'CLASSIFICATION_C1245',\n",
       "       'CLASSIFICATION_C1246', 'CLASSIFICATION_C1248',\n",
       "       'CLASSIFICATION_C1250', 'CLASSIFICATION_C1256',\n",
       "       'CLASSIFICATION_C1257', 'CLASSIFICATION_C1260',\n",
       "       'CLASSIFICATION_C1267', 'CLASSIFICATION_C1270',\n",
       "       'CLASSIFICATION_C1278', 'CLASSIFICATION_C1280',\n",
       "       'CLASSIFICATION_C1283', 'CLASSIFICATION_C1300',\n",
       "       'CLASSIFICATION_C1370', 'CLASSIFICATION_C1400',\n",
       "       'CLASSIFICATION_C1500', 'CLASSIFICATION_C1570',\n",
       "       'CLASSIFICATION_C1580', 'CLASSIFICATION_C1600',\n",
       "       'CLASSIFICATION_C1700', 'CLASSIFICATION_C1720',\n",
       "       'CLASSIFICATION_C1728', 'CLASSIFICATION_C1732',\n",
       "       'CLASSIFICATION_C1800', 'CLASSIFICATION_C1820',\n",
       "       'CLASSIFICATION_C1900', 'CLASSIFICATION_C2000',\n",
       "       'CLASSIFICATION_C2100', 'CLASSIFICATION_C2150',\n",
       "       'CLASSIFICATION_C2170', 'CLASSIFICATION_C2190',\n",
       "       'CLASSIFICATION_C2300', 'CLASSIFICATION_C2380',\n",
       "       'CLASSIFICATION_C2400', 'CLASSIFICATION_C2500',\n",
       "       'CLASSIFICATION_C2561', 'CLASSIFICATION_C2570',\n",
       "       'CLASSIFICATION_C2600', 'CLASSIFICATION_C2700',\n",
       "       'CLASSIFICATION_C2710', 'CLASSIFICATION_C2800',\n",
       "       'CLASSIFICATION_C3000', 'CLASSIFICATION_C3200',\n",
       "       'CLASSIFICATION_C3700', 'CLASSIFICATION_C4000',\n",
       "       'CLASSIFICATION_C4100', 'CLASSIFICATION_C4120',\n",
       "       'CLASSIFICATION_C4200', 'CLASSIFICATION_C4500',\n",
       "       'CLASSIFICATION_C5000', 'CLASSIFICATION_C5200',\n",
       "       'CLASSIFICATION_C6000', 'CLASSIFICATION_C6100',\n",
       "       'CLASSIFICATION_C7000', 'CLASSIFICATION_C7100',\n",
       "       'CLASSIFICATION_C7120', 'CLASSIFICATION_C7200',\n",
       "       'CLASSIFICATION_C7210', 'CLASSIFICATION_C8000',\n",
       "       'CLASSIFICATION_C8200', 'CLASSIFICATION_C8210',\n",
       "       'USE_CASE_CommunityServ', 'USE_CASE_Heathcare', 'USE_CASE_Other',\n",
       "       'USE_CASE_Preservation', 'USE_CASE_ProductDev',\n",
       "       'ORGANIZATION_Association', 'ORGANIZATION_Co-operative',\n",
       "       'ORGANIZATION_Corporation', 'ORGANIZATION_Trust', 'INCOME_AMT_0',\n",
       "       'INCOME_AMT_1-9999', 'INCOME_AMT_10000-24999',\n",
       "       'INCOME_AMT_100000-499999', 'INCOME_AMT_10M-50M',\n",
       "       'INCOME_AMT_1M-5M', 'INCOME_AMT_25000-99999', 'INCOME_AMT_50M+',\n",
       "       'INCOME_AMT_5M-10M', 'SPECIAL_CONSIDERATIONS_N',\n",
       "       'SPECIAL_CONSIDERATIONS_Y'], dtype=object)"
      ]
     },
     "metadata": {},
     "output_type": "display_data"
    }
   ],
   "source": [
    "# Degug checkpoint\n",
    "display(applicant_categorical_onehotenc_col_lst.shape)\n",
    "display(applicant_categorical_onehotenc_col_lst)"
   ]
  },
  {
   "cell_type": "code",
   "execution_count": 15,
   "metadata": {},
   "outputs": [
    {
     "name": "stdout",
     "output_type": "stream",
     "text": [
      "applicant_data_categorical_onehotenc_df head:\n"
     ]
    },
    {
     "data": {
      "text/html": [
       "<div>\n",
       "<style scoped>\n",
       "    .dataframe tbody tr th:only-of-type {\n",
       "        vertical-align: middle;\n",
       "    }\n",
       "\n",
       "    .dataframe tbody tr th {\n",
       "        vertical-align: top;\n",
       "    }\n",
       "\n",
       "    .dataframe thead th {\n",
       "        text-align: right;\n",
       "    }\n",
       "</style>\n",
       "<table border=\"1\" class=\"dataframe\">\n",
       "  <thead>\n",
       "    <tr style=\"text-align: right;\">\n",
       "      <th></th>\n",
       "      <th>APPLICATION_TYPE_T10</th>\n",
       "      <th>APPLICATION_TYPE_T12</th>\n",
       "      <th>APPLICATION_TYPE_T13</th>\n",
       "      <th>APPLICATION_TYPE_T14</th>\n",
       "      <th>APPLICATION_TYPE_T15</th>\n",
       "      <th>APPLICATION_TYPE_T17</th>\n",
       "      <th>APPLICATION_TYPE_T19</th>\n",
       "      <th>APPLICATION_TYPE_T2</th>\n",
       "      <th>APPLICATION_TYPE_T25</th>\n",
       "      <th>APPLICATION_TYPE_T29</th>\n",
       "      <th>...</th>\n",
       "      <th>INCOME_AMT_1-9999</th>\n",
       "      <th>INCOME_AMT_10000-24999</th>\n",
       "      <th>INCOME_AMT_100000-499999</th>\n",
       "      <th>INCOME_AMT_10M-50M</th>\n",
       "      <th>INCOME_AMT_1M-5M</th>\n",
       "      <th>INCOME_AMT_25000-99999</th>\n",
       "      <th>INCOME_AMT_50M+</th>\n",
       "      <th>INCOME_AMT_5M-10M</th>\n",
       "      <th>SPECIAL_CONSIDERATIONS_N</th>\n",
       "      <th>SPECIAL_CONSIDERATIONS_Y</th>\n",
       "    </tr>\n",
       "  </thead>\n",
       "  <tbody>\n",
       "    <tr>\n",
       "      <th>0</th>\n",
       "      <td>1.0</td>\n",
       "      <td>0.0</td>\n",
       "      <td>0.0</td>\n",
       "      <td>0.0</td>\n",
       "      <td>0.0</td>\n",
       "      <td>0.0</td>\n",
       "      <td>0.0</td>\n",
       "      <td>0.0</td>\n",
       "      <td>0.0</td>\n",
       "      <td>0.0</td>\n",
       "      <td>...</td>\n",
       "      <td>0.0</td>\n",
       "      <td>0.0</td>\n",
       "      <td>0.0</td>\n",
       "      <td>0.0</td>\n",
       "      <td>0.0</td>\n",
       "      <td>0.0</td>\n",
       "      <td>0.0</td>\n",
       "      <td>0.0</td>\n",
       "      <td>1.0</td>\n",
       "      <td>0.0</td>\n",
       "    </tr>\n",
       "    <tr>\n",
       "      <th>1</th>\n",
       "      <td>0.0</td>\n",
       "      <td>0.0</td>\n",
       "      <td>0.0</td>\n",
       "      <td>0.0</td>\n",
       "      <td>0.0</td>\n",
       "      <td>0.0</td>\n",
       "      <td>0.0</td>\n",
       "      <td>0.0</td>\n",
       "      <td>0.0</td>\n",
       "      <td>0.0</td>\n",
       "      <td>...</td>\n",
       "      <td>1.0</td>\n",
       "      <td>0.0</td>\n",
       "      <td>0.0</td>\n",
       "      <td>0.0</td>\n",
       "      <td>0.0</td>\n",
       "      <td>0.0</td>\n",
       "      <td>0.0</td>\n",
       "      <td>0.0</td>\n",
       "      <td>1.0</td>\n",
       "      <td>0.0</td>\n",
       "    </tr>\n",
       "    <tr>\n",
       "      <th>2</th>\n",
       "      <td>0.0</td>\n",
       "      <td>0.0</td>\n",
       "      <td>0.0</td>\n",
       "      <td>0.0</td>\n",
       "      <td>0.0</td>\n",
       "      <td>0.0</td>\n",
       "      <td>0.0</td>\n",
       "      <td>0.0</td>\n",
       "      <td>0.0</td>\n",
       "      <td>0.0</td>\n",
       "      <td>...</td>\n",
       "      <td>0.0</td>\n",
       "      <td>0.0</td>\n",
       "      <td>0.0</td>\n",
       "      <td>0.0</td>\n",
       "      <td>0.0</td>\n",
       "      <td>0.0</td>\n",
       "      <td>0.0</td>\n",
       "      <td>0.0</td>\n",
       "      <td>1.0</td>\n",
       "      <td>0.0</td>\n",
       "    </tr>\n",
       "    <tr>\n",
       "      <th>3</th>\n",
       "      <td>0.0</td>\n",
       "      <td>0.0</td>\n",
       "      <td>0.0</td>\n",
       "      <td>0.0</td>\n",
       "      <td>0.0</td>\n",
       "      <td>0.0</td>\n",
       "      <td>0.0</td>\n",
       "      <td>0.0</td>\n",
       "      <td>0.0</td>\n",
       "      <td>0.0</td>\n",
       "      <td>...</td>\n",
       "      <td>0.0</td>\n",
       "      <td>1.0</td>\n",
       "      <td>0.0</td>\n",
       "      <td>0.0</td>\n",
       "      <td>0.0</td>\n",
       "      <td>0.0</td>\n",
       "      <td>0.0</td>\n",
       "      <td>0.0</td>\n",
       "      <td>1.0</td>\n",
       "      <td>0.0</td>\n",
       "    </tr>\n",
       "    <tr>\n",
       "      <th>4</th>\n",
       "      <td>0.0</td>\n",
       "      <td>0.0</td>\n",
       "      <td>0.0</td>\n",
       "      <td>0.0</td>\n",
       "      <td>0.0</td>\n",
       "      <td>0.0</td>\n",
       "      <td>0.0</td>\n",
       "      <td>0.0</td>\n",
       "      <td>0.0</td>\n",
       "      <td>0.0</td>\n",
       "      <td>...</td>\n",
       "      <td>0.0</td>\n",
       "      <td>0.0</td>\n",
       "      <td>1.0</td>\n",
       "      <td>0.0</td>\n",
       "      <td>0.0</td>\n",
       "      <td>0.0</td>\n",
       "      <td>0.0</td>\n",
       "      <td>0.0</td>\n",
       "      <td>1.0</td>\n",
       "      <td>0.0</td>\n",
       "    </tr>\n",
       "  </tbody>\n",
       "</table>\n",
       "<p>5 rows × 114 columns</p>\n",
       "</div>"
      ],
      "text/plain": [
       "   APPLICATION_TYPE_T10  APPLICATION_TYPE_T12  APPLICATION_TYPE_T13  \\\n",
       "0                   1.0                   0.0                   0.0   \n",
       "1                   0.0                   0.0                   0.0   \n",
       "2                   0.0                   0.0                   0.0   \n",
       "3                   0.0                   0.0                   0.0   \n",
       "4                   0.0                   0.0                   0.0   \n",
       "\n",
       "   APPLICATION_TYPE_T14  APPLICATION_TYPE_T15  APPLICATION_TYPE_T17  \\\n",
       "0                   0.0                   0.0                   0.0   \n",
       "1                   0.0                   0.0                   0.0   \n",
       "2                   0.0                   0.0                   0.0   \n",
       "3                   0.0                   0.0                   0.0   \n",
       "4                   0.0                   0.0                   0.0   \n",
       "\n",
       "   APPLICATION_TYPE_T19  APPLICATION_TYPE_T2  APPLICATION_TYPE_T25  \\\n",
       "0                   0.0                  0.0                   0.0   \n",
       "1                   0.0                  0.0                   0.0   \n",
       "2                   0.0                  0.0                   0.0   \n",
       "3                   0.0                  0.0                   0.0   \n",
       "4                   0.0                  0.0                   0.0   \n",
       "\n",
       "   APPLICATION_TYPE_T29  ...  INCOME_AMT_1-9999  INCOME_AMT_10000-24999  \\\n",
       "0                   0.0  ...                0.0                     0.0   \n",
       "1                   0.0  ...                1.0                     0.0   \n",
       "2                   0.0  ...                0.0                     0.0   \n",
       "3                   0.0  ...                0.0                     1.0   \n",
       "4                   0.0  ...                0.0                     0.0   \n",
       "\n",
       "   INCOME_AMT_100000-499999  INCOME_AMT_10M-50M  INCOME_AMT_1M-5M  \\\n",
       "0                       0.0                 0.0               0.0   \n",
       "1                       0.0                 0.0               0.0   \n",
       "2                       0.0                 0.0               0.0   \n",
       "3                       0.0                 0.0               0.0   \n",
       "4                       1.0                 0.0               0.0   \n",
       "\n",
       "   INCOME_AMT_25000-99999  INCOME_AMT_50M+  INCOME_AMT_5M-10M  \\\n",
       "0                     0.0              0.0                0.0   \n",
       "1                     0.0              0.0                0.0   \n",
       "2                     0.0              0.0                0.0   \n",
       "3                     0.0              0.0                0.0   \n",
       "4                     0.0              0.0                0.0   \n",
       "\n",
       "   SPECIAL_CONSIDERATIONS_N  SPECIAL_CONSIDERATIONS_Y  \n",
       "0                       1.0                       0.0  \n",
       "1                       1.0                       0.0  \n",
       "2                       1.0                       0.0  \n",
       "3                       1.0                       0.0  \n",
       "4                       1.0                       0.0  \n",
       "\n",
       "[5 rows x 114 columns]"
      ]
     },
     "metadata": {},
     "output_type": "display_data"
    }
   ],
   "source": [
    "# Create a DataFrame with the encoded variables\n",
    "applicant_data_categorical_onehotenc_df = pd.DataFrame(\n",
    "    applicant_data_categorical_onehotenc_npa,\n",
    "    columns = applicant_categorical_onehotenc_col_lst\n",
    ")\n",
    "\n",
    "# Review the DataFrame\n",
    "print(\"applicant_data_categorical_onehotenc_df head:\")\n",
    "display(applicant_data_categorical_onehotenc_df.head())"
   ]
  },
  {
   "cell_type": "code",
   "execution_count": 16,
   "metadata": {},
   "outputs": [
    {
     "data": {
      "text/plain": [
       "(34299, 114)"
      ]
     },
     "metadata": {},
     "output_type": "display_data"
    }
   ],
   "source": [
    "# Degug checkpoint\n",
    "display(applicant_data_categorical_onehotenc_df.shape)"
   ]
  },
  {
   "cell_type": "code",
   "execution_count": 17,
   "metadata": {},
   "outputs": [],
   "source": [
    "# Create a DataFrame with the columnns containing numerical variables from the original dataset\n",
    "applicant_data_numerical_df = applicant_data_df.drop(columns = applicant_categorical_col_lst)"
   ]
  },
  {
   "cell_type": "code",
   "execution_count": 18,
   "metadata": {},
   "outputs": [
    {
     "name": "stdout",
     "output_type": "stream",
     "text": [
      "applicant_data_numerical_df head:\n"
     ]
    },
    {
     "data": {
      "text/plain": [
       "(34299, 3)"
      ]
     },
     "metadata": {},
     "output_type": "display_data"
    },
    {
     "data": {
      "text/html": [
       "<div>\n",
       "<style scoped>\n",
       "    .dataframe tbody tr th:only-of-type {\n",
       "        vertical-align: middle;\n",
       "    }\n",
       "\n",
       "    .dataframe tbody tr th {\n",
       "        vertical-align: top;\n",
       "    }\n",
       "\n",
       "    .dataframe thead th {\n",
       "        text-align: right;\n",
       "    }\n",
       "</style>\n",
       "<table border=\"1\" class=\"dataframe\">\n",
       "  <thead>\n",
       "    <tr style=\"text-align: right;\">\n",
       "      <th></th>\n",
       "      <th>STATUS</th>\n",
       "      <th>ASK_AMT</th>\n",
       "      <th>IS_SUCCESSFUL</th>\n",
       "    </tr>\n",
       "  </thead>\n",
       "  <tbody>\n",
       "    <tr>\n",
       "      <th>0</th>\n",
       "      <td>1</td>\n",
       "      <td>5000</td>\n",
       "      <td>1</td>\n",
       "    </tr>\n",
       "    <tr>\n",
       "      <th>1</th>\n",
       "      <td>1</td>\n",
       "      <td>108590</td>\n",
       "      <td>1</td>\n",
       "    </tr>\n",
       "    <tr>\n",
       "      <th>2</th>\n",
       "      <td>1</td>\n",
       "      <td>5000</td>\n",
       "      <td>0</td>\n",
       "    </tr>\n",
       "    <tr>\n",
       "      <th>3</th>\n",
       "      <td>1</td>\n",
       "      <td>6692</td>\n",
       "      <td>1</td>\n",
       "    </tr>\n",
       "    <tr>\n",
       "      <th>4</th>\n",
       "      <td>1</td>\n",
       "      <td>142590</td>\n",
       "      <td>1</td>\n",
       "    </tr>\n",
       "  </tbody>\n",
       "</table>\n",
       "</div>"
      ],
      "text/plain": [
       "   STATUS  ASK_AMT  IS_SUCCESSFUL\n",
       "0       1     5000              1\n",
       "1       1   108590              1\n",
       "2       1     5000              0\n",
       "3       1     6692              1\n",
       "4       1   142590              1"
      ]
     },
     "metadata": {},
     "output_type": "display_data"
    }
   ],
   "source": [
    "# Degug checkpoint\n",
    "print(\"applicant_data_numerical_df head:\")\n",
    "display(applicant_data_numerical_df.shape)\n",
    "display(applicant_data_numerical_df.head())"
   ]
  },
  {
   "cell_type": "markdown",
   "metadata": {},
   "source": [
    "### Step 4: Add the original DataFrame’s numerical variables to the DataFrame containing the encoded variables.\n",
    "\n",
    "> **Note** To complete this step, you will employ the Pandas `concat()` function that was introduced earlier in this course. "
   ]
  },
  {
   "cell_type": "code",
   "execution_count": 19,
   "metadata": {},
   "outputs": [
    {
     "name": "stdout",
     "output_type": "stream",
     "text": [
      "applicant_data_numerical_onehotenc_df:\n"
     ]
    },
    {
     "data": {
      "text/html": [
       "<div>\n",
       "<style scoped>\n",
       "    .dataframe tbody tr th:only-of-type {\n",
       "        vertical-align: middle;\n",
       "    }\n",
       "\n",
       "    .dataframe tbody tr th {\n",
       "        vertical-align: top;\n",
       "    }\n",
       "\n",
       "    .dataframe thead th {\n",
       "        text-align: right;\n",
       "    }\n",
       "</style>\n",
       "<table border=\"1\" class=\"dataframe\">\n",
       "  <thead>\n",
       "    <tr style=\"text-align: right;\">\n",
       "      <th></th>\n",
       "      <th>STATUS</th>\n",
       "      <th>ASK_AMT</th>\n",
       "      <th>IS_SUCCESSFUL</th>\n",
       "      <th>APPLICATION_TYPE_T10</th>\n",
       "      <th>APPLICATION_TYPE_T12</th>\n",
       "      <th>APPLICATION_TYPE_T13</th>\n",
       "      <th>APPLICATION_TYPE_T14</th>\n",
       "      <th>APPLICATION_TYPE_T15</th>\n",
       "      <th>APPLICATION_TYPE_T17</th>\n",
       "      <th>APPLICATION_TYPE_T19</th>\n",
       "      <th>...</th>\n",
       "      <th>INCOME_AMT_1-9999</th>\n",
       "      <th>INCOME_AMT_10000-24999</th>\n",
       "      <th>INCOME_AMT_100000-499999</th>\n",
       "      <th>INCOME_AMT_10M-50M</th>\n",
       "      <th>INCOME_AMT_1M-5M</th>\n",
       "      <th>INCOME_AMT_25000-99999</th>\n",
       "      <th>INCOME_AMT_50M+</th>\n",
       "      <th>INCOME_AMT_5M-10M</th>\n",
       "      <th>SPECIAL_CONSIDERATIONS_N</th>\n",
       "      <th>SPECIAL_CONSIDERATIONS_Y</th>\n",
       "    </tr>\n",
       "  </thead>\n",
       "  <tbody>\n",
       "    <tr>\n",
       "      <th>0</th>\n",
       "      <td>1</td>\n",
       "      <td>5000</td>\n",
       "      <td>1</td>\n",
       "      <td>1.0</td>\n",
       "      <td>0.0</td>\n",
       "      <td>0.0</td>\n",
       "      <td>0.0</td>\n",
       "      <td>0.0</td>\n",
       "      <td>0.0</td>\n",
       "      <td>0.0</td>\n",
       "      <td>...</td>\n",
       "      <td>0.0</td>\n",
       "      <td>0.0</td>\n",
       "      <td>0.0</td>\n",
       "      <td>0.0</td>\n",
       "      <td>0.0</td>\n",
       "      <td>0.0</td>\n",
       "      <td>0.0</td>\n",
       "      <td>0.0</td>\n",
       "      <td>1.0</td>\n",
       "      <td>0.0</td>\n",
       "    </tr>\n",
       "    <tr>\n",
       "      <th>1</th>\n",
       "      <td>1</td>\n",
       "      <td>108590</td>\n",
       "      <td>1</td>\n",
       "      <td>0.0</td>\n",
       "      <td>0.0</td>\n",
       "      <td>0.0</td>\n",
       "      <td>0.0</td>\n",
       "      <td>0.0</td>\n",
       "      <td>0.0</td>\n",
       "      <td>0.0</td>\n",
       "      <td>...</td>\n",
       "      <td>1.0</td>\n",
       "      <td>0.0</td>\n",
       "      <td>0.0</td>\n",
       "      <td>0.0</td>\n",
       "      <td>0.0</td>\n",
       "      <td>0.0</td>\n",
       "      <td>0.0</td>\n",
       "      <td>0.0</td>\n",
       "      <td>1.0</td>\n",
       "      <td>0.0</td>\n",
       "    </tr>\n",
       "    <tr>\n",
       "      <th>2</th>\n",
       "      <td>1</td>\n",
       "      <td>5000</td>\n",
       "      <td>0</td>\n",
       "      <td>0.0</td>\n",
       "      <td>0.0</td>\n",
       "      <td>0.0</td>\n",
       "      <td>0.0</td>\n",
       "      <td>0.0</td>\n",
       "      <td>0.0</td>\n",
       "      <td>0.0</td>\n",
       "      <td>...</td>\n",
       "      <td>0.0</td>\n",
       "      <td>0.0</td>\n",
       "      <td>0.0</td>\n",
       "      <td>0.0</td>\n",
       "      <td>0.0</td>\n",
       "      <td>0.0</td>\n",
       "      <td>0.0</td>\n",
       "      <td>0.0</td>\n",
       "      <td>1.0</td>\n",
       "      <td>0.0</td>\n",
       "    </tr>\n",
       "    <tr>\n",
       "      <th>3</th>\n",
       "      <td>1</td>\n",
       "      <td>6692</td>\n",
       "      <td>1</td>\n",
       "      <td>0.0</td>\n",
       "      <td>0.0</td>\n",
       "      <td>0.0</td>\n",
       "      <td>0.0</td>\n",
       "      <td>0.0</td>\n",
       "      <td>0.0</td>\n",
       "      <td>0.0</td>\n",
       "      <td>...</td>\n",
       "      <td>0.0</td>\n",
       "      <td>1.0</td>\n",
       "      <td>0.0</td>\n",
       "      <td>0.0</td>\n",
       "      <td>0.0</td>\n",
       "      <td>0.0</td>\n",
       "      <td>0.0</td>\n",
       "      <td>0.0</td>\n",
       "      <td>1.0</td>\n",
       "      <td>0.0</td>\n",
       "    </tr>\n",
       "    <tr>\n",
       "      <th>4</th>\n",
       "      <td>1</td>\n",
       "      <td>142590</td>\n",
       "      <td>1</td>\n",
       "      <td>0.0</td>\n",
       "      <td>0.0</td>\n",
       "      <td>0.0</td>\n",
       "      <td>0.0</td>\n",
       "      <td>0.0</td>\n",
       "      <td>0.0</td>\n",
       "      <td>0.0</td>\n",
       "      <td>...</td>\n",
       "      <td>0.0</td>\n",
       "      <td>0.0</td>\n",
       "      <td>1.0</td>\n",
       "      <td>0.0</td>\n",
       "      <td>0.0</td>\n",
       "      <td>0.0</td>\n",
       "      <td>0.0</td>\n",
       "      <td>0.0</td>\n",
       "      <td>1.0</td>\n",
       "      <td>0.0</td>\n",
       "    </tr>\n",
       "  </tbody>\n",
       "</table>\n",
       "<p>5 rows × 117 columns</p>\n",
       "</div>"
      ],
      "text/plain": [
       "   STATUS  ASK_AMT  IS_SUCCESSFUL  APPLICATION_TYPE_T10  APPLICATION_TYPE_T12  \\\n",
       "0       1     5000              1                   1.0                   0.0   \n",
       "1       1   108590              1                   0.0                   0.0   \n",
       "2       1     5000              0                   0.0                   0.0   \n",
       "3       1     6692              1                   0.0                   0.0   \n",
       "4       1   142590              1                   0.0                   0.0   \n",
       "\n",
       "   APPLICATION_TYPE_T13  APPLICATION_TYPE_T14  APPLICATION_TYPE_T15  \\\n",
       "0                   0.0                   0.0                   0.0   \n",
       "1                   0.0                   0.0                   0.0   \n",
       "2                   0.0                   0.0                   0.0   \n",
       "3                   0.0                   0.0                   0.0   \n",
       "4                   0.0                   0.0                   0.0   \n",
       "\n",
       "   APPLICATION_TYPE_T17  APPLICATION_TYPE_T19  ...  INCOME_AMT_1-9999  \\\n",
       "0                   0.0                   0.0  ...                0.0   \n",
       "1                   0.0                   0.0  ...                1.0   \n",
       "2                   0.0                   0.0  ...                0.0   \n",
       "3                   0.0                   0.0  ...                0.0   \n",
       "4                   0.0                   0.0  ...                0.0   \n",
       "\n",
       "   INCOME_AMT_10000-24999  INCOME_AMT_100000-499999  INCOME_AMT_10M-50M  \\\n",
       "0                     0.0                       0.0                 0.0   \n",
       "1                     0.0                       0.0                 0.0   \n",
       "2                     0.0                       0.0                 0.0   \n",
       "3                     1.0                       0.0                 0.0   \n",
       "4                     0.0                       1.0                 0.0   \n",
       "\n",
       "   INCOME_AMT_1M-5M  INCOME_AMT_25000-99999  INCOME_AMT_50M+  \\\n",
       "0               0.0                     0.0              0.0   \n",
       "1               0.0                     0.0              0.0   \n",
       "2               0.0                     0.0              0.0   \n",
       "3               0.0                     0.0              0.0   \n",
       "4               0.0                     0.0              0.0   \n",
       "\n",
       "   INCOME_AMT_5M-10M  SPECIAL_CONSIDERATIONS_N  SPECIAL_CONSIDERATIONS_Y  \n",
       "0                0.0                       1.0                       0.0  \n",
       "1                0.0                       1.0                       0.0  \n",
       "2                0.0                       1.0                       0.0  \n",
       "3                0.0                       1.0                       0.0  \n",
       "4                0.0                       1.0                       0.0  \n",
       "\n",
       "[5 rows x 117 columns]"
      ]
     },
     "metadata": {},
     "output_type": "display_data"
    }
   ],
   "source": [
    "# Add the numerical variables from the original DataFrame to the one-hot encoding DataFrame\n",
    "applicant_data_numerical_onehotenc_df = pd.concat(\n",
    "    [\n",
    "        applicant_data_numerical_df,\n",
    "        applicant_data_categorical_onehotenc_df\n",
    "    ],\n",
    "    axis=1\n",
    ")\n",
    "\n",
    "# Review the Dataframe\n",
    "print(\"applicant_data_numerical_onehotenc_df:\")\n",
    "display(applicant_data_numerical_onehotenc_df.head())"
   ]
  },
  {
   "cell_type": "code",
   "execution_count": 20,
   "metadata": {},
   "outputs": [
    {
     "data": {
      "text/plain": [
       "(34299, 117)"
      ]
     },
     "metadata": {},
     "output_type": "display_data"
    }
   ],
   "source": [
    "# Degug checkpoint\n",
    "display(applicant_data_numerical_onehotenc_df.shape)"
   ]
  },
  {
   "cell_type": "markdown",
   "metadata": {},
   "source": [
    "### Step 5: Using the preprocessed data, create the features (`X`) and target (`y`) datasets. The target dataset should be defined by the preprocessed DataFrame column “IS_SUCCESSFUL”. The remaining columns should define the features dataset. \n",
    "\n"
   ]
  },
  {
   "cell_type": "code",
   "execution_count": 21,
   "metadata": {},
   "outputs": [
    {
     "name": "stdout",
     "output_type": "stream",
     "text": [
      "X_df:\n"
     ]
    },
    {
     "data": {
      "text/html": [
       "<div>\n",
       "<style scoped>\n",
       "    .dataframe tbody tr th:only-of-type {\n",
       "        vertical-align: middle;\n",
       "    }\n",
       "\n",
       "    .dataframe tbody tr th {\n",
       "        vertical-align: top;\n",
       "    }\n",
       "\n",
       "    .dataframe thead th {\n",
       "        text-align: right;\n",
       "    }\n",
       "</style>\n",
       "<table border=\"1\" class=\"dataframe\">\n",
       "  <thead>\n",
       "    <tr style=\"text-align: right;\">\n",
       "      <th></th>\n",
       "      <th>STATUS</th>\n",
       "      <th>ASK_AMT</th>\n",
       "      <th>APPLICATION_TYPE_T10</th>\n",
       "      <th>APPLICATION_TYPE_T12</th>\n",
       "      <th>APPLICATION_TYPE_T13</th>\n",
       "      <th>APPLICATION_TYPE_T14</th>\n",
       "      <th>APPLICATION_TYPE_T15</th>\n",
       "      <th>APPLICATION_TYPE_T17</th>\n",
       "      <th>APPLICATION_TYPE_T19</th>\n",
       "      <th>APPLICATION_TYPE_T2</th>\n",
       "      <th>...</th>\n",
       "      <th>INCOME_AMT_1-9999</th>\n",
       "      <th>INCOME_AMT_10000-24999</th>\n",
       "      <th>INCOME_AMT_100000-499999</th>\n",
       "      <th>INCOME_AMT_10M-50M</th>\n",
       "      <th>INCOME_AMT_1M-5M</th>\n",
       "      <th>INCOME_AMT_25000-99999</th>\n",
       "      <th>INCOME_AMT_50M+</th>\n",
       "      <th>INCOME_AMT_5M-10M</th>\n",
       "      <th>SPECIAL_CONSIDERATIONS_N</th>\n",
       "      <th>SPECIAL_CONSIDERATIONS_Y</th>\n",
       "    </tr>\n",
       "  </thead>\n",
       "  <tbody>\n",
       "    <tr>\n",
       "      <th>0</th>\n",
       "      <td>1</td>\n",
       "      <td>5000</td>\n",
       "      <td>1.0</td>\n",
       "      <td>0.0</td>\n",
       "      <td>0.0</td>\n",
       "      <td>0.0</td>\n",
       "      <td>0.0</td>\n",
       "      <td>0.0</td>\n",
       "      <td>0.0</td>\n",
       "      <td>0.0</td>\n",
       "      <td>...</td>\n",
       "      <td>0.0</td>\n",
       "      <td>0.0</td>\n",
       "      <td>0.0</td>\n",
       "      <td>0.0</td>\n",
       "      <td>0.0</td>\n",
       "      <td>0.0</td>\n",
       "      <td>0.0</td>\n",
       "      <td>0.0</td>\n",
       "      <td>1.0</td>\n",
       "      <td>0.0</td>\n",
       "    </tr>\n",
       "    <tr>\n",
       "      <th>1</th>\n",
       "      <td>1</td>\n",
       "      <td>108590</td>\n",
       "      <td>0.0</td>\n",
       "      <td>0.0</td>\n",
       "      <td>0.0</td>\n",
       "      <td>0.0</td>\n",
       "      <td>0.0</td>\n",
       "      <td>0.0</td>\n",
       "      <td>0.0</td>\n",
       "      <td>0.0</td>\n",
       "      <td>...</td>\n",
       "      <td>1.0</td>\n",
       "      <td>0.0</td>\n",
       "      <td>0.0</td>\n",
       "      <td>0.0</td>\n",
       "      <td>0.0</td>\n",
       "      <td>0.0</td>\n",
       "      <td>0.0</td>\n",
       "      <td>0.0</td>\n",
       "      <td>1.0</td>\n",
       "      <td>0.0</td>\n",
       "    </tr>\n",
       "    <tr>\n",
       "      <th>2</th>\n",
       "      <td>1</td>\n",
       "      <td>5000</td>\n",
       "      <td>0.0</td>\n",
       "      <td>0.0</td>\n",
       "      <td>0.0</td>\n",
       "      <td>0.0</td>\n",
       "      <td>0.0</td>\n",
       "      <td>0.0</td>\n",
       "      <td>0.0</td>\n",
       "      <td>0.0</td>\n",
       "      <td>...</td>\n",
       "      <td>0.0</td>\n",
       "      <td>0.0</td>\n",
       "      <td>0.0</td>\n",
       "      <td>0.0</td>\n",
       "      <td>0.0</td>\n",
       "      <td>0.0</td>\n",
       "      <td>0.0</td>\n",
       "      <td>0.0</td>\n",
       "      <td>1.0</td>\n",
       "      <td>0.0</td>\n",
       "    </tr>\n",
       "    <tr>\n",
       "      <th>3</th>\n",
       "      <td>1</td>\n",
       "      <td>6692</td>\n",
       "      <td>0.0</td>\n",
       "      <td>0.0</td>\n",
       "      <td>0.0</td>\n",
       "      <td>0.0</td>\n",
       "      <td>0.0</td>\n",
       "      <td>0.0</td>\n",
       "      <td>0.0</td>\n",
       "      <td>0.0</td>\n",
       "      <td>...</td>\n",
       "      <td>0.0</td>\n",
       "      <td>1.0</td>\n",
       "      <td>0.0</td>\n",
       "      <td>0.0</td>\n",
       "      <td>0.0</td>\n",
       "      <td>0.0</td>\n",
       "      <td>0.0</td>\n",
       "      <td>0.0</td>\n",
       "      <td>1.0</td>\n",
       "      <td>0.0</td>\n",
       "    </tr>\n",
       "    <tr>\n",
       "      <th>4</th>\n",
       "      <td>1</td>\n",
       "      <td>142590</td>\n",
       "      <td>0.0</td>\n",
       "      <td>0.0</td>\n",
       "      <td>0.0</td>\n",
       "      <td>0.0</td>\n",
       "      <td>0.0</td>\n",
       "      <td>0.0</td>\n",
       "      <td>0.0</td>\n",
       "      <td>0.0</td>\n",
       "      <td>...</td>\n",
       "      <td>0.0</td>\n",
       "      <td>0.0</td>\n",
       "      <td>1.0</td>\n",
       "      <td>0.0</td>\n",
       "      <td>0.0</td>\n",
       "      <td>0.0</td>\n",
       "      <td>0.0</td>\n",
       "      <td>0.0</td>\n",
       "      <td>1.0</td>\n",
       "      <td>0.0</td>\n",
       "    </tr>\n",
       "  </tbody>\n",
       "</table>\n",
       "<p>5 rows × 116 columns</p>\n",
       "</div>"
      ],
      "text/plain": [
       "   STATUS  ASK_AMT  APPLICATION_TYPE_T10  APPLICATION_TYPE_T12  \\\n",
       "0       1     5000                   1.0                   0.0   \n",
       "1       1   108590                   0.0                   0.0   \n",
       "2       1     5000                   0.0                   0.0   \n",
       "3       1     6692                   0.0                   0.0   \n",
       "4       1   142590                   0.0                   0.0   \n",
       "\n",
       "   APPLICATION_TYPE_T13  APPLICATION_TYPE_T14  APPLICATION_TYPE_T15  \\\n",
       "0                   0.0                   0.0                   0.0   \n",
       "1                   0.0                   0.0                   0.0   \n",
       "2                   0.0                   0.0                   0.0   \n",
       "3                   0.0                   0.0                   0.0   \n",
       "4                   0.0                   0.0                   0.0   \n",
       "\n",
       "   APPLICATION_TYPE_T17  APPLICATION_TYPE_T19  APPLICATION_TYPE_T2  ...  \\\n",
       "0                   0.0                   0.0                  0.0  ...   \n",
       "1                   0.0                   0.0                  0.0  ...   \n",
       "2                   0.0                   0.0                  0.0  ...   \n",
       "3                   0.0                   0.0                  0.0  ...   \n",
       "4                   0.0                   0.0                  0.0  ...   \n",
       "\n",
       "   INCOME_AMT_1-9999  INCOME_AMT_10000-24999  INCOME_AMT_100000-499999  \\\n",
       "0                0.0                     0.0                       0.0   \n",
       "1                1.0                     0.0                       0.0   \n",
       "2                0.0                     0.0                       0.0   \n",
       "3                0.0                     1.0                       0.0   \n",
       "4                0.0                     0.0                       1.0   \n",
       "\n",
       "   INCOME_AMT_10M-50M  INCOME_AMT_1M-5M  INCOME_AMT_25000-99999  \\\n",
       "0                 0.0               0.0                     0.0   \n",
       "1                 0.0               0.0                     0.0   \n",
       "2                 0.0               0.0                     0.0   \n",
       "3                 0.0               0.0                     0.0   \n",
       "4                 0.0               0.0                     0.0   \n",
       "\n",
       "   INCOME_AMT_50M+  INCOME_AMT_5M-10M  SPECIAL_CONSIDERATIONS_N  \\\n",
       "0              0.0                0.0                       1.0   \n",
       "1              0.0                0.0                       1.0   \n",
       "2              0.0                0.0                       1.0   \n",
       "3              0.0                0.0                       1.0   \n",
       "4              0.0                0.0                       1.0   \n",
       "\n",
       "   SPECIAL_CONSIDERATIONS_Y  \n",
       "0                       0.0  \n",
       "1                       0.0  \n",
       "2                       0.0  \n",
       "3                       0.0  \n",
       "4                       0.0  \n",
       "\n",
       "[5 rows x 116 columns]"
      ]
     },
     "metadata": {},
     "output_type": "display_data"
    }
   ],
   "source": [
    "# Define features set X by selecting all columns but IS_SUCCESSFUL\n",
    "X_df = applicant_data_numerical_onehotenc_df.drop(columns=['IS_SUCCESSFUL'])\n",
    "\n",
    "# Review the features DataFrame\n",
    "print(\"X_df:\")\n",
    "display(X_df.head())"
   ]
  },
  {
   "cell_type": "code",
   "execution_count": 22,
   "metadata": {},
   "outputs": [
    {
     "data": {
      "text/plain": [
       "(34299, 116)"
      ]
     },
     "metadata": {},
     "output_type": "display_data"
    }
   ],
   "source": [
    "# Degug checkpoint\n",
    "display(X_df.shape)"
   ]
  },
  {
   "cell_type": "code",
   "execution_count": 23,
   "metadata": {},
   "outputs": [
    {
     "name": "stdout",
     "output_type": "stream",
     "text": [
      "target set y:\n"
     ]
    },
    {
     "data": {
      "text/plain": [
       "pandas.core.series.Series"
      ]
     },
     "metadata": {},
     "output_type": "display_data"
    },
    {
     "data": {
      "text/plain": [
       "0        1\n",
       "1        1\n",
       "2        0\n",
       "3        1\n",
       "4        1\n",
       "        ..\n",
       "34294    0\n",
       "34295    0\n",
       "34296    0\n",
       "34297    1\n",
       "34298    0\n",
       "Name: IS_SUCCESSFUL, Length: 34299, dtype: int64"
      ]
     },
     "metadata": {},
     "output_type": "display_data"
    }
   ],
   "source": [
    "# Define the target set y using the IS_SUCCESSFUL column\n",
    "y_srs = applicant_data_numerical_onehotenc_df[\"IS_SUCCESSFUL\"]\n",
    "\n",
    "# Display a sample of y\n",
    "print(\"target set y:\")\n",
    "display(type(y_srs))\n",
    "display(y_srs)"
   ]
  },
  {
   "cell_type": "code",
   "execution_count": 24,
   "metadata": {},
   "outputs": [
    {
     "data": {
      "text/plain": [
       "(34299,)"
      ]
     },
     "metadata": {},
     "output_type": "display_data"
    }
   ],
   "source": [
    "# Degug checkpoint\n",
    "display(y_srs.shape)"
   ]
  },
  {
   "cell_type": "markdown",
   "metadata": {},
   "source": [
    "### Step 6: Split the features and target sets into training and testing datasets.\n"
   ]
  },
  {
   "cell_type": "code",
   "execution_count": 25,
   "metadata": {},
   "outputs": [],
   "source": [
    "# Split the preprocessed data into a training and testing dataset\n",
    "# Assign the function a random_state equal to 1\n",
    "X_train_df, X_test_df, y_train_srs, y_test_srs = train_test_split(X_df, y_srs, random_state=1)"
   ]
  },
  {
   "cell_type": "code",
   "execution_count": 26,
   "metadata": {},
   "outputs": [
    {
     "data": {
      "text/plain": [
       "pandas.core.frame.DataFrame"
      ]
     },
     "metadata": {},
     "output_type": "display_data"
    },
    {
     "data": {
      "text/plain": [
       "pandas.core.frame.DataFrame"
      ]
     },
     "metadata": {},
     "output_type": "display_data"
    },
    {
     "data": {
      "text/plain": [
       "pandas.core.series.Series"
      ]
     },
     "metadata": {},
     "output_type": "display_data"
    },
    {
     "data": {
      "text/plain": [
       "pandas.core.series.Series"
      ]
     },
     "metadata": {},
     "output_type": "display_data"
    },
    {
     "data": {
      "text/plain": [
       "(25724, 116)"
      ]
     },
     "metadata": {},
     "output_type": "display_data"
    },
    {
     "data": {
      "text/plain": [
       "(8575, 116)"
      ]
     },
     "metadata": {},
     "output_type": "display_data"
    },
    {
     "data": {
      "text/plain": [
       "(25724,)"
      ]
     },
     "metadata": {},
     "output_type": "display_data"
    },
    {
     "data": {
      "text/plain": [
       "(8575,)"
      ]
     },
     "metadata": {},
     "output_type": "display_data"
    }
   ],
   "source": [
    "# Data checkpoint\n",
    "display(type(X_train_df))\n",
    "display(type(X_test_df))\n",
    "display(type(y_train_srs))\n",
    "display(type(y_test_srs))\n",
    "\n",
    "display(X_train_df.shape)\n",
    "display(X_test_df.shape)\n",
    "display(y_train_srs.shape)\n",
    "display(y_test_srs.shape)"
   ]
  },
  {
   "cell_type": "markdown",
   "metadata": {},
   "source": [
    "### Step 7: Use scikit-learn's `StandardScaler` to scale the features data."
   ]
  },
  {
   "cell_type": "code",
   "execution_count": 27,
   "metadata": {},
   "outputs": [],
   "source": [
    "# Create a StandardScaler instance\n",
    "standard_scaler_inst = StandardScaler()\n",
    "\n",
    "# Fit the scaler to the features training dataset\n",
    "X_train_scaler = standard_scaler_inst.fit(X_train_df)\n",
    "\n",
    "# Fit the scaler to the features training dataset\n",
    "X_train_scaled_npa = X_train_scaler.transform(X_train_df)\n",
    "X_test_scaled_npa = X_train_scaler.transform(X_test_df)"
   ]
  },
  {
   "cell_type": "code",
   "execution_count": 28,
   "metadata": {},
   "outputs": [
    {
     "data": {
      "text/plain": [
       "(25724, 116)"
      ]
     },
     "metadata": {},
     "output_type": "display_data"
    },
    {
     "data": {
      "text/plain": [
       "(8575, 116)"
      ]
     },
     "metadata": {},
     "output_type": "display_data"
    }
   ],
   "source": [
    "# Data checkpoint\n",
    "display(X_train_scaled_npa.shape)\n",
    "display(X_test_scaled_npa.shape)"
   ]
  },
  {
   "cell_type": "code",
   "execution_count": 29,
   "metadata": {},
   "outputs": [],
   "source": [
    "# Convert back to dataframe (to make it easier to drop feature sets as part of evaluating different model permuations below)\n",
    "X_train_scaled_df = pd.DataFrame(X_train_scaled_npa, columns = X_df.columns)\n",
    "X_test_scaled_df = pd.DataFrame(X_test_scaled_npa, columns = X_df.columns)"
   ]
  },
  {
   "cell_type": "code",
   "execution_count": 30,
   "metadata": {},
   "outputs": [
    {
     "data": {
      "text/plain": [
       "(25724, 116)"
      ]
     },
     "metadata": {},
     "output_type": "display_data"
    },
    {
     "data": {
      "text/plain": [
       "(8575, 116)"
      ]
     },
     "metadata": {},
     "output_type": "display_data"
    }
   ],
   "source": [
    "# Data checkpoint\n",
    "display(X_train_scaled_df.shape)\n",
    "display(X_test_scaled_df.shape)"
   ]
  },
  {
   "cell_type": "markdown",
   "metadata": {},
   "source": [
    "---\n",
    "\n",
    "## Compile and Evaluate a Binary Classification Model Using a Neural Network"
   ]
  },
  {
   "cell_type": "markdown",
   "metadata": {},
   "source": [
    "### Step 1: Create a deep neural network by assigning the number of input features, the number of layers, and the number of neurons on each layer using Tensorflow’s Keras.\n",
    "\n",
    "> **Hint** You can start with a two-layer deep neural network model that uses the `relu` activation function for both layers.\n"
   ]
  },
  {
   "cell_type": "code",
   "execution_count": 31,
   "metadata": {},
   "outputs": [
    {
     "name": "stdout",
     "output_type": "stream",
     "text": [
      "Number of input features =  116\n"
     ]
    }
   ],
   "source": [
    "# Define the the number of inputs (features) to the model\n",
    "number_input_features = X_train_scaled_df.shape[1]\n",
    "\n",
    "# Review the number of features\n",
    "print(\"Number of input features = \", number_input_features)"
   ]
  },
  {
   "cell_type": "code",
   "execution_count": 32,
   "metadata": {},
   "outputs": [],
   "source": [
    "# Define the number of neurons in the output layer\n",
    "number_output_neurons = 1"
   ]
  },
  {
   "cell_type": "code",
   "execution_count": 33,
   "metadata": {},
   "outputs": [
    {
     "name": "stdout",
     "output_type": "stream",
     "text": [
      "Number of hidden nodes in layer 1 =  58\n"
     ]
    }
   ],
   "source": [
    "# Define the number of hidden nodes for the first hidden layer\n",
    "num_hidden_nodes_layer1 =  (number_input_features + 1) // 2 \n",
    "\n",
    "# Review the number hidden nodes in the first layer\n",
    "print(\"Number of hidden nodes in layer 1 = \", num_hidden_nodes_layer1)"
   ]
  },
  {
   "cell_type": "code",
   "execution_count": 34,
   "metadata": {},
   "outputs": [
    {
     "name": "stdout",
     "output_type": "stream",
     "text": [
      "Number of hidden nodes in layer 2 =  29\n"
     ]
    }
   ],
   "source": [
    "# Define the number of hidden nodes for the second hidden layer\n",
    "num_hidden_nodes_layer2 =  (num_hidden_nodes_layer1 + 1) // 2\n",
    "\n",
    "# Review the number hidden nodes in the second layer\n",
    "print(\"Number of hidden nodes in layer 2 = \", num_hidden_nodes_layer2)"
   ]
  },
  {
   "cell_type": "code",
   "execution_count": 35,
   "metadata": {},
   "outputs": [],
   "source": [
    "# Create the Sequential model instance\n",
    "nn_sequential_original_model = Sequential()"
   ]
  },
  {
   "cell_type": "code",
   "execution_count": 36,
   "metadata": {},
   "outputs": [],
   "source": [
    "# Add the first hidden layer\n",
    "nn_sequential_original_model.add(Dense(units=num_hidden_nodes_layer1, activation=\"relu\", input_dim=number_input_features))"
   ]
  },
  {
   "cell_type": "code",
   "execution_count": 37,
   "metadata": {},
   "outputs": [],
   "source": [
    "# Add the second hidden layer\n",
    "nn_sequential_original_model.add(Dense(units=num_hidden_nodes_layer2, activation=\"relu\"))"
   ]
  },
  {
   "cell_type": "code",
   "execution_count": 38,
   "metadata": {},
   "outputs": [],
   "source": [
    "# Add the output layer to the model specifying the number of output neurons and activation function\n",
    "nn_sequential_original_model.add(Dense(units=number_output_neurons, activation=\"sigmoid\"))"
   ]
  },
  {
   "cell_type": "code",
   "execution_count": 39,
   "metadata": {},
   "outputs": [
    {
     "name": "stdout",
     "output_type": "stream",
     "text": [
      "Model: \"sequential\"\n",
      "_________________________________________________________________\n",
      " Layer (type)                Output Shape              Param #   \n",
      "=================================================================\n",
      " dense (Dense)               (None, 58)                6786      \n",
      "                                                                 \n",
      " dense_1 (Dense)             (None, 29)                1711      \n",
      "                                                                 \n",
      " dense_2 (Dense)             (None, 1)                 30        \n",
      "                                                                 \n",
      "=================================================================\n",
      "Total params: 8,527\n",
      "Trainable params: 8,527\n",
      "Non-trainable params: 0\n",
      "_________________________________________________________________\n"
     ]
    }
   ],
   "source": [
    "# Display the Sequential model summary\n",
    "nn_sequential_original_model.summary()"
   ]
  },
  {
   "cell_type": "markdown",
   "metadata": {},
   "source": [
    "### Step 2: Compile and fit the model using the `binary_crossentropy` loss function, the `adam` optimizer, and the `accuracy` evaluation metric.\n"
   ]
  },
  {
   "cell_type": "code",
   "execution_count": 40,
   "metadata": {},
   "outputs": [],
   "source": [
    "# Compile the Sequential model\n",
    "nn_sequential_original_model.compile(loss=\"binary_crossentropy\", optimizer=\"adam\", metrics=[\"accuracy\"])"
   ]
  },
  {
   "cell_type": "code",
   "execution_count": 41,
   "metadata": {},
   "outputs": [
    {
     "name": "stdout",
     "output_type": "stream",
     "text": [
      "Epoch 1/50\n",
      "804/804 [==============================] - 1s 699us/step - loss: 0.5787 - accuracy: 0.7215\n",
      "Epoch 2/50\n",
      "804/804 [==============================] - 1s 692us/step - loss: 0.5546 - accuracy: 0.7293\n",
      "Epoch 3/50\n",
      "804/804 [==============================] - 1s 694us/step - loss: 0.5489 - accuracy: 0.7304\n",
      "Epoch 4/50\n",
      "804/804 [==============================] - 1s 692us/step - loss: 0.5474 - accuracy: 0.7330\n",
      "Epoch 5/50\n",
      "804/804 [==============================] - 1s 694us/step - loss: 0.5453 - accuracy: 0.7331\n",
      "Epoch 6/50\n",
      "804/804 [==============================] - 1s 693us/step - loss: 0.5447 - accuracy: 0.7336\n",
      "Epoch 7/50\n",
      "804/804 [==============================] - 1s 687us/step - loss: 0.5433 - accuracy: 0.7338\n",
      "Epoch 8/50\n",
      "804/804 [==============================] - 1s 694us/step - loss: 0.5428 - accuracy: 0.7357\n",
      "Epoch 9/50\n",
      "804/804 [==============================] - 1s 696us/step - loss: 0.5416 - accuracy: 0.7348\n",
      "Epoch 10/50\n",
      "804/804 [==============================] - 1s 715us/step - loss: 0.5410 - accuracy: 0.7361\n",
      "Epoch 11/50\n",
      "804/804 [==============================] - 1s 698us/step - loss: 0.5407 - accuracy: 0.7362\n",
      "Epoch 12/50\n",
      "804/804 [==============================] - 1s 700us/step - loss: 0.5400 - accuracy: 0.7358\n",
      "Epoch 13/50\n",
      "804/804 [==============================] - 1s 689us/step - loss: 0.5398 - accuracy: 0.7358\n",
      "Epoch 14/50\n",
      "804/804 [==============================] - 1s 694us/step - loss: 0.5394 - accuracy: 0.7358\n",
      "Epoch 15/50\n",
      "804/804 [==============================] - 1s 694us/step - loss: 0.5391 - accuracy: 0.7372\n",
      "Epoch 16/50\n",
      "804/804 [==============================] - 1s 699us/step - loss: 0.5387 - accuracy: 0.7370\n",
      "Epoch 17/50\n",
      "804/804 [==============================] - 1s 688us/step - loss: 0.5381 - accuracy: 0.7371\n",
      "Epoch 18/50\n",
      "804/804 [==============================] - 1s 697us/step - loss: 0.5380 - accuracy: 0.7379\n",
      "Epoch 19/50\n",
      "804/804 [==============================] - 1s 716us/step - loss: 0.5374 - accuracy: 0.7379\n",
      "Epoch 20/50\n",
      "804/804 [==============================] - 1s 698us/step - loss: 0.5369 - accuracy: 0.7377\n",
      "Epoch 21/50\n",
      "804/804 [==============================] - 1s 696us/step - loss: 0.5369 - accuracy: 0.7381\n",
      "Epoch 22/50\n",
      "804/804 [==============================] - 1s 692us/step - loss: 0.5367 - accuracy: 0.7374\n",
      "Epoch 23/50\n",
      "804/804 [==============================] - 1s 699us/step - loss: 0.5364 - accuracy: 0.7382\n",
      "Epoch 24/50\n",
      "804/804 [==============================] - 1s 695us/step - loss: 0.5364 - accuracy: 0.7384\n",
      "Epoch 25/50\n",
      "804/804 [==============================] - 1s 694us/step - loss: 0.5360 - accuracy: 0.7378\n",
      "Epoch 26/50\n",
      "804/804 [==============================] - 1s 700us/step - loss: 0.5357 - accuracy: 0.7393\n",
      "Epoch 27/50\n",
      "804/804 [==============================] - 1s 709us/step - loss: 0.5356 - accuracy: 0.7392\n",
      "Epoch 28/50\n",
      "804/804 [==============================] - 1s 694us/step - loss: 0.5354 - accuracy: 0.7399\n",
      "Epoch 29/50\n",
      "804/804 [==============================] - 1s 704us/step - loss: 0.5353 - accuracy: 0.7388\n",
      "Epoch 30/50\n",
      "804/804 [==============================] - 1s 698us/step - loss: 0.5348 - accuracy: 0.7396\n",
      "Epoch 31/50\n",
      "804/804 [==============================] - 1s 696us/step - loss: 0.5341 - accuracy: 0.7400\n",
      "Epoch 32/50\n",
      "804/804 [==============================] - 1s 692us/step - loss: 0.5343 - accuracy: 0.7383\n",
      "Epoch 33/50\n",
      "804/804 [==============================] - 1s 688us/step - loss: 0.5346 - accuracy: 0.7392\n",
      "Epoch 34/50\n",
      "804/804 [==============================] - 1s 699us/step - loss: 0.5341 - accuracy: 0.7402\n",
      "Epoch 35/50\n",
      "804/804 [==============================] - 1s 696us/step - loss: 0.5342 - accuracy: 0.7401\n",
      "Epoch 36/50\n",
      "804/804 [==============================] - 1s 697us/step - loss: 0.5338 - accuracy: 0.7400\n",
      "Epoch 37/50\n",
      "804/804 [==============================] - 1s 715us/step - loss: 0.5334 - accuracy: 0.7400\n",
      "Epoch 38/50\n",
      "804/804 [==============================] - 1s 697us/step - loss: 0.5331 - accuracy: 0.7397\n",
      "Epoch 39/50\n",
      "804/804 [==============================] - 1s 696us/step - loss: 0.5333 - accuracy: 0.7399\n",
      "Epoch 40/50\n",
      "804/804 [==============================] - 1s 688us/step - loss: 0.5334 - accuracy: 0.7400\n",
      "Epoch 41/50\n",
      "804/804 [==============================] - 1s 709us/step - loss: 0.5328 - accuracy: 0.7401\n",
      "Epoch 42/50\n",
      "804/804 [==============================] - 1s 702us/step - loss: 0.5326 - accuracy: 0.7401\n",
      "Epoch 43/50\n",
      "804/804 [==============================] - 1s 694us/step - loss: 0.5324 - accuracy: 0.7404\n",
      "Epoch 44/50\n",
      "804/804 [==============================] - 1s 710us/step - loss: 0.5326 - accuracy: 0.7412\n",
      "Epoch 45/50\n",
      "804/804 [==============================] - 1s 699us/step - loss: 0.5322 - accuracy: 0.7423\n",
      "Epoch 46/50\n",
      "804/804 [==============================] - 1s 692us/step - loss: 0.5323 - accuracy: 0.7413\n",
      "Epoch 47/50\n",
      "804/804 [==============================] - 1s 704us/step - loss: 0.5324 - accuracy: 0.7415\n",
      "Epoch 48/50\n",
      "804/804 [==============================] - 1s 704us/step - loss: 0.5322 - accuracy: 0.7403\n",
      "Epoch 49/50\n",
      "804/804 [==============================] - 1s 696us/step - loss: 0.5316 - accuracy: 0.7413\n",
      "Epoch 50/50\n",
      "804/804 [==============================] - 1s 693us/step - loss: 0.5320 - accuracy: 0.7412\n"
     ]
    }
   ],
   "source": [
    "# Fit the model using 50 epochs and the training data\n",
    "nn_sequential_original_model_fit = nn_sequential_original_model.fit(X_train_scaled_df, y_train_srs, epochs=50)"
   ]
  },
  {
   "cell_type": "markdown",
   "metadata": {},
   "source": [
    "### Step 3: Evaluate the model using the test data to determine the model’s loss and accuracy.\n"
   ]
  },
  {
   "cell_type": "code",
   "execution_count": 42,
   "metadata": {},
   "outputs": [
    {
     "name": "stdout",
     "output_type": "stream",
     "text": [
      "268/268 - 0s - loss: 0.5536 - accuracy: 0.7315 - 227ms/epoch - 847us/step\n",
      "Loss: 0.5536145567893982, Accuracy: 0.7315452098846436\n"
     ]
    }
   ],
   "source": [
    "# Evaluate the model loss and accuracy metrics using the evaluate method and the test data\n",
    "nn_sequential_permutation_model_loss, nn_sequential_permutation_model_accuracy =  nn_sequential_original_model.evaluate(X_test_scaled_df,y_test_srs,verbose=2)\n",
    "\n",
    "# Display the model loss and accuracy results\n",
    "print(f\"Loss: {nn_sequential_permutation_model_loss}, Accuracy: {nn_sequential_permutation_model_accuracy}\")"
   ]
  },
  {
   "cell_type": "markdown",
   "metadata": {},
   "source": [
    "### Step 4: Save and export your model to an HDF5 file, and name the file `AlphabetSoup.h5`. \n"
   ]
  },
  {
   "cell_type": "code",
   "execution_count": 43,
   "metadata": {},
   "outputs": [],
   "source": [
    "# Set the model's file path\n",
    "file_path = Path(\"./Resources/AlphabetSoup.h5\")\n",
    "\n",
    "# Export your model to a HDF5 file\n",
    "nn_sequential_original_model.save_weights(file_path)    "
   ]
  },
  {
   "cell_type": "markdown",
   "metadata": {},
   "source": [
    "---\n",
    "\n",
    "## Optimize the neural network model\n"
   ]
  },
  {
   "cell_type": "markdown",
   "metadata": {},
   "source": [
    "### Step 1: Define at least three new deep neural network models (resulting in the original plus 3 optimization attempts). With each, try to improve on your first model’s predictive accuracy.\n",
    "\n",
    "> **Rewind** Recall that perfect accuracy has a value of 1, so accuracy improves as its value moves closer to 1. To optimize your model for a predictive accuracy as close to 1 as possible, you can use any or all of the following techniques:\n",
    ">\n",
    "> * Adjust the input data by dropping different features columns to ensure that no variables or outliers confuse the model.\n",
    ">\n",
    "> * Add more neurons (nodes) to a hidden layer.\n",
    ">\n",
    "> * Add more hidden layers.\n",
    ">\n",
    "> * Use different activation functions for the hidden layers.\n",
    ">\n",
    "> * Add to or reduce the number of epochs in the training regimen.\n"
   ]
  },
  {
   "cell_type": "markdown",
   "metadata": {},
   "source": [
    "### Alternate Models"
   ]
  },
  {
   "cell_type": "code",
   "execution_count": 44,
   "metadata": {},
   "outputs": [],
   "source": [
    "# Create a list of activation functions that will permutate over\n",
    "#activation_function_lst = [\"relu\", \"sigmoid\", \"exponential\", \"swish\"]\n",
    "activation_function_lst = [\"relu\", \"sigmoid\"]  # Condensed list, takes too long to run\n",
    "num_activation_functions = len(activation_function_lst)"
   ]
  },
  {
   "cell_type": "code",
   "execution_count": 45,
   "metadata": {},
   "outputs": [
    {
     "data": {
      "text/plain": [
       "2"
      ]
     },
     "metadata": {},
     "output_type": "display_data"
    },
    {
     "data": {
      "text/plain": [
       "['relu', 'sigmoid']"
      ]
     },
     "metadata": {},
     "output_type": "display_data"
    }
   ],
   "source": [
    "# Debug checkpoint\n",
    "display(num_activation_functions)\n",
    "display(activation_function_lst)"
   ]
  },
  {
   "cell_type": "code",
   "execution_count": 46,
   "metadata": {},
   "outputs": [],
   "source": [
    "# Create a copy of the categorical feature list  (will iterate through and drop one column at a time to determine if removing the feature set impacts the model result)\n",
    "model_feature_perm_lst = applicant_categorical_col_lst.copy()\n",
    "model_feature_perm_lst.insert(0,'NO_FEATURE_DROPS')  # Add a dummy \"No Filter\" to not match any column names - and thus preserving the full original list (i.e. no columns drops)\n",
    "num_model_feature_perm_lst = len(model_feature_perm_lst)"
   ]
  },
  {
   "cell_type": "code",
   "execution_count": 47,
   "metadata": {},
   "outputs": [
    {
     "data": {
      "text/plain": [
       "8"
      ]
     },
     "metadata": {},
     "output_type": "display_data"
    },
    {
     "data": {
      "text/plain": [
       "['NO_FEATURE_DROPS',\n",
       " 'APPLICATION_TYPE',\n",
       " 'AFFILIATION',\n",
       " 'CLASSIFICATION',\n",
       " 'USE_CASE',\n",
       " 'ORGANIZATION',\n",
       " 'INCOME_AMT',\n",
       " 'SPECIAL_CONSIDERATIONS']"
      ]
     },
     "metadata": {},
     "output_type": "display_data"
    }
   ],
   "source": [
    "# Debug checkpoint\n",
    "display(num_model_feature_perm_lst)\n",
    "display(model_feature_perm_lst)"
   ]
  },
  {
   "cell_type": "code",
   "execution_count": 48,
   "metadata": {},
   "outputs": [],
   "source": [
    "# Setup neural network model permutation parameters\n",
    "\n",
    "# Permuatate through the feature set (drop one feature column per permuation)\n",
    "strt_num_model_feature_perm_lst_idx = 0\n",
    "end_num_model_feature_perm_lst_idx = num_model_feature_perm_lst-1\n",
    "inc_num_model_feature_perm_lst_idx = 1\n",
    "\n",
    "# Permuatate over different activation lists\n",
    "strt_num_activation_functions_idx = 0\n",
    "end_num_activation_functions_idx = num_activation_functions-1\n",
    "inc_num_activation_functions_idx = 1\n",
    "\n",
    "# Permuatate the # of hidden layers\n",
    "strt_num_hidden_layers = 1\n",
    "end_hidden_layers = 2   # (this application supports up to 3 hidden layers, takes to long to run, so condensed it to 2 - no significant improvement seen with 3 anyways)\n",
    "inc_hidden_layers = 1\n",
    "\n",
    "# Permuatate the # of nodes in hidden layer 1\n",
    "strt_num_hidden_nodes_layer1 = 8\n",
    "end_num_hidden_nodes_layer1 = 16\n",
    "inc_num_hidden_nodes_layer1 = 8\n",
    "\n",
    "# Permuatate the # of nodes in hidden layer 2\n",
    "strt_num_hidden_nodes_layer2 = 4\n",
    "end_num_hidden_nodes_layer2 = 4\n",
    "inc_num_hidden_nodes_layer2 = 4\n",
    "\n",
    "# Permuatate the # of nodes in hidden layer 3\n",
    "strt_num_hidden_nodes_layer3 = 2\n",
    "end_num_hidden_nodes_layer3 = 2\n",
    "inc_num_hidden_nodes_layer3 = 2\n",
    "\n",
    "# Permuatate the # of epochs\n",
    "strt_num_epochs = 25\n",
    "end_num_epochs = 100\n",
    "inc_num_epochs = 25"
   ]
  },
  {
   "cell_type": "code",
   "execution_count": 49,
   "metadata": {},
   "outputs": [
    {
     "name": "stdout",
     "output_type": "stream",
     "text": [
      "Setting Up Model Permuation #1\n",
      "\t Use Model Activation Function = relu\n",
      "\t# Hidden Layers = 1\n",
      "\t\t# Hidden Layer 1 Nodes = 8\n",
      "\t# Epochs = 25\n",
      "Setting Up Model Permuation #2\n",
      "\t Use Model Activation Function = relu\n",
      "\t# Hidden Layers = 1\n",
      "\t\t# Hidden Layer 1 Nodes = 8\n",
      "\t# Epochs = 50\n",
      "Setting Up Model Permuation #3\n",
      "\t Use Model Activation Function = relu\n",
      "\t# Hidden Layers = 1\n",
      "\t\t# Hidden Layer 1 Nodes = 8\n",
      "\t# Epochs = 75\n",
      "Setting Up Model Permuation #4\n",
      "\t Use Model Activation Function = relu\n",
      "\t# Hidden Layers = 1\n",
      "\t\t# Hidden Layer 1 Nodes = 8\n",
      "\t# Epochs = 100\n",
      "Setting Up Model Permuation #5\n",
      "\t Use Model Activation Function = relu\n",
      "\t# Hidden Layers = 1\n",
      "\t\t# Hidden Layer 1 Nodes = 16\n",
      "\t# Epochs = 25\n",
      "Setting Up Model Permuation #6\n",
      "\t Use Model Activation Function = relu\n",
      "\t# Hidden Layers = 1\n",
      "\t\t# Hidden Layer 1 Nodes = 16\n",
      "\t# Epochs = 50\n",
      "Setting Up Model Permuation #7\n",
      "\t Use Model Activation Function = relu\n",
      "\t# Hidden Layers = 1\n",
      "\t\t# Hidden Layer 1 Nodes = 16\n",
      "\t# Epochs = 75\n",
      "Setting Up Model Permuation #8\n",
      "\t Use Model Activation Function = relu\n",
      "\t# Hidden Layers = 1\n",
      "\t\t# Hidden Layer 1 Nodes = 16\n",
      "\t# Epochs = 100\n",
      "Setting Up Model Permuation #9\n",
      "\t Use Model Activation Function = relu\n",
      "\t# Hidden Layers = 2\n",
      "\t\t# Hidden Layer 1 Nodes = 8\n",
      "\t\t# Hidden Layer 2 Nodes = 4\n",
      "\t# Epochs = 25\n",
      "Setting Up Model Permuation #10\n",
      "\t Use Model Activation Function = relu\n",
      "\t# Hidden Layers = 2\n",
      "\t\t# Hidden Layer 1 Nodes = 8\n",
      "\t\t# Hidden Layer 2 Nodes = 4\n",
      "\t# Epochs = 50\n",
      "Setting Up Model Permuation #11\n",
      "\t Use Model Activation Function = relu\n",
      "\t# Hidden Layers = 2\n",
      "\t\t# Hidden Layer 1 Nodes = 8\n",
      "\t\t# Hidden Layer 2 Nodes = 4\n",
      "\t# Epochs = 75\n",
      "Setting Up Model Permuation #12\n",
      "\t Use Model Activation Function = relu\n",
      "\t# Hidden Layers = 2\n",
      "\t\t# Hidden Layer 1 Nodes = 8\n",
      "\t\t# Hidden Layer 2 Nodes = 4\n",
      "\t# Epochs = 100\n",
      "Setting Up Model Permuation #13\n",
      "\t Use Model Activation Function = relu\n",
      "\t# Hidden Layers = 2\n",
      "\t\t# Hidden Layer 1 Nodes = 16\n",
      "\t\t# Hidden Layer 2 Nodes = 4\n",
      "\t# Epochs = 25\n",
      "Setting Up Model Permuation #14\n",
      "\t Use Model Activation Function = relu\n",
      "\t# Hidden Layers = 2\n",
      "\t\t# Hidden Layer 1 Nodes = 16\n",
      "\t\t# Hidden Layer 2 Nodes = 4\n",
      "\t# Epochs = 50\n",
      "Setting Up Model Permuation #15\n",
      "\t Use Model Activation Function = relu\n",
      "\t# Hidden Layers = 2\n",
      "\t\t# Hidden Layer 1 Nodes = 16\n",
      "\t\t# Hidden Layer 2 Nodes = 4\n",
      "\t# Epochs = 75\n",
      "Setting Up Model Permuation #16\n",
      "\t Use Model Activation Function = relu\n",
      "\t# Hidden Layers = 2\n",
      "\t\t# Hidden Layer 1 Nodes = 16\n",
      "\t\t# Hidden Layer 2 Nodes = 4\n",
      "\t# Epochs = 100\n",
      "Setting Up Model Permuation #17\n",
      "\t Use Model Activation Function = sigmoid\n",
      "\t# Hidden Layers = 1\n",
      "\t\t# Hidden Layer 1 Nodes = 8\n",
      "\t# Epochs = 25\n",
      "Setting Up Model Permuation #18\n",
      "\t Use Model Activation Function = sigmoid\n",
      "\t# Hidden Layers = 1\n",
      "\t\t# Hidden Layer 1 Nodes = 8\n",
      "\t# Epochs = 50\n",
      "Setting Up Model Permuation #19\n",
      "\t Use Model Activation Function = sigmoid\n",
      "\t# Hidden Layers = 1\n",
      "\t\t# Hidden Layer 1 Nodes = 8\n",
      "\t# Epochs = 75\n",
      "Setting Up Model Permuation #20\n",
      "\t Use Model Activation Function = sigmoid\n",
      "\t# Hidden Layers = 1\n",
      "\t\t# Hidden Layer 1 Nodes = 8\n",
      "\t# Epochs = 100\n",
      "Setting Up Model Permuation #21\n",
      "\t Use Model Activation Function = sigmoid\n",
      "\t# Hidden Layers = 1\n",
      "\t\t# Hidden Layer 1 Nodes = 16\n",
      "\t# Epochs = 25\n",
      "Setting Up Model Permuation #22\n",
      "\t Use Model Activation Function = sigmoid\n",
      "\t# Hidden Layers = 1\n",
      "\t\t# Hidden Layer 1 Nodes = 16\n",
      "\t# Epochs = 50\n",
      "Setting Up Model Permuation #23\n",
      "\t Use Model Activation Function = sigmoid\n",
      "\t# Hidden Layers = 1\n",
      "\t\t# Hidden Layer 1 Nodes = 16\n",
      "\t# Epochs = 75\n",
      "Setting Up Model Permuation #24\n",
      "\t Use Model Activation Function = sigmoid\n",
      "\t# Hidden Layers = 1\n",
      "\t\t# Hidden Layer 1 Nodes = 16\n",
      "\t# Epochs = 100\n",
      "Setting Up Model Permuation #25\n",
      "\t Use Model Activation Function = sigmoid\n",
      "\t# Hidden Layers = 2\n",
      "\t\t# Hidden Layer 1 Nodes = 8\n",
      "\t\t# Hidden Layer 2 Nodes = 4\n",
      "\t# Epochs = 25\n",
      "Setting Up Model Permuation #26\n",
      "\t Use Model Activation Function = sigmoid\n",
      "\t# Hidden Layers = 2\n",
      "\t\t# Hidden Layer 1 Nodes = 8\n",
      "\t\t# Hidden Layer 2 Nodes = 4\n",
      "\t# Epochs = 50\n",
      "Setting Up Model Permuation #27\n",
      "\t Use Model Activation Function = sigmoid\n",
      "\t# Hidden Layers = 2\n",
      "\t\t# Hidden Layer 1 Nodes = 8\n",
      "\t\t# Hidden Layer 2 Nodes = 4\n",
      "\t# Epochs = 75\n",
      "Setting Up Model Permuation #28\n",
      "\t Use Model Activation Function = sigmoid\n",
      "\t# Hidden Layers = 2\n",
      "\t\t# Hidden Layer 1 Nodes = 8\n",
      "\t\t# Hidden Layer 2 Nodes = 4\n",
      "\t# Epochs = 100\n",
      "Setting Up Model Permuation #29\n",
      "\t Use Model Activation Function = sigmoid\n",
      "\t# Hidden Layers = 2\n",
      "\t\t# Hidden Layer 1 Nodes = 16\n",
      "\t\t# Hidden Layer 2 Nodes = 4\n",
      "\t# Epochs = 25\n",
      "Setting Up Model Permuation #30\n",
      "\t Use Model Activation Function = sigmoid\n",
      "\t# Hidden Layers = 2\n",
      "\t\t# Hidden Layer 1 Nodes = 16\n",
      "\t\t# Hidden Layer 2 Nodes = 4\n",
      "\t# Epochs = 50\n",
      "Setting Up Model Permuation #31\n",
      "\t Use Model Activation Function = sigmoid\n",
      "\t# Hidden Layers = 2\n",
      "\t\t# Hidden Layer 1 Nodes = 16\n",
      "\t\t# Hidden Layer 2 Nodes = 4\n",
      "\t# Epochs = 75\n",
      "Setting Up Model Permuation #32\n",
      "\t Use Model Activation Function = sigmoid\n",
      "\t# Hidden Layers = 2\n",
      "\t\t# Hidden Layer 1 Nodes = 16\n",
      "\t\t# Hidden Layer 2 Nodes = 4\n",
      "\t# Epochs = 100\n",
      "Setting Up Model Permuation #33\n",
      "\tFeature Drop = APPLICATION_TYPE\n",
      "\t Use Model Activation Function = relu\n",
      "\t# Hidden Layers = 1\n",
      "\t\t# Hidden Layer 1 Nodes = 8\n",
      "\t# Epochs = 25\n",
      "Setting Up Model Permuation #34\n",
      "\tFeature Drop = APPLICATION_TYPE\n",
      "\t Use Model Activation Function = relu\n",
      "\t# Hidden Layers = 1\n",
      "\t\t# Hidden Layer 1 Nodes = 8\n",
      "\t# Epochs = 50\n",
      "Setting Up Model Permuation #35\n",
      "\tFeature Drop = APPLICATION_TYPE\n",
      "\t Use Model Activation Function = relu\n",
      "\t# Hidden Layers = 1\n",
      "\t\t# Hidden Layer 1 Nodes = 8\n",
      "\t# Epochs = 75\n",
      "Setting Up Model Permuation #36\n",
      "\tFeature Drop = APPLICATION_TYPE\n",
      "\t Use Model Activation Function = relu\n",
      "\t# Hidden Layers = 1\n",
      "\t\t# Hidden Layer 1 Nodes = 8\n",
      "\t# Epochs = 100\n",
      "Setting Up Model Permuation #37\n",
      "\tFeature Drop = APPLICATION_TYPE\n",
      "\t Use Model Activation Function = relu\n",
      "\t# Hidden Layers = 1\n",
      "\t\t# Hidden Layer 1 Nodes = 16\n",
      "\t# Epochs = 25\n",
      "Setting Up Model Permuation #38\n",
      "\tFeature Drop = APPLICATION_TYPE\n",
      "\t Use Model Activation Function = relu\n",
      "\t# Hidden Layers = 1\n",
      "\t\t# Hidden Layer 1 Nodes = 16\n",
      "\t# Epochs = 50\n",
      "Setting Up Model Permuation #39\n",
      "\tFeature Drop = APPLICATION_TYPE\n",
      "\t Use Model Activation Function = relu\n",
      "\t# Hidden Layers = 1\n",
      "\t\t# Hidden Layer 1 Nodes = 16\n",
      "\t# Epochs = 75\n",
      "Setting Up Model Permuation #40\n",
      "\tFeature Drop = APPLICATION_TYPE\n",
      "\t Use Model Activation Function = relu\n",
      "\t# Hidden Layers = 1\n",
      "\t\t# Hidden Layer 1 Nodes = 16\n",
      "\t# Epochs = 100\n",
      "Setting Up Model Permuation #41\n",
      "\tFeature Drop = APPLICATION_TYPE\n",
      "\t Use Model Activation Function = relu\n",
      "\t# Hidden Layers = 2\n",
      "\t\t# Hidden Layer 1 Nodes = 8\n",
      "\t\t# Hidden Layer 2 Nodes = 4\n",
      "\t# Epochs = 25\n",
      "Setting Up Model Permuation #42\n",
      "\tFeature Drop = APPLICATION_TYPE\n",
      "\t Use Model Activation Function = relu\n",
      "\t# Hidden Layers = 2\n",
      "\t\t# Hidden Layer 1 Nodes = 8\n",
      "\t\t# Hidden Layer 2 Nodes = 4\n",
      "\t# Epochs = 50\n",
      "Setting Up Model Permuation #43\n",
      "\tFeature Drop = APPLICATION_TYPE\n",
      "\t Use Model Activation Function = relu\n",
      "\t# Hidden Layers = 2\n",
      "\t\t# Hidden Layer 1 Nodes = 8\n",
      "\t\t# Hidden Layer 2 Nodes = 4\n",
      "\t# Epochs = 75\n",
      "Setting Up Model Permuation #44\n",
      "\tFeature Drop = APPLICATION_TYPE\n",
      "\t Use Model Activation Function = relu\n",
      "\t# Hidden Layers = 2\n",
      "\t\t# Hidden Layer 1 Nodes = 8\n",
      "\t\t# Hidden Layer 2 Nodes = 4\n",
      "\t# Epochs = 100\n",
      "Setting Up Model Permuation #45\n",
      "\tFeature Drop = APPLICATION_TYPE\n",
      "\t Use Model Activation Function = relu\n",
      "\t# Hidden Layers = 2\n",
      "\t\t# Hidden Layer 1 Nodes = 16\n",
      "\t\t# Hidden Layer 2 Nodes = 4\n",
      "\t# Epochs = 25\n",
      "Setting Up Model Permuation #46\n",
      "\tFeature Drop = APPLICATION_TYPE\n",
      "\t Use Model Activation Function = relu\n",
      "\t# Hidden Layers = 2\n",
      "\t\t# Hidden Layer 1 Nodes = 16\n",
      "\t\t# Hidden Layer 2 Nodes = 4\n",
      "\t# Epochs = 50\n",
      "Setting Up Model Permuation #47\n",
      "\tFeature Drop = APPLICATION_TYPE\n",
      "\t Use Model Activation Function = relu\n",
      "\t# Hidden Layers = 2\n",
      "\t\t# Hidden Layer 1 Nodes = 16\n",
      "\t\t# Hidden Layer 2 Nodes = 4\n",
      "\t# Epochs = 75\n",
      "Setting Up Model Permuation #48\n",
      "\tFeature Drop = APPLICATION_TYPE\n",
      "\t Use Model Activation Function = relu\n",
      "\t# Hidden Layers = 2\n",
      "\t\t# Hidden Layer 1 Nodes = 16\n",
      "\t\t# Hidden Layer 2 Nodes = 4\n",
      "\t# Epochs = 100\n",
      "Setting Up Model Permuation #49\n",
      "\tFeature Drop = APPLICATION_TYPE\n",
      "\t Use Model Activation Function = sigmoid\n",
      "\t# Hidden Layers = 1\n",
      "\t\t# Hidden Layer 1 Nodes = 8\n",
      "\t# Epochs = 25\n",
      "Setting Up Model Permuation #50\n",
      "\tFeature Drop = APPLICATION_TYPE\n",
      "\t Use Model Activation Function = sigmoid\n",
      "\t# Hidden Layers = 1\n",
      "\t\t# Hidden Layer 1 Nodes = 8\n",
      "\t# Epochs = 50\n",
      "Setting Up Model Permuation #51\n",
      "\tFeature Drop = APPLICATION_TYPE\n",
      "\t Use Model Activation Function = sigmoid\n",
      "\t# Hidden Layers = 1\n",
      "\t\t# Hidden Layer 1 Nodes = 8\n",
      "\t# Epochs = 75\n",
      "Setting Up Model Permuation #52\n",
      "\tFeature Drop = APPLICATION_TYPE\n",
      "\t Use Model Activation Function = sigmoid\n",
      "\t# Hidden Layers = 1\n",
      "\t\t# Hidden Layer 1 Nodes = 8\n",
      "\t# Epochs = 100\n",
      "Setting Up Model Permuation #53\n",
      "\tFeature Drop = APPLICATION_TYPE\n",
      "\t Use Model Activation Function = sigmoid\n",
      "\t# Hidden Layers = 1\n",
      "\t\t# Hidden Layer 1 Nodes = 16\n",
      "\t# Epochs = 25\n",
      "Setting Up Model Permuation #54\n",
      "\tFeature Drop = APPLICATION_TYPE\n",
      "\t Use Model Activation Function = sigmoid\n",
      "\t# Hidden Layers = 1\n",
      "\t\t# Hidden Layer 1 Nodes = 16\n",
      "\t# Epochs = 50\n",
      "Setting Up Model Permuation #55\n",
      "\tFeature Drop = APPLICATION_TYPE\n",
      "\t Use Model Activation Function = sigmoid\n",
      "\t# Hidden Layers = 1\n",
      "\t\t# Hidden Layer 1 Nodes = 16\n",
      "\t# Epochs = 75\n",
      "Setting Up Model Permuation #56\n",
      "\tFeature Drop = APPLICATION_TYPE\n",
      "\t Use Model Activation Function = sigmoid\n",
      "\t# Hidden Layers = 1\n",
      "\t\t# Hidden Layer 1 Nodes = 16\n",
      "\t# Epochs = 100\n",
      "Setting Up Model Permuation #57\n",
      "\tFeature Drop = APPLICATION_TYPE\n",
      "\t Use Model Activation Function = sigmoid\n",
      "\t# Hidden Layers = 2\n",
      "\t\t# Hidden Layer 1 Nodes = 8\n",
      "\t\t# Hidden Layer 2 Nodes = 4\n",
      "\t# Epochs = 25\n",
      "Setting Up Model Permuation #58\n",
      "\tFeature Drop = APPLICATION_TYPE\n",
      "\t Use Model Activation Function = sigmoid\n",
      "\t# Hidden Layers = 2\n",
      "\t\t# Hidden Layer 1 Nodes = 8\n",
      "\t\t# Hidden Layer 2 Nodes = 4\n",
      "\t# Epochs = 50\n",
      "Setting Up Model Permuation #59\n",
      "\tFeature Drop = APPLICATION_TYPE\n",
      "\t Use Model Activation Function = sigmoid\n",
      "\t# Hidden Layers = 2\n",
      "\t\t# Hidden Layer 1 Nodes = 8\n",
      "\t\t# Hidden Layer 2 Nodes = 4\n",
      "\t# Epochs = 75\n",
      "Setting Up Model Permuation #60\n",
      "\tFeature Drop = APPLICATION_TYPE\n",
      "\t Use Model Activation Function = sigmoid\n",
      "\t# Hidden Layers = 2\n",
      "\t\t# Hidden Layer 1 Nodes = 8\n",
      "\t\t# Hidden Layer 2 Nodes = 4\n",
      "\t# Epochs = 100\n",
      "Setting Up Model Permuation #61\n",
      "\tFeature Drop = APPLICATION_TYPE\n",
      "\t Use Model Activation Function = sigmoid\n",
      "\t# Hidden Layers = 2\n",
      "\t\t# Hidden Layer 1 Nodes = 16\n",
      "\t\t# Hidden Layer 2 Nodes = 4\n",
      "\t# Epochs = 25\n",
      "Setting Up Model Permuation #62\n",
      "\tFeature Drop = APPLICATION_TYPE\n",
      "\t Use Model Activation Function = sigmoid\n",
      "\t# Hidden Layers = 2\n",
      "\t\t# Hidden Layer 1 Nodes = 16\n",
      "\t\t# Hidden Layer 2 Nodes = 4\n",
      "\t# Epochs = 50\n",
      "Setting Up Model Permuation #63\n",
      "\tFeature Drop = APPLICATION_TYPE\n",
      "\t Use Model Activation Function = sigmoid\n",
      "\t# Hidden Layers = 2\n",
      "\t\t# Hidden Layer 1 Nodes = 16\n",
      "\t\t# Hidden Layer 2 Nodes = 4\n",
      "\t# Epochs = 75\n",
      "Setting Up Model Permuation #64\n",
      "\tFeature Drop = APPLICATION_TYPE\n",
      "\t Use Model Activation Function = sigmoid\n",
      "\t# Hidden Layers = 2\n",
      "\t\t# Hidden Layer 1 Nodes = 16\n",
      "\t\t# Hidden Layer 2 Nodes = 4\n",
      "\t# Epochs = 100\n",
      "Setting Up Model Permuation #65\n",
      "\tFeature Drop = AFFILIATION\n",
      "\t Use Model Activation Function = relu\n",
      "\t# Hidden Layers = 1\n",
      "\t\t# Hidden Layer 1 Nodes = 8\n",
      "\t# Epochs = 25\n",
      "Setting Up Model Permuation #66\n",
      "\tFeature Drop = AFFILIATION\n",
      "\t Use Model Activation Function = relu\n",
      "\t# Hidden Layers = 1\n",
      "\t\t# Hidden Layer 1 Nodes = 8\n",
      "\t# Epochs = 50\n",
      "Setting Up Model Permuation #67\n",
      "\tFeature Drop = AFFILIATION\n",
      "\t Use Model Activation Function = relu\n",
      "\t# Hidden Layers = 1\n",
      "\t\t# Hidden Layer 1 Nodes = 8\n",
      "\t# Epochs = 75\n",
      "Setting Up Model Permuation #68\n",
      "\tFeature Drop = AFFILIATION\n",
      "\t Use Model Activation Function = relu\n",
      "\t# Hidden Layers = 1\n",
      "\t\t# Hidden Layer 1 Nodes = 8\n",
      "\t# Epochs = 100\n",
      "Setting Up Model Permuation #69\n",
      "\tFeature Drop = AFFILIATION\n",
      "\t Use Model Activation Function = relu\n",
      "\t# Hidden Layers = 1\n",
      "\t\t# Hidden Layer 1 Nodes = 16\n",
      "\t# Epochs = 25\n",
      "Setting Up Model Permuation #70\n",
      "\tFeature Drop = AFFILIATION\n",
      "\t Use Model Activation Function = relu\n",
      "\t# Hidden Layers = 1\n",
      "\t\t# Hidden Layer 1 Nodes = 16\n",
      "\t# Epochs = 50\n",
      "Setting Up Model Permuation #71\n",
      "\tFeature Drop = AFFILIATION\n",
      "\t Use Model Activation Function = relu\n",
      "\t# Hidden Layers = 1\n",
      "\t\t# Hidden Layer 1 Nodes = 16\n",
      "\t# Epochs = 75\n",
      "Setting Up Model Permuation #72\n",
      "\tFeature Drop = AFFILIATION\n",
      "\t Use Model Activation Function = relu\n",
      "\t# Hidden Layers = 1\n",
      "\t\t# Hidden Layer 1 Nodes = 16\n",
      "\t# Epochs = 100\n",
      "Setting Up Model Permuation #73\n",
      "\tFeature Drop = AFFILIATION\n",
      "\t Use Model Activation Function = relu\n",
      "\t# Hidden Layers = 2\n",
      "\t\t# Hidden Layer 1 Nodes = 8\n",
      "\t\t# Hidden Layer 2 Nodes = 4\n",
      "\t# Epochs = 25\n",
      "Setting Up Model Permuation #74\n",
      "\tFeature Drop = AFFILIATION\n",
      "\t Use Model Activation Function = relu\n",
      "\t# Hidden Layers = 2\n",
      "\t\t# Hidden Layer 1 Nodes = 8\n",
      "\t\t# Hidden Layer 2 Nodes = 4\n",
      "\t# Epochs = 50\n",
      "Setting Up Model Permuation #75\n",
      "\tFeature Drop = AFFILIATION\n",
      "\t Use Model Activation Function = relu\n",
      "\t# Hidden Layers = 2\n",
      "\t\t# Hidden Layer 1 Nodes = 8\n",
      "\t\t# Hidden Layer 2 Nodes = 4\n",
      "\t# Epochs = 75\n",
      "Setting Up Model Permuation #76\n",
      "\tFeature Drop = AFFILIATION\n",
      "\t Use Model Activation Function = relu\n",
      "\t# Hidden Layers = 2\n",
      "\t\t# Hidden Layer 1 Nodes = 8\n",
      "\t\t# Hidden Layer 2 Nodes = 4\n",
      "\t# Epochs = 100\n",
      "Setting Up Model Permuation #77\n",
      "\tFeature Drop = AFFILIATION\n",
      "\t Use Model Activation Function = relu\n",
      "\t# Hidden Layers = 2\n",
      "\t\t# Hidden Layer 1 Nodes = 16\n",
      "\t\t# Hidden Layer 2 Nodes = 4\n",
      "\t# Epochs = 25\n",
      "Setting Up Model Permuation #78\n",
      "\tFeature Drop = AFFILIATION\n",
      "\t Use Model Activation Function = relu\n",
      "\t# Hidden Layers = 2\n",
      "\t\t# Hidden Layer 1 Nodes = 16\n",
      "\t\t# Hidden Layer 2 Nodes = 4\n",
      "\t# Epochs = 50\n",
      "Setting Up Model Permuation #79\n",
      "\tFeature Drop = AFFILIATION\n",
      "\t Use Model Activation Function = relu\n",
      "\t# Hidden Layers = 2\n",
      "\t\t# Hidden Layer 1 Nodes = 16\n",
      "\t\t# Hidden Layer 2 Nodes = 4\n",
      "\t# Epochs = 75\n",
      "Setting Up Model Permuation #80\n",
      "\tFeature Drop = AFFILIATION\n",
      "\t Use Model Activation Function = relu\n",
      "\t# Hidden Layers = 2\n",
      "\t\t# Hidden Layer 1 Nodes = 16\n",
      "\t\t# Hidden Layer 2 Nodes = 4\n",
      "\t# Epochs = 100\n",
      "Setting Up Model Permuation #81\n",
      "\tFeature Drop = AFFILIATION\n",
      "\t Use Model Activation Function = sigmoid\n",
      "\t# Hidden Layers = 1\n",
      "\t\t# Hidden Layer 1 Nodes = 8\n",
      "\t# Epochs = 25\n",
      "Setting Up Model Permuation #82\n",
      "\tFeature Drop = AFFILIATION\n",
      "\t Use Model Activation Function = sigmoid\n",
      "\t# Hidden Layers = 1\n",
      "\t\t# Hidden Layer 1 Nodes = 8\n",
      "\t# Epochs = 50\n",
      "Setting Up Model Permuation #83\n",
      "\tFeature Drop = AFFILIATION\n",
      "\t Use Model Activation Function = sigmoid\n",
      "\t# Hidden Layers = 1\n",
      "\t\t# Hidden Layer 1 Nodes = 8\n",
      "\t# Epochs = 75\n",
      "Setting Up Model Permuation #84\n",
      "\tFeature Drop = AFFILIATION\n",
      "\t Use Model Activation Function = sigmoid\n",
      "\t# Hidden Layers = 1\n",
      "\t\t# Hidden Layer 1 Nodes = 8\n",
      "\t# Epochs = 100\n",
      "Setting Up Model Permuation #85\n",
      "\tFeature Drop = AFFILIATION\n",
      "\t Use Model Activation Function = sigmoid\n",
      "\t# Hidden Layers = 1\n",
      "\t\t# Hidden Layer 1 Nodes = 16\n",
      "\t# Epochs = 25\n",
      "Setting Up Model Permuation #86\n",
      "\tFeature Drop = AFFILIATION\n",
      "\t Use Model Activation Function = sigmoid\n",
      "\t# Hidden Layers = 1\n",
      "\t\t# Hidden Layer 1 Nodes = 16\n",
      "\t# Epochs = 50\n",
      "Setting Up Model Permuation #87\n",
      "\tFeature Drop = AFFILIATION\n",
      "\t Use Model Activation Function = sigmoid\n",
      "\t# Hidden Layers = 1\n",
      "\t\t# Hidden Layer 1 Nodes = 16\n",
      "\t# Epochs = 75\n",
      "Setting Up Model Permuation #88\n",
      "\tFeature Drop = AFFILIATION\n",
      "\t Use Model Activation Function = sigmoid\n",
      "\t# Hidden Layers = 1\n",
      "\t\t# Hidden Layer 1 Nodes = 16\n",
      "\t# Epochs = 100\n",
      "Setting Up Model Permuation #89\n",
      "\tFeature Drop = AFFILIATION\n",
      "\t Use Model Activation Function = sigmoid\n",
      "\t# Hidden Layers = 2\n",
      "\t\t# Hidden Layer 1 Nodes = 8\n",
      "\t\t# Hidden Layer 2 Nodes = 4\n",
      "\t# Epochs = 25\n",
      "Setting Up Model Permuation #90\n",
      "\tFeature Drop = AFFILIATION\n",
      "\t Use Model Activation Function = sigmoid\n",
      "\t# Hidden Layers = 2\n",
      "\t\t# Hidden Layer 1 Nodes = 8\n",
      "\t\t# Hidden Layer 2 Nodes = 4\n",
      "\t# Epochs = 50\n",
      "Setting Up Model Permuation #91\n",
      "\tFeature Drop = AFFILIATION\n",
      "\t Use Model Activation Function = sigmoid\n",
      "\t# Hidden Layers = 2\n",
      "\t\t# Hidden Layer 1 Nodes = 8\n",
      "\t\t# Hidden Layer 2 Nodes = 4\n",
      "\t# Epochs = 75\n",
      "Setting Up Model Permuation #92\n",
      "\tFeature Drop = AFFILIATION\n",
      "\t Use Model Activation Function = sigmoid\n",
      "\t# Hidden Layers = 2\n",
      "\t\t# Hidden Layer 1 Nodes = 8\n",
      "\t\t# Hidden Layer 2 Nodes = 4\n",
      "\t# Epochs = 100\n",
      "Setting Up Model Permuation #93\n",
      "\tFeature Drop = AFFILIATION\n",
      "\t Use Model Activation Function = sigmoid\n",
      "\t# Hidden Layers = 2\n",
      "\t\t# Hidden Layer 1 Nodes = 16\n",
      "\t\t# Hidden Layer 2 Nodes = 4\n",
      "\t# Epochs = 25\n",
      "Setting Up Model Permuation #94\n",
      "\tFeature Drop = AFFILIATION\n",
      "\t Use Model Activation Function = sigmoid\n",
      "\t# Hidden Layers = 2\n",
      "\t\t# Hidden Layer 1 Nodes = 16\n",
      "\t\t# Hidden Layer 2 Nodes = 4\n",
      "\t# Epochs = 50\n",
      "Setting Up Model Permuation #95\n",
      "\tFeature Drop = AFFILIATION\n",
      "\t Use Model Activation Function = sigmoid\n",
      "\t# Hidden Layers = 2\n",
      "\t\t# Hidden Layer 1 Nodes = 16\n",
      "\t\t# Hidden Layer 2 Nodes = 4\n",
      "\t# Epochs = 75\n",
      "Setting Up Model Permuation #96\n",
      "\tFeature Drop = AFFILIATION\n",
      "\t Use Model Activation Function = sigmoid\n",
      "\t# Hidden Layers = 2\n",
      "\t\t# Hidden Layer 1 Nodes = 16\n",
      "\t\t# Hidden Layer 2 Nodes = 4\n",
      "\t# Epochs = 100\n",
      "Setting Up Model Permuation #97\n",
      "\tFeature Drop = CLASSIFICATION\n",
      "\t Use Model Activation Function = relu\n",
      "\t# Hidden Layers = 1\n",
      "\t\t# Hidden Layer 1 Nodes = 8\n",
      "\t# Epochs = 25\n",
      "Setting Up Model Permuation #98\n",
      "\tFeature Drop = CLASSIFICATION\n",
      "\t Use Model Activation Function = relu\n",
      "\t# Hidden Layers = 1\n",
      "\t\t# Hidden Layer 1 Nodes = 8\n",
      "\t# Epochs = 50\n",
      "Setting Up Model Permuation #99\n",
      "\tFeature Drop = CLASSIFICATION\n",
      "\t Use Model Activation Function = relu\n",
      "\t# Hidden Layers = 1\n",
      "\t\t# Hidden Layer 1 Nodes = 8\n",
      "\t# Epochs = 75\n",
      "Setting Up Model Permuation #100\n",
      "\tFeature Drop = CLASSIFICATION\n",
      "\t Use Model Activation Function = relu\n",
      "\t# Hidden Layers = 1\n",
      "\t\t# Hidden Layer 1 Nodes = 8\n",
      "\t# Epochs = 100\n",
      "Setting Up Model Permuation #101\n",
      "\tFeature Drop = CLASSIFICATION\n",
      "\t Use Model Activation Function = relu\n",
      "\t# Hidden Layers = 1\n",
      "\t\t# Hidden Layer 1 Nodes = 16\n",
      "\t# Epochs = 25\n",
      "Setting Up Model Permuation #102\n",
      "\tFeature Drop = CLASSIFICATION\n",
      "\t Use Model Activation Function = relu\n",
      "\t# Hidden Layers = 1\n",
      "\t\t# Hidden Layer 1 Nodes = 16\n",
      "\t# Epochs = 50\n",
      "Setting Up Model Permuation #103\n",
      "\tFeature Drop = CLASSIFICATION\n",
      "\t Use Model Activation Function = relu\n",
      "\t# Hidden Layers = 1\n",
      "\t\t# Hidden Layer 1 Nodes = 16\n",
      "\t# Epochs = 75\n",
      "Setting Up Model Permuation #104\n",
      "\tFeature Drop = CLASSIFICATION\n",
      "\t Use Model Activation Function = relu\n",
      "\t# Hidden Layers = 1\n",
      "\t\t# Hidden Layer 1 Nodes = 16\n",
      "\t# Epochs = 100\n",
      "Setting Up Model Permuation #105\n",
      "\tFeature Drop = CLASSIFICATION\n",
      "\t Use Model Activation Function = relu\n",
      "\t# Hidden Layers = 2\n",
      "\t\t# Hidden Layer 1 Nodes = 8\n",
      "\t\t# Hidden Layer 2 Nodes = 4\n",
      "\t# Epochs = 25\n",
      "Setting Up Model Permuation #106\n",
      "\tFeature Drop = CLASSIFICATION\n",
      "\t Use Model Activation Function = relu\n",
      "\t# Hidden Layers = 2\n",
      "\t\t# Hidden Layer 1 Nodes = 8\n",
      "\t\t# Hidden Layer 2 Nodes = 4\n",
      "\t# Epochs = 50\n",
      "Setting Up Model Permuation #107\n",
      "\tFeature Drop = CLASSIFICATION\n",
      "\t Use Model Activation Function = relu\n",
      "\t# Hidden Layers = 2\n",
      "\t\t# Hidden Layer 1 Nodes = 8\n",
      "\t\t# Hidden Layer 2 Nodes = 4\n",
      "\t# Epochs = 75\n",
      "Setting Up Model Permuation #108\n",
      "\tFeature Drop = CLASSIFICATION\n",
      "\t Use Model Activation Function = relu\n",
      "\t# Hidden Layers = 2\n",
      "\t\t# Hidden Layer 1 Nodes = 8\n",
      "\t\t# Hidden Layer 2 Nodes = 4\n",
      "\t# Epochs = 100\n",
      "Setting Up Model Permuation #109\n",
      "\tFeature Drop = CLASSIFICATION\n",
      "\t Use Model Activation Function = relu\n",
      "\t# Hidden Layers = 2\n",
      "\t\t# Hidden Layer 1 Nodes = 16\n",
      "\t\t# Hidden Layer 2 Nodes = 4\n",
      "\t# Epochs = 25\n",
      "Setting Up Model Permuation #110\n",
      "\tFeature Drop = CLASSIFICATION\n",
      "\t Use Model Activation Function = relu\n",
      "\t# Hidden Layers = 2\n",
      "\t\t# Hidden Layer 1 Nodes = 16\n",
      "\t\t# Hidden Layer 2 Nodes = 4\n",
      "\t# Epochs = 50\n",
      "Setting Up Model Permuation #111\n",
      "\tFeature Drop = CLASSIFICATION\n",
      "\t Use Model Activation Function = relu\n",
      "\t# Hidden Layers = 2\n",
      "\t\t# Hidden Layer 1 Nodes = 16\n",
      "\t\t# Hidden Layer 2 Nodes = 4\n",
      "\t# Epochs = 75\n",
      "Setting Up Model Permuation #112\n",
      "\tFeature Drop = CLASSIFICATION\n",
      "\t Use Model Activation Function = relu\n",
      "\t# Hidden Layers = 2\n",
      "\t\t# Hidden Layer 1 Nodes = 16\n",
      "\t\t# Hidden Layer 2 Nodes = 4\n",
      "\t# Epochs = 100\n",
      "Setting Up Model Permuation #113\n",
      "\tFeature Drop = CLASSIFICATION\n",
      "\t Use Model Activation Function = sigmoid\n",
      "\t# Hidden Layers = 1\n",
      "\t\t# Hidden Layer 1 Nodes = 8\n",
      "\t# Epochs = 25\n",
      "Setting Up Model Permuation #114\n",
      "\tFeature Drop = CLASSIFICATION\n",
      "\t Use Model Activation Function = sigmoid\n",
      "\t# Hidden Layers = 1\n",
      "\t\t# Hidden Layer 1 Nodes = 8\n",
      "\t# Epochs = 50\n",
      "Setting Up Model Permuation #115\n",
      "\tFeature Drop = CLASSIFICATION\n",
      "\t Use Model Activation Function = sigmoid\n",
      "\t# Hidden Layers = 1\n",
      "\t\t# Hidden Layer 1 Nodes = 8\n",
      "\t# Epochs = 75\n",
      "Setting Up Model Permuation #116\n",
      "\tFeature Drop = CLASSIFICATION\n",
      "\t Use Model Activation Function = sigmoid\n",
      "\t# Hidden Layers = 1\n",
      "\t\t# Hidden Layer 1 Nodes = 8\n",
      "\t# Epochs = 100\n",
      "Setting Up Model Permuation #117\n",
      "\tFeature Drop = CLASSIFICATION\n",
      "\t Use Model Activation Function = sigmoid\n",
      "\t# Hidden Layers = 1\n",
      "\t\t# Hidden Layer 1 Nodes = 16\n",
      "\t# Epochs = 25\n",
      "Setting Up Model Permuation #118\n",
      "\tFeature Drop = CLASSIFICATION\n",
      "\t Use Model Activation Function = sigmoid\n",
      "\t# Hidden Layers = 1\n",
      "\t\t# Hidden Layer 1 Nodes = 16\n",
      "\t# Epochs = 50\n",
      "Setting Up Model Permuation #119\n",
      "\tFeature Drop = CLASSIFICATION\n",
      "\t Use Model Activation Function = sigmoid\n",
      "\t# Hidden Layers = 1\n",
      "\t\t# Hidden Layer 1 Nodes = 16\n",
      "\t# Epochs = 75\n",
      "Setting Up Model Permuation #120\n",
      "\tFeature Drop = CLASSIFICATION\n",
      "\t Use Model Activation Function = sigmoid\n",
      "\t# Hidden Layers = 1\n",
      "\t\t# Hidden Layer 1 Nodes = 16\n",
      "\t# Epochs = 100\n",
      "Setting Up Model Permuation #121\n",
      "\tFeature Drop = CLASSIFICATION\n",
      "\t Use Model Activation Function = sigmoid\n",
      "\t# Hidden Layers = 2\n",
      "\t\t# Hidden Layer 1 Nodes = 8\n",
      "\t\t# Hidden Layer 2 Nodes = 4\n",
      "\t# Epochs = 25\n",
      "Setting Up Model Permuation #122\n",
      "\tFeature Drop = CLASSIFICATION\n",
      "\t Use Model Activation Function = sigmoid\n",
      "\t# Hidden Layers = 2\n",
      "\t\t# Hidden Layer 1 Nodes = 8\n",
      "\t\t# Hidden Layer 2 Nodes = 4\n",
      "\t# Epochs = 50\n",
      "Setting Up Model Permuation #123\n",
      "\tFeature Drop = CLASSIFICATION\n",
      "\t Use Model Activation Function = sigmoid\n",
      "\t# Hidden Layers = 2\n",
      "\t\t# Hidden Layer 1 Nodes = 8\n",
      "\t\t# Hidden Layer 2 Nodes = 4\n",
      "\t# Epochs = 75\n",
      "Setting Up Model Permuation #124\n",
      "\tFeature Drop = CLASSIFICATION\n",
      "\t Use Model Activation Function = sigmoid\n",
      "\t# Hidden Layers = 2\n",
      "\t\t# Hidden Layer 1 Nodes = 8\n",
      "\t\t# Hidden Layer 2 Nodes = 4\n",
      "\t# Epochs = 100\n",
      "Setting Up Model Permuation #125\n",
      "\tFeature Drop = CLASSIFICATION\n",
      "\t Use Model Activation Function = sigmoid\n",
      "\t# Hidden Layers = 2\n",
      "\t\t# Hidden Layer 1 Nodes = 16\n",
      "\t\t# Hidden Layer 2 Nodes = 4\n",
      "\t# Epochs = 25\n",
      "Setting Up Model Permuation #126\n",
      "\tFeature Drop = CLASSIFICATION\n",
      "\t Use Model Activation Function = sigmoid\n",
      "\t# Hidden Layers = 2\n",
      "\t\t# Hidden Layer 1 Nodes = 16\n",
      "\t\t# Hidden Layer 2 Nodes = 4\n",
      "\t# Epochs = 50\n",
      "Setting Up Model Permuation #127\n",
      "\tFeature Drop = CLASSIFICATION\n",
      "\t Use Model Activation Function = sigmoid\n",
      "\t# Hidden Layers = 2\n",
      "\t\t# Hidden Layer 1 Nodes = 16\n",
      "\t\t# Hidden Layer 2 Nodes = 4\n",
      "\t# Epochs = 75\n",
      "Setting Up Model Permuation #128\n",
      "\tFeature Drop = CLASSIFICATION\n",
      "\t Use Model Activation Function = sigmoid\n",
      "\t# Hidden Layers = 2\n",
      "\t\t# Hidden Layer 1 Nodes = 16\n",
      "\t\t# Hidden Layer 2 Nodes = 4\n",
      "\t# Epochs = 100\n",
      "Setting Up Model Permuation #129\n",
      "\tFeature Drop = USE_CASE\n",
      "\t Use Model Activation Function = relu\n",
      "\t# Hidden Layers = 1\n",
      "\t\t# Hidden Layer 1 Nodes = 8\n",
      "\t# Epochs = 25\n",
      "Setting Up Model Permuation #130\n",
      "\tFeature Drop = USE_CASE\n",
      "\t Use Model Activation Function = relu\n",
      "\t# Hidden Layers = 1\n",
      "\t\t# Hidden Layer 1 Nodes = 8\n",
      "\t# Epochs = 50\n",
      "Setting Up Model Permuation #131\n",
      "\tFeature Drop = USE_CASE\n",
      "\t Use Model Activation Function = relu\n",
      "\t# Hidden Layers = 1\n",
      "\t\t# Hidden Layer 1 Nodes = 8\n",
      "\t# Epochs = 75\n",
      "Setting Up Model Permuation #132\n",
      "\tFeature Drop = USE_CASE\n",
      "\t Use Model Activation Function = relu\n",
      "\t# Hidden Layers = 1\n",
      "\t\t# Hidden Layer 1 Nodes = 8\n",
      "\t# Epochs = 100\n",
      "Setting Up Model Permuation #133\n",
      "\tFeature Drop = USE_CASE\n",
      "\t Use Model Activation Function = relu\n",
      "\t# Hidden Layers = 1\n",
      "\t\t# Hidden Layer 1 Nodes = 16\n",
      "\t# Epochs = 25\n",
      "Setting Up Model Permuation #134\n",
      "\tFeature Drop = USE_CASE\n",
      "\t Use Model Activation Function = relu\n",
      "\t# Hidden Layers = 1\n",
      "\t\t# Hidden Layer 1 Nodes = 16\n",
      "\t# Epochs = 50\n",
      "Setting Up Model Permuation #135\n",
      "\tFeature Drop = USE_CASE\n",
      "\t Use Model Activation Function = relu\n",
      "\t# Hidden Layers = 1\n",
      "\t\t# Hidden Layer 1 Nodes = 16\n",
      "\t# Epochs = 75\n",
      "Setting Up Model Permuation #136\n",
      "\tFeature Drop = USE_CASE\n",
      "\t Use Model Activation Function = relu\n",
      "\t# Hidden Layers = 1\n",
      "\t\t# Hidden Layer 1 Nodes = 16\n",
      "\t# Epochs = 100\n",
      "Setting Up Model Permuation #137\n",
      "\tFeature Drop = USE_CASE\n",
      "\t Use Model Activation Function = relu\n",
      "\t# Hidden Layers = 2\n",
      "\t\t# Hidden Layer 1 Nodes = 8\n",
      "\t\t# Hidden Layer 2 Nodes = 4\n",
      "\t# Epochs = 25\n",
      "Setting Up Model Permuation #138\n",
      "\tFeature Drop = USE_CASE\n",
      "\t Use Model Activation Function = relu\n",
      "\t# Hidden Layers = 2\n",
      "\t\t# Hidden Layer 1 Nodes = 8\n",
      "\t\t# Hidden Layer 2 Nodes = 4\n",
      "\t# Epochs = 50\n",
      "Setting Up Model Permuation #139\n",
      "\tFeature Drop = USE_CASE\n",
      "\t Use Model Activation Function = relu\n",
      "\t# Hidden Layers = 2\n",
      "\t\t# Hidden Layer 1 Nodes = 8\n",
      "\t\t# Hidden Layer 2 Nodes = 4\n",
      "\t# Epochs = 75\n",
      "Setting Up Model Permuation #140\n",
      "\tFeature Drop = USE_CASE\n",
      "\t Use Model Activation Function = relu\n",
      "\t# Hidden Layers = 2\n",
      "\t\t# Hidden Layer 1 Nodes = 8\n",
      "\t\t# Hidden Layer 2 Nodes = 4\n",
      "\t# Epochs = 100\n",
      "Setting Up Model Permuation #141\n",
      "\tFeature Drop = USE_CASE\n",
      "\t Use Model Activation Function = relu\n",
      "\t# Hidden Layers = 2\n",
      "\t\t# Hidden Layer 1 Nodes = 16\n",
      "\t\t# Hidden Layer 2 Nodes = 4\n",
      "\t# Epochs = 25\n",
      "Setting Up Model Permuation #142\n",
      "\tFeature Drop = USE_CASE\n",
      "\t Use Model Activation Function = relu\n",
      "\t# Hidden Layers = 2\n",
      "\t\t# Hidden Layer 1 Nodes = 16\n",
      "\t\t# Hidden Layer 2 Nodes = 4\n",
      "\t# Epochs = 50\n",
      "Setting Up Model Permuation #143\n",
      "\tFeature Drop = USE_CASE\n",
      "\t Use Model Activation Function = relu\n",
      "\t# Hidden Layers = 2\n",
      "\t\t# Hidden Layer 1 Nodes = 16\n",
      "\t\t# Hidden Layer 2 Nodes = 4\n",
      "\t# Epochs = 75\n",
      "Setting Up Model Permuation #144\n",
      "\tFeature Drop = USE_CASE\n",
      "\t Use Model Activation Function = relu\n",
      "\t# Hidden Layers = 2\n",
      "\t\t# Hidden Layer 1 Nodes = 16\n",
      "\t\t# Hidden Layer 2 Nodes = 4\n",
      "\t# Epochs = 100\n",
      "Setting Up Model Permuation #145\n",
      "\tFeature Drop = USE_CASE\n",
      "\t Use Model Activation Function = sigmoid\n",
      "\t# Hidden Layers = 1\n",
      "\t\t# Hidden Layer 1 Nodes = 8\n",
      "\t# Epochs = 25\n",
      "Setting Up Model Permuation #146\n",
      "\tFeature Drop = USE_CASE\n",
      "\t Use Model Activation Function = sigmoid\n",
      "\t# Hidden Layers = 1\n",
      "\t\t# Hidden Layer 1 Nodes = 8\n",
      "\t# Epochs = 50\n",
      "Setting Up Model Permuation #147\n",
      "\tFeature Drop = USE_CASE\n",
      "\t Use Model Activation Function = sigmoid\n",
      "\t# Hidden Layers = 1\n",
      "\t\t# Hidden Layer 1 Nodes = 8\n",
      "\t# Epochs = 75\n",
      "Setting Up Model Permuation #148\n",
      "\tFeature Drop = USE_CASE\n",
      "\t Use Model Activation Function = sigmoid\n",
      "\t# Hidden Layers = 1\n",
      "\t\t# Hidden Layer 1 Nodes = 8\n",
      "\t# Epochs = 100\n",
      "Setting Up Model Permuation #149\n",
      "\tFeature Drop = USE_CASE\n",
      "\t Use Model Activation Function = sigmoid\n",
      "\t# Hidden Layers = 1\n",
      "\t\t# Hidden Layer 1 Nodes = 16\n",
      "\t# Epochs = 25\n",
      "Setting Up Model Permuation #150\n",
      "\tFeature Drop = USE_CASE\n",
      "\t Use Model Activation Function = sigmoid\n",
      "\t# Hidden Layers = 1\n",
      "\t\t# Hidden Layer 1 Nodes = 16\n",
      "\t# Epochs = 50\n",
      "Setting Up Model Permuation #151\n",
      "\tFeature Drop = USE_CASE\n",
      "\t Use Model Activation Function = sigmoid\n",
      "\t# Hidden Layers = 1\n",
      "\t\t# Hidden Layer 1 Nodes = 16\n",
      "\t# Epochs = 75\n",
      "Setting Up Model Permuation #152\n",
      "\tFeature Drop = USE_CASE\n",
      "\t Use Model Activation Function = sigmoid\n",
      "\t# Hidden Layers = 1\n",
      "\t\t# Hidden Layer 1 Nodes = 16\n",
      "\t# Epochs = 100\n",
      "Setting Up Model Permuation #153\n",
      "\tFeature Drop = USE_CASE\n",
      "\t Use Model Activation Function = sigmoid\n",
      "\t# Hidden Layers = 2\n",
      "\t\t# Hidden Layer 1 Nodes = 8\n",
      "\t\t# Hidden Layer 2 Nodes = 4\n",
      "\t# Epochs = 25\n",
      "Setting Up Model Permuation #154\n",
      "\tFeature Drop = USE_CASE\n",
      "\t Use Model Activation Function = sigmoid\n",
      "\t# Hidden Layers = 2\n",
      "\t\t# Hidden Layer 1 Nodes = 8\n",
      "\t\t# Hidden Layer 2 Nodes = 4\n",
      "\t# Epochs = 50\n",
      "Setting Up Model Permuation #155\n",
      "\tFeature Drop = USE_CASE\n",
      "\t Use Model Activation Function = sigmoid\n",
      "\t# Hidden Layers = 2\n",
      "\t\t# Hidden Layer 1 Nodes = 8\n",
      "\t\t# Hidden Layer 2 Nodes = 4\n",
      "\t# Epochs = 75\n",
      "Setting Up Model Permuation #156\n",
      "\tFeature Drop = USE_CASE\n",
      "\t Use Model Activation Function = sigmoid\n",
      "\t# Hidden Layers = 2\n",
      "\t\t# Hidden Layer 1 Nodes = 8\n",
      "\t\t# Hidden Layer 2 Nodes = 4\n",
      "\t# Epochs = 100\n",
      "Setting Up Model Permuation #157\n",
      "\tFeature Drop = USE_CASE\n",
      "\t Use Model Activation Function = sigmoid\n",
      "\t# Hidden Layers = 2\n",
      "\t\t# Hidden Layer 1 Nodes = 16\n",
      "\t\t# Hidden Layer 2 Nodes = 4\n",
      "\t# Epochs = 25\n",
      "Setting Up Model Permuation #158\n",
      "\tFeature Drop = USE_CASE\n",
      "\t Use Model Activation Function = sigmoid\n",
      "\t# Hidden Layers = 2\n",
      "\t\t# Hidden Layer 1 Nodes = 16\n",
      "\t\t# Hidden Layer 2 Nodes = 4\n",
      "\t# Epochs = 50\n",
      "Setting Up Model Permuation #159\n",
      "\tFeature Drop = USE_CASE\n",
      "\t Use Model Activation Function = sigmoid\n",
      "\t# Hidden Layers = 2\n",
      "\t\t# Hidden Layer 1 Nodes = 16\n",
      "\t\t# Hidden Layer 2 Nodes = 4\n",
      "\t# Epochs = 75\n",
      "Setting Up Model Permuation #160\n",
      "\tFeature Drop = USE_CASE\n",
      "\t Use Model Activation Function = sigmoid\n",
      "\t# Hidden Layers = 2\n",
      "\t\t# Hidden Layer 1 Nodes = 16\n",
      "\t\t# Hidden Layer 2 Nodes = 4\n",
      "\t# Epochs = 100\n",
      "Setting Up Model Permuation #161\n",
      "\tFeature Drop = ORGANIZATION\n",
      "\t Use Model Activation Function = relu\n",
      "\t# Hidden Layers = 1\n",
      "\t\t# Hidden Layer 1 Nodes = 8\n",
      "\t# Epochs = 25\n",
      "Setting Up Model Permuation #162\n",
      "\tFeature Drop = ORGANIZATION\n",
      "\t Use Model Activation Function = relu\n",
      "\t# Hidden Layers = 1\n",
      "\t\t# Hidden Layer 1 Nodes = 8\n",
      "\t# Epochs = 50\n",
      "Setting Up Model Permuation #163\n",
      "\tFeature Drop = ORGANIZATION\n",
      "\t Use Model Activation Function = relu\n",
      "\t# Hidden Layers = 1\n",
      "\t\t# Hidden Layer 1 Nodes = 8\n",
      "\t# Epochs = 75\n",
      "Setting Up Model Permuation #164\n",
      "\tFeature Drop = ORGANIZATION\n",
      "\t Use Model Activation Function = relu\n",
      "\t# Hidden Layers = 1\n",
      "\t\t# Hidden Layer 1 Nodes = 8\n",
      "\t# Epochs = 100\n",
      "Setting Up Model Permuation #165\n",
      "\tFeature Drop = ORGANIZATION\n",
      "\t Use Model Activation Function = relu\n",
      "\t# Hidden Layers = 1\n",
      "\t\t# Hidden Layer 1 Nodes = 16\n",
      "\t# Epochs = 25\n",
      "Setting Up Model Permuation #166\n",
      "\tFeature Drop = ORGANIZATION\n",
      "\t Use Model Activation Function = relu\n",
      "\t# Hidden Layers = 1\n",
      "\t\t# Hidden Layer 1 Nodes = 16\n",
      "\t# Epochs = 50\n",
      "Setting Up Model Permuation #167\n",
      "\tFeature Drop = ORGANIZATION\n",
      "\t Use Model Activation Function = relu\n",
      "\t# Hidden Layers = 1\n",
      "\t\t# Hidden Layer 1 Nodes = 16\n",
      "\t# Epochs = 75\n",
      "Setting Up Model Permuation #168\n",
      "\tFeature Drop = ORGANIZATION\n",
      "\t Use Model Activation Function = relu\n",
      "\t# Hidden Layers = 1\n",
      "\t\t# Hidden Layer 1 Nodes = 16\n",
      "\t# Epochs = 100\n",
      "Setting Up Model Permuation #169\n",
      "\tFeature Drop = ORGANIZATION\n",
      "\t Use Model Activation Function = relu\n",
      "\t# Hidden Layers = 2\n",
      "\t\t# Hidden Layer 1 Nodes = 8\n",
      "\t\t# Hidden Layer 2 Nodes = 4\n",
      "\t# Epochs = 25\n",
      "Setting Up Model Permuation #170\n",
      "\tFeature Drop = ORGANIZATION\n",
      "\t Use Model Activation Function = relu\n",
      "\t# Hidden Layers = 2\n",
      "\t\t# Hidden Layer 1 Nodes = 8\n",
      "\t\t# Hidden Layer 2 Nodes = 4\n",
      "\t# Epochs = 50\n",
      "Setting Up Model Permuation #171\n",
      "\tFeature Drop = ORGANIZATION\n",
      "\t Use Model Activation Function = relu\n",
      "\t# Hidden Layers = 2\n",
      "\t\t# Hidden Layer 1 Nodes = 8\n",
      "\t\t# Hidden Layer 2 Nodes = 4\n",
      "\t# Epochs = 75\n",
      "Setting Up Model Permuation #172\n",
      "\tFeature Drop = ORGANIZATION\n",
      "\t Use Model Activation Function = relu\n",
      "\t# Hidden Layers = 2\n",
      "\t\t# Hidden Layer 1 Nodes = 8\n",
      "\t\t# Hidden Layer 2 Nodes = 4\n",
      "\t# Epochs = 100\n",
      "Setting Up Model Permuation #173\n",
      "\tFeature Drop = ORGANIZATION\n",
      "\t Use Model Activation Function = relu\n",
      "\t# Hidden Layers = 2\n",
      "\t\t# Hidden Layer 1 Nodes = 16\n",
      "\t\t# Hidden Layer 2 Nodes = 4\n",
      "\t# Epochs = 25\n",
      "Setting Up Model Permuation #174\n",
      "\tFeature Drop = ORGANIZATION\n",
      "\t Use Model Activation Function = relu\n",
      "\t# Hidden Layers = 2\n",
      "\t\t# Hidden Layer 1 Nodes = 16\n",
      "\t\t# Hidden Layer 2 Nodes = 4\n",
      "\t# Epochs = 50\n",
      "Setting Up Model Permuation #175\n",
      "\tFeature Drop = ORGANIZATION\n",
      "\t Use Model Activation Function = relu\n",
      "\t# Hidden Layers = 2\n",
      "\t\t# Hidden Layer 1 Nodes = 16\n",
      "\t\t# Hidden Layer 2 Nodes = 4\n",
      "\t# Epochs = 75\n",
      "Setting Up Model Permuation #176\n",
      "\tFeature Drop = ORGANIZATION\n",
      "\t Use Model Activation Function = relu\n",
      "\t# Hidden Layers = 2\n",
      "\t\t# Hidden Layer 1 Nodes = 16\n",
      "\t\t# Hidden Layer 2 Nodes = 4\n",
      "\t# Epochs = 100\n",
      "Setting Up Model Permuation #177\n",
      "\tFeature Drop = ORGANIZATION\n",
      "\t Use Model Activation Function = sigmoid\n",
      "\t# Hidden Layers = 1\n",
      "\t\t# Hidden Layer 1 Nodes = 8\n",
      "\t# Epochs = 25\n",
      "Setting Up Model Permuation #178\n",
      "\tFeature Drop = ORGANIZATION\n",
      "\t Use Model Activation Function = sigmoid\n",
      "\t# Hidden Layers = 1\n",
      "\t\t# Hidden Layer 1 Nodes = 8\n",
      "\t# Epochs = 50\n",
      "Setting Up Model Permuation #179\n",
      "\tFeature Drop = ORGANIZATION\n",
      "\t Use Model Activation Function = sigmoid\n",
      "\t# Hidden Layers = 1\n",
      "\t\t# Hidden Layer 1 Nodes = 8\n",
      "\t# Epochs = 75\n",
      "Setting Up Model Permuation #180\n",
      "\tFeature Drop = ORGANIZATION\n",
      "\t Use Model Activation Function = sigmoid\n",
      "\t# Hidden Layers = 1\n",
      "\t\t# Hidden Layer 1 Nodes = 8\n",
      "\t# Epochs = 100\n",
      "Setting Up Model Permuation #181\n",
      "\tFeature Drop = ORGANIZATION\n",
      "\t Use Model Activation Function = sigmoid\n",
      "\t# Hidden Layers = 1\n",
      "\t\t# Hidden Layer 1 Nodes = 16\n",
      "\t# Epochs = 25\n",
      "Setting Up Model Permuation #182\n",
      "\tFeature Drop = ORGANIZATION\n",
      "\t Use Model Activation Function = sigmoid\n",
      "\t# Hidden Layers = 1\n",
      "\t\t# Hidden Layer 1 Nodes = 16\n",
      "\t# Epochs = 50\n",
      "Setting Up Model Permuation #183\n",
      "\tFeature Drop = ORGANIZATION\n",
      "\t Use Model Activation Function = sigmoid\n",
      "\t# Hidden Layers = 1\n",
      "\t\t# Hidden Layer 1 Nodes = 16\n",
      "\t# Epochs = 75\n",
      "Setting Up Model Permuation #184\n",
      "\tFeature Drop = ORGANIZATION\n",
      "\t Use Model Activation Function = sigmoid\n",
      "\t# Hidden Layers = 1\n",
      "\t\t# Hidden Layer 1 Nodes = 16\n",
      "\t# Epochs = 100\n",
      "Setting Up Model Permuation #185\n",
      "\tFeature Drop = ORGANIZATION\n",
      "\t Use Model Activation Function = sigmoid\n",
      "\t# Hidden Layers = 2\n",
      "\t\t# Hidden Layer 1 Nodes = 8\n",
      "\t\t# Hidden Layer 2 Nodes = 4\n",
      "\t# Epochs = 25\n",
      "Setting Up Model Permuation #186\n",
      "\tFeature Drop = ORGANIZATION\n",
      "\t Use Model Activation Function = sigmoid\n",
      "\t# Hidden Layers = 2\n",
      "\t\t# Hidden Layer 1 Nodes = 8\n",
      "\t\t# Hidden Layer 2 Nodes = 4\n",
      "\t# Epochs = 50\n",
      "Setting Up Model Permuation #187\n",
      "\tFeature Drop = ORGANIZATION\n",
      "\t Use Model Activation Function = sigmoid\n",
      "\t# Hidden Layers = 2\n",
      "\t\t# Hidden Layer 1 Nodes = 8\n",
      "\t\t# Hidden Layer 2 Nodes = 4\n",
      "\t# Epochs = 75\n",
      "Setting Up Model Permuation #188\n",
      "\tFeature Drop = ORGANIZATION\n",
      "\t Use Model Activation Function = sigmoid\n",
      "\t# Hidden Layers = 2\n",
      "\t\t# Hidden Layer 1 Nodes = 8\n",
      "\t\t# Hidden Layer 2 Nodes = 4\n",
      "\t# Epochs = 100\n",
      "Setting Up Model Permuation #189\n",
      "\tFeature Drop = ORGANIZATION\n",
      "\t Use Model Activation Function = sigmoid\n",
      "\t# Hidden Layers = 2\n",
      "\t\t# Hidden Layer 1 Nodes = 16\n",
      "\t\t# Hidden Layer 2 Nodes = 4\n",
      "\t# Epochs = 25\n",
      "Setting Up Model Permuation #190\n",
      "\tFeature Drop = ORGANIZATION\n",
      "\t Use Model Activation Function = sigmoid\n",
      "\t# Hidden Layers = 2\n",
      "\t\t# Hidden Layer 1 Nodes = 16\n",
      "\t\t# Hidden Layer 2 Nodes = 4\n",
      "\t# Epochs = 50\n",
      "Setting Up Model Permuation #191\n",
      "\tFeature Drop = ORGANIZATION\n",
      "\t Use Model Activation Function = sigmoid\n",
      "\t# Hidden Layers = 2\n",
      "\t\t# Hidden Layer 1 Nodes = 16\n",
      "\t\t# Hidden Layer 2 Nodes = 4\n",
      "\t# Epochs = 75\n",
      "Setting Up Model Permuation #192\n",
      "\tFeature Drop = ORGANIZATION\n",
      "\t Use Model Activation Function = sigmoid\n",
      "\t# Hidden Layers = 2\n",
      "\t\t# Hidden Layer 1 Nodes = 16\n",
      "\t\t# Hidden Layer 2 Nodes = 4\n",
      "\t# Epochs = 100\n",
      "Setting Up Model Permuation #193\n",
      "\tFeature Drop = INCOME_AMT\n",
      "\t Use Model Activation Function = relu\n",
      "\t# Hidden Layers = 1\n",
      "\t\t# Hidden Layer 1 Nodes = 8\n",
      "\t# Epochs = 25\n",
      "Setting Up Model Permuation #194\n",
      "\tFeature Drop = INCOME_AMT\n",
      "\t Use Model Activation Function = relu\n",
      "\t# Hidden Layers = 1\n",
      "\t\t# Hidden Layer 1 Nodes = 8\n",
      "\t# Epochs = 50\n",
      "Setting Up Model Permuation #195\n",
      "\tFeature Drop = INCOME_AMT\n",
      "\t Use Model Activation Function = relu\n",
      "\t# Hidden Layers = 1\n",
      "\t\t# Hidden Layer 1 Nodes = 8\n",
      "\t# Epochs = 75\n",
      "Setting Up Model Permuation #196\n",
      "\tFeature Drop = INCOME_AMT\n",
      "\t Use Model Activation Function = relu\n",
      "\t# Hidden Layers = 1\n",
      "\t\t# Hidden Layer 1 Nodes = 8\n",
      "\t# Epochs = 100\n",
      "Setting Up Model Permuation #197\n",
      "\tFeature Drop = INCOME_AMT\n",
      "\t Use Model Activation Function = relu\n",
      "\t# Hidden Layers = 1\n",
      "\t\t# Hidden Layer 1 Nodes = 16\n",
      "\t# Epochs = 25\n",
      "Setting Up Model Permuation #198\n",
      "\tFeature Drop = INCOME_AMT\n",
      "\t Use Model Activation Function = relu\n",
      "\t# Hidden Layers = 1\n",
      "\t\t# Hidden Layer 1 Nodes = 16\n",
      "\t# Epochs = 50\n",
      "Setting Up Model Permuation #199\n",
      "\tFeature Drop = INCOME_AMT\n",
      "\t Use Model Activation Function = relu\n",
      "\t# Hidden Layers = 1\n",
      "\t\t# Hidden Layer 1 Nodes = 16\n",
      "\t# Epochs = 75\n",
      "Setting Up Model Permuation #200\n",
      "\tFeature Drop = INCOME_AMT\n",
      "\t Use Model Activation Function = relu\n",
      "\t# Hidden Layers = 1\n",
      "\t\t# Hidden Layer 1 Nodes = 16\n",
      "\t# Epochs = 100\n",
      "Setting Up Model Permuation #201\n",
      "\tFeature Drop = INCOME_AMT\n",
      "\t Use Model Activation Function = relu\n",
      "\t# Hidden Layers = 2\n",
      "\t\t# Hidden Layer 1 Nodes = 8\n",
      "\t\t# Hidden Layer 2 Nodes = 4\n",
      "\t# Epochs = 25\n",
      "Setting Up Model Permuation #202\n",
      "\tFeature Drop = INCOME_AMT\n",
      "\t Use Model Activation Function = relu\n",
      "\t# Hidden Layers = 2\n",
      "\t\t# Hidden Layer 1 Nodes = 8\n",
      "\t\t# Hidden Layer 2 Nodes = 4\n",
      "\t# Epochs = 50\n",
      "Setting Up Model Permuation #203\n",
      "\tFeature Drop = INCOME_AMT\n",
      "\t Use Model Activation Function = relu\n",
      "\t# Hidden Layers = 2\n",
      "\t\t# Hidden Layer 1 Nodes = 8\n",
      "\t\t# Hidden Layer 2 Nodes = 4\n",
      "\t# Epochs = 75\n",
      "Setting Up Model Permuation #204\n",
      "\tFeature Drop = INCOME_AMT\n",
      "\t Use Model Activation Function = relu\n",
      "\t# Hidden Layers = 2\n",
      "\t\t# Hidden Layer 1 Nodes = 8\n",
      "\t\t# Hidden Layer 2 Nodes = 4\n",
      "\t# Epochs = 100\n",
      "Setting Up Model Permuation #205\n",
      "\tFeature Drop = INCOME_AMT\n",
      "\t Use Model Activation Function = relu\n",
      "\t# Hidden Layers = 2\n",
      "\t\t# Hidden Layer 1 Nodes = 16\n",
      "\t\t# Hidden Layer 2 Nodes = 4\n",
      "\t# Epochs = 25\n",
      "Setting Up Model Permuation #206\n",
      "\tFeature Drop = INCOME_AMT\n",
      "\t Use Model Activation Function = relu\n",
      "\t# Hidden Layers = 2\n",
      "\t\t# Hidden Layer 1 Nodes = 16\n",
      "\t\t# Hidden Layer 2 Nodes = 4\n",
      "\t# Epochs = 50\n",
      "Setting Up Model Permuation #207\n",
      "\tFeature Drop = INCOME_AMT\n",
      "\t Use Model Activation Function = relu\n",
      "\t# Hidden Layers = 2\n",
      "\t\t# Hidden Layer 1 Nodes = 16\n",
      "\t\t# Hidden Layer 2 Nodes = 4\n",
      "\t# Epochs = 75\n",
      "Setting Up Model Permuation #208\n",
      "\tFeature Drop = INCOME_AMT\n",
      "\t Use Model Activation Function = relu\n",
      "\t# Hidden Layers = 2\n",
      "\t\t# Hidden Layer 1 Nodes = 16\n",
      "\t\t# Hidden Layer 2 Nodes = 4\n",
      "\t# Epochs = 100\n",
      "Setting Up Model Permuation #209\n",
      "\tFeature Drop = INCOME_AMT\n",
      "\t Use Model Activation Function = sigmoid\n",
      "\t# Hidden Layers = 1\n",
      "\t\t# Hidden Layer 1 Nodes = 8\n",
      "\t# Epochs = 25\n",
      "Setting Up Model Permuation #210\n",
      "\tFeature Drop = INCOME_AMT\n",
      "\t Use Model Activation Function = sigmoid\n",
      "\t# Hidden Layers = 1\n",
      "\t\t# Hidden Layer 1 Nodes = 8\n",
      "\t# Epochs = 50\n",
      "Setting Up Model Permuation #211\n",
      "\tFeature Drop = INCOME_AMT\n",
      "\t Use Model Activation Function = sigmoid\n",
      "\t# Hidden Layers = 1\n",
      "\t\t# Hidden Layer 1 Nodes = 8\n",
      "\t# Epochs = 75\n",
      "Setting Up Model Permuation #212\n",
      "\tFeature Drop = INCOME_AMT\n",
      "\t Use Model Activation Function = sigmoid\n",
      "\t# Hidden Layers = 1\n",
      "\t\t# Hidden Layer 1 Nodes = 8\n",
      "\t# Epochs = 100\n",
      "Setting Up Model Permuation #213\n",
      "\tFeature Drop = INCOME_AMT\n",
      "\t Use Model Activation Function = sigmoid\n",
      "\t# Hidden Layers = 1\n",
      "\t\t# Hidden Layer 1 Nodes = 16\n",
      "\t# Epochs = 25\n",
      "Setting Up Model Permuation #214\n",
      "\tFeature Drop = INCOME_AMT\n",
      "\t Use Model Activation Function = sigmoid\n",
      "\t# Hidden Layers = 1\n",
      "\t\t# Hidden Layer 1 Nodes = 16\n",
      "\t# Epochs = 50\n",
      "Setting Up Model Permuation #215\n",
      "\tFeature Drop = INCOME_AMT\n",
      "\t Use Model Activation Function = sigmoid\n",
      "\t# Hidden Layers = 1\n",
      "\t\t# Hidden Layer 1 Nodes = 16\n",
      "\t# Epochs = 75\n",
      "Setting Up Model Permuation #216\n",
      "\tFeature Drop = INCOME_AMT\n",
      "\t Use Model Activation Function = sigmoid\n",
      "\t# Hidden Layers = 1\n",
      "\t\t# Hidden Layer 1 Nodes = 16\n",
      "\t# Epochs = 100\n",
      "Setting Up Model Permuation #217\n",
      "\tFeature Drop = INCOME_AMT\n",
      "\t Use Model Activation Function = sigmoid\n",
      "\t# Hidden Layers = 2\n",
      "\t\t# Hidden Layer 1 Nodes = 8\n",
      "\t\t# Hidden Layer 2 Nodes = 4\n",
      "\t# Epochs = 25\n",
      "Setting Up Model Permuation #218\n",
      "\tFeature Drop = INCOME_AMT\n",
      "\t Use Model Activation Function = sigmoid\n",
      "\t# Hidden Layers = 2\n",
      "\t\t# Hidden Layer 1 Nodes = 8\n",
      "\t\t# Hidden Layer 2 Nodes = 4\n",
      "\t# Epochs = 50\n",
      "Setting Up Model Permuation #219\n",
      "\tFeature Drop = INCOME_AMT\n",
      "\t Use Model Activation Function = sigmoid\n",
      "\t# Hidden Layers = 2\n",
      "\t\t# Hidden Layer 1 Nodes = 8\n",
      "\t\t# Hidden Layer 2 Nodes = 4\n",
      "\t# Epochs = 75\n",
      "Setting Up Model Permuation #220\n",
      "\tFeature Drop = INCOME_AMT\n",
      "\t Use Model Activation Function = sigmoid\n",
      "\t# Hidden Layers = 2\n",
      "\t\t# Hidden Layer 1 Nodes = 8\n",
      "\t\t# Hidden Layer 2 Nodes = 4\n",
      "\t# Epochs = 100\n",
      "Setting Up Model Permuation #221\n",
      "\tFeature Drop = INCOME_AMT\n",
      "\t Use Model Activation Function = sigmoid\n",
      "\t# Hidden Layers = 2\n",
      "\t\t# Hidden Layer 1 Nodes = 16\n",
      "\t\t# Hidden Layer 2 Nodes = 4\n",
      "\t# Epochs = 25\n",
      "Setting Up Model Permuation #222\n",
      "\tFeature Drop = INCOME_AMT\n",
      "\t Use Model Activation Function = sigmoid\n",
      "\t# Hidden Layers = 2\n",
      "\t\t# Hidden Layer 1 Nodes = 16\n",
      "\t\t# Hidden Layer 2 Nodes = 4\n",
      "\t# Epochs = 50\n",
      "Setting Up Model Permuation #223\n",
      "\tFeature Drop = INCOME_AMT\n",
      "\t Use Model Activation Function = sigmoid\n",
      "\t# Hidden Layers = 2\n",
      "\t\t# Hidden Layer 1 Nodes = 16\n",
      "\t\t# Hidden Layer 2 Nodes = 4\n",
      "\t# Epochs = 75\n",
      "Setting Up Model Permuation #224\n",
      "\tFeature Drop = INCOME_AMT\n",
      "\t Use Model Activation Function = sigmoid\n",
      "\t# Hidden Layers = 2\n",
      "\t\t# Hidden Layer 1 Nodes = 16\n",
      "\t\t# Hidden Layer 2 Nodes = 4\n",
      "\t# Epochs = 100\n",
      "Setting Up Model Permuation #225\n",
      "\tFeature Drop = SPECIAL_CONSIDERATIONS\n",
      "\t Use Model Activation Function = relu\n",
      "\t# Hidden Layers = 1\n",
      "\t\t# Hidden Layer 1 Nodes = 8\n",
      "\t# Epochs = 25\n",
      "Setting Up Model Permuation #226\n",
      "\tFeature Drop = SPECIAL_CONSIDERATIONS\n",
      "\t Use Model Activation Function = relu\n",
      "\t# Hidden Layers = 1\n",
      "\t\t# Hidden Layer 1 Nodes = 8\n",
      "\t# Epochs = 50\n",
      "Setting Up Model Permuation #227\n",
      "\tFeature Drop = SPECIAL_CONSIDERATIONS\n",
      "\t Use Model Activation Function = relu\n",
      "\t# Hidden Layers = 1\n",
      "\t\t# Hidden Layer 1 Nodes = 8\n",
      "\t# Epochs = 75\n",
      "Setting Up Model Permuation #228\n",
      "\tFeature Drop = SPECIAL_CONSIDERATIONS\n",
      "\t Use Model Activation Function = relu\n",
      "\t# Hidden Layers = 1\n",
      "\t\t# Hidden Layer 1 Nodes = 8\n",
      "\t# Epochs = 100\n",
      "Setting Up Model Permuation #229\n",
      "\tFeature Drop = SPECIAL_CONSIDERATIONS\n",
      "\t Use Model Activation Function = relu\n",
      "\t# Hidden Layers = 1\n",
      "\t\t# Hidden Layer 1 Nodes = 16\n",
      "\t# Epochs = 25\n",
      "Setting Up Model Permuation #230\n",
      "\tFeature Drop = SPECIAL_CONSIDERATIONS\n",
      "\t Use Model Activation Function = relu\n",
      "\t# Hidden Layers = 1\n",
      "\t\t# Hidden Layer 1 Nodes = 16\n",
      "\t# Epochs = 50\n",
      "Setting Up Model Permuation #231\n",
      "\tFeature Drop = SPECIAL_CONSIDERATIONS\n",
      "\t Use Model Activation Function = relu\n",
      "\t# Hidden Layers = 1\n",
      "\t\t# Hidden Layer 1 Nodes = 16\n",
      "\t# Epochs = 75\n",
      "Setting Up Model Permuation #232\n",
      "\tFeature Drop = SPECIAL_CONSIDERATIONS\n",
      "\t Use Model Activation Function = relu\n",
      "\t# Hidden Layers = 1\n",
      "\t\t# Hidden Layer 1 Nodes = 16\n",
      "\t# Epochs = 100\n",
      "Setting Up Model Permuation #233\n",
      "\tFeature Drop = SPECIAL_CONSIDERATIONS\n",
      "\t Use Model Activation Function = relu\n",
      "\t# Hidden Layers = 2\n",
      "\t\t# Hidden Layer 1 Nodes = 8\n",
      "\t\t# Hidden Layer 2 Nodes = 4\n",
      "\t# Epochs = 25\n",
      "Setting Up Model Permuation #234\n",
      "\tFeature Drop = SPECIAL_CONSIDERATIONS\n",
      "\t Use Model Activation Function = relu\n",
      "\t# Hidden Layers = 2\n",
      "\t\t# Hidden Layer 1 Nodes = 8\n",
      "\t\t# Hidden Layer 2 Nodes = 4\n",
      "\t# Epochs = 50\n",
      "Setting Up Model Permuation #235\n",
      "\tFeature Drop = SPECIAL_CONSIDERATIONS\n",
      "\t Use Model Activation Function = relu\n",
      "\t# Hidden Layers = 2\n",
      "\t\t# Hidden Layer 1 Nodes = 8\n",
      "\t\t# Hidden Layer 2 Nodes = 4\n",
      "\t# Epochs = 75\n",
      "Setting Up Model Permuation #236\n",
      "\tFeature Drop = SPECIAL_CONSIDERATIONS\n",
      "\t Use Model Activation Function = relu\n",
      "\t# Hidden Layers = 2\n",
      "\t\t# Hidden Layer 1 Nodes = 8\n",
      "\t\t# Hidden Layer 2 Nodes = 4\n",
      "\t# Epochs = 100\n",
      "Setting Up Model Permuation #237\n",
      "\tFeature Drop = SPECIAL_CONSIDERATIONS\n",
      "\t Use Model Activation Function = relu\n",
      "\t# Hidden Layers = 2\n",
      "\t\t# Hidden Layer 1 Nodes = 16\n",
      "\t\t# Hidden Layer 2 Nodes = 4\n",
      "\t# Epochs = 25\n",
      "Setting Up Model Permuation #238\n",
      "\tFeature Drop = SPECIAL_CONSIDERATIONS\n",
      "\t Use Model Activation Function = relu\n",
      "\t# Hidden Layers = 2\n",
      "\t\t# Hidden Layer 1 Nodes = 16\n",
      "\t\t# Hidden Layer 2 Nodes = 4\n",
      "\t# Epochs = 50\n",
      "Setting Up Model Permuation #239\n",
      "\tFeature Drop = SPECIAL_CONSIDERATIONS\n",
      "\t Use Model Activation Function = relu\n",
      "\t# Hidden Layers = 2\n",
      "\t\t# Hidden Layer 1 Nodes = 16\n",
      "\t\t# Hidden Layer 2 Nodes = 4\n",
      "\t# Epochs = 75\n",
      "Setting Up Model Permuation #240\n",
      "\tFeature Drop = SPECIAL_CONSIDERATIONS\n",
      "\t Use Model Activation Function = relu\n",
      "\t# Hidden Layers = 2\n",
      "\t\t# Hidden Layer 1 Nodes = 16\n",
      "\t\t# Hidden Layer 2 Nodes = 4\n",
      "\t# Epochs = 100\n",
      "Setting Up Model Permuation #241\n",
      "\tFeature Drop = SPECIAL_CONSIDERATIONS\n",
      "\t Use Model Activation Function = sigmoid\n",
      "\t# Hidden Layers = 1\n",
      "\t\t# Hidden Layer 1 Nodes = 8\n",
      "\t# Epochs = 25\n",
      "Setting Up Model Permuation #242\n",
      "\tFeature Drop = SPECIAL_CONSIDERATIONS\n",
      "\t Use Model Activation Function = sigmoid\n",
      "\t# Hidden Layers = 1\n",
      "\t\t# Hidden Layer 1 Nodes = 8\n",
      "\t# Epochs = 50\n",
      "Setting Up Model Permuation #243\n",
      "\tFeature Drop = SPECIAL_CONSIDERATIONS\n",
      "\t Use Model Activation Function = sigmoid\n",
      "\t# Hidden Layers = 1\n",
      "\t\t# Hidden Layer 1 Nodes = 8\n",
      "\t# Epochs = 75\n",
      "Setting Up Model Permuation #244\n",
      "\tFeature Drop = SPECIAL_CONSIDERATIONS\n",
      "\t Use Model Activation Function = sigmoid\n",
      "\t# Hidden Layers = 1\n",
      "\t\t# Hidden Layer 1 Nodes = 8\n",
      "\t# Epochs = 100\n",
      "Setting Up Model Permuation #245\n",
      "\tFeature Drop = SPECIAL_CONSIDERATIONS\n",
      "\t Use Model Activation Function = sigmoid\n",
      "\t# Hidden Layers = 1\n",
      "\t\t# Hidden Layer 1 Nodes = 16\n",
      "\t# Epochs = 25\n",
      "Setting Up Model Permuation #246\n",
      "\tFeature Drop = SPECIAL_CONSIDERATIONS\n",
      "\t Use Model Activation Function = sigmoid\n",
      "\t# Hidden Layers = 1\n",
      "\t\t# Hidden Layer 1 Nodes = 16\n",
      "\t# Epochs = 50\n",
      "Setting Up Model Permuation #247\n",
      "\tFeature Drop = SPECIAL_CONSIDERATIONS\n",
      "\t Use Model Activation Function = sigmoid\n",
      "\t# Hidden Layers = 1\n",
      "\t\t# Hidden Layer 1 Nodes = 16\n",
      "\t# Epochs = 75\n",
      "Setting Up Model Permuation #248\n",
      "\tFeature Drop = SPECIAL_CONSIDERATIONS\n",
      "\t Use Model Activation Function = sigmoid\n",
      "\t# Hidden Layers = 1\n",
      "\t\t# Hidden Layer 1 Nodes = 16\n",
      "\t# Epochs = 100\n",
      "Setting Up Model Permuation #249\n",
      "\tFeature Drop = SPECIAL_CONSIDERATIONS\n",
      "\t Use Model Activation Function = sigmoid\n",
      "\t# Hidden Layers = 2\n",
      "\t\t# Hidden Layer 1 Nodes = 8\n",
      "\t\t# Hidden Layer 2 Nodes = 4\n",
      "\t# Epochs = 25\n",
      "Setting Up Model Permuation #250\n",
      "\tFeature Drop = SPECIAL_CONSIDERATIONS\n",
      "\t Use Model Activation Function = sigmoid\n",
      "\t# Hidden Layers = 2\n",
      "\t\t# Hidden Layer 1 Nodes = 8\n",
      "\t\t# Hidden Layer 2 Nodes = 4\n",
      "\t# Epochs = 50\n",
      "Setting Up Model Permuation #251\n",
      "\tFeature Drop = SPECIAL_CONSIDERATIONS\n",
      "\t Use Model Activation Function = sigmoid\n",
      "\t# Hidden Layers = 2\n",
      "\t\t# Hidden Layer 1 Nodes = 8\n",
      "\t\t# Hidden Layer 2 Nodes = 4\n",
      "\t# Epochs = 75\n",
      "Setting Up Model Permuation #252\n",
      "\tFeature Drop = SPECIAL_CONSIDERATIONS\n",
      "\t Use Model Activation Function = sigmoid\n",
      "\t# Hidden Layers = 2\n",
      "\t\t# Hidden Layer 1 Nodes = 8\n",
      "\t\t# Hidden Layer 2 Nodes = 4\n",
      "\t# Epochs = 100\n",
      "Setting Up Model Permuation #253\n",
      "\tFeature Drop = SPECIAL_CONSIDERATIONS\n",
      "\t Use Model Activation Function = sigmoid\n",
      "\t# Hidden Layers = 2\n",
      "\t\t# Hidden Layer 1 Nodes = 16\n",
      "\t\t# Hidden Layer 2 Nodes = 4\n",
      "\t# Epochs = 25\n",
      "Setting Up Model Permuation #254\n",
      "\tFeature Drop = SPECIAL_CONSIDERATIONS\n",
      "\t Use Model Activation Function = sigmoid\n",
      "\t# Hidden Layers = 2\n",
      "\t\t# Hidden Layer 1 Nodes = 16\n",
      "\t\t# Hidden Layer 2 Nodes = 4\n",
      "\t# Epochs = 50\n",
      "Setting Up Model Permuation #255\n",
      "\tFeature Drop = SPECIAL_CONSIDERATIONS\n",
      "\t Use Model Activation Function = sigmoid\n",
      "\t# Hidden Layers = 2\n",
      "\t\t# Hidden Layer 1 Nodes = 16\n",
      "\t\t# Hidden Layer 2 Nodes = 4\n",
      "\t# Epochs = 75\n",
      "Setting Up Model Permuation #256\n",
      "\tFeature Drop = SPECIAL_CONSIDERATIONS\n",
      "\t Use Model Activation Function = sigmoid\n",
      "\t# Hidden Layers = 2\n",
      "\t\t# Hidden Layer 1 Nodes = 16\n",
      "\t\t# Hidden Layer 2 Nodes = 4\n",
      "\t# Epochs = 100\n"
     ]
    }
   ],
   "source": [
    "# Initialize the starting model permutation values\n",
    "num_model_feature_perm_lst_idx = strt_num_model_feature_perm_lst_idx\n",
    "\n",
    "num_hidden_layers = strt_num_hidden_layers\n",
    "num_activation_functions_idx = strt_num_activation_functions_idx\n",
    "num_hidden_nodes_layer1 = strt_num_hidden_nodes_layer1\n",
    "num_hidden_nodes_layer2 = strt_num_hidden_nodes_layer2\n",
    "num_hidden_nodes_layer3 = strt_num_hidden_nodes_layer3\n",
    "num_epochs = strt_num_epochs\n",
    "\n",
    "# Create empty lists which will store the model parameters for each permutation run\n",
    "num_model_feature_perm_lst_idx_lst = []\n",
    "num_activation_functions_idx_lst = []\n",
    "num_hidden_layers_lst = []\n",
    "num_hidden_nodes_layer1_lst = []\n",
    "num_hidden_nodes_layer2_lst = []\n",
    "num_hidden_nodes_layer3_lst = []\n",
    "num_epochs_lst        = []\n",
    "\n",
    "total_num_model_permutations = 0;\n",
    "is_done_setting_up_model_permutations = False\n",
    "\n",
    "print_debug = True\n",
    "\n",
    "# Loop through each of the permutations\n",
    "while (not is_done_setting_up_model_permutations):\n",
    "\n",
    "    # Make sure the # of nodes in subsequent hidden layers is always smaller than the current hidden layer\n",
    "    if ((num_hidden_nodes_layer2 < num_hidden_nodes_layer1) and (num_hidden_nodes_layer3 < num_hidden_nodes_layer2)):\n",
    "        \n",
    "        # Add to the list the current permuation model parameters\n",
    "        num_model_feature_perm_lst_idx_lst.append(num_model_feature_perm_lst_idx)\n",
    "        num_activation_functions_idx_lst.append(num_activation_functions_idx)\n",
    "        num_hidden_layers_lst.append(num_hidden_layers)\n",
    "        num_hidden_nodes_layer1_lst.append(num_hidden_nodes_layer1)\n",
    "        num_hidden_nodes_layer2_lst.append(num_hidden_nodes_layer2)\n",
    "        num_hidden_nodes_layer3_lst.append(num_hidden_nodes_layer3)\n",
    "        num_epochs_lst.append(num_epochs)\n",
    "\n",
    "        # Optional debug printing of values\n",
    "        if (print_debug):\n",
    "            print(f\"Setting Up Model Permuation #{total_num_model_permutations+1}\")\n",
    "            if (num_model_feature_perm_lst_idx > 0):\n",
    "                print(f\"\\tFeature Drop = {model_feature_perm_lst[num_model_feature_perm_lst_idx]}\")\n",
    "            print(f\"\\t Use Model Activation Function = {activation_function_lst[num_activation_functions_idx]}\")                \n",
    "            print(f\"\\t# Hidden Layers = {num_hidden_layers}\")\n",
    "            print(f\"\\t\\t# Hidden Layer 1 Nodes = {num_hidden_nodes_layer1}\")\n",
    "            if (num_hidden_layers > 1):\n",
    "                print(f\"\\t\\t# Hidden Layer 2 Nodes = {num_hidden_nodes_layer2}\")\n",
    "            if (num_hidden_layers > 2):\n",
    "                print(f\"\\t\\t# Hidden Layer 3 Nodes = {num_hidden_nodes_layer3}\")\n",
    "            print(f\"\\t# Epochs = {num_epochs}\")\n",
    "\n",
    "        # Increment the total number of runs/permuataions variable\n",
    "        total_num_model_permutations = total_num_model_permutations + 1  \n",
    "    \n",
    "    # Scan through the different permuations values,\n",
    "    #    if did not reach its end/final value, increment by the defined \"increment\" value\n",
    "    #    else reset the value to its starting value, and move on to the next permuation parameter\n",
    "    # Permutation order:\n",
    "    #    # of epochs\n",
    "    #    # of nodes in hidden layer 3 (if # of hidden layers has 3 layers)\n",
    "    #    # of nodes in hidden layer 2 (if # of hidden layers has 2 layers)\n",
    "    #    # of nodes in hidden layer 1 (there will always be a hidden layer 1))\n",
    "    #    # of hidden layers\n",
    "    \n",
    "    if (num_epochs < end_num_epochs): \n",
    "        num_epochs = num_epochs + inc_num_epochs \n",
    "    else:\n",
    "        num_epochs = strt_num_epochs\n",
    "        \n",
    "        if ((num_hidden_layers > 2) and (num_hidden_nodes_layer3 < end_num_hidden_nodes_layer3)): \n",
    "            num_hidden_nodes_layer3 = num_hidden_nodes_layer3 + inc_num_hidden_nodes_layer3\n",
    "        else:\n",
    "            num_hidden_nodes_layer3 = strt_num_hidden_nodes_layer3\n",
    "\n",
    "            if ((num_hidden_layers > 1) and (num_hidden_nodes_layer2 < end_num_hidden_nodes_layer2)): \n",
    "                num_hidden_nodes_layer2 = num_hidden_nodes_layer2 + inc_num_hidden_nodes_layer2\n",
    "            else:\n",
    "                num_hidden_nodes_layer2 = strt_num_hidden_nodes_layer2\n",
    "\n",
    "                if (num_hidden_nodes_layer1 < end_num_hidden_nodes_layer1): \n",
    "                    num_hidden_nodes_layer1 = num_hidden_nodes_layer1 + inc_num_hidden_nodes_layer1\n",
    "                else:\n",
    "                    num_hidden_nodes_layer1 = strt_num_hidden_nodes_layer1\n",
    "\n",
    "                    if (num_hidden_layers < end_hidden_layers): \n",
    "                        num_hidden_layers = num_hidden_layers + inc_hidden_layers\n",
    "                    else:\n",
    "                        num_hidden_layers = strt_num_hidden_layers\n",
    "\n",
    "                        if (num_activation_functions_idx < end_num_activation_functions_idx): \n",
    "                            num_activation_functions_idx = num_activation_functions_idx + inc_num_activation_functions_idx\n",
    "                        else:\n",
    "                            num_activation_functions_idx = strt_num_activation_functions_idx\n",
    "                        \n",
    "                            if (num_model_feature_perm_lst_idx < end_num_model_feature_perm_lst_idx):\n",
    "                                num_model_feature_perm_lst_idx = num_model_feature_perm_lst_idx + inc_num_model_feature_perm_lst_idx\n",
    "                            else:                            \n",
    "                                is_done_setting_up_model_permutations = True "
   ]
  },
  {
   "cell_type": "code",
   "execution_count": 50,
   "metadata": {},
   "outputs": [
    {
     "name": "stdout",
     "output_type": "stream",
     "text": [
      "Running Permuation #1\n",
      "\t# Input Features = 116\n",
      "\t Use Model Activation Function = relu\n",
      "\t# Hidden Layers = 1\n",
      "\t# Layer 1 Nodes = 8\n",
      "\t# of Output Nuerons = 1\n",
      "\t# Epochs = 25\n",
      "\t\t\t***                       Permutation:1 ==> Loss: 0.6494644284248352, Accuracy: 0.7259474992752075 ***\n",
      "\t\t\t*** Best Running Results: Permutation:1 ==> Loss: 0.6494644284248352, Accuracy: 0.7259474992752075 ***\n",
      "Running Permuation #2\n",
      "\t# Input Features = 116\n",
      "\t Use Model Activation Function = relu\n",
      "\t# Hidden Layers = 1\n",
      "\t# Layer 1 Nodes = 8\n",
      "\t# of Output Nuerons = 1\n",
      "\t# Epochs = 50\n",
      "\t\t\t***                       Permutation:2 ==> Loss: 0.6494274735450745, Accuracy: 0.7304956316947937 ***\n",
      "\t\t\t*** Best Running Results: Permutation:2 ==> Loss: 0.6494274735450745, Accuracy: 0.7304956316947937 ***\n",
      "Running Permuation #3\n",
      "\t# Input Features = 116\n",
      "\t Use Model Activation Function = relu\n",
      "\t# Hidden Layers = 1\n",
      "\t# Layer 1 Nodes = 8\n",
      "\t# of Output Nuerons = 1\n",
      "\t# Epochs = 75\n",
      "\t\t\t***                       Permutation:3 ==> Loss: 0.841793954372406, Accuracy: 0.7188338041305542 ***\n",
      "\t\t\t*** Best Running Results: Permutation:2 ==> Loss: 0.6494274735450745, Accuracy: 0.7304956316947937 ***\n",
      "Running Permuation #4\n",
      "\t# Input Features = 116\n",
      "\t Use Model Activation Function = relu\n",
      "\t# Hidden Layers = 1\n",
      "\t# Layer 1 Nodes = 8\n",
      "\t# of Output Nuerons = 1\n",
      "\t# Epochs = 100\n",
      "\t\t\t***                       Permutation:4 ==> Loss: 0.5936530232429504, Accuracy: 0.7303789854049683 ***\n",
      "\t\t\t*** Best Running Results: Permutation:2 ==> Loss: 0.6494274735450745, Accuracy: 0.7304956316947937 ***\n",
      "Running Permuation #5\n",
      "\t# Input Features = 116\n",
      "\t Use Model Activation Function = relu\n",
      "\t# Hidden Layers = 1\n",
      "\t# Layer 1 Nodes = 16\n",
      "\t# of Output Nuerons = 1\n",
      "\t# Epochs = 25\n",
      "\t\t\t***                       Permutation:5 ==> Loss: 1.4050740003585815, Accuracy: 0.6669387817382812 ***\n",
      "\t\t\t*** Best Running Results: Permutation:2 ==> Loss: 0.6494274735450745, Accuracy: 0.7304956316947937 ***\n",
      "Running Permuation #6\n",
      "\t# Input Features = 116\n",
      "\t Use Model Activation Function = relu\n",
      "\t# Hidden Layers = 1\n",
      "\t# Layer 1 Nodes = 16\n",
      "\t# of Output Nuerons = 1\n",
      "\t# Epochs = 50\n",
      "\t\t\t***                       Permutation:6 ==> Loss: 0.9335368871688843, Accuracy: 0.7144023180007935 ***\n",
      "\t\t\t*** Best Running Results: Permutation:2 ==> Loss: 0.6494274735450745, Accuracy: 0.7304956316947937 ***\n",
      "Running Permuation #7\n",
      "\t# Input Features = 116\n",
      "\t Use Model Activation Function = relu\n",
      "\t# Hidden Layers = 1\n",
      "\t# Layer 1 Nodes = 16\n",
      "\t# of Output Nuerons = 1\n",
      "\t# Epochs = 75\n",
      "\t\t\t***                       Permutation:7 ==> Loss: 0.7794181108474731, Accuracy: 0.7209329605102539 ***\n",
      "\t\t\t*** Best Running Results: Permutation:2 ==> Loss: 0.6494274735450745, Accuracy: 0.7304956316947937 ***\n",
      "Running Permuation #8\n",
      "\t# Input Features = 116\n",
      "\t Use Model Activation Function = relu\n",
      "\t# Hidden Layers = 1\n",
      "\t# Layer 1 Nodes = 16\n",
      "\t# of Output Nuerons = 1\n",
      "\t# Epochs = 100\n",
      "\t\t\t***                       Permutation:8 ==> Loss: 0.996289849281311, Accuracy: 0.6948105096817017 ***\n",
      "\t\t\t*** Best Running Results: Permutation:2 ==> Loss: 0.6494274735450745, Accuracy: 0.7304956316947937 ***\n",
      "Running Permuation #9\n",
      "\t# Input Features = 116\n",
      "\t Use Model Activation Function = relu\n",
      "\t# Hidden Layers = 2\n",
      "\t# Layer 1 Nodes = 8\n",
      "\t# Layer 2 Nodes = 4\n",
      "\t# of Output Nuerons = 1\n",
      "\t# Epochs = 25\n",
      "\t\t\t***                       Permutation:9 ==> Loss: 0.6794185638427734, Accuracy: 0.7222157716751099 ***\n",
      "\t\t\t*** Best Running Results: Permutation:2 ==> Loss: 0.6494274735450745, Accuracy: 0.7304956316947937 ***\n",
      "Running Permuation #10\n",
      "\t# Input Features = 116\n",
      "\t Use Model Activation Function = relu\n",
      "\t# Hidden Layers = 2\n",
      "\t# Layer 1 Nodes = 8\n",
      "\t# Layer 2 Nodes = 4\n",
      "\t# of Output Nuerons = 1\n",
      "\t# Epochs = 50\n",
      "\t\t\t***                       Permutation:10 ==> Loss: 0.6626161932945251, Accuracy: 0.7289795875549316 ***\n",
      "\t\t\t*** Best Running Results: Permutation:2 ==> Loss: 0.6494274735450745, Accuracy: 0.7304956316947937 ***\n",
      "Running Permuation #11\n",
      "\t# Input Features = 116\n",
      "\t Use Model Activation Function = relu\n",
      "\t# Hidden Layers = 2\n",
      "\t# Layer 1 Nodes = 8\n",
      "\t# Layer 2 Nodes = 4\n",
      "\t# of Output Nuerons = 1\n",
      "\t# Epochs = 75\n",
      "\t\t\t***                       Permutation:11 ==> Loss: 0.641444206237793, Accuracy: 0.7281632423400879 ***\n",
      "\t\t\t*** Best Running Results: Permutation:2 ==> Loss: 0.6494274735450745, Accuracy: 0.7304956316947937 ***\n",
      "Running Permuation #12\n",
      "\t# Input Features = 116\n",
      "\t Use Model Activation Function = relu\n",
      "\t# Hidden Layers = 2\n",
      "\t# Layer 1 Nodes = 8\n",
      "\t# Layer 2 Nodes = 4\n",
      "\t# of Output Nuerons = 1\n",
      "\t# Epochs = 100\n",
      "\t\t\t***                       Permutation:12 ==> Loss: 0.5843428373336792, Accuracy: 0.7273469567298889 ***\n",
      "\t\t\t*** Best Running Results: Permutation:2 ==> Loss: 0.6494274735450745, Accuracy: 0.7304956316947937 ***\n",
      "Running Permuation #13\n",
      "\t# Input Features = 116\n",
      "\t Use Model Activation Function = relu\n",
      "\t# Hidden Layers = 2\n",
      "\t# Layer 1 Nodes = 16\n",
      "\t# Layer 2 Nodes = 4\n",
      "\t# of Output Nuerons = 1\n",
      "\t# Epochs = 25\n",
      "\t\t\t***                       Permutation:13 ==> Loss: 0.6177259087562561, Accuracy: 0.7068221569061279 ***\n",
      "\t\t\t*** Best Running Results: Permutation:2 ==> Loss: 0.6494274735450745, Accuracy: 0.7304956316947937 ***\n",
      "Running Permuation #14\n",
      "\t# Input Features = 116\n",
      "\t Use Model Activation Function = relu\n",
      "\t# Hidden Layers = 2\n",
      "\t# Layer 1 Nodes = 16\n",
      "\t# Layer 2 Nodes = 4\n",
      "\t# of Output Nuerons = 1\n",
      "\t# Epochs = 50\n",
      "\t\t\t***                       Permutation:14 ==> Loss: 0.6221629977226257, Accuracy: 0.7303789854049683 ***\n",
      "\t\t\t*** Best Running Results: Permutation:2 ==> Loss: 0.6494274735450745, Accuracy: 0.7304956316947937 ***\n",
      "Running Permuation #15\n",
      "\t# Input Features = 116\n",
      "\t Use Model Activation Function = relu\n",
      "\t# Hidden Layers = 2\n",
      "\t# Layer 1 Nodes = 16\n",
      "\t# Layer 2 Nodes = 4\n",
      "\t# of Output Nuerons = 1\n",
      "\t# Epochs = 75\n",
      "\t\t\t***                       Permutation:15 ==> Loss: 0.6091133952140808, Accuracy: 0.7318950295448303 ***\n",
      "\t\t\t*** Best Running Results: Permutation:15 ==> Loss: 0.6091133952140808, Accuracy: 0.7318950295448303 ***\n",
      "Running Permuation #16\n",
      "\t# Input Features = 116\n",
      "\t Use Model Activation Function = relu\n",
      "\t# Hidden Layers = 2\n",
      "\t# Layer 1 Nodes = 16\n",
      "\t# Layer 2 Nodes = 4\n",
      "\t# of Output Nuerons = 1\n",
      "\t# Epochs = 100\n",
      "\t\t\t***                       Permutation:16 ==> Loss: 0.5924809575080872, Accuracy: 0.7278134226799011 ***\n",
      "\t\t\t*** Best Running Results: Permutation:15 ==> Loss: 0.6091133952140808, Accuracy: 0.7318950295448303 ***\n",
      "Running Permuation #17\n",
      "\t# Input Features = 116\n",
      "\t Use Model Activation Function = sigmoid\n",
      "\t# Hidden Layers = 1\n",
      "\t# Layer 1 Nodes = 8\n",
      "\t# of Output Nuerons = 1\n",
      "\t# Epochs = 25\n",
      "\t\t\t***                       Permutation:17 ==> Loss: 0.5529941320419312, Accuracy: 0.7301457524299622 ***\n",
      "\t\t\t*** Best Running Results: Permutation:15 ==> Loss: 0.6091133952140808, Accuracy: 0.7318950295448303 ***\n",
      "Running Permuation #18\n",
      "\t# Input Features = 116\n",
      "\t Use Model Activation Function = sigmoid\n",
      "\t# Hidden Layers = 1\n",
      "\t# Layer 1 Nodes = 8\n",
      "\t# of Output Nuerons = 1\n",
      "\t# Epochs = 50\n",
      "\t\t\t***                       Permutation:18 ==> Loss: 0.5514466166496277, Accuracy: 0.7320116758346558 ***\n",
      "\t\t\t*** Best Running Results: Permutation:18 ==> Loss: 0.5514466166496277, Accuracy: 0.7320116758346558 ***\n",
      "Running Permuation #19\n",
      "\t# Input Features = 116\n",
      "\t Use Model Activation Function = sigmoid\n",
      "\t# Hidden Layers = 1\n",
      "\t# Layer 1 Nodes = 8\n",
      "\t# of Output Nuerons = 1\n",
      "\t# Epochs = 75\n",
      "\t\t\t***                       Permutation:19 ==> Loss: 0.5509530901908875, Accuracy: 0.7314285635948181 ***\n",
      "\t\t\t*** Best Running Results: Permutation:18 ==> Loss: 0.5514466166496277, Accuracy: 0.7320116758346558 ***\n",
      "Running Permuation #20\n",
      "\t# Input Features = 116\n",
      "\t Use Model Activation Function = sigmoid\n",
      "\t# Hidden Layers = 1\n",
      "\t# Layer 1 Nodes = 8\n",
      "\t# of Output Nuerons = 1\n",
      "\t# Epochs = 100\n",
      "\t\t\t***                       Permutation:20 ==> Loss: 0.5513505935668945, Accuracy: 0.7310787439346313 ***\n",
      "\t\t\t*** Best Running Results: Permutation:18 ==> Loss: 0.5514466166496277, Accuracy: 0.7320116758346558 ***\n",
      "Running Permuation #21\n",
      "\t# Input Features = 116\n",
      "\t Use Model Activation Function = sigmoid\n",
      "\t# Hidden Layers = 1\n",
      "\t# Layer 1 Nodes = 16\n",
      "\t# of Output Nuerons = 1\n",
      "\t# Epochs = 25\n",
      "\t\t\t***                       Permutation:21 ==> Loss: 0.5514248609542847, Accuracy: 0.7315452098846436 ***\n",
      "\t\t\t*** Best Running Results: Permutation:18 ==> Loss: 0.5514466166496277, Accuracy: 0.7320116758346558 ***\n",
      "Running Permuation #22\n",
      "\t# Input Features = 116\n",
      "\t Use Model Activation Function = sigmoid\n",
      "\t# Hidden Layers = 1\n",
      "\t# Layer 1 Nodes = 16\n",
      "\t# of Output Nuerons = 1\n",
      "\t# Epochs = 50\n",
      "\t\t\t***                       Permutation:22 ==> Loss: 0.5499290227890015, Accuracy: 0.7330612540245056 ***\n",
      "\t\t\t*** Best Running Results: Permutation:22 ==> Loss: 0.5499290227890015, Accuracy: 0.7330612540245056 ***\n",
      "Running Permuation #23\n",
      "\t# Input Features = 116\n",
      "\t Use Model Activation Function = sigmoid\n",
      "\t# Hidden Layers = 1\n",
      "\t# Layer 1 Nodes = 16\n",
      "\t# of Output Nuerons = 1\n",
      "\t# Epochs = 75\n",
      "\t\t\t***                       Permutation:23 ==> Loss: 0.5489799380302429, Accuracy: 0.7317784428596497 ***\n",
      "\t\t\t*** Best Running Results: Permutation:22 ==> Loss: 0.5499290227890015, Accuracy: 0.7330612540245056 ***\n",
      "Running Permuation #24\n",
      "\t# Input Features = 116\n",
      "\t Use Model Activation Function = sigmoid\n",
      "\t# Hidden Layers = 1\n",
      "\t# Layer 1 Nodes = 16\n",
      "\t# of Output Nuerons = 1\n",
      "\t# Epochs = 100\n",
      "\t\t\t***                       Permutation:24 ==> Loss: 0.5507618188858032, Accuracy: 0.7310787439346313 ***\n",
      "\t\t\t*** Best Running Results: Permutation:22 ==> Loss: 0.5499290227890015, Accuracy: 0.7330612540245056 ***\n",
      "Running Permuation #25\n",
      "\t# Input Features = 116\n",
      "\t Use Model Activation Function = sigmoid\n",
      "\t# Hidden Layers = 2\n",
      "\t# Layer 1 Nodes = 8\n",
      "\t# Layer 2 Nodes = 4\n",
      "\t# of Output Nuerons = 1\n",
      "\t# Epochs = 25\n",
      "\t\t\t***                       Permutation:25 ==> Loss: 0.550930917263031, Accuracy: 0.7310787439346313 ***\n",
      "\t\t\t*** Best Running Results: Permutation:22 ==> Loss: 0.5499290227890015, Accuracy: 0.7330612540245056 ***\n",
      "Running Permuation #26\n",
      "\t# Input Features = 116\n",
      "\t Use Model Activation Function = sigmoid\n",
      "\t# Hidden Layers = 2\n",
      "\t# Layer 1 Nodes = 8\n",
      "\t# Layer 2 Nodes = 4\n",
      "\t# of Output Nuerons = 1\n",
      "\t# Epochs = 50\n",
      "\t\t\t***                       Permutation:26 ==> Loss: 0.5498968362808228, Accuracy: 0.7307288646697998 ***\n",
      "\t\t\t*** Best Running Results: Permutation:22 ==> Loss: 0.5499290227890015, Accuracy: 0.7330612540245056 ***\n",
      "Running Permuation #27\n",
      "\t# Input Features = 116\n",
      "\t Use Model Activation Function = sigmoid\n",
      "\t# Hidden Layers = 2\n",
      "\t# Layer 1 Nodes = 8\n",
      "\t# Layer 2 Nodes = 4\n",
      "\t# of Output Nuerons = 1\n",
      "\t# Epochs = 75\n",
      "\t\t\t***                       Permutation:27 ==> Loss: 0.5501737594604492, Accuracy: 0.732478141784668 ***\n",
      "\t\t\t*** Best Running Results: Permutation:22 ==> Loss: 0.5499290227890015, Accuracy: 0.7330612540245056 ***\n",
      "Running Permuation #28\n",
      "\t# Input Features = 116\n",
      "\t Use Model Activation Function = sigmoid\n",
      "\t# Hidden Layers = 2\n",
      "\t# Layer 1 Nodes = 8\n",
      "\t# Layer 2 Nodes = 4\n",
      "\t# of Output Nuerons = 1\n",
      "\t# Epochs = 100\n",
      "\t\t\t***                       Permutation:28 ==> Loss: 0.5498799681663513, Accuracy: 0.729912519454956 ***\n",
      "\t\t\t*** Best Running Results: Permutation:22 ==> Loss: 0.5499290227890015, Accuracy: 0.7330612540245056 ***\n",
      "Running Permuation #29\n",
      "\t# Input Features = 116\n",
      "\t Use Model Activation Function = sigmoid\n",
      "\t# Hidden Layers = 2\n",
      "\t# Layer 1 Nodes = 16\n",
      "\t# Layer 2 Nodes = 4\n",
      "\t# of Output Nuerons = 1\n",
      "\t# Epochs = 25\n",
      "\t\t\t***                       Permutation:29 ==> Loss: 0.5499922037124634, Accuracy: 0.7301457524299622 ***\n",
      "\t\t\t*** Best Running Results: Permutation:22 ==> Loss: 0.5499290227890015, Accuracy: 0.7330612540245056 ***\n",
      "Running Permuation #30\n",
      "\t# Input Features = 116\n",
      "\t Use Model Activation Function = sigmoid\n",
      "\t# Hidden Layers = 2\n",
      "\t# Layer 1 Nodes = 16\n",
      "\t# Layer 2 Nodes = 4\n",
      "\t# of Output Nuerons = 1\n",
      "\t# Epochs = 50\n",
      "\t\t\t***                       Permutation:30 ==> Loss: 0.5499057173728943, Accuracy: 0.7315452098846436 ***\n",
      "\t\t\t*** Best Running Results: Permutation:22 ==> Loss: 0.5499290227890015, Accuracy: 0.7330612540245056 ***\n",
      "Running Permuation #31\n",
      "\t# Input Features = 116\n",
      "\t Use Model Activation Function = sigmoid\n",
      "\t# Hidden Layers = 2\n",
      "\t# Layer 1 Nodes = 16\n",
      "\t# Layer 2 Nodes = 4\n",
      "\t# of Output Nuerons = 1\n",
      "\t# Epochs = 75\n",
      "\t\t\t***                       Permutation:31 ==> Loss: 0.5496864318847656, Accuracy: 0.7309620976448059 ***\n",
      "\t\t\t*** Best Running Results: Permutation:22 ==> Loss: 0.5499290227890015, Accuracy: 0.7330612540245056 ***\n",
      "Running Permuation #32\n",
      "\t# Input Features = 116\n",
      "\t Use Model Activation Function = sigmoid\n",
      "\t# Hidden Layers = 2\n",
      "\t# Layer 1 Nodes = 16\n",
      "\t# Layer 2 Nodes = 4\n",
      "\t# of Output Nuerons = 1\n",
      "\t# Epochs = 100\n",
      "\t\t\t***                       Permutation:32 ==> Loss: 0.5516951680183411, Accuracy: 0.7293294668197632 ***\n",
      "\t\t\t*** Best Running Results: Permutation:22 ==> Loss: 0.5499290227890015, Accuracy: 0.7330612540245056 ***\n"
     ]
    },
    {
     "data": {
      "text/plain": [
       "'APPLICATION_TYPE'"
      ]
     },
     "metadata": {},
     "output_type": "display_data"
    },
    {
     "name": "stdout",
     "output_type": "stream",
     "text": [
      "Running Permuation #33\n",
      "\tFeature Drop = APPLICATION_TYPE\n",
      "\t# Input Features = 99\n",
      "\t Use Model Activation Function = relu\n",
      "\t# Hidden Layers = 1\n",
      "\t# Layer 1 Nodes = 8\n",
      "\t# of Output Nuerons = 1\n",
      "\t# Epochs = 25\n",
      "\t\t\t***                       Permutation:33 ==> Loss: 0.7966938614845276, Accuracy: 0.6995918154716492 ***\n",
      "\t\t\t*** Best Running Results: Permutation:22 ==> Loss: 0.5499290227890015, Accuracy: 0.7330612540245056 ***\n"
     ]
    },
    {
     "data": {
      "text/plain": [
       "'APPLICATION_TYPE'"
      ]
     },
     "metadata": {},
     "output_type": "display_data"
    },
    {
     "name": "stdout",
     "output_type": "stream",
     "text": [
      "Running Permuation #34\n",
      "\tFeature Drop = APPLICATION_TYPE\n",
      "\t# Input Features = 99\n",
      "\t Use Model Activation Function = relu\n",
      "\t# Hidden Layers = 1\n",
      "\t# Layer 1 Nodes = 8\n",
      "\t# of Output Nuerons = 1\n",
      "\t# Epochs = 50\n",
      "\t\t\t***                       Permutation:34 ==> Loss: 1.1216055154800415, Accuracy: 0.686530590057373 ***\n",
      "\t\t\t*** Best Running Results: Permutation:22 ==> Loss: 0.5499290227890015, Accuracy: 0.7330612540245056 ***\n"
     ]
    },
    {
     "data": {
      "text/plain": [
       "'APPLICATION_TYPE'"
      ]
     },
     "metadata": {},
     "output_type": "display_data"
    },
    {
     "name": "stdout",
     "output_type": "stream",
     "text": [
      "Running Permuation #35\n",
      "\tFeature Drop = APPLICATION_TYPE\n",
      "\t# Input Features = 99\n",
      "\t Use Model Activation Function = relu\n",
      "\t# Hidden Layers = 1\n",
      "\t# Layer 1 Nodes = 8\n",
      "\t# of Output Nuerons = 1\n",
      "\t# Epochs = 75\n",
      "\t\t\t***                       Permutation:35 ==> Loss: 0.788077712059021, Accuracy: 0.6994752287864685 ***\n",
      "\t\t\t*** Best Running Results: Permutation:22 ==> Loss: 0.5499290227890015, Accuracy: 0.7330612540245056 ***\n"
     ]
    },
    {
     "data": {
      "text/plain": [
       "'APPLICATION_TYPE'"
      ]
     },
     "metadata": {},
     "output_type": "display_data"
    },
    {
     "name": "stdout",
     "output_type": "stream",
     "text": [
      "Running Permuation #36\n",
      "\tFeature Drop = APPLICATION_TYPE\n",
      "\t# Input Features = 99\n",
      "\t Use Model Activation Function = relu\n",
      "\t# Hidden Layers = 1\n",
      "\t# Layer 1 Nodes = 8\n",
      "\t# of Output Nuerons = 1\n",
      "\t# Epochs = 100\n",
      "\t\t\t***                       Permutation:36 ==> Loss: 1.1924349069595337, Accuracy: 0.6806997060775757 ***\n",
      "\t\t\t*** Best Running Results: Permutation:22 ==> Loss: 0.5499290227890015, Accuracy: 0.7330612540245056 ***\n"
     ]
    },
    {
     "data": {
      "text/plain": [
       "'APPLICATION_TYPE'"
      ]
     },
     "metadata": {},
     "output_type": "display_data"
    },
    {
     "name": "stdout",
     "output_type": "stream",
     "text": [
      "Running Permuation #37\n",
      "\tFeature Drop = APPLICATION_TYPE\n",
      "\t# Input Features = 99\n",
      "\t Use Model Activation Function = relu\n",
      "\t# Hidden Layers = 1\n",
      "\t# Layer 1 Nodes = 16\n",
      "\t# of Output Nuerons = 1\n",
      "\t# Epochs = 25\n",
      "\t\t\t***                       Permutation:37 ==> Loss: 0.8330726623535156, Accuracy: 0.701924204826355 ***\n",
      "\t\t\t*** Best Running Results: Permutation:22 ==> Loss: 0.5499290227890015, Accuracy: 0.7330612540245056 ***\n"
     ]
    },
    {
     "data": {
      "text/plain": [
       "'APPLICATION_TYPE'"
      ]
     },
     "metadata": {},
     "output_type": "display_data"
    },
    {
     "name": "stdout",
     "output_type": "stream",
     "text": [
      "Running Permuation #38\n",
      "\tFeature Drop = APPLICATION_TYPE\n",
      "\t# Input Features = 99\n",
      "\t Use Model Activation Function = relu\n",
      "\t# Hidden Layers = 1\n",
      "\t# Layer 1 Nodes = 16\n",
      "\t# of Output Nuerons = 1\n",
      "\t# Epochs = 50\n",
      "\t\t\t***                       Permutation:38 ==> Loss: 0.9418739080429077, Accuracy: 0.6935276985168457 ***\n",
      "\t\t\t*** Best Running Results: Permutation:22 ==> Loss: 0.5499290227890015, Accuracy: 0.7330612540245056 ***\n"
     ]
    },
    {
     "data": {
      "text/plain": [
       "'APPLICATION_TYPE'"
      ]
     },
     "metadata": {},
     "output_type": "display_data"
    },
    {
     "name": "stdout",
     "output_type": "stream",
     "text": [
      "Running Permuation #39\n",
      "\tFeature Drop = APPLICATION_TYPE\n",
      "\t# Input Features = 99\n",
      "\t Use Model Activation Function = relu\n",
      "\t# Hidden Layers = 1\n",
      "\t# Layer 1 Nodes = 16\n",
      "\t# of Output Nuerons = 1\n",
      "\t# Epochs = 75\n",
      "\t\t\t***                       Permutation:39 ==> Loss: 0.9352357387542725, Accuracy: 0.6958600878715515 ***\n",
      "\t\t\t*** Best Running Results: Permutation:22 ==> Loss: 0.5499290227890015, Accuracy: 0.7330612540245056 ***\n"
     ]
    },
    {
     "data": {
      "text/plain": [
       "'APPLICATION_TYPE'"
      ]
     },
     "metadata": {},
     "output_type": "display_data"
    },
    {
     "name": "stdout",
     "output_type": "stream",
     "text": [
      "Running Permuation #40\n",
      "\tFeature Drop = APPLICATION_TYPE\n",
      "\t# Input Features = 99\n",
      "\t Use Model Activation Function = relu\n",
      "\t# Hidden Layers = 1\n",
      "\t# Layer 1 Nodes = 16\n",
      "\t# of Output Nuerons = 1\n",
      "\t# Epochs = 100\n",
      "\t\t\t***                       Permutation:40 ==> Loss: 0.7160436511039734, Accuracy: 0.6985422968864441 ***\n",
      "\t\t\t*** Best Running Results: Permutation:22 ==> Loss: 0.5499290227890015, Accuracy: 0.7330612540245056 ***\n"
     ]
    },
    {
     "data": {
      "text/plain": [
       "'APPLICATION_TYPE'"
      ]
     },
     "metadata": {},
     "output_type": "display_data"
    },
    {
     "name": "stdout",
     "output_type": "stream",
     "text": [
      "Running Permuation #41\n",
      "\tFeature Drop = APPLICATION_TYPE\n",
      "\t# Input Features = 99\n",
      "\t Use Model Activation Function = relu\n",
      "\t# Hidden Layers = 2\n",
      "\t# Layer 1 Nodes = 8\n",
      "\t# Layer 2 Nodes = 4\n",
      "\t# of Output Nuerons = 1\n",
      "\t# Epochs = 25\n",
      "\t\t\t***                       Permutation:41 ==> Loss: 0.7559831738471985, Accuracy: 0.7103207111358643 ***\n",
      "\t\t\t*** Best Running Results: Permutation:22 ==> Loss: 0.5499290227890015, Accuracy: 0.7330612540245056 ***\n"
     ]
    },
    {
     "data": {
      "text/plain": [
       "'APPLICATION_TYPE'"
      ]
     },
     "metadata": {},
     "output_type": "display_data"
    },
    {
     "name": "stdout",
     "output_type": "stream",
     "text": [
      "Running Permuation #42\n",
      "\tFeature Drop = APPLICATION_TYPE\n",
      "\t# Input Features = 99\n",
      "\t Use Model Activation Function = relu\n",
      "\t# Hidden Layers = 2\n",
      "\t# Layer 1 Nodes = 8\n",
      "\t# Layer 2 Nodes = 4\n",
      "\t# of Output Nuerons = 1\n",
      "\t# Epochs = 50\n",
      "\t\t\t***                       Permutation:42 ==> Loss: 0.8250499367713928, Accuracy: 0.7020407915115356 ***\n",
      "\t\t\t*** Best Running Results: Permutation:22 ==> Loss: 0.5499290227890015, Accuracy: 0.7330612540245056 ***\n"
     ]
    },
    {
     "data": {
      "text/plain": [
       "'APPLICATION_TYPE'"
      ]
     },
     "metadata": {},
     "output_type": "display_data"
    },
    {
     "name": "stdout",
     "output_type": "stream",
     "text": [
      "Running Permuation #43\n",
      "\tFeature Drop = APPLICATION_TYPE\n",
      "\t# Input Features = 99\n",
      "\t Use Model Activation Function = relu\n",
      "\t# Hidden Layers = 2\n",
      "\t# Layer 1 Nodes = 8\n",
      "\t# Layer 2 Nodes = 4\n",
      "\t# of Output Nuerons = 1\n",
      "\t# Epochs = 75\n",
      "\t\t\t***                       Permutation:43 ==> Loss: 8.163082122802734, Accuracy: 0.4707871675491333 ***\n",
      "\t\t\t*** Best Running Results: Permutation:22 ==> Loss: 0.5499290227890015, Accuracy: 0.7330612540245056 ***\n"
     ]
    },
    {
     "data": {
      "text/plain": [
       "'APPLICATION_TYPE'"
      ]
     },
     "metadata": {},
     "output_type": "display_data"
    },
    {
     "name": "stdout",
     "output_type": "stream",
     "text": [
      "Running Permuation #44\n",
      "\tFeature Drop = APPLICATION_TYPE\n",
      "\t# Input Features = 99\n",
      "\t Use Model Activation Function = relu\n",
      "\t# Hidden Layers = 2\n",
      "\t# Layer 1 Nodes = 8\n",
      "\t# Layer 2 Nodes = 4\n",
      "\t# of Output Nuerons = 1\n",
      "\t# Epochs = 100\n",
      "\t\t\t***                       Permutation:44 ==> Loss: 0.6437753438949585, Accuracy: 0.7079883217811584 ***\n",
      "\t\t\t*** Best Running Results: Permutation:22 ==> Loss: 0.5499290227890015, Accuracy: 0.7330612540245056 ***\n"
     ]
    },
    {
     "data": {
      "text/plain": [
       "'APPLICATION_TYPE'"
      ]
     },
     "metadata": {},
     "output_type": "display_data"
    },
    {
     "name": "stdout",
     "output_type": "stream",
     "text": [
      "Running Permuation #45\n",
      "\tFeature Drop = APPLICATION_TYPE\n",
      "\t# Input Features = 99\n",
      "\t Use Model Activation Function = relu\n",
      "\t# Hidden Layers = 2\n",
      "\t# Layer 1 Nodes = 16\n",
      "\t# Layer 2 Nodes = 4\n",
      "\t# of Output Nuerons = 1\n",
      "\t# Epochs = 25\n",
      "\t\t\t***                       Permutation:45 ==> Loss: 0.6662123203277588, Accuracy: 0.7069388031959534 ***\n",
      "\t\t\t*** Best Running Results: Permutation:22 ==> Loss: 0.5499290227890015, Accuracy: 0.7330612540245056 ***\n"
     ]
    },
    {
     "data": {
      "text/plain": [
       "'APPLICATION_TYPE'"
      ]
     },
     "metadata": {},
     "output_type": "display_data"
    },
    {
     "name": "stdout",
     "output_type": "stream",
     "text": [
      "Running Permuation #46\n",
      "\tFeature Drop = APPLICATION_TYPE\n",
      "\t# Input Features = 99\n",
      "\t Use Model Activation Function = relu\n",
      "\t# Hidden Layers = 2\n",
      "\t# Layer 1 Nodes = 16\n",
      "\t# Layer 2 Nodes = 4\n",
      "\t# of Output Nuerons = 1\n",
      "\t# Epochs = 50\n",
      "\t\t\t***                       Permutation:46 ==> Loss: 0.69864821434021, Accuracy: 0.7079883217811584 ***\n",
      "\t\t\t*** Best Running Results: Permutation:22 ==> Loss: 0.5499290227890015, Accuracy: 0.7330612540245056 ***\n"
     ]
    },
    {
     "data": {
      "text/plain": [
       "'APPLICATION_TYPE'"
      ]
     },
     "metadata": {},
     "output_type": "display_data"
    },
    {
     "name": "stdout",
     "output_type": "stream",
     "text": [
      "Running Permuation #47\n",
      "\tFeature Drop = APPLICATION_TYPE\n",
      "\t# Input Features = 99\n",
      "\t Use Model Activation Function = relu\n",
      "\t# Hidden Layers = 2\n",
      "\t# Layer 1 Nodes = 16\n",
      "\t# Layer 2 Nodes = 4\n",
      "\t# of Output Nuerons = 1\n",
      "\t# Epochs = 75\n",
      "\t\t\t***                       Permutation:47 ==> Loss: 0.6390056014060974, Accuracy: 0.7100874781608582 ***\n",
      "\t\t\t*** Best Running Results: Permutation:22 ==> Loss: 0.5499290227890015, Accuracy: 0.7330612540245056 ***\n"
     ]
    },
    {
     "data": {
      "text/plain": [
       "'APPLICATION_TYPE'"
      ]
     },
     "metadata": {},
     "output_type": "display_data"
    },
    {
     "name": "stdout",
     "output_type": "stream",
     "text": [
      "Running Permuation #48\n",
      "\tFeature Drop = APPLICATION_TYPE\n",
      "\t# Input Features = 99\n",
      "\t Use Model Activation Function = relu\n",
      "\t# Hidden Layers = 2\n",
      "\t# Layer 1 Nodes = 16\n",
      "\t# Layer 2 Nodes = 4\n",
      "\t# of Output Nuerons = 1\n",
      "\t# Epochs = 100\n",
      "\t\t\t***                       Permutation:48 ==> Loss: 0.5967820882797241, Accuracy: 0.7064722776412964 ***\n",
      "\t\t\t*** Best Running Results: Permutation:22 ==> Loss: 0.5499290227890015, Accuracy: 0.7330612540245056 ***\n"
     ]
    },
    {
     "data": {
      "text/plain": [
       "'APPLICATION_TYPE'"
      ]
     },
     "metadata": {},
     "output_type": "display_data"
    },
    {
     "name": "stdout",
     "output_type": "stream",
     "text": [
      "Running Permuation #49\n",
      "\tFeature Drop = APPLICATION_TYPE\n",
      "\t# Input Features = 99\n",
      "\t Use Model Activation Function = sigmoid\n",
      "\t# Hidden Layers = 1\n",
      "\t# Layer 1 Nodes = 8\n",
      "\t# of Output Nuerons = 1\n",
      "\t# Epochs = 25\n",
      "\t\t\t***                       Permutation:49 ==> Loss: 0.5725098252296448, Accuracy: 0.7105539441108704 ***\n",
      "\t\t\t*** Best Running Results: Permutation:22 ==> Loss: 0.5499290227890015, Accuracy: 0.7330612540245056 ***\n"
     ]
    },
    {
     "data": {
      "text/plain": [
       "'APPLICATION_TYPE'"
      ]
     },
     "metadata": {},
     "output_type": "display_data"
    },
    {
     "name": "stdout",
     "output_type": "stream",
     "text": [
      "Running Permuation #50\n",
      "\tFeature Drop = APPLICATION_TYPE\n",
      "\t# Input Features = 99\n",
      "\t Use Model Activation Function = sigmoid\n",
      "\t# Hidden Layers = 1\n",
      "\t# Layer 1 Nodes = 8\n",
      "\t# of Output Nuerons = 1\n",
      "\t# Epochs = 50\n",
      "\t\t\t***                       Permutation:50 ==> Loss: 0.5731229186058044, Accuracy: 0.7093877792358398 ***\n",
      "\t\t\t*** Best Running Results: Permutation:22 ==> Loss: 0.5499290227890015, Accuracy: 0.7330612540245056 ***\n"
     ]
    },
    {
     "data": {
      "text/plain": [
       "'APPLICATION_TYPE'"
      ]
     },
     "metadata": {},
     "output_type": "display_data"
    },
    {
     "name": "stdout",
     "output_type": "stream",
     "text": [
      "Running Permuation #51\n",
      "\tFeature Drop = APPLICATION_TYPE\n",
      "\t# Input Features = 99\n",
      "\t Use Model Activation Function = sigmoid\n",
      "\t# Hidden Layers = 1\n",
      "\t# Layer 1 Nodes = 8\n",
      "\t# of Output Nuerons = 1\n",
      "\t# Epochs = 75\n",
      "\t\t\t***                       Permutation:51 ==> Loss: 0.5737773180007935, Accuracy: 0.707055389881134 ***\n",
      "\t\t\t*** Best Running Results: Permutation:22 ==> Loss: 0.5499290227890015, Accuracy: 0.7330612540245056 ***\n"
     ]
    },
    {
     "data": {
      "text/plain": [
       "'APPLICATION_TYPE'"
      ]
     },
     "metadata": {},
     "output_type": "display_data"
    },
    {
     "name": "stdout",
     "output_type": "stream",
     "text": [
      "Running Permuation #52\n",
      "\tFeature Drop = APPLICATION_TYPE\n",
      "\t# Input Features = 99\n",
      "\t Use Model Activation Function = sigmoid\n",
      "\t# Hidden Layers = 1\n",
      "\t# Layer 1 Nodes = 8\n",
      "\t# of Output Nuerons = 1\n",
      "\t# Epochs = 100\n",
      "\t\t\t***                       Permutation:52 ==> Loss: 0.5728061199188232, Accuracy: 0.7121865749359131 ***\n",
      "\t\t\t*** Best Running Results: Permutation:22 ==> Loss: 0.5499290227890015, Accuracy: 0.7330612540245056 ***\n"
     ]
    },
    {
     "data": {
      "text/plain": [
       "'APPLICATION_TYPE'"
      ]
     },
     "metadata": {},
     "output_type": "display_data"
    },
    {
     "name": "stdout",
     "output_type": "stream",
     "text": [
      "Running Permuation #53\n",
      "\tFeature Drop = APPLICATION_TYPE\n",
      "\t# Input Features = 99\n",
      "\t Use Model Activation Function = sigmoid\n",
      "\t# Hidden Layers = 1\n",
      "\t# Layer 1 Nodes = 16\n",
      "\t# of Output Nuerons = 1\n",
      "\t# Epochs = 25\n",
      "\t\t\t***                       Permutation:53 ==> Loss: 0.5720615983009338, Accuracy: 0.7117201089859009 ***\n",
      "\t\t\t*** Best Running Results: Permutation:22 ==> Loss: 0.5499290227890015, Accuracy: 0.7330612540245056 ***\n"
     ]
    },
    {
     "data": {
      "text/plain": [
       "'APPLICATION_TYPE'"
      ]
     },
     "metadata": {},
     "output_type": "display_data"
    },
    {
     "name": "stdout",
     "output_type": "stream",
     "text": [
      "Running Permuation #54\n",
      "\tFeature Drop = APPLICATION_TYPE\n",
      "\t# Input Features = 99\n",
      "\t Use Model Activation Function = sigmoid\n",
      "\t# Hidden Layers = 1\n",
      "\t# Layer 1 Nodes = 16\n",
      "\t# of Output Nuerons = 1\n",
      "\t# Epochs = 50\n",
      "\t\t\t***                       Permutation:54 ==> Loss: 0.5725589990615845, Accuracy: 0.7140524983406067 ***\n",
      "\t\t\t*** Best Running Results: Permutation:22 ==> Loss: 0.5499290227890015, Accuracy: 0.7330612540245056 ***\n"
     ]
    },
    {
     "data": {
      "text/plain": [
       "'APPLICATION_TYPE'"
      ]
     },
     "metadata": {},
     "output_type": "display_data"
    },
    {
     "name": "stdout",
     "output_type": "stream",
     "text": [
      "Running Permuation #55\n",
      "\tFeature Drop = APPLICATION_TYPE\n",
      "\t# Input Features = 99\n",
      "\t Use Model Activation Function = sigmoid\n",
      "\t# Hidden Layers = 1\n",
      "\t# Layer 1 Nodes = 16\n",
      "\t# of Output Nuerons = 1\n",
      "\t# Epochs = 75\n",
      "\t\t\t***                       Permutation:55 ==> Loss: 0.5721367001533508, Accuracy: 0.7110204100608826 ***\n",
      "\t\t\t*** Best Running Results: Permutation:22 ==> Loss: 0.5499290227890015, Accuracy: 0.7330612540245056 ***\n"
     ]
    },
    {
     "data": {
      "text/plain": [
       "'APPLICATION_TYPE'"
      ]
     },
     "metadata": {},
     "output_type": "display_data"
    },
    {
     "name": "stdout",
     "output_type": "stream",
     "text": [
      "Running Permuation #56\n",
      "\tFeature Drop = APPLICATION_TYPE\n",
      "\t# Input Features = 99\n",
      "\t Use Model Activation Function = sigmoid\n",
      "\t# Hidden Layers = 1\n",
      "\t# Layer 1 Nodes = 16\n",
      "\t# of Output Nuerons = 1\n",
      "\t# Epochs = 100\n",
      "\t\t\t***                       Permutation:56 ==> Loss: 0.5723154544830322, Accuracy: 0.7125364542007446 ***\n",
      "\t\t\t*** Best Running Results: Permutation:22 ==> Loss: 0.5499290227890015, Accuracy: 0.7330612540245056 ***\n"
     ]
    },
    {
     "data": {
      "text/plain": [
       "'APPLICATION_TYPE'"
      ]
     },
     "metadata": {},
     "output_type": "display_data"
    },
    {
     "name": "stdout",
     "output_type": "stream",
     "text": [
      "Running Permuation #57\n",
      "\tFeature Drop = APPLICATION_TYPE\n",
      "\t# Input Features = 99\n",
      "\t Use Model Activation Function = sigmoid\n",
      "\t# Hidden Layers = 2\n",
      "\t# Layer 1 Nodes = 8\n",
      "\t# Layer 2 Nodes = 4\n",
      "\t# of Output Nuerons = 1\n",
      "\t# Epochs = 25\n",
      "\t\t\t***                       Permutation:57 ==> Loss: 0.5731891989707947, Accuracy: 0.7100874781608582 ***\n",
      "\t\t\t*** Best Running Results: Permutation:22 ==> Loss: 0.5499290227890015, Accuracy: 0.7330612540245056 ***\n"
     ]
    },
    {
     "data": {
      "text/plain": [
       "'APPLICATION_TYPE'"
      ]
     },
     "metadata": {},
     "output_type": "display_data"
    },
    {
     "name": "stdout",
     "output_type": "stream",
     "text": [
      "Running Permuation #58\n",
      "\tFeature Drop = APPLICATION_TYPE\n",
      "\t# Input Features = 99\n",
      "\t Use Model Activation Function = sigmoid\n",
      "\t# Hidden Layers = 2\n",
      "\t# Layer 1 Nodes = 8\n",
      "\t# Layer 2 Nodes = 4\n",
      "\t# of Output Nuerons = 1\n",
      "\t# Epochs = 50\n",
      "\t\t\t***                       Permutation:58 ==> Loss: 0.5728083848953247, Accuracy: 0.7078717350959778 ***\n",
      "\t\t\t*** Best Running Results: Permutation:22 ==> Loss: 0.5499290227890015, Accuracy: 0.7330612540245056 ***\n"
     ]
    },
    {
     "data": {
      "text/plain": [
       "'APPLICATION_TYPE'"
      ]
     },
     "metadata": {},
     "output_type": "display_data"
    },
    {
     "name": "stdout",
     "output_type": "stream",
     "text": [
      "Running Permuation #59\n",
      "\tFeature Drop = APPLICATION_TYPE\n",
      "\t# Input Features = 99\n",
      "\t Use Model Activation Function = sigmoid\n",
      "\t# Hidden Layers = 2\n",
      "\t# Layer 1 Nodes = 8\n",
      "\t# Layer 2 Nodes = 4\n",
      "\t# of Output Nuerons = 1\n",
      "\t# Epochs = 75\n",
      "\t\t\t***                       Permutation:59 ==> Loss: 0.5727565884590149, Accuracy: 0.709621012210846 ***\n",
      "\t\t\t*** Best Running Results: Permutation:22 ==> Loss: 0.5499290227890015, Accuracy: 0.7330612540245056 ***\n"
     ]
    },
    {
     "data": {
      "text/plain": [
       "'APPLICATION_TYPE'"
      ]
     },
     "metadata": {},
     "output_type": "display_data"
    },
    {
     "name": "stdout",
     "output_type": "stream",
     "text": [
      "Running Permuation #60\n",
      "\tFeature Drop = APPLICATION_TYPE\n",
      "\t# Input Features = 99\n",
      "\t Use Model Activation Function = sigmoid\n",
      "\t# Hidden Layers = 2\n",
      "\t# Layer 1 Nodes = 8\n",
      "\t# Layer 2 Nodes = 4\n",
      "\t# of Output Nuerons = 1\n",
      "\t# Epochs = 100\n",
      "\t\t\t***                       Permutation:60 ==> Loss: 0.5715728402137756, Accuracy: 0.7116035223007202 ***\n",
      "\t\t\t*** Best Running Results: Permutation:22 ==> Loss: 0.5499290227890015, Accuracy: 0.7330612540245056 ***\n"
     ]
    },
    {
     "data": {
      "text/plain": [
       "'APPLICATION_TYPE'"
      ]
     },
     "metadata": {},
     "output_type": "display_data"
    },
    {
     "name": "stdout",
     "output_type": "stream",
     "text": [
      "Running Permuation #61\n",
      "\tFeature Drop = APPLICATION_TYPE\n",
      "\t# Input Features = 99\n",
      "\t Use Model Activation Function = sigmoid\n",
      "\t# Hidden Layers = 2\n",
      "\t# Layer 1 Nodes = 16\n",
      "\t# Layer 2 Nodes = 4\n",
      "\t# of Output Nuerons = 1\n",
      "\t# Epochs = 25\n",
      "\t\t\t***                       Permutation:61 ==> Loss: 0.5725249648094177, Accuracy: 0.711953341960907 ***\n",
      "\t\t\t*** Best Running Results: Permutation:22 ==> Loss: 0.5499290227890015, Accuracy: 0.7330612540245056 ***\n"
     ]
    },
    {
     "data": {
      "text/plain": [
       "'APPLICATION_TYPE'"
      ]
     },
     "metadata": {},
     "output_type": "display_data"
    },
    {
     "name": "stdout",
     "output_type": "stream",
     "text": [
      "Running Permuation #62\n",
      "\tFeature Drop = APPLICATION_TYPE\n",
      "\t# Input Features = 99\n",
      "\t Use Model Activation Function = sigmoid\n",
      "\t# Hidden Layers = 2\n",
      "\t# Layer 1 Nodes = 16\n",
      "\t# Layer 2 Nodes = 4\n",
      "\t# of Output Nuerons = 1\n",
      "\t# Epochs = 50\n",
      "\t\t\t***                       Permutation:62 ==> Loss: 0.5713620185852051, Accuracy: 0.7128862738609314 ***\n",
      "\t\t\t*** Best Running Results: Permutation:22 ==> Loss: 0.5499290227890015, Accuracy: 0.7330612540245056 ***\n"
     ]
    },
    {
     "data": {
      "text/plain": [
       "'APPLICATION_TYPE'"
      ]
     },
     "metadata": {},
     "output_type": "display_data"
    },
    {
     "name": "stdout",
     "output_type": "stream",
     "text": [
      "Running Permuation #63\n",
      "\tFeature Drop = APPLICATION_TYPE\n",
      "\t# Input Features = 99\n",
      "\t Use Model Activation Function = sigmoid\n",
      "\t# Hidden Layers = 2\n",
      "\t# Layer 1 Nodes = 16\n",
      "\t# Layer 2 Nodes = 4\n",
      "\t# of Output Nuerons = 1\n",
      "\t# Epochs = 75\n",
      "\t\t\t***                       Permutation:63 ==> Loss: 0.5744417309761047, Accuracy: 0.7118367552757263 ***\n",
      "\t\t\t*** Best Running Results: Permutation:22 ==> Loss: 0.5499290227890015, Accuracy: 0.7330612540245056 ***\n"
     ]
    },
    {
     "data": {
      "text/plain": [
       "'APPLICATION_TYPE'"
      ]
     },
     "metadata": {},
     "output_type": "display_data"
    },
    {
     "name": "stdout",
     "output_type": "stream",
     "text": [
      "Running Permuation #64\n",
      "\tFeature Drop = APPLICATION_TYPE\n",
      "\t# Input Features = 99\n",
      "\t Use Model Activation Function = sigmoid\n",
      "\t# Hidden Layers = 2\n",
      "\t# Layer 1 Nodes = 16\n",
      "\t# Layer 2 Nodes = 4\n",
      "\t# of Output Nuerons = 1\n",
      "\t# Epochs = 100\n",
      "\t\t\t***                       Permutation:64 ==> Loss: 0.5720341801643372, Accuracy: 0.7123032212257385 ***\n",
      "\t\t\t*** Best Running Results: Permutation:22 ==> Loss: 0.5499290227890015, Accuracy: 0.7330612540245056 ***\n"
     ]
    },
    {
     "data": {
      "text/plain": [
       "'AFFILIATION'"
      ]
     },
     "metadata": {},
     "output_type": "display_data"
    },
    {
     "name": "stdout",
     "output_type": "stream",
     "text": [
      "Running Permuation #65\n",
      "\tFeature Drop = AFFILIATION\n",
      "\t# Input Features = 110\n",
      "\t Use Model Activation Function = relu\n",
      "\t# Hidden Layers = 1\n",
      "\t# Layer 1 Nodes = 8\n",
      "\t# of Output Nuerons = 1\n",
      "\t# Epochs = 25\n",
      "\t\t\t***                       Permutation:65 ==> Loss: 1.5611684322357178, Accuracy: 0.6240233182907104 ***\n",
      "\t\t\t*** Best Running Results: Permutation:22 ==> Loss: 0.5499290227890015, Accuracy: 0.7330612540245056 ***\n"
     ]
    },
    {
     "data": {
      "text/plain": [
       "'AFFILIATION'"
      ]
     },
     "metadata": {},
     "output_type": "display_data"
    },
    {
     "name": "stdout",
     "output_type": "stream",
     "text": [
      "Running Permuation #66\n",
      "\tFeature Drop = AFFILIATION\n",
      "\t# Input Features = 110\n",
      "\t Use Model Activation Function = relu\n",
      "\t# Hidden Layers = 1\n",
      "\t# Layer 1 Nodes = 8\n",
      "\t# of Output Nuerons = 1\n",
      "\t# Epochs = 50\n",
      "\t\t\t***                       Permutation:66 ==> Loss: 0.7921445369720459, Accuracy: 0.6467638611793518 ***\n",
      "\t\t\t*** Best Running Results: Permutation:22 ==> Loss: 0.5499290227890015, Accuracy: 0.7330612540245056 ***\n"
     ]
    },
    {
     "data": {
      "text/plain": [
       "'AFFILIATION'"
      ]
     },
     "metadata": {},
     "output_type": "display_data"
    },
    {
     "name": "stdout",
     "output_type": "stream",
     "text": [
      "Running Permuation #67\n",
      "\tFeature Drop = AFFILIATION\n",
      "\t# Input Features = 110\n",
      "\t Use Model Activation Function = relu\n",
      "\t# Hidden Layers = 1\n",
      "\t# Layer 1 Nodes = 8\n",
      "\t# of Output Nuerons = 1\n",
      "\t# Epochs = 75\n",
      "\t\t\t***                       Permutation:67 ==> Loss: 0.8802786469459534, Accuracy: 0.6531778573989868 ***\n",
      "\t\t\t*** Best Running Results: Permutation:22 ==> Loss: 0.5499290227890015, Accuracy: 0.7330612540245056 ***\n"
     ]
    },
    {
     "data": {
      "text/plain": [
       "'AFFILIATION'"
      ]
     },
     "metadata": {},
     "output_type": "display_data"
    },
    {
     "name": "stdout",
     "output_type": "stream",
     "text": [
      "Running Permuation #68\n",
      "\tFeature Drop = AFFILIATION\n",
      "\t# Input Features = 110\n",
      "\t Use Model Activation Function = relu\n",
      "\t# Hidden Layers = 1\n",
      "\t# Layer 1 Nodes = 8\n",
      "\t# of Output Nuerons = 1\n",
      "\t# Epochs = 100\n",
      "\t\t\t***                       Permutation:68 ==> Loss: 0.8446721434593201, Accuracy: 0.6490961909294128 ***\n",
      "\t\t\t*** Best Running Results: Permutation:22 ==> Loss: 0.5499290227890015, Accuracy: 0.7330612540245056 ***\n"
     ]
    },
    {
     "data": {
      "text/plain": [
       "'AFFILIATION'"
      ]
     },
     "metadata": {},
     "output_type": "display_data"
    },
    {
     "name": "stdout",
     "output_type": "stream",
     "text": [
      "Running Permuation #69\n",
      "\tFeature Drop = AFFILIATION\n",
      "\t# Input Features = 110\n",
      "\t Use Model Activation Function = relu\n",
      "\t# Hidden Layers = 1\n",
      "\t# Layer 1 Nodes = 16\n",
      "\t# of Output Nuerons = 1\n",
      "\t# Epochs = 25\n",
      "\t\t\t***                       Permutation:69 ==> Loss: 0.833892285823822, Accuracy: 0.6488629579544067 ***\n",
      "\t\t\t*** Best Running Results: Permutation:22 ==> Loss: 0.5499290227890015, Accuracy: 0.7330612540245056 ***\n"
     ]
    },
    {
     "data": {
      "text/plain": [
       "'AFFILIATION'"
      ]
     },
     "metadata": {},
     "output_type": "display_data"
    },
    {
     "name": "stdout",
     "output_type": "stream",
     "text": [
      "Running Permuation #70\n",
      "\tFeature Drop = AFFILIATION\n",
      "\t# Input Features = 110\n",
      "\t Use Model Activation Function = relu\n",
      "\t# Hidden Layers = 1\n",
      "\t# Layer 1 Nodes = 16\n",
      "\t# of Output Nuerons = 1\n",
      "\t# Epochs = 50\n",
      "\t\t\t***                       Permutation:70 ==> Loss: 1.0772440433502197, Accuracy: 0.6262390613555908 ***\n",
      "\t\t\t*** Best Running Results: Permutation:22 ==> Loss: 0.5499290227890015, Accuracy: 0.7330612540245056 ***\n"
     ]
    },
    {
     "data": {
      "text/plain": [
       "'AFFILIATION'"
      ]
     },
     "metadata": {},
     "output_type": "display_data"
    },
    {
     "name": "stdout",
     "output_type": "stream",
     "text": [
      "Running Permuation #71\n",
      "\tFeature Drop = AFFILIATION\n",
      "\t# Input Features = 110\n",
      "\t Use Model Activation Function = relu\n",
      "\t# Hidden Layers = 1\n",
      "\t# Layer 1 Nodes = 16\n",
      "\t# of Output Nuerons = 1\n",
      "\t# Epochs = 75\n",
      "\t\t\t***                       Permutation:71 ==> Loss: 0.7452751398086548, Accuracy: 0.6560932993888855 ***\n",
      "\t\t\t*** Best Running Results: Permutation:22 ==> Loss: 0.5499290227890015, Accuracy: 0.7330612540245056 ***\n"
     ]
    },
    {
     "data": {
      "text/plain": [
       "'AFFILIATION'"
      ]
     },
     "metadata": {},
     "output_type": "display_data"
    },
    {
     "name": "stdout",
     "output_type": "stream",
     "text": [
      "Running Permuation #72\n",
      "\tFeature Drop = AFFILIATION\n",
      "\t# Input Features = 110\n",
      "\t Use Model Activation Function = relu\n",
      "\t# Hidden Layers = 1\n",
      "\t# Layer 1 Nodes = 16\n",
      "\t# of Output Nuerons = 1\n",
      "\t# Epochs = 100\n",
      "\t\t\t***                       Permutation:72 ==> Loss: 0.6658421158790588, Accuracy: 0.649329423904419 ***\n",
      "\t\t\t*** Best Running Results: Permutation:22 ==> Loss: 0.5499290227890015, Accuracy: 0.7330612540245056 ***\n"
     ]
    },
    {
     "data": {
      "text/plain": [
       "'AFFILIATION'"
      ]
     },
     "metadata": {},
     "output_type": "display_data"
    },
    {
     "name": "stdout",
     "output_type": "stream",
     "text": [
      "Running Permuation #73\n",
      "\tFeature Drop = AFFILIATION\n",
      "\t# Input Features = 110\n",
      "\t Use Model Activation Function = relu\n",
      "\t# Hidden Layers = 2\n",
      "\t# Layer 1 Nodes = 8\n",
      "\t# Layer 2 Nodes = 4\n",
      "\t# of Output Nuerons = 1\n",
      "\t# Epochs = 25\n",
      "\t\t\t***                       Permutation:73 ==> Loss: 0.65486741065979, Accuracy: 0.6584256291389465 ***\n",
      "\t\t\t*** Best Running Results: Permutation:22 ==> Loss: 0.5499290227890015, Accuracy: 0.7330612540245056 ***\n"
     ]
    },
    {
     "data": {
      "text/plain": [
       "'AFFILIATION'"
      ]
     },
     "metadata": {},
     "output_type": "display_data"
    },
    {
     "name": "stdout",
     "output_type": "stream",
     "text": [
      "Running Permuation #74\n",
      "\tFeature Drop = AFFILIATION\n",
      "\t# Input Features = 110\n",
      "\t Use Model Activation Function = relu\n",
      "\t# Hidden Layers = 2\n",
      "\t# Layer 1 Nodes = 8\n",
      "\t# Layer 2 Nodes = 4\n",
      "\t# of Output Nuerons = 1\n",
      "\t# Epochs = 50\n",
      "\t\t\t***                       Permutation:74 ==> Loss: 0.7299047708511353, Accuracy: 0.6391837000846863 ***\n",
      "\t\t\t*** Best Running Results: Permutation:22 ==> Loss: 0.5499290227890015, Accuracy: 0.7330612540245056 ***\n"
     ]
    },
    {
     "data": {
      "text/plain": [
       "'AFFILIATION'"
      ]
     },
     "metadata": {},
     "output_type": "display_data"
    },
    {
     "name": "stdout",
     "output_type": "stream",
     "text": [
      "Running Permuation #75\n",
      "\tFeature Drop = AFFILIATION\n",
      "\t# Input Features = 110\n",
      "\t Use Model Activation Function = relu\n",
      "\t# Hidden Layers = 2\n",
      "\t# Layer 1 Nodes = 8\n",
      "\t# Layer 2 Nodes = 4\n",
      "\t# of Output Nuerons = 1\n",
      "\t# Epochs = 75\n",
      "\t\t\t***                       Permutation:75 ==> Loss: 0.6753798127174377, Accuracy: 0.6586589217185974 ***\n",
      "\t\t\t*** Best Running Results: Permutation:22 ==> Loss: 0.5499290227890015, Accuracy: 0.7330612540245056 ***\n"
     ]
    },
    {
     "data": {
      "text/plain": [
       "'AFFILIATION'"
      ]
     },
     "metadata": {},
     "output_type": "display_data"
    },
    {
     "name": "stdout",
     "output_type": "stream",
     "text": [
      "Running Permuation #76\n",
      "\tFeature Drop = AFFILIATION\n",
      "\t# Input Features = 110\n",
      "\t Use Model Activation Function = relu\n",
      "\t# Hidden Layers = 2\n",
      "\t# Layer 1 Nodes = 8\n",
      "\t# Layer 2 Nodes = 4\n",
      "\t# of Output Nuerons = 1\n",
      "\t# Epochs = 100\n",
      "\t\t\t***                       Permutation:76 ==> Loss: 0.632962703704834, Accuracy: 0.6518950462341309 ***\n",
      "\t\t\t*** Best Running Results: Permutation:22 ==> Loss: 0.5499290227890015, Accuracy: 0.7330612540245056 ***\n"
     ]
    },
    {
     "data": {
      "text/plain": [
       "'AFFILIATION'"
      ]
     },
     "metadata": {},
     "output_type": "display_data"
    },
    {
     "name": "stdout",
     "output_type": "stream",
     "text": [
      "Running Permuation #77\n",
      "\tFeature Drop = AFFILIATION\n",
      "\t# Input Features = 110\n",
      "\t Use Model Activation Function = relu\n",
      "\t# Hidden Layers = 2\n",
      "\t# Layer 1 Nodes = 16\n",
      "\t# Layer 2 Nodes = 4\n",
      "\t# of Output Nuerons = 1\n",
      "\t# Epochs = 25\n",
      "\t\t\t***                       Permutation:77 ==> Loss: 0.6385387778282166, Accuracy: 0.6510787010192871 ***\n",
      "\t\t\t*** Best Running Results: Permutation:22 ==> Loss: 0.5499290227890015, Accuracy: 0.7330612540245056 ***\n"
     ]
    },
    {
     "data": {
      "text/plain": [
       "'AFFILIATION'"
      ]
     },
     "metadata": {},
     "output_type": "display_data"
    },
    {
     "name": "stdout",
     "output_type": "stream",
     "text": [
      "Running Permuation #78\n",
      "\tFeature Drop = AFFILIATION\n",
      "\t# Input Features = 110\n",
      "\t Use Model Activation Function = relu\n",
      "\t# Hidden Layers = 2\n",
      "\t# Layer 1 Nodes = 16\n",
      "\t# Layer 2 Nodes = 4\n",
      "\t# of Output Nuerons = 1\n",
      "\t# Epochs = 50\n",
      "\t\t\t***                       Permutation:78 ==> Loss: 0.7001690864562988, Accuracy: 0.6330029368400574 ***\n",
      "\t\t\t*** Best Running Results: Permutation:22 ==> Loss: 0.5499290227890015, Accuracy: 0.7330612540245056 ***\n"
     ]
    },
    {
     "data": {
      "text/plain": [
       "'AFFILIATION'"
      ]
     },
     "metadata": {},
     "output_type": "display_data"
    },
    {
     "name": "stdout",
     "output_type": "stream",
     "text": [
      "Running Permuation #79\n",
      "\tFeature Drop = AFFILIATION\n",
      "\t# Input Features = 110\n",
      "\t Use Model Activation Function = relu\n",
      "\t# Hidden Layers = 2\n",
      "\t# Layer 1 Nodes = 16\n",
      "\t# Layer 2 Nodes = 4\n",
      "\t# of Output Nuerons = 1\n",
      "\t# Epochs = 75\n",
      "\t\t\t***                       Permutation:79 ==> Loss: 0.6684340834617615, Accuracy: 0.6511953473091125 ***\n",
      "\t\t\t*** Best Running Results: Permutation:22 ==> Loss: 0.5499290227890015, Accuracy: 0.7330612540245056 ***\n"
     ]
    },
    {
     "data": {
      "text/plain": [
       "'AFFILIATION'"
      ]
     },
     "metadata": {},
     "output_type": "display_data"
    },
    {
     "name": "stdout",
     "output_type": "stream",
     "text": [
      "Running Permuation #80\n",
      "\tFeature Drop = AFFILIATION\n",
      "\t# Input Features = 110\n",
      "\t Use Model Activation Function = relu\n",
      "\t# Hidden Layers = 2\n",
      "\t# Layer 1 Nodes = 16\n",
      "\t# Layer 2 Nodes = 4\n",
      "\t# of Output Nuerons = 1\n",
      "\t# Epochs = 100\n",
      "\t\t\t***                       Permutation:80 ==> Loss: 8.163082122802734, Accuracy: 0.4707871675491333 ***\n",
      "\t\t\t*** Best Running Results: Permutation:22 ==> Loss: 0.5499290227890015, Accuracy: 0.7330612540245056 ***\n"
     ]
    },
    {
     "data": {
      "text/plain": [
       "'AFFILIATION'"
      ]
     },
     "metadata": {},
     "output_type": "display_data"
    },
    {
     "name": "stdout",
     "output_type": "stream",
     "text": [
      "Running Permuation #81\n",
      "\tFeature Drop = AFFILIATION\n",
      "\t# Input Features = 110\n",
      "\t Use Model Activation Function = sigmoid\n",
      "\t# Hidden Layers = 1\n",
      "\t# Layer 1 Nodes = 8\n",
      "\t# of Output Nuerons = 1\n",
      "\t# Epochs = 25\n",
      "\t\t\t***                       Permutation:81 ==> Loss: 0.6089575886726379, Accuracy: 0.6605247855186462 ***\n",
      "\t\t\t*** Best Running Results: Permutation:22 ==> Loss: 0.5499290227890015, Accuracy: 0.7330612540245056 ***\n"
     ]
    },
    {
     "data": {
      "text/plain": [
       "'AFFILIATION'"
      ]
     },
     "metadata": {},
     "output_type": "display_data"
    },
    {
     "name": "stdout",
     "output_type": "stream",
     "text": [
      "Running Permuation #82\n",
      "\tFeature Drop = AFFILIATION\n",
      "\t# Input Features = 110\n",
      "\t Use Model Activation Function = sigmoid\n",
      "\t# Hidden Layers = 1\n",
      "\t# Layer 1 Nodes = 8\n",
      "\t# of Output Nuerons = 1\n",
      "\t# Epochs = 50\n",
      "\t\t\t***                       Permutation:82 ==> Loss: 0.6070150136947632, Accuracy: 0.6608746647834778 ***\n",
      "\t\t\t*** Best Running Results: Permutation:22 ==> Loss: 0.5499290227890015, Accuracy: 0.7330612540245056 ***\n"
     ]
    },
    {
     "data": {
      "text/plain": [
       "'AFFILIATION'"
      ]
     },
     "metadata": {},
     "output_type": "display_data"
    },
    {
     "name": "stdout",
     "output_type": "stream",
     "text": [
      "Running Permuation #83\n",
      "\tFeature Drop = AFFILIATION\n",
      "\t# Input Features = 110\n",
      "\t Use Model Activation Function = sigmoid\n",
      "\t# Hidden Layers = 1\n",
      "\t# Layer 1 Nodes = 8\n",
      "\t# of Output Nuerons = 1\n",
      "\t# Epochs = 75\n",
      "\t\t\t***                       Permutation:83 ==> Loss: 0.607219934463501, Accuracy: 0.6609912514686584 ***\n",
      "\t\t\t*** Best Running Results: Permutation:22 ==> Loss: 0.5499290227890015, Accuracy: 0.7330612540245056 ***\n"
     ]
    },
    {
     "data": {
      "text/plain": [
       "'AFFILIATION'"
      ]
     },
     "metadata": {},
     "output_type": "display_data"
    },
    {
     "name": "stdout",
     "output_type": "stream",
     "text": [
      "Running Permuation #84\n",
      "\tFeature Drop = AFFILIATION\n",
      "\t# Input Features = 110\n",
      "\t Use Model Activation Function = sigmoid\n",
      "\t# Hidden Layers = 1\n",
      "\t# Layer 1 Nodes = 8\n",
      "\t# of Output Nuerons = 1\n",
      "\t# Epochs = 100\n",
      "\t\t\t***                       Permutation:84 ==> Loss: 0.6062195897102356, Accuracy: 0.6612244844436646 ***\n",
      "\t\t\t*** Best Running Results: Permutation:22 ==> Loss: 0.5499290227890015, Accuracy: 0.7330612540245056 ***\n"
     ]
    },
    {
     "data": {
      "text/plain": [
       "'AFFILIATION'"
      ]
     },
     "metadata": {},
     "output_type": "display_data"
    },
    {
     "name": "stdout",
     "output_type": "stream",
     "text": [
      "Running Permuation #85\n",
      "\tFeature Drop = AFFILIATION\n",
      "\t# Input Features = 110\n",
      "\t Use Model Activation Function = sigmoid\n",
      "\t# Hidden Layers = 1\n",
      "\t# Layer 1 Nodes = 16\n",
      "\t# of Output Nuerons = 1\n",
      "\t# Epochs = 25\n",
      "\t\t\t***                       Permutation:85 ==> Loss: 0.6085914373397827, Accuracy: 0.6594752073287964 ***\n",
      "\t\t\t*** Best Running Results: Permutation:22 ==> Loss: 0.5499290227890015, Accuracy: 0.7330612540245056 ***\n"
     ]
    },
    {
     "data": {
      "text/plain": [
       "'AFFILIATION'"
      ]
     },
     "metadata": {},
     "output_type": "display_data"
    },
    {
     "name": "stdout",
     "output_type": "stream",
     "text": [
      "Running Permuation #86\n",
      "\tFeature Drop = AFFILIATION\n",
      "\t# Input Features = 110\n",
      "\t Use Model Activation Function = sigmoid\n",
      "\t# Hidden Layers = 1\n",
      "\t# Layer 1 Nodes = 16\n",
      "\t# of Output Nuerons = 1\n",
      "\t# Epochs = 50\n",
      "\t\t\t***                       Permutation:86 ==> Loss: 0.6076614856719971, Accuracy: 0.6619241833686829 ***\n",
      "\t\t\t*** Best Running Results: Permutation:22 ==> Loss: 0.5499290227890015, Accuracy: 0.7330612540245056 ***\n"
     ]
    },
    {
     "data": {
      "text/plain": [
       "'AFFILIATION'"
      ]
     },
     "metadata": {},
     "output_type": "display_data"
    },
    {
     "name": "stdout",
     "output_type": "stream",
     "text": [
      "Running Permuation #87\n",
      "\tFeature Drop = AFFILIATION\n",
      "\t# Input Features = 110\n",
      "\t Use Model Activation Function = sigmoid\n",
      "\t# Hidden Layers = 1\n",
      "\t# Layer 1 Nodes = 16\n",
      "\t# of Output Nuerons = 1\n",
      "\t# Epochs = 75\n",
      "\t\t\t***                       Permutation:87 ==> Loss: 0.6065190434455872, Accuracy: 0.6629737615585327 ***\n",
      "\t\t\t*** Best Running Results: Permutation:22 ==> Loss: 0.5499290227890015, Accuracy: 0.7330612540245056 ***\n"
     ]
    },
    {
     "data": {
      "text/plain": [
       "'AFFILIATION'"
      ]
     },
     "metadata": {},
     "output_type": "display_data"
    },
    {
     "name": "stdout",
     "output_type": "stream",
     "text": [
      "Running Permuation #88\n",
      "\tFeature Drop = AFFILIATION\n",
      "\t# Input Features = 110\n",
      "\t Use Model Activation Function = sigmoid\n",
      "\t# Hidden Layers = 1\n",
      "\t# Layer 1 Nodes = 16\n",
      "\t# of Output Nuerons = 1\n",
      "\t# Epochs = 100\n",
      "\t\t\t***                       Permutation:88 ==> Loss: 0.6071668267250061, Accuracy: 0.6599416732788086 ***\n",
      "\t\t\t*** Best Running Results: Permutation:22 ==> Loss: 0.5499290227890015, Accuracy: 0.7330612540245056 ***\n"
     ]
    },
    {
     "data": {
      "text/plain": [
       "'AFFILIATION'"
      ]
     },
     "metadata": {},
     "output_type": "display_data"
    },
    {
     "name": "stdout",
     "output_type": "stream",
     "text": [
      "Running Permuation #89\n",
      "\tFeature Drop = AFFILIATION\n",
      "\t# Input Features = 110\n",
      "\t Use Model Activation Function = sigmoid\n",
      "\t# Hidden Layers = 2\n",
      "\t# Layer 1 Nodes = 8\n",
      "\t# Layer 2 Nodes = 4\n",
      "\t# of Output Nuerons = 1\n",
      "\t# Epochs = 25\n",
      "\t\t\t***                       Permutation:89 ==> Loss: 0.607107937335968, Accuracy: 0.6544606685638428 ***\n",
      "\t\t\t*** Best Running Results: Permutation:22 ==> Loss: 0.5499290227890015, Accuracy: 0.7330612540245056 ***\n"
     ]
    },
    {
     "data": {
      "text/plain": [
       "'AFFILIATION'"
      ]
     },
     "metadata": {},
     "output_type": "display_data"
    },
    {
     "name": "stdout",
     "output_type": "stream",
     "text": [
      "Running Permuation #90\n",
      "\tFeature Drop = AFFILIATION\n",
      "\t# Input Features = 110\n",
      "\t Use Model Activation Function = sigmoid\n",
      "\t# Hidden Layers = 2\n",
      "\t# Layer 1 Nodes = 8\n",
      "\t# Layer 2 Nodes = 4\n",
      "\t# of Output Nuerons = 1\n",
      "\t# Epochs = 50\n",
      "\t\t\t***                       Permutation:90 ==> Loss: 0.6057905554771423, Accuracy: 0.6607580184936523 ***\n",
      "\t\t\t*** Best Running Results: Permutation:22 ==> Loss: 0.5499290227890015, Accuracy: 0.7330612540245056 ***\n"
     ]
    },
    {
     "data": {
      "text/plain": [
       "'AFFILIATION'"
      ]
     },
     "metadata": {},
     "output_type": "display_data"
    },
    {
     "name": "stdout",
     "output_type": "stream",
     "text": [
      "Running Permuation #91\n",
      "\tFeature Drop = AFFILIATION\n",
      "\t# Input Features = 110\n",
      "\t Use Model Activation Function = sigmoid\n",
      "\t# Hidden Layers = 2\n",
      "\t# Layer 1 Nodes = 8\n",
      "\t# Layer 2 Nodes = 4\n",
      "\t# of Output Nuerons = 1\n",
      "\t# Epochs = 75\n",
      "\t\t\t***                       Permutation:91 ==> Loss: 0.6067527532577515, Accuracy: 0.6550437211990356 ***\n",
      "\t\t\t*** Best Running Results: Permutation:22 ==> Loss: 0.5499290227890015, Accuracy: 0.7330612540245056 ***\n"
     ]
    },
    {
     "data": {
      "text/plain": [
       "'AFFILIATION'"
      ]
     },
     "metadata": {},
     "output_type": "display_data"
    },
    {
     "name": "stdout",
     "output_type": "stream",
     "text": [
      "Running Permuation #92\n",
      "\tFeature Drop = AFFILIATION\n",
      "\t# Input Features = 110\n",
      "\t Use Model Activation Function = sigmoid\n",
      "\t# Hidden Layers = 2\n",
      "\t# Layer 1 Nodes = 8\n",
      "\t# Layer 2 Nodes = 4\n",
      "\t# of Output Nuerons = 1\n",
      "\t# Epochs = 100\n",
      "\t\t\t***                       Permutation:92 ==> Loss: 0.6072521209716797, Accuracy: 0.6595918536186218 ***\n",
      "\t\t\t*** Best Running Results: Permutation:22 ==> Loss: 0.5499290227890015, Accuracy: 0.7330612540245056 ***\n"
     ]
    },
    {
     "data": {
      "text/plain": [
       "'AFFILIATION'"
      ]
     },
     "metadata": {},
     "output_type": "display_data"
    },
    {
     "name": "stdout",
     "output_type": "stream",
     "text": [
      "Running Permuation #93\n",
      "\tFeature Drop = AFFILIATION\n",
      "\t# Input Features = 110\n",
      "\t Use Model Activation Function = sigmoid\n",
      "\t# Hidden Layers = 2\n",
      "\t# Layer 1 Nodes = 16\n",
      "\t# Layer 2 Nodes = 4\n",
      "\t# of Output Nuerons = 1\n",
      "\t# Epochs = 25\n",
      "\t\t\t***                       Permutation:93 ==> Loss: 0.6066856980323792, Accuracy: 0.6619241833686829 ***\n",
      "\t\t\t*** Best Running Results: Permutation:22 ==> Loss: 0.5499290227890015, Accuracy: 0.7330612540245056 ***\n"
     ]
    },
    {
     "data": {
      "text/plain": [
       "'AFFILIATION'"
      ]
     },
     "metadata": {},
     "output_type": "display_data"
    },
    {
     "name": "stdout",
     "output_type": "stream",
     "text": [
      "Running Permuation #94\n",
      "\tFeature Drop = AFFILIATION\n",
      "\t# Input Features = 110\n",
      "\t Use Model Activation Function = sigmoid\n",
      "\t# Hidden Layers = 2\n",
      "\t# Layer 1 Nodes = 16\n",
      "\t# Layer 2 Nodes = 4\n",
      "\t# of Output Nuerons = 1\n",
      "\t# Epochs = 50\n",
      "\t\t\t***                       Permutation:94 ==> Loss: 0.6060351133346558, Accuracy: 0.6598250865936279 ***\n",
      "\t\t\t*** Best Running Results: Permutation:22 ==> Loss: 0.5499290227890015, Accuracy: 0.7330612540245056 ***\n"
     ]
    },
    {
     "data": {
      "text/plain": [
       "'AFFILIATION'"
      ]
     },
     "metadata": {},
     "output_type": "display_data"
    },
    {
     "name": "stdout",
     "output_type": "stream",
     "text": [
      "Running Permuation #95\n",
      "\tFeature Drop = AFFILIATION\n",
      "\t# Input Features = 110\n",
      "\t Use Model Activation Function = sigmoid\n",
      "\t# Hidden Layers = 2\n",
      "\t# Layer 1 Nodes = 16\n",
      "\t# Layer 2 Nodes = 4\n",
      "\t# of Output Nuerons = 1\n",
      "\t# Epochs = 75\n",
      "\t\t\t***                       Permutation:95 ==> Loss: 0.6058655977249146, Accuracy: 0.6608746647834778 ***\n",
      "\t\t\t*** Best Running Results: Permutation:22 ==> Loss: 0.5499290227890015, Accuracy: 0.7330612540245056 ***\n"
     ]
    },
    {
     "data": {
      "text/plain": [
       "'AFFILIATION'"
      ]
     },
     "metadata": {},
     "output_type": "display_data"
    },
    {
     "name": "stdout",
     "output_type": "stream",
     "text": [
      "Running Permuation #96\n",
      "\tFeature Drop = AFFILIATION\n",
      "\t# Input Features = 110\n",
      "\t Use Model Activation Function = sigmoid\n",
      "\t# Hidden Layers = 2\n",
      "\t# Layer 1 Nodes = 16\n",
      "\t# Layer 2 Nodes = 4\n",
      "\t# of Output Nuerons = 1\n",
      "\t# Epochs = 100\n",
      "\t\t\t***                       Permutation:96 ==> Loss: 0.6070902347564697, Accuracy: 0.658542275428772 ***\n",
      "\t\t\t*** Best Running Results: Permutation:22 ==> Loss: 0.5499290227890015, Accuracy: 0.7330612540245056 ***\n"
     ]
    },
    {
     "data": {
      "text/plain": [
       "'CLASSIFICATION'"
      ]
     },
     "metadata": {},
     "output_type": "display_data"
    },
    {
     "name": "stdout",
     "output_type": "stream",
     "text": [
      "Running Permuation #97\n",
      "\tFeature Drop = CLASSIFICATION\n",
      "\t# Input Features = 45\n",
      "\t Use Model Activation Function = relu\n",
      "\t# Hidden Layers = 1\n",
      "\t# Layer 1 Nodes = 8\n",
      "\t# of Output Nuerons = 1\n",
      "\t# Epochs = 25\n",
      "\t\t\t***                       Permutation:97 ==> Loss: 8.163082122802734, Accuracy: 0.4707871675491333 ***\n",
      "\t\t\t*** Best Running Results: Permutation:22 ==> Loss: 0.5499290227890015, Accuracy: 0.7330612540245056 ***\n"
     ]
    },
    {
     "data": {
      "text/plain": [
       "'CLASSIFICATION'"
      ]
     },
     "metadata": {},
     "output_type": "display_data"
    },
    {
     "name": "stdout",
     "output_type": "stream",
     "text": [
      "Running Permuation #98\n",
      "\tFeature Drop = CLASSIFICATION\n",
      "\t# Input Features = 45\n",
      "\t Use Model Activation Function = relu\n",
      "\t# Hidden Layers = 1\n",
      "\t# Layer 1 Nodes = 8\n",
      "\t# of Output Nuerons = 1\n",
      "\t# Epochs = 50\n",
      "\t\t\t***                       Permutation:98 ==> Loss: 0.6785881519317627, Accuracy: 0.7227988243103027 ***\n",
      "\t\t\t*** Best Running Results: Permutation:22 ==> Loss: 0.5499290227890015, Accuracy: 0.7330612540245056 ***\n"
     ]
    },
    {
     "data": {
      "text/plain": [
       "'CLASSIFICATION'"
      ]
     },
     "metadata": {},
     "output_type": "display_data"
    },
    {
     "name": "stdout",
     "output_type": "stream",
     "text": [
      "Running Permuation #99\n",
      "\tFeature Drop = CLASSIFICATION\n",
      "\t# Input Features = 45\n",
      "\t Use Model Activation Function = relu\n",
      "\t# Hidden Layers = 1\n",
      "\t# Layer 1 Nodes = 8\n",
      "\t# of Output Nuerons = 1\n",
      "\t# Epochs = 75\n",
      "\t\t\t***                       Permutation:99 ==> Loss: 0.8346143960952759, Accuracy: 0.7191836833953857 ***\n",
      "\t\t\t*** Best Running Results: Permutation:22 ==> Loss: 0.5499290227890015, Accuracy: 0.7330612540245056 ***\n"
     ]
    },
    {
     "data": {
      "text/plain": [
       "'CLASSIFICATION'"
      ]
     },
     "metadata": {},
     "output_type": "display_data"
    },
    {
     "name": "stdout",
     "output_type": "stream",
     "text": [
      "Running Permuation #100\n",
      "\tFeature Drop = CLASSIFICATION\n",
      "\t# Input Features = 45\n",
      "\t Use Model Activation Function = relu\n",
      "\t# Hidden Layers = 1\n",
      "\t# Layer 1 Nodes = 8\n",
      "\t# of Output Nuerons = 1\n",
      "\t# Epochs = 100\n",
      "\t\t\t***                       Permutation:100 ==> Loss: 0.8078091740608215, Accuracy: 0.7208163142204285 ***\n",
      "\t\t\t*** Best Running Results: Permutation:22 ==> Loss: 0.5499290227890015, Accuracy: 0.7330612540245056 ***\n"
     ]
    },
    {
     "data": {
      "text/plain": [
       "'CLASSIFICATION'"
      ]
     },
     "metadata": {},
     "output_type": "display_data"
    },
    {
     "name": "stdout",
     "output_type": "stream",
     "text": [
      "Running Permuation #101\n",
      "\tFeature Drop = CLASSIFICATION\n",
      "\t# Input Features = 45\n",
      "\t Use Model Activation Function = relu\n",
      "\t# Hidden Layers = 1\n",
      "\t# Layer 1 Nodes = 16\n",
      "\t# of Output Nuerons = 1\n",
      "\t# Epochs = 25\n",
      "\t\t\t***                       Permutation:101 ==> Loss: 0.79537433385849, Accuracy: 0.7238484025001526 ***\n",
      "\t\t\t*** Best Running Results: Permutation:22 ==> Loss: 0.5499290227890015, Accuracy: 0.7330612540245056 ***\n"
     ]
    },
    {
     "data": {
      "text/plain": [
       "'CLASSIFICATION'"
      ]
     },
     "metadata": {},
     "output_type": "display_data"
    },
    {
     "name": "stdout",
     "output_type": "stream",
     "text": [
      "Running Permuation #102\n",
      "\tFeature Drop = CLASSIFICATION\n",
      "\t# Input Features = 45\n",
      "\t Use Model Activation Function = relu\n",
      "\t# Hidden Layers = 1\n",
      "\t# Layer 1 Nodes = 16\n",
      "\t# of Output Nuerons = 1\n",
      "\t# Epochs = 50\n",
      "\t\t\t***                       Permutation:102 ==> Loss: 0.7817521095275879, Accuracy: 0.7175509929656982 ***\n",
      "\t\t\t*** Best Running Results: Permutation:22 ==> Loss: 0.5499290227890015, Accuracy: 0.7330612540245056 ***\n"
     ]
    },
    {
     "data": {
      "text/plain": [
       "'CLASSIFICATION'"
      ]
     },
     "metadata": {},
     "output_type": "display_data"
    },
    {
     "name": "stdout",
     "output_type": "stream",
     "text": [
      "Running Permuation #103\n",
      "\tFeature Drop = CLASSIFICATION\n",
      "\t# Input Features = 45\n",
      "\t Use Model Activation Function = relu\n",
      "\t# Hidden Layers = 1\n",
      "\t# Layer 1 Nodes = 16\n",
      "\t# of Output Nuerons = 1\n",
      "\t# Epochs = 75\n",
      "\t\t\t***                       Permutation:103 ==> Loss: 0.8417925238609314, Accuracy: 0.716035008430481 ***\n",
      "\t\t\t*** Best Running Results: Permutation:22 ==> Loss: 0.5499290227890015, Accuracy: 0.7330612540245056 ***\n"
     ]
    },
    {
     "data": {
      "text/plain": [
       "'CLASSIFICATION'"
      ]
     },
     "metadata": {},
     "output_type": "display_data"
    },
    {
     "name": "stdout",
     "output_type": "stream",
     "text": [
      "Running Permuation #104\n",
      "\tFeature Drop = CLASSIFICATION\n",
      "\t# Input Features = 45\n",
      "\t Use Model Activation Function = relu\n",
      "\t# Hidden Layers = 1\n",
      "\t# Layer 1 Nodes = 16\n",
      "\t# of Output Nuerons = 1\n",
      "\t# Epochs = 100\n",
      "\t\t\t***                       Permutation:104 ==> Loss: 0.5919231176376343, Accuracy: 0.7230320572853088 ***\n",
      "\t\t\t*** Best Running Results: Permutation:22 ==> Loss: 0.5499290227890015, Accuracy: 0.7330612540245056 ***\n"
     ]
    },
    {
     "data": {
      "text/plain": [
       "'CLASSIFICATION'"
      ]
     },
     "metadata": {},
     "output_type": "display_data"
    },
    {
     "name": "stdout",
     "output_type": "stream",
     "text": [
      "Running Permuation #105\n",
      "\tFeature Drop = CLASSIFICATION\n",
      "\t# Input Features = 45\n",
      "\t Use Model Activation Function = relu\n",
      "\t# Hidden Layers = 2\n",
      "\t# Layer 1 Nodes = 8\n",
      "\t# Layer 2 Nodes = 4\n",
      "\t# of Output Nuerons = 1\n",
      "\t# Epochs = 25\n",
      "\t\t\t***                       Permutation:105 ==> Loss: 0.6590256094932556, Accuracy: 0.7210495471954346 ***\n",
      "\t\t\t*** Best Running Results: Permutation:22 ==> Loss: 0.5499290227890015, Accuracy: 0.7330612540245056 ***\n"
     ]
    },
    {
     "data": {
      "text/plain": [
       "'CLASSIFICATION'"
      ]
     },
     "metadata": {},
     "output_type": "display_data"
    },
    {
     "name": "stdout",
     "output_type": "stream",
     "text": [
      "Running Permuation #106\n",
      "\tFeature Drop = CLASSIFICATION\n",
      "\t# Input Features = 45\n",
      "\t Use Model Activation Function = relu\n",
      "\t# Hidden Layers = 2\n",
      "\t# Layer 1 Nodes = 8\n",
      "\t# Layer 2 Nodes = 4\n",
      "\t# of Output Nuerons = 1\n",
      "\t# Epochs = 50\n",
      "\t\t\t***                       Permutation:106 ==> Loss: 0.6256121397018433, Accuracy: 0.7231487035751343 ***\n",
      "\t\t\t*** Best Running Results: Permutation:22 ==> Loss: 0.5499290227890015, Accuracy: 0.7330612540245056 ***\n"
     ]
    },
    {
     "data": {
      "text/plain": [
       "'CLASSIFICATION'"
      ]
     },
     "metadata": {},
     "output_type": "display_data"
    },
    {
     "name": "stdout",
     "output_type": "stream",
     "text": [
      "Running Permuation #107\n",
      "\tFeature Drop = CLASSIFICATION\n",
      "\t# Input Features = 45\n",
      "\t Use Model Activation Function = relu\n",
      "\t# Hidden Layers = 2\n",
      "\t# Layer 1 Nodes = 8\n",
      "\t# Layer 2 Nodes = 4\n",
      "\t# of Output Nuerons = 1\n",
      "\t# Epochs = 75\n",
      "\t\t\t***                       Permutation:107 ==> Loss: 0.6207056641578674, Accuracy: 0.7246647477149963 ***\n",
      "\t\t\t*** Best Running Results: Permutation:22 ==> Loss: 0.5499290227890015, Accuracy: 0.7330612540245056 ***\n"
     ]
    },
    {
     "data": {
      "text/plain": [
       "'CLASSIFICATION'"
      ]
     },
     "metadata": {},
     "output_type": "display_data"
    },
    {
     "name": "stdout",
     "output_type": "stream",
     "text": [
      "Running Permuation #108\n",
      "\tFeature Drop = CLASSIFICATION\n",
      "\t# Input Features = 45\n",
      "\t Use Model Activation Function = relu\n",
      "\t# Hidden Layers = 2\n",
      "\t# Layer 1 Nodes = 8\n",
      "\t# Layer 2 Nodes = 4\n",
      "\t# of Output Nuerons = 1\n",
      "\t# Epochs = 100\n",
      "\t\t\t***                       Permutation:108 ==> Loss: 0.6957518458366394, Accuracy: 0.7215160131454468 ***\n",
      "\t\t\t*** Best Running Results: Permutation:22 ==> Loss: 0.5499290227890015, Accuracy: 0.7330612540245056 ***\n"
     ]
    },
    {
     "data": {
      "text/plain": [
       "'CLASSIFICATION'"
      ]
     },
     "metadata": {},
     "output_type": "display_data"
    },
    {
     "name": "stdout",
     "output_type": "stream",
     "text": [
      "Running Permuation #109\n",
      "\tFeature Drop = CLASSIFICATION\n",
      "\t# Input Features = 45\n",
      "\t Use Model Activation Function = relu\n",
      "\t# Hidden Layers = 2\n",
      "\t# Layer 1 Nodes = 16\n",
      "\t# Layer 2 Nodes = 4\n",
      "\t# of Output Nuerons = 1\n",
      "\t# Epochs = 25\n",
      "\t\t\t***                       Permutation:109 ==> Loss: 8.163082122802734, Accuracy: 0.4707871675491333 ***\n",
      "\t\t\t*** Best Running Results: Permutation:22 ==> Loss: 0.5499290227890015, Accuracy: 0.7330612540245056 ***\n"
     ]
    },
    {
     "data": {
      "text/plain": [
       "'CLASSIFICATION'"
      ]
     },
     "metadata": {},
     "output_type": "display_data"
    },
    {
     "name": "stdout",
     "output_type": "stream",
     "text": [
      "Running Permuation #110\n",
      "\tFeature Drop = CLASSIFICATION\n",
      "\t# Input Features = 45\n",
      "\t Use Model Activation Function = relu\n",
      "\t# Hidden Layers = 2\n",
      "\t# Layer 1 Nodes = 16\n",
      "\t# Layer 2 Nodes = 4\n",
      "\t# of Output Nuerons = 1\n",
      "\t# Epochs = 50\n",
      "\t\t\t***                       Permutation:110 ==> Loss: 0.606520414352417, Accuracy: 0.7257142663002014 ***\n",
      "\t\t\t*** Best Running Results: Permutation:22 ==> Loss: 0.5499290227890015, Accuracy: 0.7330612540245056 ***\n"
     ]
    },
    {
     "data": {
      "text/plain": [
       "'CLASSIFICATION'"
      ]
     },
     "metadata": {},
     "output_type": "display_data"
    },
    {
     "name": "stdout",
     "output_type": "stream",
     "text": [
      "Running Permuation #111\n",
      "\tFeature Drop = CLASSIFICATION\n",
      "\t# Input Features = 45\n",
      "\t Use Model Activation Function = relu\n",
      "\t# Hidden Layers = 2\n",
      "\t# Layer 1 Nodes = 16\n",
      "\t# Layer 2 Nodes = 4\n",
      "\t# of Output Nuerons = 1\n",
      "\t# Epochs = 75\n",
      "\t\t\t***                       Permutation:111 ==> Loss: 0.5986526012420654, Accuracy: 0.7241982221603394 ***\n",
      "\t\t\t*** Best Running Results: Permutation:22 ==> Loss: 0.5499290227890015, Accuracy: 0.7330612540245056 ***\n"
     ]
    },
    {
     "data": {
      "text/plain": [
       "'CLASSIFICATION'"
      ]
     },
     "metadata": {},
     "output_type": "display_data"
    },
    {
     "name": "stdout",
     "output_type": "stream",
     "text": [
      "Running Permuation #112\n",
      "\tFeature Drop = CLASSIFICATION\n",
      "\t# Input Features = 45\n",
      "\t Use Model Activation Function = relu\n",
      "\t# Hidden Layers = 2\n",
      "\t# Layer 1 Nodes = 16\n",
      "\t# Layer 2 Nodes = 4\n",
      "\t# of Output Nuerons = 1\n",
      "\t# Epochs = 100\n",
      "\t\t\t***                       Permutation:112 ==> Loss: 0.5760693550109863, Accuracy: 0.7245481014251709 ***\n",
      "\t\t\t*** Best Running Results: Permutation:22 ==> Loss: 0.5499290227890015, Accuracy: 0.7330612540245056 ***\n"
     ]
    },
    {
     "data": {
      "text/plain": [
       "'CLASSIFICATION'"
      ]
     },
     "metadata": {},
     "output_type": "display_data"
    },
    {
     "name": "stdout",
     "output_type": "stream",
     "text": [
      "Running Permuation #113\n",
      "\tFeature Drop = CLASSIFICATION\n",
      "\t# Input Features = 45\n",
      "\t Use Model Activation Function = sigmoid\n",
      "\t# Hidden Layers = 1\n",
      "\t# Layer 1 Nodes = 8\n",
      "\t# of Output Nuerons = 1\n",
      "\t# Epochs = 25\n",
      "\t\t\t***                       Permutation:113 ==> Loss: 0.5708755850791931, Accuracy: 0.7258309125900269 ***\n",
      "\t\t\t*** Best Running Results: Permutation:22 ==> Loss: 0.5499290227890015, Accuracy: 0.7330612540245056 ***\n"
     ]
    },
    {
     "data": {
      "text/plain": [
       "'CLASSIFICATION'"
      ]
     },
     "metadata": {},
     "output_type": "display_data"
    },
    {
     "name": "stdout",
     "output_type": "stream",
     "text": [
      "Running Permuation #114\n",
      "\tFeature Drop = CLASSIFICATION\n",
      "\t# Input Features = 45\n",
      "\t Use Model Activation Function = sigmoid\n",
      "\t# Hidden Layers = 1\n",
      "\t# Layer 1 Nodes = 8\n",
      "\t# of Output Nuerons = 1\n",
      "\t# Epochs = 50\n",
      "\t\t\t***                       Permutation:114 ==> Loss: 0.5705581307411194, Accuracy: 0.7241982221603394 ***\n",
      "\t\t\t*** Best Running Results: Permutation:22 ==> Loss: 0.5499290227890015, Accuracy: 0.7330612540245056 ***\n"
     ]
    },
    {
     "data": {
      "text/plain": [
       "'CLASSIFICATION'"
      ]
     },
     "metadata": {},
     "output_type": "display_data"
    },
    {
     "name": "stdout",
     "output_type": "stream",
     "text": [
      "Running Permuation #115\n",
      "\tFeature Drop = CLASSIFICATION\n",
      "\t# Input Features = 45\n",
      "\t Use Model Activation Function = sigmoid\n",
      "\t# Hidden Layers = 1\n",
      "\t# Layer 1 Nodes = 8\n",
      "\t# of Output Nuerons = 1\n",
      "\t# Epochs = 75\n",
      "\t\t\t***                       Permutation:115 ==> Loss: 0.5710684657096863, Accuracy: 0.7241982221603394 ***\n",
      "\t\t\t*** Best Running Results: Permutation:22 ==> Loss: 0.5499290227890015, Accuracy: 0.7330612540245056 ***\n"
     ]
    },
    {
     "data": {
      "text/plain": [
       "'CLASSIFICATION'"
      ]
     },
     "metadata": {},
     "output_type": "display_data"
    },
    {
     "name": "stdout",
     "output_type": "stream",
     "text": [
      "Running Permuation #116\n",
      "\tFeature Drop = CLASSIFICATION\n",
      "\t# Input Features = 45\n",
      "\t Use Model Activation Function = sigmoid\n",
      "\t# Hidden Layers = 1\n",
      "\t# Layer 1 Nodes = 8\n",
      "\t# of Output Nuerons = 1\n",
      "\t# Epochs = 100\n",
      "\t\t\t***                       Permutation:116 ==> Loss: 0.5698025822639465, Accuracy: 0.7240816354751587 ***\n",
      "\t\t\t*** Best Running Results: Permutation:22 ==> Loss: 0.5499290227890015, Accuracy: 0.7330612540245056 ***\n"
     ]
    },
    {
     "data": {
      "text/plain": [
       "'CLASSIFICATION'"
      ]
     },
     "metadata": {},
     "output_type": "display_data"
    },
    {
     "name": "stdout",
     "output_type": "stream",
     "text": [
      "Running Permuation #117\n",
      "\tFeature Drop = CLASSIFICATION\n",
      "\t# Input Features = 45\n",
      "\t Use Model Activation Function = sigmoid\n",
      "\t# Hidden Layers = 1\n",
      "\t# Layer 1 Nodes = 16\n",
      "\t# of Output Nuerons = 1\n",
      "\t# Epochs = 25\n",
      "\t\t\t***                       Permutation:117 ==> Loss: 0.5706160068511963, Accuracy: 0.7264139652252197 ***\n",
      "\t\t\t*** Best Running Results: Permutation:22 ==> Loss: 0.5499290227890015, Accuracy: 0.7330612540245056 ***\n"
     ]
    },
    {
     "data": {
      "text/plain": [
       "'CLASSIFICATION'"
      ]
     },
     "metadata": {},
     "output_type": "display_data"
    },
    {
     "name": "stdout",
     "output_type": "stream",
     "text": [
      "Running Permuation #118\n",
      "\tFeature Drop = CLASSIFICATION\n",
      "\t# Input Features = 45\n",
      "\t Use Model Activation Function = sigmoid\n",
      "\t# Hidden Layers = 1\n",
      "\t# Layer 1 Nodes = 16\n",
      "\t# of Output Nuerons = 1\n",
      "\t# Epochs = 50\n",
      "\t\t\t***                       Permutation:118 ==> Loss: 0.569774329662323, Accuracy: 0.7237317562103271 ***\n",
      "\t\t\t*** Best Running Results: Permutation:22 ==> Loss: 0.5499290227890015, Accuracy: 0.7330612540245056 ***\n"
     ]
    },
    {
     "data": {
      "text/plain": [
       "'CLASSIFICATION'"
      ]
     },
     "metadata": {},
     "output_type": "display_data"
    },
    {
     "name": "stdout",
     "output_type": "stream",
     "text": [
      "Running Permuation #119\n",
      "\tFeature Drop = CLASSIFICATION\n",
      "\t# Input Features = 45\n",
      "\t Use Model Activation Function = sigmoid\n",
      "\t# Hidden Layers = 1\n",
      "\t# Layer 1 Nodes = 16\n",
      "\t# of Output Nuerons = 1\n",
      "\t# Epochs = 75\n",
      "\t\t\t***                       Permutation:119 ==> Loss: 0.5703127980232239, Accuracy: 0.7236151695251465 ***\n",
      "\t\t\t*** Best Running Results: Permutation:22 ==> Loss: 0.5499290227890015, Accuracy: 0.7330612540245056 ***\n"
     ]
    },
    {
     "data": {
      "text/plain": [
       "'CLASSIFICATION'"
      ]
     },
     "metadata": {},
     "output_type": "display_data"
    },
    {
     "name": "stdout",
     "output_type": "stream",
     "text": [
      "Running Permuation #120\n",
      "\tFeature Drop = CLASSIFICATION\n",
      "\t# Input Features = 45\n",
      "\t Use Model Activation Function = sigmoid\n",
      "\t# Hidden Layers = 1\n",
      "\t# Layer 1 Nodes = 16\n",
      "\t# of Output Nuerons = 1\n",
      "\t# Epochs = 100\n",
      "\t\t\t***                       Permutation:120 ==> Loss: 0.5702718496322632, Accuracy: 0.7237317562103271 ***\n",
      "\t\t\t*** Best Running Results: Permutation:22 ==> Loss: 0.5499290227890015, Accuracy: 0.7330612540245056 ***\n"
     ]
    },
    {
     "data": {
      "text/plain": [
       "'CLASSIFICATION'"
      ]
     },
     "metadata": {},
     "output_type": "display_data"
    },
    {
     "name": "stdout",
     "output_type": "stream",
     "text": [
      "Running Permuation #121\n",
      "\tFeature Drop = CLASSIFICATION\n",
      "\t# Input Features = 45\n",
      "\t Use Model Activation Function = sigmoid\n",
      "\t# Hidden Layers = 2\n",
      "\t# Layer 1 Nodes = 8\n",
      "\t# Layer 2 Nodes = 4\n",
      "\t# of Output Nuerons = 1\n",
      "\t# Epochs = 25\n",
      "\t\t\t***                       Permutation:121 ==> Loss: 0.5722176432609558, Accuracy: 0.7245481014251709 ***\n",
      "\t\t\t*** Best Running Results: Permutation:22 ==> Loss: 0.5499290227890015, Accuracy: 0.7330612540245056 ***\n"
     ]
    },
    {
     "data": {
      "text/plain": [
       "'CLASSIFICATION'"
      ]
     },
     "metadata": {},
     "output_type": "display_data"
    },
    {
     "name": "stdout",
     "output_type": "stream",
     "text": [
      "Running Permuation #122\n",
      "\tFeature Drop = CLASSIFICATION\n",
      "\t# Input Features = 45\n",
      "\t Use Model Activation Function = sigmoid\n",
      "\t# Hidden Layers = 2\n",
      "\t# Layer 1 Nodes = 8\n",
      "\t# Layer 2 Nodes = 4\n",
      "\t# of Output Nuerons = 1\n",
      "\t# Epochs = 50\n",
      "\t\t\t***                       Permutation:122 ==> Loss: 0.5706460475921631, Accuracy: 0.7248979806900024 ***\n",
      "\t\t\t*** Best Running Results: Permutation:22 ==> Loss: 0.5499290227890015, Accuracy: 0.7330612540245056 ***\n"
     ]
    },
    {
     "data": {
      "text/plain": [
       "'CLASSIFICATION'"
      ]
     },
     "metadata": {},
     "output_type": "display_data"
    },
    {
     "name": "stdout",
     "output_type": "stream",
     "text": [
      "Running Permuation #123\n",
      "\tFeature Drop = CLASSIFICATION\n",
      "\t# Input Features = 45\n",
      "\t Use Model Activation Function = sigmoid\n",
      "\t# Hidden Layers = 2\n",
      "\t# Layer 1 Nodes = 8\n",
      "\t# Layer 2 Nodes = 4\n",
      "\t# of Output Nuerons = 1\n",
      "\t# Epochs = 75\n",
      "\t\t\t***                       Permutation:123 ==> Loss: 0.5711658596992493, Accuracy: 0.7239649891853333 ***\n",
      "\t\t\t*** Best Running Results: Permutation:22 ==> Loss: 0.5499290227890015, Accuracy: 0.7330612540245056 ***\n"
     ]
    },
    {
     "data": {
      "text/plain": [
       "'CLASSIFICATION'"
      ]
     },
     "metadata": {},
     "output_type": "display_data"
    },
    {
     "name": "stdout",
     "output_type": "stream",
     "text": [
      "Running Permuation #124\n",
      "\tFeature Drop = CLASSIFICATION\n",
      "\t# Input Features = 45\n",
      "\t Use Model Activation Function = sigmoid\n",
      "\t# Hidden Layers = 2\n",
      "\t# Layer 1 Nodes = 8\n",
      "\t# Layer 2 Nodes = 4\n",
      "\t# of Output Nuerons = 1\n",
      "\t# Epochs = 100\n",
      "\t\t\t***                       Permutation:124 ==> Loss: 0.5702541470527649, Accuracy: 0.7241982221603394 ***\n",
      "\t\t\t*** Best Running Results: Permutation:22 ==> Loss: 0.5499290227890015, Accuracy: 0.7330612540245056 ***\n"
     ]
    },
    {
     "data": {
      "text/plain": [
       "'CLASSIFICATION'"
      ]
     },
     "metadata": {},
     "output_type": "display_data"
    },
    {
     "name": "stdout",
     "output_type": "stream",
     "text": [
      "Running Permuation #125\n",
      "\tFeature Drop = CLASSIFICATION\n",
      "\t# Input Features = 45\n",
      "\t Use Model Activation Function = sigmoid\n",
      "\t# Hidden Layers = 2\n",
      "\t# Layer 1 Nodes = 16\n",
      "\t# Layer 2 Nodes = 4\n",
      "\t# of Output Nuerons = 1\n",
      "\t# Epochs = 25\n",
      "\t\t\t***                       Permutation:125 ==> Loss: 0.57125324010849, Accuracy: 0.7252478003501892 ***\n",
      "\t\t\t*** Best Running Results: Permutation:22 ==> Loss: 0.5499290227890015, Accuracy: 0.7330612540245056 ***\n"
     ]
    },
    {
     "data": {
      "text/plain": [
       "'CLASSIFICATION'"
      ]
     },
     "metadata": {},
     "output_type": "display_data"
    },
    {
     "name": "stdout",
     "output_type": "stream",
     "text": [
      "Running Permuation #126\n",
      "\tFeature Drop = CLASSIFICATION\n",
      "\t# Input Features = 45\n",
      "\t Use Model Activation Function = sigmoid\n",
      "\t# Hidden Layers = 2\n",
      "\t# Layer 1 Nodes = 16\n",
      "\t# Layer 2 Nodes = 4\n",
      "\t# of Output Nuerons = 1\n",
      "\t# Epochs = 50\n",
      "\t\t\t***                       Permutation:126 ==> Loss: 0.5715111494064331, Accuracy: 0.7244315147399902 ***\n",
      "\t\t\t*** Best Running Results: Permutation:22 ==> Loss: 0.5499290227890015, Accuracy: 0.7330612540245056 ***\n"
     ]
    },
    {
     "data": {
      "text/plain": [
       "'CLASSIFICATION'"
      ]
     },
     "metadata": {},
     "output_type": "display_data"
    },
    {
     "name": "stdout",
     "output_type": "stream",
     "text": [
      "Running Permuation #127\n",
      "\tFeature Drop = CLASSIFICATION\n",
      "\t# Input Features = 45\n",
      "\t Use Model Activation Function = sigmoid\n",
      "\t# Hidden Layers = 2\n",
      "\t# Layer 1 Nodes = 16\n",
      "\t# Layer 2 Nodes = 4\n",
      "\t# of Output Nuerons = 1\n",
      "\t# Epochs = 75\n",
      "\t\t\t***                       Permutation:127 ==> Loss: 0.5701048374176025, Accuracy: 0.7232652902603149 ***\n",
      "\t\t\t*** Best Running Results: Permutation:22 ==> Loss: 0.5499290227890015, Accuracy: 0.7330612540245056 ***\n"
     ]
    },
    {
     "data": {
      "text/plain": [
       "'CLASSIFICATION'"
      ]
     },
     "metadata": {},
     "output_type": "display_data"
    },
    {
     "name": "stdout",
     "output_type": "stream",
     "text": [
      "Running Permuation #128\n",
      "\tFeature Drop = CLASSIFICATION\n",
      "\t# Input Features = 45\n",
      "\t Use Model Activation Function = sigmoid\n",
      "\t# Hidden Layers = 2\n",
      "\t# Layer 1 Nodes = 16\n",
      "\t# Layer 2 Nodes = 4\n",
      "\t# of Output Nuerons = 1\n",
      "\t# Epochs = 100\n",
      "\t\t\t***                       Permutation:128 ==> Loss: 0.5699213743209839, Accuracy: 0.7245481014251709 ***\n",
      "\t\t\t*** Best Running Results: Permutation:22 ==> Loss: 0.5499290227890015, Accuracy: 0.7330612540245056 ***\n"
     ]
    },
    {
     "data": {
      "text/plain": [
       "'USE_CASE'"
      ]
     },
     "metadata": {},
     "output_type": "display_data"
    },
    {
     "name": "stdout",
     "output_type": "stream",
     "text": [
      "Running Permuation #129\n",
      "\tFeature Drop = USE_CASE\n",
      "\t# Input Features = 111\n",
      "\t Use Model Activation Function = relu\n",
      "\t# Hidden Layers = 1\n",
      "\t# Layer 1 Nodes = 8\n",
      "\t# of Output Nuerons = 1\n",
      "\t# Epochs = 25\n",
      "\t\t\t***                       Permutation:129 ==> Loss: 0.8325850367546082, Accuracy: 0.7243148684501648 ***\n",
      "\t\t\t*** Best Running Results: Permutation:22 ==> Loss: 0.5499290227890015, Accuracy: 0.7330612540245056 ***\n"
     ]
    },
    {
     "data": {
      "text/plain": [
       "'USE_CASE'"
      ]
     },
     "metadata": {},
     "output_type": "display_data"
    },
    {
     "name": "stdout",
     "output_type": "stream",
     "text": [
      "Running Permuation #130\n",
      "\tFeature Drop = USE_CASE\n",
      "\t# Input Features = 111\n",
      "\t Use Model Activation Function = relu\n",
      "\t# Hidden Layers = 1\n",
      "\t# Layer 1 Nodes = 8\n",
      "\t# of Output Nuerons = 1\n",
      "\t# Epochs = 50\n",
      "\t\t\t***                       Permutation:130 ==> Loss: 0.9851092100143433, Accuracy: 0.709854245185852 ***\n",
      "\t\t\t*** Best Running Results: Permutation:22 ==> Loss: 0.5499290227890015, Accuracy: 0.7330612540245056 ***\n"
     ]
    },
    {
     "data": {
      "text/plain": [
       "'USE_CASE'"
      ]
     },
     "metadata": {},
     "output_type": "display_data"
    },
    {
     "name": "stdout",
     "output_type": "stream",
     "text": [
      "Running Permuation #131\n",
      "\tFeature Drop = USE_CASE\n",
      "\t# Input Features = 111\n",
      "\t Use Model Activation Function = relu\n",
      "\t# Hidden Layers = 1\n",
      "\t# Layer 1 Nodes = 8\n",
      "\t# of Output Nuerons = 1\n",
      "\t# Epochs = 75\n",
      "\t\t\t***                       Permutation:131 ==> Loss: 0.5963842272758484, Accuracy: 0.7286297082901001 ***\n",
      "\t\t\t*** Best Running Results: Permutation:22 ==> Loss: 0.5499290227890015, Accuracy: 0.7330612540245056 ***\n"
     ]
    },
    {
     "data": {
      "text/plain": [
       "'USE_CASE'"
      ]
     },
     "metadata": {},
     "output_type": "display_data"
    },
    {
     "name": "stdout",
     "output_type": "stream",
     "text": [
      "Running Permuation #132\n",
      "\tFeature Drop = USE_CASE\n",
      "\t# Input Features = 111\n",
      "\t Use Model Activation Function = relu\n",
      "\t# Hidden Layers = 1\n",
      "\t# Layer 1 Nodes = 8\n",
      "\t# of Output Nuerons = 1\n",
      "\t# Epochs = 100\n",
      "\t\t\t***                       Permutation:132 ==> Loss: 0.7489320635795593, Accuracy: 0.7176676392555237 ***\n",
      "\t\t\t*** Best Running Results: Permutation:22 ==> Loss: 0.5499290227890015, Accuracy: 0.7330612540245056 ***\n"
     ]
    },
    {
     "data": {
      "text/plain": [
       "'USE_CASE'"
      ]
     },
     "metadata": {},
     "output_type": "display_data"
    },
    {
     "name": "stdout",
     "output_type": "stream",
     "text": [
      "Running Permuation #133\n",
      "\tFeature Drop = USE_CASE\n",
      "\t# Input Features = 111\n",
      "\t Use Model Activation Function = relu\n",
      "\t# Hidden Layers = 1\n",
      "\t# Layer 1 Nodes = 16\n",
      "\t# of Output Nuerons = 1\n",
      "\t# Epochs = 25\n",
      "\t\t\t***                       Permutation:133 ==> Loss: 0.9348236918449402, Accuracy: 0.7112536430358887 ***\n",
      "\t\t\t*** Best Running Results: Permutation:22 ==> Loss: 0.5499290227890015, Accuracy: 0.7330612540245056 ***\n"
     ]
    },
    {
     "data": {
      "text/plain": [
       "'USE_CASE'"
      ]
     },
     "metadata": {},
     "output_type": "display_data"
    },
    {
     "name": "stdout",
     "output_type": "stream",
     "text": [
      "Running Permuation #134\n",
      "\tFeature Drop = USE_CASE\n",
      "\t# Input Features = 111\n",
      "\t Use Model Activation Function = relu\n",
      "\t# Hidden Layers = 1\n",
      "\t# Layer 1 Nodes = 16\n",
      "\t# of Output Nuerons = 1\n",
      "\t# Epochs = 50\n",
      "\t\t\t***                       Permutation:134 ==> Loss: 0.6697842478752136, Accuracy: 0.7281632423400879 ***\n",
      "\t\t\t*** Best Running Results: Permutation:22 ==> Loss: 0.5499290227890015, Accuracy: 0.7330612540245056 ***\n"
     ]
    },
    {
     "data": {
      "text/plain": [
       "'USE_CASE'"
      ]
     },
     "metadata": {},
     "output_type": "display_data"
    },
    {
     "name": "stdout",
     "output_type": "stream",
     "text": [
      "Running Permuation #135\n",
      "\tFeature Drop = USE_CASE\n",
      "\t# Input Features = 111\n",
      "\t Use Model Activation Function = relu\n",
      "\t# Hidden Layers = 1\n",
      "\t# Layer 1 Nodes = 16\n",
      "\t# of Output Nuerons = 1\n",
      "\t# Epochs = 75\n",
      "\t\t\t***                       Permutation:135 ==> Loss: 0.7926196455955505, Accuracy: 0.7208163142204285 ***\n",
      "\t\t\t*** Best Running Results: Permutation:22 ==> Loss: 0.5499290227890015, Accuracy: 0.7330612540245056 ***\n"
     ]
    },
    {
     "data": {
      "text/plain": [
       "'USE_CASE'"
      ]
     },
     "metadata": {},
     "output_type": "display_data"
    },
    {
     "name": "stdout",
     "output_type": "stream",
     "text": [
      "Running Permuation #136\n",
      "\tFeature Drop = USE_CASE\n",
      "\t# Input Features = 111\n",
      "\t Use Model Activation Function = relu\n",
      "\t# Hidden Layers = 1\n",
      "\t# Layer 1 Nodes = 16\n",
      "\t# of Output Nuerons = 1\n",
      "\t# Epochs = 100\n",
      "\t\t\t***                       Permutation:136 ==> Loss: 0.600703239440918, Accuracy: 0.7337609529495239 ***\n",
      "\t\t\t*** Best Running Results: Permutation:136 ==> Loss: 0.600703239440918, Accuracy: 0.7337609529495239 ***\n"
     ]
    },
    {
     "data": {
      "text/plain": [
       "'USE_CASE'"
      ]
     },
     "metadata": {},
     "output_type": "display_data"
    },
    {
     "name": "stdout",
     "output_type": "stream",
     "text": [
      "Running Permuation #137\n",
      "\tFeature Drop = USE_CASE\n",
      "\t# Input Features = 111\n",
      "\t Use Model Activation Function = relu\n",
      "\t# Hidden Layers = 2\n",
      "\t# Layer 1 Nodes = 8\n",
      "\t# Layer 2 Nodes = 4\n",
      "\t# of Output Nuerons = 1\n",
      "\t# Epochs = 25\n",
      "\t\t\t***                       Permutation:137 ==> Loss: 0.6010857820510864, Accuracy: 0.7321282625198364 ***\n",
      "\t\t\t*** Best Running Results: Permutation:136 ==> Loss: 0.600703239440918, Accuracy: 0.7337609529495239 ***\n"
     ]
    },
    {
     "data": {
      "text/plain": [
       "'USE_CASE'"
      ]
     },
     "metadata": {},
     "output_type": "display_data"
    },
    {
     "name": "stdout",
     "output_type": "stream",
     "text": [
      "Running Permuation #138\n",
      "\tFeature Drop = USE_CASE\n",
      "\t# Input Features = 111\n",
      "\t Use Model Activation Function = relu\n",
      "\t# Hidden Layers = 2\n",
      "\t# Layer 1 Nodes = 8\n",
      "\t# Layer 2 Nodes = 4\n",
      "\t# of Output Nuerons = 1\n",
      "\t# Epochs = 50\n",
      "\t\t\t***                       Permutation:138 ==> Loss: 0.5914398431777954, Accuracy: 0.7253644466400146 ***\n",
      "\t\t\t*** Best Running Results: Permutation:136 ==> Loss: 0.600703239440918, Accuracy: 0.7337609529495239 ***\n"
     ]
    },
    {
     "data": {
      "text/plain": [
       "'USE_CASE'"
      ]
     },
     "metadata": {},
     "output_type": "display_data"
    },
    {
     "name": "stdout",
     "output_type": "stream",
     "text": [
      "Running Permuation #139\n",
      "\tFeature Drop = USE_CASE\n",
      "\t# Input Features = 111\n",
      "\t Use Model Activation Function = relu\n",
      "\t# Hidden Layers = 2\n",
      "\t# Layer 1 Nodes = 8\n",
      "\t# Layer 2 Nodes = 4\n",
      "\t# of Output Nuerons = 1\n",
      "\t# Epochs = 75\n",
      "\t\t\t***                       Permutation:139 ==> Loss: 0.5697686076164246, Accuracy: 0.7297959327697754 ***\n",
      "\t\t\t*** Best Running Results: Permutation:136 ==> Loss: 0.600703239440918, Accuracy: 0.7337609529495239 ***\n"
     ]
    },
    {
     "data": {
      "text/plain": [
       "'USE_CASE'"
      ]
     },
     "metadata": {},
     "output_type": "display_data"
    },
    {
     "name": "stdout",
     "output_type": "stream",
     "text": [
      "Running Permuation #140\n",
      "\tFeature Drop = USE_CASE\n",
      "\t# Input Features = 111\n",
      "\t Use Model Activation Function = relu\n",
      "\t# Hidden Layers = 2\n",
      "\t# Layer 1 Nodes = 8\n",
      "\t# Layer 2 Nodes = 4\n",
      "\t# of Output Nuerons = 1\n",
      "\t# Epochs = 100\n",
      "\t\t\t***                       Permutation:140 ==> Loss: 0.5946468710899353, Accuracy: 0.7300291657447815 ***\n",
      "\t\t\t*** Best Running Results: Permutation:136 ==> Loss: 0.600703239440918, Accuracy: 0.7337609529495239 ***\n"
     ]
    },
    {
     "data": {
      "text/plain": [
       "'USE_CASE'"
      ]
     },
     "metadata": {},
     "output_type": "display_data"
    },
    {
     "name": "stdout",
     "output_type": "stream",
     "text": [
      "Running Permuation #141\n",
      "\tFeature Drop = USE_CASE\n",
      "\t# Input Features = 111\n",
      "\t Use Model Activation Function = relu\n",
      "\t# Hidden Layers = 2\n",
      "\t# Layer 1 Nodes = 16\n",
      "\t# Layer 2 Nodes = 4\n",
      "\t# of Output Nuerons = 1\n",
      "\t# Epochs = 25\n",
      "\t\t\t***                       Permutation:141 ==> Loss: 0.5835129022598267, Accuracy: 0.7268804907798767 ***\n",
      "\t\t\t*** Best Running Results: Permutation:136 ==> Loss: 0.600703239440918, Accuracy: 0.7337609529495239 ***\n"
     ]
    },
    {
     "data": {
      "text/plain": [
       "'USE_CASE'"
      ]
     },
     "metadata": {},
     "output_type": "display_data"
    },
    {
     "name": "stdout",
     "output_type": "stream",
     "text": [
      "Running Permuation #142\n",
      "\tFeature Drop = USE_CASE\n",
      "\t# Input Features = 111\n",
      "\t Use Model Activation Function = relu\n",
      "\t# Hidden Layers = 2\n",
      "\t# Layer 1 Nodes = 16\n",
      "\t# Layer 2 Nodes = 4\n",
      "\t# of Output Nuerons = 1\n",
      "\t# Epochs = 50\n",
      "\t\t\t***                       Permutation:142 ==> Loss: 0.5971288084983826, Accuracy: 0.7302623987197876 ***\n",
      "\t\t\t*** Best Running Results: Permutation:136 ==> Loss: 0.600703239440918, Accuracy: 0.7337609529495239 ***\n"
     ]
    },
    {
     "data": {
      "text/plain": [
       "'USE_CASE'"
      ]
     },
     "metadata": {},
     "output_type": "display_data"
    },
    {
     "name": "stdout",
     "output_type": "stream",
     "text": [
      "Running Permuation #143\n",
      "\tFeature Drop = USE_CASE\n",
      "\t# Input Features = 111\n",
      "\t Use Model Activation Function = relu\n",
      "\t# Hidden Layers = 2\n",
      "\t# Layer 1 Nodes = 16\n",
      "\t# Layer 2 Nodes = 4\n",
      "\t# of Output Nuerons = 1\n",
      "\t# Epochs = 75\n",
      "\t\t\t***                       Permutation:143 ==> Loss: 0.6307361721992493, Accuracy: 0.7293294668197632 ***\n",
      "\t\t\t*** Best Running Results: Permutation:136 ==> Loss: 0.600703239440918, Accuracy: 0.7337609529495239 ***\n"
     ]
    },
    {
     "data": {
      "text/plain": [
       "'USE_CASE'"
      ]
     },
     "metadata": {},
     "output_type": "display_data"
    },
    {
     "name": "stdout",
     "output_type": "stream",
     "text": [
      "Running Permuation #144\n",
      "\tFeature Drop = USE_CASE\n",
      "\t# Input Features = 111\n",
      "\t Use Model Activation Function = relu\n",
      "\t# Hidden Layers = 2\n",
      "\t# Layer 1 Nodes = 16\n",
      "\t# Layer 2 Nodes = 4\n",
      "\t# of Output Nuerons = 1\n",
      "\t# Epochs = 100\n",
      "\t\t\t***                       Permutation:144 ==> Loss: 0.5937245488166809, Accuracy: 0.7295626997947693 ***\n",
      "\t\t\t*** Best Running Results: Permutation:136 ==> Loss: 0.600703239440918, Accuracy: 0.7337609529495239 ***\n"
     ]
    },
    {
     "data": {
      "text/plain": [
       "'USE_CASE'"
      ]
     },
     "metadata": {},
     "output_type": "display_data"
    },
    {
     "name": "stdout",
     "output_type": "stream",
     "text": [
      "Running Permuation #145\n",
      "\tFeature Drop = USE_CASE\n",
      "\t# Input Features = 111\n",
      "\t Use Model Activation Function = sigmoid\n",
      "\t# Hidden Layers = 1\n",
      "\t# Layer 1 Nodes = 8\n",
      "\t# of Output Nuerons = 1\n",
      "\t# Epochs = 25\n",
      "\t\t\t***                       Permutation:145 ==> Loss: 0.5540232062339783, Accuracy: 0.731195330619812 ***\n",
      "\t\t\t*** Best Running Results: Permutation:136 ==> Loss: 0.600703239440918, Accuracy: 0.7337609529495239 ***\n"
     ]
    },
    {
     "data": {
      "text/plain": [
       "'USE_CASE'"
      ]
     },
     "metadata": {},
     "output_type": "display_data"
    },
    {
     "name": "stdout",
     "output_type": "stream",
     "text": [
      "Running Permuation #146\n",
      "\tFeature Drop = USE_CASE\n",
      "\t# Input Features = 111\n",
      "\t Use Model Activation Function = sigmoid\n",
      "\t# Hidden Layers = 1\n",
      "\t# Layer 1 Nodes = 8\n",
      "\t# of Output Nuerons = 1\n",
      "\t# Epochs = 50\n",
      "\t\t\t***                       Permutation:146 ==> Loss: 0.5544481873512268, Accuracy: 0.7308454513549805 ***\n",
      "\t\t\t*** Best Running Results: Permutation:136 ==> Loss: 0.600703239440918, Accuracy: 0.7337609529495239 ***\n"
     ]
    },
    {
     "data": {
      "text/plain": [
       "'USE_CASE'"
      ]
     },
     "metadata": {},
     "output_type": "display_data"
    },
    {
     "name": "stdout",
     "output_type": "stream",
     "text": [
      "Running Permuation #147\n",
      "\tFeature Drop = USE_CASE\n",
      "\t# Input Features = 111\n",
      "\t Use Model Activation Function = sigmoid\n",
      "\t# Hidden Layers = 1\n",
      "\t# Layer 1 Nodes = 8\n",
      "\t# of Output Nuerons = 1\n",
      "\t# Epochs = 75\n",
      "\t\t\t***                       Permutation:147 ==> Loss: 0.5524041056632996, Accuracy: 0.7318950295448303 ***\n",
      "\t\t\t*** Best Running Results: Permutation:136 ==> Loss: 0.600703239440918, Accuracy: 0.7337609529495239 ***\n"
     ]
    },
    {
     "data": {
      "text/plain": [
       "'USE_CASE'"
      ]
     },
     "metadata": {},
     "output_type": "display_data"
    },
    {
     "name": "stdout",
     "output_type": "stream",
     "text": [
      "Running Permuation #148\n",
      "\tFeature Drop = USE_CASE\n",
      "\t# Input Features = 111\n",
      "\t Use Model Activation Function = sigmoid\n",
      "\t# Hidden Layers = 1\n",
      "\t# Layer 1 Nodes = 8\n",
      "\t# of Output Nuerons = 1\n",
      "\t# Epochs = 100\n",
      "\t\t\t***                       Permutation:148 ==> Loss: 0.5525705218315125, Accuracy: 0.7325947284698486 ***\n",
      "\t\t\t*** Best Running Results: Permutation:136 ==> Loss: 0.600703239440918, Accuracy: 0.7337609529495239 ***\n"
     ]
    },
    {
     "data": {
      "text/plain": [
       "'USE_CASE'"
      ]
     },
     "metadata": {},
     "output_type": "display_data"
    },
    {
     "name": "stdout",
     "output_type": "stream",
     "text": [
      "Running Permuation #149\n",
      "\tFeature Drop = USE_CASE\n",
      "\t# Input Features = 111\n",
      "\t Use Model Activation Function = sigmoid\n",
      "\t# Hidden Layers = 1\n",
      "\t# Layer 1 Nodes = 16\n",
      "\t# of Output Nuerons = 1\n",
      "\t# Epochs = 25\n",
      "\t\t\t***                       Permutation:149 ==> Loss: 0.5532943606376648, Accuracy: 0.7300291657447815 ***\n",
      "\t\t\t*** Best Running Results: Permutation:136 ==> Loss: 0.600703239440918, Accuracy: 0.7337609529495239 ***\n"
     ]
    },
    {
     "data": {
      "text/plain": [
       "'USE_CASE'"
      ]
     },
     "metadata": {},
     "output_type": "display_data"
    },
    {
     "name": "stdout",
     "output_type": "stream",
     "text": [
      "Running Permuation #150\n",
      "\tFeature Drop = USE_CASE\n",
      "\t# Input Features = 111\n",
      "\t Use Model Activation Function = sigmoid\n",
      "\t# Hidden Layers = 1\n",
      "\t# Layer 1 Nodes = 16\n",
      "\t# of Output Nuerons = 1\n",
      "\t# Epochs = 50\n",
      "\t\t\t***                       Permutation:150 ==> Loss: 0.552855372428894, Accuracy: 0.7310787439346313 ***\n",
      "\t\t\t*** Best Running Results: Permutation:136 ==> Loss: 0.600703239440918, Accuracy: 0.7337609529495239 ***\n"
     ]
    },
    {
     "data": {
      "text/plain": [
       "'USE_CASE'"
      ]
     },
     "metadata": {},
     "output_type": "display_data"
    },
    {
     "name": "stdout",
     "output_type": "stream",
     "text": [
      "Running Permuation #151\n",
      "\tFeature Drop = USE_CASE\n",
      "\t# Input Features = 111\n",
      "\t Use Model Activation Function = sigmoid\n",
      "\t# Hidden Layers = 1\n",
      "\t# Layer 1 Nodes = 16\n",
      "\t# of Output Nuerons = 1\n",
      "\t# Epochs = 75\n",
      "\t\t\t***                       Permutation:151 ==> Loss: 0.5526150465011597, Accuracy: 0.7330612540245056 ***\n",
      "\t\t\t*** Best Running Results: Permutation:136 ==> Loss: 0.600703239440918, Accuracy: 0.7337609529495239 ***\n"
     ]
    },
    {
     "data": {
      "text/plain": [
       "'USE_CASE'"
      ]
     },
     "metadata": {},
     "output_type": "display_data"
    },
    {
     "name": "stdout",
     "output_type": "stream",
     "text": [
      "Running Permuation #152\n",
      "\tFeature Drop = USE_CASE\n",
      "\t# Input Features = 111\n",
      "\t Use Model Activation Function = sigmoid\n",
      "\t# Hidden Layers = 1\n",
      "\t# Layer 1 Nodes = 16\n",
      "\t# of Output Nuerons = 1\n",
      "\t# Epochs = 100\n",
      "\t\t\t***                       Permutation:152 ==> Loss: 0.5536307096481323, Accuracy: 0.729912519454956 ***\n",
      "\t\t\t*** Best Running Results: Permutation:136 ==> Loss: 0.600703239440918, Accuracy: 0.7337609529495239 ***\n"
     ]
    },
    {
     "data": {
      "text/plain": [
       "'USE_CASE'"
      ]
     },
     "metadata": {},
     "output_type": "display_data"
    },
    {
     "name": "stdout",
     "output_type": "stream",
     "text": [
      "Running Permuation #153\n",
      "\tFeature Drop = USE_CASE\n",
      "\t# Input Features = 111\n",
      "\t Use Model Activation Function = sigmoid\n",
      "\t# Hidden Layers = 2\n",
      "\t# Layer 1 Nodes = 8\n",
      "\t# Layer 2 Nodes = 4\n",
      "\t# of Output Nuerons = 1\n",
      "\t# Epochs = 25\n",
      "\t\t\t***                       Permutation:153 ==> Loss: 0.560897707939148, Accuracy: 0.7317784428596497 ***\n",
      "\t\t\t*** Best Running Results: Permutation:136 ==> Loss: 0.600703239440918, Accuracy: 0.7337609529495239 ***\n"
     ]
    },
    {
     "data": {
      "text/plain": [
       "'USE_CASE'"
      ]
     },
     "metadata": {},
     "output_type": "display_data"
    },
    {
     "name": "stdout",
     "output_type": "stream",
     "text": [
      "Running Permuation #154\n",
      "\tFeature Drop = USE_CASE\n",
      "\t# Input Features = 111\n",
      "\t Use Model Activation Function = sigmoid\n",
      "\t# Hidden Layers = 2\n",
      "\t# Layer 1 Nodes = 8\n",
      "\t# Layer 2 Nodes = 4\n",
      "\t# of Output Nuerons = 1\n",
      "\t# Epochs = 50\n",
      "\t\t\t***                       Permutation:154 ==> Loss: 0.5546942353248596, Accuracy: 0.7310787439346313 ***\n",
      "\t\t\t*** Best Running Results: Permutation:136 ==> Loss: 0.600703239440918, Accuracy: 0.7337609529495239 ***\n"
     ]
    },
    {
     "data": {
      "text/plain": [
       "'USE_CASE'"
      ]
     },
     "metadata": {},
     "output_type": "display_data"
    },
    {
     "name": "stdout",
     "output_type": "stream",
     "text": [
      "Running Permuation #155\n",
      "\tFeature Drop = USE_CASE\n",
      "\t# Input Features = 111\n",
      "\t Use Model Activation Function = sigmoid\n",
      "\t# Hidden Layers = 2\n",
      "\t# Layer 1 Nodes = 8\n",
      "\t# Layer 2 Nodes = 4\n",
      "\t# of Output Nuerons = 1\n",
      "\t# Epochs = 75\n",
      "\t\t\t***                       Permutation:155 ==> Loss: 0.5515382289886475, Accuracy: 0.7331778407096863 ***\n",
      "\t\t\t*** Best Running Results: Permutation:136 ==> Loss: 0.600703239440918, Accuracy: 0.7337609529495239 ***\n"
     ]
    },
    {
     "data": {
      "text/plain": [
       "'USE_CASE'"
      ]
     },
     "metadata": {},
     "output_type": "display_data"
    },
    {
     "name": "stdout",
     "output_type": "stream",
     "text": [
      "Running Permuation #156\n",
      "\tFeature Drop = USE_CASE\n",
      "\t# Input Features = 111\n",
      "\t Use Model Activation Function = sigmoid\n",
      "\t# Hidden Layers = 2\n",
      "\t# Layer 1 Nodes = 8\n",
      "\t# Layer 2 Nodes = 4\n",
      "\t# of Output Nuerons = 1\n",
      "\t# Epochs = 100\n",
      "\t\t\t***                       Permutation:156 ==> Loss: 0.5500848293304443, Accuracy: 0.73399418592453 ***\n",
      "\t\t\t*** Best Running Results: Permutation:156 ==> Loss: 0.5500848293304443, Accuracy: 0.73399418592453 ***\n"
     ]
    },
    {
     "data": {
      "text/plain": [
       "'USE_CASE'"
      ]
     },
     "metadata": {},
     "output_type": "display_data"
    },
    {
     "name": "stdout",
     "output_type": "stream",
     "text": [
      "Running Permuation #157\n",
      "\tFeature Drop = USE_CASE\n",
      "\t# Input Features = 111\n",
      "\t Use Model Activation Function = sigmoid\n",
      "\t# Hidden Layers = 2\n",
      "\t# Layer 1 Nodes = 16\n",
      "\t# Layer 2 Nodes = 4\n",
      "\t# of Output Nuerons = 1\n",
      "\t# Epochs = 25\n",
      "\t\t\t***                       Permutation:157 ==> Loss: 0.5551220774650574, Accuracy: 0.7290962338447571 ***\n",
      "\t\t\t*** Best Running Results: Permutation:156 ==> Loss: 0.5500848293304443, Accuracy: 0.73399418592453 ***\n"
     ]
    },
    {
     "data": {
      "text/plain": [
       "'USE_CASE'"
      ]
     },
     "metadata": {},
     "output_type": "display_data"
    },
    {
     "name": "stdout",
     "output_type": "stream",
     "text": [
      "Running Permuation #158\n",
      "\tFeature Drop = USE_CASE\n",
      "\t# Input Features = 111\n",
      "\t Use Model Activation Function = sigmoid\n",
      "\t# Hidden Layers = 2\n",
      "\t# Layer 1 Nodes = 16\n",
      "\t# Layer 2 Nodes = 4\n",
      "\t# of Output Nuerons = 1\n",
      "\t# Epochs = 50\n",
      "\t\t\t***                       Permutation:158 ==> Loss: 0.5516747236251831, Accuracy: 0.7332944869995117 ***\n",
      "\t\t\t*** Best Running Results: Permutation:156 ==> Loss: 0.5500848293304443, Accuracy: 0.73399418592453 ***\n"
     ]
    },
    {
     "data": {
      "text/plain": [
       "'USE_CASE'"
      ]
     },
     "metadata": {},
     "output_type": "display_data"
    },
    {
     "name": "stdout",
     "output_type": "stream",
     "text": [
      "Running Permuation #159\n",
      "\tFeature Drop = USE_CASE\n",
      "\t# Input Features = 111\n",
      "\t Use Model Activation Function = sigmoid\n",
      "\t# Hidden Layers = 2\n",
      "\t# Layer 1 Nodes = 16\n",
      "\t# Layer 2 Nodes = 4\n",
      "\t# of Output Nuerons = 1\n",
      "\t# Epochs = 75\n",
      "\t\t\t***                       Permutation:159 ==> Loss: 0.5523794889450073, Accuracy: 0.7301457524299622 ***\n",
      "\t\t\t*** Best Running Results: Permutation:156 ==> Loss: 0.5500848293304443, Accuracy: 0.73399418592453 ***\n"
     ]
    },
    {
     "data": {
      "text/plain": [
       "'USE_CASE'"
      ]
     },
     "metadata": {},
     "output_type": "display_data"
    },
    {
     "name": "stdout",
     "output_type": "stream",
     "text": [
      "Running Permuation #160\n",
      "\tFeature Drop = USE_CASE\n",
      "\t# Input Features = 111\n",
      "\t Use Model Activation Function = sigmoid\n",
      "\t# Hidden Layers = 2\n",
      "\t# Layer 1 Nodes = 16\n",
      "\t# Layer 2 Nodes = 4\n",
      "\t# of Output Nuerons = 1\n",
      "\t# Epochs = 100\n",
      "\t\t\t***                       Permutation:160 ==> Loss: 0.551356852054596, Accuracy: 0.7328279614448547 ***\n",
      "\t\t\t*** Best Running Results: Permutation:156 ==> Loss: 0.5500848293304443, Accuracy: 0.73399418592453 ***\n"
     ]
    },
    {
     "data": {
      "text/plain": [
       "'ORGANIZATION'"
      ]
     },
     "metadata": {},
     "output_type": "display_data"
    },
    {
     "name": "stdout",
     "output_type": "stream",
     "text": [
      "Running Permuation #161\n",
      "\tFeature Drop = ORGANIZATION\n",
      "\t# Input Features = 112\n",
      "\t Use Model Activation Function = relu\n",
      "\t# Hidden Layers = 1\n",
      "\t# Layer 1 Nodes = 8\n",
      "\t# of Output Nuerons = 1\n",
      "\t# Epochs = 25\n",
      "\t\t\t***                       Permutation:161 ==> Loss: 1.3032538890838623, Accuracy: 0.6973760724067688 ***\n",
      "\t\t\t*** Best Running Results: Permutation:156 ==> Loss: 0.5500848293304443, Accuracy: 0.73399418592453 ***\n"
     ]
    },
    {
     "data": {
      "text/plain": [
       "'ORGANIZATION'"
      ]
     },
     "metadata": {},
     "output_type": "display_data"
    },
    {
     "name": "stdout",
     "output_type": "stream",
     "text": [
      "Running Permuation #162\n",
      "\tFeature Drop = ORGANIZATION\n",
      "\t# Input Features = 112\n",
      "\t Use Model Activation Function = relu\n",
      "\t# Hidden Layers = 1\n",
      "\t# Layer 1 Nodes = 8\n",
      "\t# of Output Nuerons = 1\n",
      "\t# Epochs = 50\n",
      "\t\t\t***                       Permutation:162 ==> Loss: 0.743197500705719, Accuracy: 0.7167347073554993 ***\n",
      "\t\t\t*** Best Running Results: Permutation:156 ==> Loss: 0.5500848293304443, Accuracy: 0.73399418592453 ***\n"
     ]
    },
    {
     "data": {
      "text/plain": [
       "'ORGANIZATION'"
      ]
     },
     "metadata": {},
     "output_type": "display_data"
    },
    {
     "name": "stdout",
     "output_type": "stream",
     "text": [
      "Running Permuation #163\n",
      "\tFeature Drop = ORGANIZATION\n",
      "\t# Input Features = 112\n",
      "\t Use Model Activation Function = relu\n",
      "\t# Hidden Layers = 1\n",
      "\t# Layer 1 Nodes = 8\n",
      "\t# of Output Nuerons = 1\n",
      "\t# Epochs = 75\n",
      "\t\t\t***                       Permutation:163 ==> Loss: 0.8807559609413147, Accuracy: 0.7149854302406311 ***\n",
      "\t\t\t*** Best Running Results: Permutation:156 ==> Loss: 0.5500848293304443, Accuracy: 0.73399418592453 ***\n"
     ]
    },
    {
     "data": {
      "text/plain": [
       "'ORGANIZATION'"
      ]
     },
     "metadata": {},
     "output_type": "display_data"
    },
    {
     "name": "stdout",
     "output_type": "stream",
     "text": [
      "Running Permuation #164\n",
      "\tFeature Drop = ORGANIZATION\n",
      "\t# Input Features = 112\n",
      "\t Use Model Activation Function = relu\n",
      "\t# Hidden Layers = 1\n",
      "\t# Layer 1 Nodes = 8\n",
      "\t# of Output Nuerons = 1\n",
      "\t# Epochs = 100\n",
      "\t\t\t***                       Permutation:164 ==> Loss: 2.386218786239624, Accuracy: 0.6541107892990112 ***\n",
      "\t\t\t*** Best Running Results: Permutation:156 ==> Loss: 0.5500848293304443, Accuracy: 0.73399418592453 ***\n"
     ]
    },
    {
     "data": {
      "text/plain": [
       "'ORGANIZATION'"
      ]
     },
     "metadata": {},
     "output_type": "display_data"
    },
    {
     "name": "stdout",
     "output_type": "stream",
     "text": [
      "Running Permuation #165\n",
      "\tFeature Drop = ORGANIZATION\n",
      "\t# Input Features = 112\n",
      "\t Use Model Activation Function = relu\n",
      "\t# Hidden Layers = 1\n",
      "\t# Layer 1 Nodes = 16\n",
      "\t# of Output Nuerons = 1\n",
      "\t# Epochs = 25\n",
      "\t\t\t***                       Permutation:165 ==> Loss: 1.0210204124450684, Accuracy: 0.704723060131073 ***\n",
      "\t\t\t*** Best Running Results: Permutation:156 ==> Loss: 0.5500848293304443, Accuracy: 0.73399418592453 ***\n"
     ]
    },
    {
     "data": {
      "text/plain": [
       "'ORGANIZATION'"
      ]
     },
     "metadata": {},
     "output_type": "display_data"
    },
    {
     "name": "stdout",
     "output_type": "stream",
     "text": [
      "Running Permuation #166\n",
      "\tFeature Drop = ORGANIZATION\n",
      "\t# Input Features = 112\n",
      "\t Use Model Activation Function = relu\n",
      "\t# Hidden Layers = 1\n",
      "\t# Layer 1 Nodes = 16\n",
      "\t# of Output Nuerons = 1\n",
      "\t# Epochs = 50\n",
      "\t\t\t***                       Permutation:166 ==> Loss: 0.7045465111732483, Accuracy: 0.717084527015686 ***\n",
      "\t\t\t*** Best Running Results: Permutation:156 ==> Loss: 0.5500848293304443, Accuracy: 0.73399418592453 ***\n"
     ]
    },
    {
     "data": {
      "text/plain": [
       "'ORGANIZATION'"
      ]
     },
     "metadata": {},
     "output_type": "display_data"
    },
    {
     "name": "stdout",
     "output_type": "stream",
     "text": [
      "Running Permuation #167\n",
      "\tFeature Drop = ORGANIZATION\n",
      "\t# Input Features = 112\n",
      "\t Use Model Activation Function = relu\n",
      "\t# Hidden Layers = 1\n",
      "\t# Layer 1 Nodes = 16\n",
      "\t# of Output Nuerons = 1\n",
      "\t# Epochs = 75\n",
      "\t\t\t***                       Permutation:167 ==> Loss: 0.7091327905654907, Accuracy: 0.718367338180542 ***\n",
      "\t\t\t*** Best Running Results: Permutation:156 ==> Loss: 0.5500848293304443, Accuracy: 0.73399418592453 ***\n"
     ]
    },
    {
     "data": {
      "text/plain": [
       "'ORGANIZATION'"
      ]
     },
     "metadata": {},
     "output_type": "display_data"
    },
    {
     "name": "stdout",
     "output_type": "stream",
     "text": [
      "Running Permuation #168\n",
      "\tFeature Drop = ORGANIZATION\n",
      "\t# Input Features = 112\n",
      "\t Use Model Activation Function = relu\n",
      "\t# Hidden Layers = 1\n",
      "\t# Layer 1 Nodes = 16\n",
      "\t# of Output Nuerons = 1\n",
      "\t# Epochs = 100\n",
      "\t\t\t***                       Permutation:168 ==> Loss: 0.6838757991790771, Accuracy: 0.7208163142204285 ***\n",
      "\t\t\t*** Best Running Results: Permutation:156 ==> Loss: 0.5500848293304443, Accuracy: 0.73399418592453 ***\n"
     ]
    },
    {
     "data": {
      "text/plain": [
       "'ORGANIZATION'"
      ]
     },
     "metadata": {},
     "output_type": "display_data"
    },
    {
     "name": "stdout",
     "output_type": "stream",
     "text": [
      "Running Permuation #169\n",
      "\tFeature Drop = ORGANIZATION\n",
      "\t# Input Features = 112\n",
      "\t Use Model Activation Function = relu\n",
      "\t# Hidden Layers = 2\n",
      "\t# Layer 1 Nodes = 8\n",
      "\t# Layer 2 Nodes = 4\n",
      "\t# of Output Nuerons = 1\n",
      "\t# Epochs = 25\n",
      "\t\t\t***                       Permutation:169 ==> Loss: 8.163082122802734, Accuracy: 0.4707871675491333 ***\n",
      "\t\t\t*** Best Running Results: Permutation:156 ==> Loss: 0.5500848293304443, Accuracy: 0.73399418592453 ***\n"
     ]
    },
    {
     "data": {
      "text/plain": [
       "'ORGANIZATION'"
      ]
     },
     "metadata": {},
     "output_type": "display_data"
    },
    {
     "name": "stdout",
     "output_type": "stream",
     "text": [
      "Running Permuation #170\n",
      "\tFeature Drop = ORGANIZATION\n",
      "\t# Input Features = 112\n",
      "\t Use Model Activation Function = relu\n",
      "\t# Hidden Layers = 2\n",
      "\t# Layer 1 Nodes = 8\n",
      "\t# Layer 2 Nodes = 4\n",
      "\t# of Output Nuerons = 1\n",
      "\t# Epochs = 50\n",
      "\t\t\t***                       Permutation:170 ==> Loss: 0.5848617553710938, Accuracy: 0.7287463545799255 ***\n",
      "\t\t\t*** Best Running Results: Permutation:156 ==> Loss: 0.5500848293304443, Accuracy: 0.73399418592453 ***\n"
     ]
    },
    {
     "data": {
      "text/plain": [
       "'ORGANIZATION'"
      ]
     },
     "metadata": {},
     "output_type": "display_data"
    },
    {
     "name": "stdout",
     "output_type": "stream",
     "text": [
      "Running Permuation #171\n",
      "\tFeature Drop = ORGANIZATION\n",
      "\t# Input Features = 112\n",
      "\t Use Model Activation Function = relu\n",
      "\t# Hidden Layers = 2\n",
      "\t# Layer 1 Nodes = 8\n",
      "\t# Layer 2 Nodes = 4\n",
      "\t# of Output Nuerons = 1\n",
      "\t# Epochs = 75\n",
      "\t\t\t***                       Permutation:171 ==> Loss: 0.6143212914466858, Accuracy: 0.7248979806900024 ***\n",
      "\t\t\t*** Best Running Results: Permutation:156 ==> Loss: 0.5500848293304443, Accuracy: 0.73399418592453 ***\n"
     ]
    },
    {
     "data": {
      "text/plain": [
       "'ORGANIZATION'"
      ]
     },
     "metadata": {},
     "output_type": "display_data"
    },
    {
     "name": "stdout",
     "output_type": "stream",
     "text": [
      "Running Permuation #172\n",
      "\tFeature Drop = ORGANIZATION\n",
      "\t# Input Features = 112\n",
      "\t Use Model Activation Function = relu\n",
      "\t# Hidden Layers = 2\n",
      "\t# Layer 1 Nodes = 8\n",
      "\t# Layer 2 Nodes = 4\n",
      "\t# of Output Nuerons = 1\n",
      "\t# Epochs = 100\n",
      "\t\t\t***                       Permutation:172 ==> Loss: 0.5748000144958496, Accuracy: 0.7266472578048706 ***\n",
      "\t\t\t*** Best Running Results: Permutation:156 ==> Loss: 0.5500848293304443, Accuracy: 0.73399418592453 ***\n"
     ]
    },
    {
     "data": {
      "text/plain": [
       "'ORGANIZATION'"
      ]
     },
     "metadata": {},
     "output_type": "display_data"
    },
    {
     "name": "stdout",
     "output_type": "stream",
     "text": [
      "Running Permuation #173\n",
      "\tFeature Drop = ORGANIZATION\n",
      "\t# Input Features = 112\n",
      "\t Use Model Activation Function = relu\n",
      "\t# Hidden Layers = 2\n",
      "\t# Layer 1 Nodes = 16\n",
      "\t# Layer 2 Nodes = 4\n",
      "\t# of Output Nuerons = 1\n",
      "\t# Epochs = 25\n",
      "\t\t\t***                       Permutation:173 ==> Loss: 0.6463087201118469, Accuracy: 0.7176676392555237 ***\n",
      "\t\t\t*** Best Running Results: Permutation:156 ==> Loss: 0.5500848293304443, Accuracy: 0.73399418592453 ***\n"
     ]
    },
    {
     "data": {
      "text/plain": [
       "'ORGANIZATION'"
      ]
     },
     "metadata": {},
     "output_type": "display_data"
    },
    {
     "name": "stdout",
     "output_type": "stream",
     "text": [
      "Running Permuation #174\n",
      "\tFeature Drop = ORGANIZATION\n",
      "\t# Input Features = 112\n",
      "\t Use Model Activation Function = relu\n",
      "\t# Hidden Layers = 2\n",
      "\t# Layer 1 Nodes = 16\n",
      "\t# Layer 2 Nodes = 4\n",
      "\t# of Output Nuerons = 1\n",
      "\t# Epochs = 50\n",
      "\t\t\t***                       Permutation:174 ==> Loss: 0.6092329025268555, Accuracy: 0.7268804907798767 ***\n",
      "\t\t\t*** Best Running Results: Permutation:156 ==> Loss: 0.5500848293304443, Accuracy: 0.73399418592453 ***\n"
     ]
    },
    {
     "data": {
      "text/plain": [
       "'ORGANIZATION'"
      ]
     },
     "metadata": {},
     "output_type": "display_data"
    },
    {
     "name": "stdout",
     "output_type": "stream",
     "text": [
      "Running Permuation #175\n",
      "\tFeature Drop = ORGANIZATION\n",
      "\t# Input Features = 112\n",
      "\t Use Model Activation Function = relu\n",
      "\t# Hidden Layers = 2\n",
      "\t# Layer 1 Nodes = 16\n",
      "\t# Layer 2 Nodes = 4\n",
      "\t# of Output Nuerons = 1\n",
      "\t# Epochs = 75\n",
      "\t\t\t***                       Permutation:175 ==> Loss: 0.5852887630462646, Accuracy: 0.7252478003501892 ***\n",
      "\t\t\t*** Best Running Results: Permutation:156 ==> Loss: 0.5500848293304443, Accuracy: 0.73399418592453 ***\n"
     ]
    },
    {
     "data": {
      "text/plain": [
       "'ORGANIZATION'"
      ]
     },
     "metadata": {},
     "output_type": "display_data"
    },
    {
     "name": "stdout",
     "output_type": "stream",
     "text": [
      "Running Permuation #176\n",
      "\tFeature Drop = ORGANIZATION\n",
      "\t# Input Features = 112\n",
      "\t Use Model Activation Function = relu\n",
      "\t# Hidden Layers = 2\n",
      "\t# Layer 1 Nodes = 16\n",
      "\t# Layer 2 Nodes = 4\n",
      "\t# of Output Nuerons = 1\n",
      "\t# Epochs = 100\n",
      "\t\t\t***                       Permutation:176 ==> Loss: 8.163082122802734, Accuracy: 0.4707871675491333 ***\n",
      "\t\t\t*** Best Running Results: Permutation:156 ==> Loss: 0.5500848293304443, Accuracy: 0.73399418592453 ***\n"
     ]
    },
    {
     "data": {
      "text/plain": [
       "'ORGANIZATION'"
      ]
     },
     "metadata": {},
     "output_type": "display_data"
    },
    {
     "name": "stdout",
     "output_type": "stream",
     "text": [
      "Running Permuation #177\n",
      "\tFeature Drop = ORGANIZATION\n",
      "\t# Input Features = 112\n",
      "\t Use Model Activation Function = sigmoid\n",
      "\t# Hidden Layers = 1\n",
      "\t# Layer 1 Nodes = 8\n",
      "\t# of Output Nuerons = 1\n",
      "\t# Epochs = 25\n",
      "\t\t\t***                       Permutation:177 ==> Loss: 0.5590322613716125, Accuracy: 0.7258309125900269 ***\n",
      "\t\t\t*** Best Running Results: Permutation:156 ==> Loss: 0.5500848293304443, Accuracy: 0.73399418592453 ***\n"
     ]
    },
    {
     "data": {
      "text/plain": [
       "'ORGANIZATION'"
      ]
     },
     "metadata": {},
     "output_type": "display_data"
    },
    {
     "name": "stdout",
     "output_type": "stream",
     "text": [
      "Running Permuation #178\n",
      "\tFeature Drop = ORGANIZATION\n",
      "\t# Input Features = 112\n",
      "\t Use Model Activation Function = sigmoid\n",
      "\t# Hidden Layers = 1\n",
      "\t# Layer 1 Nodes = 8\n",
      "\t# of Output Nuerons = 1\n",
      "\t# Epochs = 50\n",
      "\t\t\t***                       Permutation:178 ==> Loss: 0.5593734383583069, Accuracy: 0.7281632423400879 ***\n",
      "\t\t\t*** Best Running Results: Permutation:156 ==> Loss: 0.5500848293304443, Accuracy: 0.73399418592453 ***\n"
     ]
    },
    {
     "data": {
      "text/plain": [
       "'ORGANIZATION'"
      ]
     },
     "metadata": {},
     "output_type": "display_data"
    },
    {
     "name": "stdout",
     "output_type": "stream",
     "text": [
      "Running Permuation #179\n",
      "\tFeature Drop = ORGANIZATION\n",
      "\t# Input Features = 112\n",
      "\t Use Model Activation Function = sigmoid\n",
      "\t# Hidden Layers = 1\n",
      "\t# Layer 1 Nodes = 8\n",
      "\t# of Output Nuerons = 1\n",
      "\t# Epochs = 75\n",
      "\t\t\t***                       Permutation:179 ==> Loss: 0.5589329600334167, Accuracy: 0.7261807322502136 ***\n",
      "\t\t\t*** Best Running Results: Permutation:156 ==> Loss: 0.5500848293304443, Accuracy: 0.73399418592453 ***\n"
     ]
    },
    {
     "data": {
      "text/plain": [
       "'ORGANIZATION'"
      ]
     },
     "metadata": {},
     "output_type": "display_data"
    },
    {
     "name": "stdout",
     "output_type": "stream",
     "text": [
      "Running Permuation #180\n",
      "\tFeature Drop = ORGANIZATION\n",
      "\t# Input Features = 112\n",
      "\t Use Model Activation Function = sigmoid\n",
      "\t# Hidden Layers = 1\n",
      "\t# Layer 1 Nodes = 8\n",
      "\t# of Output Nuerons = 1\n",
      "\t# Epochs = 100\n",
      "\t\t\t***                       Permutation:180 ==> Loss: 0.5589382648468018, Accuracy: 0.728863000869751 ***\n",
      "\t\t\t*** Best Running Results: Permutation:156 ==> Loss: 0.5500848293304443, Accuracy: 0.73399418592453 ***\n"
     ]
    },
    {
     "data": {
      "text/plain": [
       "'ORGANIZATION'"
      ]
     },
     "metadata": {},
     "output_type": "display_data"
    },
    {
     "name": "stdout",
     "output_type": "stream",
     "text": [
      "Running Permuation #181\n",
      "\tFeature Drop = ORGANIZATION\n",
      "\t# Input Features = 112\n",
      "\t Use Model Activation Function = sigmoid\n",
      "\t# Hidden Layers = 1\n",
      "\t# Layer 1 Nodes = 16\n",
      "\t# of Output Nuerons = 1\n",
      "\t# Epochs = 25\n",
      "\t\t\t***                       Permutation:181 ==> Loss: 0.559040904045105, Accuracy: 0.727580189704895 ***\n",
      "\t\t\t*** Best Running Results: Permutation:156 ==> Loss: 0.5500848293304443, Accuracy: 0.73399418592453 ***\n"
     ]
    },
    {
     "data": {
      "text/plain": [
       "'ORGANIZATION'"
      ]
     },
     "metadata": {},
     "output_type": "display_data"
    },
    {
     "name": "stdout",
     "output_type": "stream",
     "text": [
      "Running Permuation #182\n",
      "\tFeature Drop = ORGANIZATION\n",
      "\t# Input Features = 112\n",
      "\t Use Model Activation Function = sigmoid\n",
      "\t# Hidden Layers = 1\n",
      "\t# Layer 1 Nodes = 16\n",
      "\t# of Output Nuerons = 1\n",
      "\t# Epochs = 50\n",
      "\t\t\t***                       Permutation:182 ==> Loss: 0.5577096343040466, Accuracy: 0.7276967763900757 ***\n",
      "\t\t\t*** Best Running Results: Permutation:156 ==> Loss: 0.5500848293304443, Accuracy: 0.73399418592453 ***\n"
     ]
    },
    {
     "data": {
      "text/plain": [
       "'ORGANIZATION'"
      ]
     },
     "metadata": {},
     "output_type": "display_data"
    },
    {
     "name": "stdout",
     "output_type": "stream",
     "text": [
      "Running Permuation #183\n",
      "\tFeature Drop = ORGANIZATION\n",
      "\t# Input Features = 112\n",
      "\t Use Model Activation Function = sigmoid\n",
      "\t# Hidden Layers = 1\n",
      "\t# Layer 1 Nodes = 16\n",
      "\t# of Output Nuerons = 1\n",
      "\t# Epochs = 75\n",
      "\t\t\t***                       Permutation:183 ==> Loss: 0.5592955946922302, Accuracy: 0.7244315147399902 ***\n",
      "\t\t\t*** Best Running Results: Permutation:156 ==> Loss: 0.5500848293304443, Accuracy: 0.73399418592453 ***\n"
     ]
    },
    {
     "data": {
      "text/plain": [
       "'ORGANIZATION'"
      ]
     },
     "metadata": {},
     "output_type": "display_data"
    },
    {
     "name": "stdout",
     "output_type": "stream",
     "text": [
      "Running Permuation #184\n",
      "\tFeature Drop = ORGANIZATION\n",
      "\t# Input Features = 112\n",
      "\t Use Model Activation Function = sigmoid\n",
      "\t# Hidden Layers = 1\n",
      "\t# Layer 1 Nodes = 16\n",
      "\t# of Output Nuerons = 1\n",
      "\t# Epochs = 100\n",
      "\t\t\t***                       Permutation:184 ==> Loss: 0.5596866011619568, Accuracy: 0.7266472578048706 ***\n",
      "\t\t\t*** Best Running Results: Permutation:156 ==> Loss: 0.5500848293304443, Accuracy: 0.73399418592453 ***\n"
     ]
    },
    {
     "data": {
      "text/plain": [
       "'ORGANIZATION'"
      ]
     },
     "metadata": {},
     "output_type": "display_data"
    },
    {
     "name": "stdout",
     "output_type": "stream",
     "text": [
      "Running Permuation #185\n",
      "\tFeature Drop = ORGANIZATION\n",
      "\t# Input Features = 112\n",
      "\t Use Model Activation Function = sigmoid\n",
      "\t# Hidden Layers = 2\n",
      "\t# Layer 1 Nodes = 8\n",
      "\t# Layer 2 Nodes = 4\n",
      "\t# of Output Nuerons = 1\n",
      "\t# Epochs = 25\n",
      "\t\t\t***                       Permutation:185 ==> Loss: 0.5591186285018921, Accuracy: 0.7276967763900757 ***\n",
      "\t\t\t*** Best Running Results: Permutation:156 ==> Loss: 0.5500848293304443, Accuracy: 0.73399418592453 ***\n"
     ]
    },
    {
     "data": {
      "text/plain": [
       "'ORGANIZATION'"
      ]
     },
     "metadata": {},
     "output_type": "display_data"
    },
    {
     "name": "stdout",
     "output_type": "stream",
     "text": [
      "Running Permuation #186\n",
      "\tFeature Drop = ORGANIZATION\n",
      "\t# Input Features = 112\n",
      "\t Use Model Activation Function = sigmoid\n",
      "\t# Hidden Layers = 2\n",
      "\t# Layer 1 Nodes = 8\n",
      "\t# Layer 2 Nodes = 4\n",
      "\t# of Output Nuerons = 1\n",
      "\t# Epochs = 50\n",
      "\t\t\t***                       Permutation:186 ==> Loss: 0.5579110980033875, Accuracy: 0.7287463545799255 ***\n",
      "\t\t\t*** Best Running Results: Permutation:156 ==> Loss: 0.5500848293304443, Accuracy: 0.73399418592453 ***\n"
     ]
    },
    {
     "data": {
      "text/plain": [
       "'ORGANIZATION'"
      ]
     },
     "metadata": {},
     "output_type": "display_data"
    },
    {
     "name": "stdout",
     "output_type": "stream",
     "text": [
      "Running Permuation #187\n",
      "\tFeature Drop = ORGANIZATION\n",
      "\t# Input Features = 112\n",
      "\t Use Model Activation Function = sigmoid\n",
      "\t# Hidden Layers = 2\n",
      "\t# Layer 1 Nodes = 8\n",
      "\t# Layer 2 Nodes = 4\n",
      "\t# of Output Nuerons = 1\n",
      "\t# Epochs = 75\n",
      "\t\t\t***                       Permutation:187 ==> Loss: 0.5569661855697632, Accuracy: 0.7292128205299377 ***\n",
      "\t\t\t*** Best Running Results: Permutation:156 ==> Loss: 0.5500848293304443, Accuracy: 0.73399418592453 ***\n"
     ]
    },
    {
     "data": {
      "text/plain": [
       "'ORGANIZATION'"
      ]
     },
     "metadata": {},
     "output_type": "display_data"
    },
    {
     "name": "stdout",
     "output_type": "stream",
     "text": [
      "Running Permuation #188\n",
      "\tFeature Drop = ORGANIZATION\n",
      "\t# Input Features = 112\n",
      "\t Use Model Activation Function = sigmoid\n",
      "\t# Hidden Layers = 2\n",
      "\t# Layer 1 Nodes = 8\n",
      "\t# Layer 2 Nodes = 4\n",
      "\t# of Output Nuerons = 1\n",
      "\t# Epochs = 100\n",
      "\t\t\t***                       Permutation:188 ==> Loss: 0.5583174228668213, Accuracy: 0.7269970774650574 ***\n",
      "\t\t\t*** Best Running Results: Permutation:156 ==> Loss: 0.5500848293304443, Accuracy: 0.73399418592453 ***\n"
     ]
    },
    {
     "data": {
      "text/plain": [
       "'ORGANIZATION'"
      ]
     },
     "metadata": {},
     "output_type": "display_data"
    },
    {
     "name": "stdout",
     "output_type": "stream",
     "text": [
      "Running Permuation #189\n",
      "\tFeature Drop = ORGANIZATION\n",
      "\t# Input Features = 112\n",
      "\t Use Model Activation Function = sigmoid\n",
      "\t# Hidden Layers = 2\n",
      "\t# Layer 1 Nodes = 16\n",
      "\t# Layer 2 Nodes = 4\n",
      "\t# of Output Nuerons = 1\n",
      "\t# Epochs = 25\n",
      "\t\t\t***                       Permutation:189 ==> Loss: 0.5584132075309753, Accuracy: 0.7281632423400879 ***\n",
      "\t\t\t*** Best Running Results: Permutation:156 ==> Loss: 0.5500848293304443, Accuracy: 0.73399418592453 ***\n"
     ]
    },
    {
     "data": {
      "text/plain": [
       "'ORGANIZATION'"
      ]
     },
     "metadata": {},
     "output_type": "display_data"
    },
    {
     "name": "stdout",
     "output_type": "stream",
     "text": [
      "Running Permuation #190\n",
      "\tFeature Drop = ORGANIZATION\n",
      "\t# Input Features = 112\n",
      "\t Use Model Activation Function = sigmoid\n",
      "\t# Hidden Layers = 2\n",
      "\t# Layer 1 Nodes = 16\n",
      "\t# Layer 2 Nodes = 4\n",
      "\t# of Output Nuerons = 1\n",
      "\t# Epochs = 50\n",
      "\t\t\t***                       Permutation:190 ==> Loss: 0.5565891265869141, Accuracy: 0.7274635434150696 ***\n",
      "\t\t\t*** Best Running Results: Permutation:156 ==> Loss: 0.5500848293304443, Accuracy: 0.73399418592453 ***\n"
     ]
    },
    {
     "data": {
      "text/plain": [
       "'ORGANIZATION'"
      ]
     },
     "metadata": {},
     "output_type": "display_data"
    },
    {
     "name": "stdout",
     "output_type": "stream",
     "text": [
      "Running Permuation #191\n",
      "\tFeature Drop = ORGANIZATION\n",
      "\t# Input Features = 112\n",
      "\t Use Model Activation Function = sigmoid\n",
      "\t# Hidden Layers = 2\n",
      "\t# Layer 1 Nodes = 16\n",
      "\t# Layer 2 Nodes = 4\n",
      "\t# of Output Nuerons = 1\n",
      "\t# Epochs = 75\n",
      "\t\t\t***                       Permutation:191 ==> Loss: 0.557003915309906, Accuracy: 0.728396475315094 ***\n",
      "\t\t\t*** Best Running Results: Permutation:156 ==> Loss: 0.5500848293304443, Accuracy: 0.73399418592453 ***\n"
     ]
    },
    {
     "data": {
      "text/plain": [
       "'ORGANIZATION'"
      ]
     },
     "metadata": {},
     "output_type": "display_data"
    },
    {
     "name": "stdout",
     "output_type": "stream",
     "text": [
      "Running Permuation #192\n",
      "\tFeature Drop = ORGANIZATION\n",
      "\t# Input Features = 112\n",
      "\t Use Model Activation Function = sigmoid\n",
      "\t# Hidden Layers = 2\n",
      "\t# Layer 1 Nodes = 16\n",
      "\t# Layer 2 Nodes = 4\n",
      "\t# of Output Nuerons = 1\n",
      "\t# Epochs = 100\n",
      "\t\t\t***                       Permutation:192 ==> Loss: 0.5581945180892944, Accuracy: 0.727580189704895 ***\n",
      "\t\t\t*** Best Running Results: Permutation:156 ==> Loss: 0.5500848293304443, Accuracy: 0.73399418592453 ***\n"
     ]
    },
    {
     "data": {
      "text/plain": [
       "'INCOME_AMT'"
      ]
     },
     "metadata": {},
     "output_type": "display_data"
    },
    {
     "name": "stdout",
     "output_type": "stream",
     "text": [
      "Running Permuation #193\n",
      "\tFeature Drop = INCOME_AMT\n",
      "\t# Input Features = 107\n",
      "\t Use Model Activation Function = relu\n",
      "\t# Hidden Layers = 1\n",
      "\t# Layer 1 Nodes = 8\n",
      "\t# of Output Nuerons = 1\n",
      "\t# Epochs = 25\n",
      "\t\t\t***                       Permutation:193 ==> Loss: 0.7789437770843506, Accuracy: 0.7202332615852356 ***\n",
      "\t\t\t*** Best Running Results: Permutation:156 ==> Loss: 0.5500848293304443, Accuracy: 0.73399418592453 ***\n"
     ]
    },
    {
     "data": {
      "text/plain": [
       "'INCOME_AMT'"
      ]
     },
     "metadata": {},
     "output_type": "display_data"
    },
    {
     "name": "stdout",
     "output_type": "stream",
     "text": [
      "Running Permuation #194\n",
      "\tFeature Drop = INCOME_AMT\n",
      "\t# Input Features = 107\n",
      "\t Use Model Activation Function = relu\n",
      "\t# Hidden Layers = 1\n",
      "\t# Layer 1 Nodes = 8\n",
      "\t# of Output Nuerons = 1\n",
      "\t# Epochs = 50\n",
      "\t\t\t***                       Permutation:194 ==> Loss: 1.0915488004684448, Accuracy: 0.7093877792358398 ***\n",
      "\t\t\t*** Best Running Results: Permutation:156 ==> Loss: 0.5500848293304443, Accuracy: 0.73399418592453 ***\n"
     ]
    },
    {
     "data": {
      "text/plain": [
       "'INCOME_AMT'"
      ]
     },
     "metadata": {},
     "output_type": "display_data"
    },
    {
     "name": "stdout",
     "output_type": "stream",
     "text": [
      "Running Permuation #195\n",
      "\tFeature Drop = INCOME_AMT\n",
      "\t# Input Features = 107\n",
      "\t Use Model Activation Function = relu\n",
      "\t# Hidden Layers = 1\n",
      "\t# Layer 1 Nodes = 8\n",
      "\t# of Output Nuerons = 1\n",
      "\t# Epochs = 75\n",
      "\t\t\t***                       Permutation:195 ==> Loss: 2.409632921218872, Accuracy: 0.6553936004638672 ***\n",
      "\t\t\t*** Best Running Results: Permutation:156 ==> Loss: 0.5500848293304443, Accuracy: 0.73399418592453 ***\n"
     ]
    },
    {
     "data": {
      "text/plain": [
       "'INCOME_AMT'"
      ]
     },
     "metadata": {},
     "output_type": "display_data"
    },
    {
     "name": "stdout",
     "output_type": "stream",
     "text": [
      "Running Permuation #196\n",
      "\tFeature Drop = INCOME_AMT\n",
      "\t# Input Features = 107\n",
      "\t Use Model Activation Function = relu\n",
      "\t# Hidden Layers = 1\n",
      "\t# Layer 1 Nodes = 8\n",
      "\t# of Output Nuerons = 1\n",
      "\t# Epochs = 100\n",
      "\t\t\t***                       Permutation:196 ==> Loss: 0.6589170694351196, Accuracy: 0.7250145673751831 ***\n",
      "\t\t\t*** Best Running Results: Permutation:156 ==> Loss: 0.5500848293304443, Accuracy: 0.73399418592453 ***\n"
     ]
    },
    {
     "data": {
      "text/plain": [
       "'INCOME_AMT'"
      ]
     },
     "metadata": {},
     "output_type": "display_data"
    },
    {
     "name": "stdout",
     "output_type": "stream",
     "text": [
      "Running Permuation #197\n",
      "\tFeature Drop = INCOME_AMT\n",
      "\t# Input Features = 107\n",
      "\t Use Model Activation Function = relu\n",
      "\t# Hidden Layers = 1\n",
      "\t# Layer 1 Nodes = 16\n",
      "\t# of Output Nuerons = 1\n",
      "\t# Epochs = 25\n",
      "\t\t\t***                       Permutation:197 ==> Loss: 1.1853593587875366, Accuracy: 0.6751020550727844 ***\n",
      "\t\t\t*** Best Running Results: Permutation:156 ==> Loss: 0.5500848293304443, Accuracy: 0.73399418592453 ***\n"
     ]
    },
    {
     "data": {
      "text/plain": [
       "'INCOME_AMT'"
      ]
     },
     "metadata": {},
     "output_type": "display_data"
    },
    {
     "name": "stdout",
     "output_type": "stream",
     "text": [
      "Running Permuation #198\n",
      "\tFeature Drop = INCOME_AMT\n",
      "\t# Input Features = 107\n",
      "\t Use Model Activation Function = relu\n",
      "\t# Hidden Layers = 1\n",
      "\t# Layer 1 Nodes = 16\n",
      "\t# of Output Nuerons = 1\n",
      "\t# Epochs = 50\n",
      "\t\t\t***                       Permutation:198 ==> Loss: 1.568680763244629, Accuracy: 0.6958600878715515 ***\n",
      "\t\t\t*** Best Running Results: Permutation:156 ==> Loss: 0.5500848293304443, Accuracy: 0.73399418592453 ***\n"
     ]
    },
    {
     "data": {
      "text/plain": [
       "'INCOME_AMT'"
      ]
     },
     "metadata": {},
     "output_type": "display_data"
    },
    {
     "name": "stdout",
     "output_type": "stream",
     "text": [
      "Running Permuation #199\n",
      "\tFeature Drop = INCOME_AMT\n",
      "\t# Input Features = 107\n",
      "\t Use Model Activation Function = relu\n",
      "\t# Hidden Layers = 1\n",
      "\t# Layer 1 Nodes = 16\n",
      "\t# of Output Nuerons = 1\n",
      "\t# Epochs = 75\n",
      "\t\t\t***                       Permutation:199 ==> Loss: 0.6570287346839905, Accuracy: 0.726064145565033 ***\n",
      "\t\t\t*** Best Running Results: Permutation:156 ==> Loss: 0.5500848293304443, Accuracy: 0.73399418592453 ***\n"
     ]
    },
    {
     "data": {
      "text/plain": [
       "'INCOME_AMT'"
      ]
     },
     "metadata": {},
     "output_type": "display_data"
    },
    {
     "name": "stdout",
     "output_type": "stream",
     "text": [
      "Running Permuation #200\n",
      "\tFeature Drop = INCOME_AMT\n",
      "\t# Input Features = 107\n",
      "\t Use Model Activation Function = relu\n",
      "\t# Hidden Layers = 1\n",
      "\t# Layer 1 Nodes = 16\n",
      "\t# of Output Nuerons = 1\n",
      "\t# Epochs = 100\n",
      "\t\t\t***                       Permutation:200 ==> Loss: 0.6393526792526245, Accuracy: 0.7276967763900757 ***\n",
      "\t\t\t*** Best Running Results: Permutation:156 ==> Loss: 0.5500848293304443, Accuracy: 0.73399418592453 ***\n"
     ]
    },
    {
     "data": {
      "text/plain": [
       "'INCOME_AMT'"
      ]
     },
     "metadata": {},
     "output_type": "display_data"
    },
    {
     "name": "stdout",
     "output_type": "stream",
     "text": [
      "Running Permuation #201\n",
      "\tFeature Drop = INCOME_AMT\n",
      "\t# Input Features = 107\n",
      "\t Use Model Activation Function = relu\n",
      "\t# Hidden Layers = 2\n",
      "\t# Layer 1 Nodes = 8\n",
      "\t# Layer 2 Nodes = 4\n",
      "\t# of Output Nuerons = 1\n",
      "\t# Epochs = 25\n",
      "\t\t\t***                       Permutation:201 ==> Loss: 0.6999658346176147, Accuracy: 0.7266472578048706 ***\n",
      "\t\t\t*** Best Running Results: Permutation:156 ==> Loss: 0.5500848293304443, Accuracy: 0.73399418592453 ***\n"
     ]
    },
    {
     "data": {
      "text/plain": [
       "'INCOME_AMT'"
      ]
     },
     "metadata": {},
     "output_type": "display_data"
    },
    {
     "name": "stdout",
     "output_type": "stream",
     "text": [
      "Running Permuation #202\n",
      "\tFeature Drop = INCOME_AMT\n",
      "\t# Input Features = 107\n",
      "\t Use Model Activation Function = relu\n",
      "\t# Hidden Layers = 2\n",
      "\t# Layer 1 Nodes = 8\n",
      "\t# Layer 2 Nodes = 4\n",
      "\t# of Output Nuerons = 1\n",
      "\t# Epochs = 50\n",
      "\t\t\t***                       Permutation:202 ==> Loss: 0.6613826751708984, Accuracy: 0.7252478003501892 ***\n",
      "\t\t\t*** Best Running Results: Permutation:156 ==> Loss: 0.5500848293304443, Accuracy: 0.73399418592453 ***\n"
     ]
    },
    {
     "data": {
      "text/plain": [
       "'INCOME_AMT'"
      ]
     },
     "metadata": {},
     "output_type": "display_data"
    },
    {
     "name": "stdout",
     "output_type": "stream",
     "text": [
      "Running Permuation #203\n",
      "\tFeature Drop = INCOME_AMT\n",
      "\t# Input Features = 107\n",
      "\t Use Model Activation Function = relu\n",
      "\t# Hidden Layers = 2\n",
      "\t# Layer 1 Nodes = 8\n",
      "\t# Layer 2 Nodes = 4\n",
      "\t# of Output Nuerons = 1\n",
      "\t# Epochs = 75\n",
      "\t\t\t***                       Permutation:203 ==> Loss: 0.5799828767776489, Accuracy: 0.7261807322502136 ***\n",
      "\t\t\t*** Best Running Results: Permutation:156 ==> Loss: 0.5500848293304443, Accuracy: 0.73399418592453 ***\n"
     ]
    },
    {
     "data": {
      "text/plain": [
       "'INCOME_AMT'"
      ]
     },
     "metadata": {},
     "output_type": "display_data"
    },
    {
     "name": "stdout",
     "output_type": "stream",
     "text": [
      "Running Permuation #204\n",
      "\tFeature Drop = INCOME_AMT\n",
      "\t# Input Features = 107\n",
      "\t Use Model Activation Function = relu\n",
      "\t# Hidden Layers = 2\n",
      "\t# Layer 1 Nodes = 8\n",
      "\t# Layer 2 Nodes = 4\n",
      "\t# of Output Nuerons = 1\n",
      "\t# Epochs = 100\n",
      "\t\t\t***                       Permutation:204 ==> Loss: 0.6376728415489197, Accuracy: 0.7191836833953857 ***\n",
      "\t\t\t*** Best Running Results: Permutation:156 ==> Loss: 0.5500848293304443, Accuracy: 0.73399418592453 ***\n"
     ]
    },
    {
     "data": {
      "text/plain": [
       "'INCOME_AMT'"
      ]
     },
     "metadata": {},
     "output_type": "display_data"
    },
    {
     "name": "stdout",
     "output_type": "stream",
     "text": [
      "Running Permuation #205\n",
      "\tFeature Drop = INCOME_AMT\n",
      "\t# Input Features = 107\n",
      "\t Use Model Activation Function = relu\n",
      "\t# Hidden Layers = 2\n",
      "\t# Layer 1 Nodes = 16\n",
      "\t# Layer 2 Nodes = 4\n",
      "\t# of Output Nuerons = 1\n",
      "\t# Epochs = 25\n",
      "\t\t\t***                       Permutation:205 ==> Loss: 1.012708067893982, Accuracy: 0.7107871770858765 ***\n",
      "\t\t\t*** Best Running Results: Permutation:156 ==> Loss: 0.5500848293304443, Accuracy: 0.73399418592453 ***\n"
     ]
    },
    {
     "data": {
      "text/plain": [
       "'INCOME_AMT'"
      ]
     },
     "metadata": {},
     "output_type": "display_data"
    },
    {
     "name": "stdout",
     "output_type": "stream",
     "text": [
      "Running Permuation #206\n",
      "\tFeature Drop = INCOME_AMT\n",
      "\t# Input Features = 107\n",
      "\t Use Model Activation Function = relu\n",
      "\t# Hidden Layers = 2\n",
      "\t# Layer 1 Nodes = 16\n",
      "\t# Layer 2 Nodes = 4\n",
      "\t# of Output Nuerons = 1\n",
      "\t# Epochs = 50\n",
      "\t\t\t***                       Permutation:206 ==> Loss: 0.643937349319458, Accuracy: 0.722449004650116 ***\n",
      "\t\t\t*** Best Running Results: Permutation:156 ==> Loss: 0.5500848293304443, Accuracy: 0.73399418592453 ***\n"
     ]
    },
    {
     "data": {
      "text/plain": [
       "'INCOME_AMT'"
      ]
     },
     "metadata": {},
     "output_type": "display_data"
    },
    {
     "name": "stdout",
     "output_type": "stream",
     "text": [
      "Running Permuation #207\n",
      "\tFeature Drop = INCOME_AMT\n",
      "\t# Input Features = 107\n",
      "\t Use Model Activation Function = relu\n",
      "\t# Hidden Layers = 2\n",
      "\t# Layer 1 Nodes = 16\n",
      "\t# Layer 2 Nodes = 4\n",
      "\t# of Output Nuerons = 1\n",
      "\t# Epochs = 75\n",
      "\t\t\t***                       Permutation:207 ==> Loss: 0.7962924838066101, Accuracy: 0.7218658924102783 ***\n",
      "\t\t\t*** Best Running Results: Permutation:156 ==> Loss: 0.5500848293304443, Accuracy: 0.73399418592453 ***\n"
     ]
    },
    {
     "data": {
      "text/plain": [
       "'INCOME_AMT'"
      ]
     },
     "metadata": {},
     "output_type": "display_data"
    },
    {
     "name": "stdout",
     "output_type": "stream",
     "text": [
      "Running Permuation #208\n",
      "\tFeature Drop = INCOME_AMT\n",
      "\t# Input Features = 107\n",
      "\t Use Model Activation Function = relu\n",
      "\t# Hidden Layers = 2\n",
      "\t# Layer 1 Nodes = 16\n",
      "\t# Layer 2 Nodes = 4\n",
      "\t# of Output Nuerons = 1\n",
      "\t# Epochs = 100\n",
      "\t\t\t***                       Permutation:208 ==> Loss: 0.6485199928283691, Accuracy: 0.7264139652252197 ***\n",
      "\t\t\t*** Best Running Results: Permutation:156 ==> Loss: 0.5500848293304443, Accuracy: 0.73399418592453 ***\n"
     ]
    },
    {
     "data": {
      "text/plain": [
       "'INCOME_AMT'"
      ]
     },
     "metadata": {},
     "output_type": "display_data"
    },
    {
     "name": "stdout",
     "output_type": "stream",
     "text": [
      "Running Permuation #209\n",
      "\tFeature Drop = INCOME_AMT\n",
      "\t# Input Features = 107\n",
      "\t Use Model Activation Function = sigmoid\n",
      "\t# Hidden Layers = 1\n",
      "\t# Layer 1 Nodes = 8\n",
      "\t# of Output Nuerons = 1\n",
      "\t# Epochs = 25\n",
      "\t\t\t***                       Permutation:209 ==> Loss: 0.559171736240387, Accuracy: 0.7261807322502136 ***\n",
      "\t\t\t*** Best Running Results: Permutation:156 ==> Loss: 0.5500848293304443, Accuracy: 0.73399418592453 ***\n"
     ]
    },
    {
     "data": {
      "text/plain": [
       "'INCOME_AMT'"
      ]
     },
     "metadata": {},
     "output_type": "display_data"
    },
    {
     "name": "stdout",
     "output_type": "stream",
     "text": [
      "Running Permuation #210\n",
      "\tFeature Drop = INCOME_AMT\n",
      "\t# Input Features = 107\n",
      "\t Use Model Activation Function = sigmoid\n",
      "\t# Hidden Layers = 1\n",
      "\t# Layer 1 Nodes = 8\n",
      "\t# of Output Nuerons = 1\n",
      "\t# Epochs = 50\n",
      "\t\t\t***                       Permutation:210 ==> Loss: 0.5562551617622375, Accuracy: 0.7282798886299133 ***\n",
      "\t\t\t*** Best Running Results: Permutation:156 ==> Loss: 0.5500848293304443, Accuracy: 0.73399418592453 ***\n"
     ]
    },
    {
     "data": {
      "text/plain": [
       "'INCOME_AMT'"
      ]
     },
     "metadata": {},
     "output_type": "display_data"
    },
    {
     "name": "stdout",
     "output_type": "stream",
     "text": [
      "Running Permuation #211\n",
      "\tFeature Drop = INCOME_AMT\n",
      "\t# Input Features = 107\n",
      "\t Use Model Activation Function = sigmoid\n",
      "\t# Hidden Layers = 1\n",
      "\t# Layer 1 Nodes = 8\n",
      "\t# of Output Nuerons = 1\n",
      "\t# Epochs = 75\n",
      "\t\t\t***                       Permutation:211 ==> Loss: 0.55693519115448, Accuracy: 0.7271137237548828 ***\n",
      "\t\t\t*** Best Running Results: Permutation:156 ==> Loss: 0.5500848293304443, Accuracy: 0.73399418592453 ***\n"
     ]
    },
    {
     "data": {
      "text/plain": [
       "'INCOME_AMT'"
      ]
     },
     "metadata": {},
     "output_type": "display_data"
    },
    {
     "name": "stdout",
     "output_type": "stream",
     "text": [
      "Running Permuation #212\n",
      "\tFeature Drop = INCOME_AMT\n",
      "\t# Input Features = 107\n",
      "\t Use Model Activation Function = sigmoid\n",
      "\t# Hidden Layers = 1\n",
      "\t# Layer 1 Nodes = 8\n",
      "\t# of Output Nuerons = 1\n",
      "\t# Epochs = 100\n",
      "\t\t\t***                       Permutation:212 ==> Loss: 0.555303692817688, Accuracy: 0.728396475315094 ***\n",
      "\t\t\t*** Best Running Results: Permutation:156 ==> Loss: 0.5500848293304443, Accuracy: 0.73399418592453 ***\n"
     ]
    },
    {
     "data": {
      "text/plain": [
       "'INCOME_AMT'"
      ]
     },
     "metadata": {},
     "output_type": "display_data"
    },
    {
     "name": "stdout",
     "output_type": "stream",
     "text": [
      "Running Permuation #213\n",
      "\tFeature Drop = INCOME_AMT\n",
      "\t# Input Features = 107\n",
      "\t Use Model Activation Function = sigmoid\n",
      "\t# Hidden Layers = 1\n",
      "\t# Layer 1 Nodes = 16\n",
      "\t# of Output Nuerons = 1\n",
      "\t# Epochs = 25\n",
      "\t\t\t***                       Permutation:213 ==> Loss: 0.5594744682312012, Accuracy: 0.7255976796150208 ***\n",
      "\t\t\t*** Best Running Results: Permutation:156 ==> Loss: 0.5500848293304443, Accuracy: 0.73399418592453 ***\n"
     ]
    },
    {
     "data": {
      "text/plain": [
       "'INCOME_AMT'"
      ]
     },
     "metadata": {},
     "output_type": "display_data"
    },
    {
     "name": "stdout",
     "output_type": "stream",
     "text": [
      "Running Permuation #214\n",
      "\tFeature Drop = INCOME_AMT\n",
      "\t# Input Features = 107\n",
      "\t Use Model Activation Function = sigmoid\n",
      "\t# Hidden Layers = 1\n",
      "\t# Layer 1 Nodes = 16\n",
      "\t# of Output Nuerons = 1\n",
      "\t# Epochs = 50\n",
      "\t\t\t***                       Permutation:214 ==> Loss: 0.5554665923118591, Accuracy: 0.7271137237548828 ***\n",
      "\t\t\t*** Best Running Results: Permutation:156 ==> Loss: 0.5500848293304443, Accuracy: 0.73399418592453 ***\n"
     ]
    },
    {
     "data": {
      "text/plain": [
       "'INCOME_AMT'"
      ]
     },
     "metadata": {},
     "output_type": "display_data"
    },
    {
     "name": "stdout",
     "output_type": "stream",
     "text": [
      "Running Permuation #215\n",
      "\tFeature Drop = INCOME_AMT\n",
      "\t# Input Features = 107\n",
      "\t Use Model Activation Function = sigmoid\n",
      "\t# Hidden Layers = 1\n",
      "\t# Layer 1 Nodes = 16\n",
      "\t# of Output Nuerons = 1\n",
      "\t# Epochs = 75\n",
      "\t\t\t***                       Permutation:215 ==> Loss: 0.5565447807312012, Accuracy: 0.7267638444900513 ***\n",
      "\t\t\t*** Best Running Results: Permutation:156 ==> Loss: 0.5500848293304443, Accuracy: 0.73399418592453 ***\n"
     ]
    },
    {
     "data": {
      "text/plain": [
       "'INCOME_AMT'"
      ]
     },
     "metadata": {},
     "output_type": "display_data"
    },
    {
     "name": "stdout",
     "output_type": "stream",
     "text": [
      "Running Permuation #216\n",
      "\tFeature Drop = INCOME_AMT\n",
      "\t# Input Features = 107\n",
      "\t Use Model Activation Function = sigmoid\n",
      "\t# Hidden Layers = 1\n",
      "\t# Layer 1 Nodes = 16\n",
      "\t# of Output Nuerons = 1\n",
      "\t# Epochs = 100\n",
      "\t\t\t***                       Permutation:216 ==> Loss: 0.5562177896499634, Accuracy: 0.7279300093650818 ***\n",
      "\t\t\t*** Best Running Results: Permutation:156 ==> Loss: 0.5500848293304443, Accuracy: 0.73399418592453 ***\n"
     ]
    },
    {
     "data": {
      "text/plain": [
       "'INCOME_AMT'"
      ]
     },
     "metadata": {},
     "output_type": "display_data"
    },
    {
     "name": "stdout",
     "output_type": "stream",
     "text": [
      "Running Permuation #217\n",
      "\tFeature Drop = INCOME_AMT\n",
      "\t# Input Features = 107\n",
      "\t Use Model Activation Function = sigmoid\n",
      "\t# Hidden Layers = 2\n",
      "\t# Layer 1 Nodes = 8\n",
      "\t# Layer 2 Nodes = 4\n",
      "\t# of Output Nuerons = 1\n",
      "\t# Epochs = 25\n",
      "\t\t\t***                       Permutation:217 ==> Loss: 0.5577733516693115, Accuracy: 0.7281632423400879 ***\n",
      "\t\t\t*** Best Running Results: Permutation:156 ==> Loss: 0.5500848293304443, Accuracy: 0.73399418592453 ***\n"
     ]
    },
    {
     "data": {
      "text/plain": [
       "'INCOME_AMT'"
      ]
     },
     "metadata": {},
     "output_type": "display_data"
    },
    {
     "name": "stdout",
     "output_type": "stream",
     "text": [
      "Running Permuation #218\n",
      "\tFeature Drop = INCOME_AMT\n",
      "\t# Input Features = 107\n",
      "\t Use Model Activation Function = sigmoid\n",
      "\t# Hidden Layers = 2\n",
      "\t# Layer 1 Nodes = 8\n",
      "\t# Layer 2 Nodes = 4\n",
      "\t# of Output Nuerons = 1\n",
      "\t# Epochs = 50\n",
      "\t\t\t***                       Permutation:218 ==> Loss: 0.5573914647102356, Accuracy: 0.7244315147399902 ***\n",
      "\t\t\t*** Best Running Results: Permutation:156 ==> Loss: 0.5500848293304443, Accuracy: 0.73399418592453 ***\n"
     ]
    },
    {
     "data": {
      "text/plain": [
       "'INCOME_AMT'"
      ]
     },
     "metadata": {},
     "output_type": "display_data"
    },
    {
     "name": "stdout",
     "output_type": "stream",
     "text": [
      "Running Permuation #219\n",
      "\tFeature Drop = INCOME_AMT\n",
      "\t# Input Features = 107\n",
      "\t Use Model Activation Function = sigmoid\n",
      "\t# Hidden Layers = 2\n",
      "\t# Layer 1 Nodes = 8\n",
      "\t# Layer 2 Nodes = 4\n",
      "\t# of Output Nuerons = 1\n",
      "\t# Epochs = 75\n",
      "\t\t\t***                       Permutation:219 ==> Loss: 0.555337131023407, Accuracy: 0.7259474992752075 ***\n",
      "\t\t\t*** Best Running Results: Permutation:156 ==> Loss: 0.5500848293304443, Accuracy: 0.73399418592453 ***\n"
     ]
    },
    {
     "data": {
      "text/plain": [
       "'INCOME_AMT'"
      ]
     },
     "metadata": {},
     "output_type": "display_data"
    },
    {
     "name": "stdout",
     "output_type": "stream",
     "text": [
      "Running Permuation #220\n",
      "\tFeature Drop = INCOME_AMT\n",
      "\t# Input Features = 107\n",
      "\t Use Model Activation Function = sigmoid\n",
      "\t# Hidden Layers = 2\n",
      "\t# Layer 1 Nodes = 8\n",
      "\t# Layer 2 Nodes = 4\n",
      "\t# of Output Nuerons = 1\n",
      "\t# Epochs = 100\n",
      "\t\t\t***                       Permutation:220 ==> Loss: 0.5552601218223572, Accuracy: 0.727580189704895 ***\n",
      "\t\t\t*** Best Running Results: Permutation:156 ==> Loss: 0.5500848293304443, Accuracy: 0.73399418592453 ***\n"
     ]
    },
    {
     "data": {
      "text/plain": [
       "'INCOME_AMT'"
      ]
     },
     "metadata": {},
     "output_type": "display_data"
    },
    {
     "name": "stdout",
     "output_type": "stream",
     "text": [
      "Running Permuation #221\n",
      "\tFeature Drop = INCOME_AMT\n",
      "\t# Input Features = 107\n",
      "\t Use Model Activation Function = sigmoid\n",
      "\t# Hidden Layers = 2\n",
      "\t# Layer 1 Nodes = 16\n",
      "\t# Layer 2 Nodes = 4\n",
      "\t# of Output Nuerons = 1\n",
      "\t# Epochs = 25\n",
      "\t\t\t***                       Permutation:221 ==> Loss: 0.5578623414039612, Accuracy: 0.7251312136650085 ***\n",
      "\t\t\t*** Best Running Results: Permutation:156 ==> Loss: 0.5500848293304443, Accuracy: 0.73399418592453 ***\n"
     ]
    },
    {
     "data": {
      "text/plain": [
       "'INCOME_AMT'"
      ]
     },
     "metadata": {},
     "output_type": "display_data"
    },
    {
     "name": "stdout",
     "output_type": "stream",
     "text": [
      "Running Permuation #222\n",
      "\tFeature Drop = INCOME_AMT\n",
      "\t# Input Features = 107\n",
      "\t Use Model Activation Function = sigmoid\n",
      "\t# Hidden Layers = 2\n",
      "\t# Layer 1 Nodes = 16\n",
      "\t# Layer 2 Nodes = 4\n",
      "\t# of Output Nuerons = 1\n",
      "\t# Epochs = 50\n",
      "\t\t\t***                       Permutation:222 ==> Loss: 0.5562101602554321, Accuracy: 0.7286297082901001 ***\n",
      "\t\t\t*** Best Running Results: Permutation:156 ==> Loss: 0.5500848293304443, Accuracy: 0.73399418592453 ***\n"
     ]
    },
    {
     "data": {
      "text/plain": [
       "'INCOME_AMT'"
      ]
     },
     "metadata": {},
     "output_type": "display_data"
    },
    {
     "name": "stdout",
     "output_type": "stream",
     "text": [
      "Running Permuation #223\n",
      "\tFeature Drop = INCOME_AMT\n",
      "\t# Input Features = 107\n",
      "\t Use Model Activation Function = sigmoid\n",
      "\t# Hidden Layers = 2\n",
      "\t# Layer 1 Nodes = 16\n",
      "\t# Layer 2 Nodes = 4\n",
      "\t# of Output Nuerons = 1\n",
      "\t# Epochs = 75\n",
      "\t\t\t***                       Permutation:223 ==> Loss: 0.5549864172935486, Accuracy: 0.7273469567298889 ***\n",
      "\t\t\t*** Best Running Results: Permutation:156 ==> Loss: 0.5500848293304443, Accuracy: 0.73399418592453 ***\n"
     ]
    },
    {
     "data": {
      "text/plain": [
       "'INCOME_AMT'"
      ]
     },
     "metadata": {},
     "output_type": "display_data"
    },
    {
     "name": "stdout",
     "output_type": "stream",
     "text": [
      "Running Permuation #224\n",
      "\tFeature Drop = INCOME_AMT\n",
      "\t# Input Features = 107\n",
      "\t Use Model Activation Function = sigmoid\n",
      "\t# Hidden Layers = 2\n",
      "\t# Layer 1 Nodes = 16\n",
      "\t# Layer 2 Nodes = 4\n",
      "\t# of Output Nuerons = 1\n",
      "\t# Epochs = 100\n",
      "\t\t\t***                       Permutation:224 ==> Loss: 0.5558422803878784, Accuracy: 0.7276967763900757 ***\n",
      "\t\t\t*** Best Running Results: Permutation:156 ==> Loss: 0.5500848293304443, Accuracy: 0.73399418592453 ***\n"
     ]
    },
    {
     "data": {
      "text/plain": [
       "'SPECIAL_CONSIDERATIONS'"
      ]
     },
     "metadata": {},
     "output_type": "display_data"
    },
    {
     "name": "stdout",
     "output_type": "stream",
     "text": [
      "Running Permuation #225\n",
      "\tFeature Drop = SPECIAL_CONSIDERATIONS\n",
      "\t# Input Features = 114\n",
      "\t Use Model Activation Function = relu\n",
      "\t# Hidden Layers = 1\n",
      "\t# Layer 1 Nodes = 8\n",
      "\t# of Output Nuerons = 1\n",
      "\t# Epochs = 25\n",
      "\t\t\t***                       Permutation:225 ==> Loss: 0.8773961663246155, Accuracy: 0.718367338180542 ***\n",
      "\t\t\t*** Best Running Results: Permutation:156 ==> Loss: 0.5500848293304443, Accuracy: 0.73399418592453 ***\n"
     ]
    },
    {
     "data": {
      "text/plain": [
       "'SPECIAL_CONSIDERATIONS'"
      ]
     },
     "metadata": {},
     "output_type": "display_data"
    },
    {
     "name": "stdout",
     "output_type": "stream",
     "text": [
      "Running Permuation #226\n",
      "\tFeature Drop = SPECIAL_CONSIDERATIONS\n",
      "\t# Input Features = 114\n",
      "\t Use Model Activation Function = relu\n",
      "\t# Hidden Layers = 1\n",
      "\t# Layer 1 Nodes = 8\n",
      "\t# of Output Nuerons = 1\n",
      "\t# Epochs = 50\n",
      "\t\t\t***                       Permutation:226 ==> Loss: 0.8192099928855896, Accuracy: 0.7123032212257385 ***\n",
      "\t\t\t*** Best Running Results: Permutation:156 ==> Loss: 0.5500848293304443, Accuracy: 0.73399418592453 ***\n"
     ]
    },
    {
     "data": {
      "text/plain": [
       "'SPECIAL_CONSIDERATIONS'"
      ]
     },
     "metadata": {},
     "output_type": "display_data"
    },
    {
     "name": "stdout",
     "output_type": "stream",
     "text": [
      "Running Permuation #227\n",
      "\tFeature Drop = SPECIAL_CONSIDERATIONS\n",
      "\t# Input Features = 114\n",
      "\t Use Model Activation Function = relu\n",
      "\t# Hidden Layers = 1\n",
      "\t# Layer 1 Nodes = 8\n",
      "\t# of Output Nuerons = 1\n",
      "\t# Epochs = 75\n",
      "\t\t\t***                       Permutation:227 ==> Loss: 1.2092763185501099, Accuracy: 0.7020407915115356 ***\n",
      "\t\t\t*** Best Running Results: Permutation:156 ==> Loss: 0.5500848293304443, Accuracy: 0.73399418592453 ***\n"
     ]
    },
    {
     "data": {
      "text/plain": [
       "'SPECIAL_CONSIDERATIONS'"
      ]
     },
     "metadata": {},
     "output_type": "display_data"
    },
    {
     "name": "stdout",
     "output_type": "stream",
     "text": [
      "Running Permuation #228\n",
      "\tFeature Drop = SPECIAL_CONSIDERATIONS\n",
      "\t# Input Features = 114\n",
      "\t Use Model Activation Function = relu\n",
      "\t# Hidden Layers = 1\n",
      "\t# Layer 1 Nodes = 8\n",
      "\t# of Output Nuerons = 1\n",
      "\t# Epochs = 100\n",
      "\t\t\t***                       Permutation:228 ==> Loss: 0.596744179725647, Accuracy: 0.7229154706001282 ***\n",
      "\t\t\t*** Best Running Results: Permutation:156 ==> Loss: 0.5500848293304443, Accuracy: 0.73399418592453 ***\n"
     ]
    },
    {
     "data": {
      "text/plain": [
       "'SPECIAL_CONSIDERATIONS'"
      ]
     },
     "metadata": {},
     "output_type": "display_data"
    },
    {
     "name": "stdout",
     "output_type": "stream",
     "text": [
      "Running Permuation #229\n",
      "\tFeature Drop = SPECIAL_CONSIDERATIONS\n",
      "\t# Input Features = 114\n",
      "\t Use Model Activation Function = relu\n",
      "\t# Hidden Layers = 1\n",
      "\t# Layer 1 Nodes = 16\n",
      "\t# of Output Nuerons = 1\n",
      "\t# Epochs = 25\n",
      "\t\t\t***                       Permutation:229 ==> Loss: 1.3307809829711914, Accuracy: 0.6915451884269714 ***\n",
      "\t\t\t*** Best Running Results: Permutation:156 ==> Loss: 0.5500848293304443, Accuracy: 0.73399418592453 ***\n"
     ]
    },
    {
     "data": {
      "text/plain": [
       "'SPECIAL_CONSIDERATIONS'"
      ]
     },
     "metadata": {},
     "output_type": "display_data"
    },
    {
     "name": "stdout",
     "output_type": "stream",
     "text": [
      "Running Permuation #230\n",
      "\tFeature Drop = SPECIAL_CONSIDERATIONS\n",
      "\t# Input Features = 114\n",
      "\t Use Model Activation Function = relu\n",
      "\t# Hidden Layers = 1\n",
      "\t# Layer 1 Nodes = 16\n",
      "\t# of Output Nuerons = 1\n",
      "\t# Epochs = 50\n",
      "\t\t\t***                       Permutation:230 ==> Loss: 0.7985618114471436, Accuracy: 0.7191836833953857 ***\n",
      "\t\t\t*** Best Running Results: Permutation:156 ==> Loss: 0.5500848293304443, Accuracy: 0.73399418592453 ***\n"
     ]
    },
    {
     "data": {
      "text/plain": [
       "'SPECIAL_CONSIDERATIONS'"
      ]
     },
     "metadata": {},
     "output_type": "display_data"
    },
    {
     "name": "stdout",
     "output_type": "stream",
     "text": [
      "Running Permuation #231\n",
      "\tFeature Drop = SPECIAL_CONSIDERATIONS\n",
      "\t# Input Features = 114\n",
      "\t Use Model Activation Function = relu\n",
      "\t# Hidden Layers = 1\n",
      "\t# Layer 1 Nodes = 16\n",
      "\t# of Output Nuerons = 1\n",
      "\t# Epochs = 75\n",
      "\t\t\t***                       Permutation:231 ==> Loss: 0.7530516386032104, Accuracy: 0.7226822376251221 ***\n",
      "\t\t\t*** Best Running Results: Permutation:156 ==> Loss: 0.5500848293304443, Accuracy: 0.73399418592453 ***\n"
     ]
    },
    {
     "data": {
      "text/plain": [
       "'SPECIAL_CONSIDERATIONS'"
      ]
     },
     "metadata": {},
     "output_type": "display_data"
    },
    {
     "name": "stdout",
     "output_type": "stream",
     "text": [
      "Running Permuation #232\n",
      "\tFeature Drop = SPECIAL_CONSIDERATIONS\n",
      "\t# Input Features = 114\n",
      "\t Use Model Activation Function = relu\n",
      "\t# Hidden Layers = 1\n",
      "\t# Layer 1 Nodes = 16\n",
      "\t# of Output Nuerons = 1\n",
      "\t# Epochs = 100\n",
      "\t\t\t***                       Permutation:232 ==> Loss: 0.6252967715263367, Accuracy: 0.7265306115150452 ***\n",
      "\t\t\t*** Best Running Results: Permutation:156 ==> Loss: 0.5500848293304443, Accuracy: 0.73399418592453 ***\n"
     ]
    },
    {
     "data": {
      "text/plain": [
       "'SPECIAL_CONSIDERATIONS'"
      ]
     },
     "metadata": {},
     "output_type": "display_data"
    },
    {
     "name": "stdout",
     "output_type": "stream",
     "text": [
      "Running Permuation #233\n",
      "\tFeature Drop = SPECIAL_CONSIDERATIONS\n",
      "\t# Input Features = 114\n",
      "\t Use Model Activation Function = relu\n",
      "\t# Hidden Layers = 2\n",
      "\t# Layer 1 Nodes = 8\n",
      "\t# Layer 2 Nodes = 4\n",
      "\t# of Output Nuerons = 1\n",
      "\t# Epochs = 25\n",
      "\t\t\t***                       Permutation:233 ==> Loss: 0.6590937376022339, Accuracy: 0.7173177599906921 ***\n",
      "\t\t\t*** Best Running Results: Permutation:156 ==> Loss: 0.5500848293304443, Accuracy: 0.73399418592453 ***\n"
     ]
    },
    {
     "data": {
      "text/plain": [
       "'SPECIAL_CONSIDERATIONS'"
      ]
     },
     "metadata": {},
     "output_type": "display_data"
    },
    {
     "name": "stdout",
     "output_type": "stream",
     "text": [
      "Running Permuation #234\n",
      "\tFeature Drop = SPECIAL_CONSIDERATIONS\n",
      "\t# Input Features = 114\n",
      "\t Use Model Activation Function = relu\n",
      "\t# Hidden Layers = 2\n",
      "\t# Layer 1 Nodes = 8\n",
      "\t# Layer 2 Nodes = 4\n",
      "\t# of Output Nuerons = 1\n",
      "\t# Epochs = 50\n",
      "\t\t\t***                       Permutation:234 ==> Loss: 0.6155954003334045, Accuracy: 0.7269970774650574 ***\n",
      "\t\t\t*** Best Running Results: Permutation:156 ==> Loss: 0.5500848293304443, Accuracy: 0.73399418592453 ***\n"
     ]
    },
    {
     "data": {
      "text/plain": [
       "'SPECIAL_CONSIDERATIONS'"
      ]
     },
     "metadata": {},
     "output_type": "display_data"
    },
    {
     "name": "stdout",
     "output_type": "stream",
     "text": [
      "Running Permuation #235\n",
      "\tFeature Drop = SPECIAL_CONSIDERATIONS\n",
      "\t# Input Features = 114\n",
      "\t Use Model Activation Function = relu\n",
      "\t# Hidden Layers = 2\n",
      "\t# Layer 1 Nodes = 8\n",
      "\t# Layer 2 Nodes = 4\n",
      "\t# of Output Nuerons = 1\n",
      "\t# Epochs = 75\n",
      "\t\t\t***                       Permutation:235 ==> Loss: 0.5741675496101379, Accuracy: 0.7328279614448547 ***\n",
      "\t\t\t*** Best Running Results: Permutation:156 ==> Loss: 0.5500848293304443, Accuracy: 0.73399418592453 ***\n"
     ]
    },
    {
     "data": {
      "text/plain": [
       "'SPECIAL_CONSIDERATIONS'"
      ]
     },
     "metadata": {},
     "output_type": "display_data"
    },
    {
     "name": "stdout",
     "output_type": "stream",
     "text": [
      "Running Permuation #236\n",
      "\tFeature Drop = SPECIAL_CONSIDERATIONS\n",
      "\t# Input Features = 114\n",
      "\t Use Model Activation Function = relu\n",
      "\t# Hidden Layers = 2\n",
      "\t# Layer 1 Nodes = 8\n",
      "\t# Layer 2 Nodes = 4\n",
      "\t# of Output Nuerons = 1\n",
      "\t# Epochs = 100\n",
      "\t\t\t***                       Permutation:236 ==> Loss: 0.6260335445404053, Accuracy: 0.7261807322502136 ***\n",
      "\t\t\t*** Best Running Results: Permutation:156 ==> Loss: 0.5500848293304443, Accuracy: 0.73399418592453 ***\n"
     ]
    },
    {
     "data": {
      "text/plain": [
       "'SPECIAL_CONSIDERATIONS'"
      ]
     },
     "metadata": {},
     "output_type": "display_data"
    },
    {
     "name": "stdout",
     "output_type": "stream",
     "text": [
      "Running Permuation #237\n",
      "\tFeature Drop = SPECIAL_CONSIDERATIONS\n",
      "\t# Input Features = 114\n",
      "\t Use Model Activation Function = relu\n",
      "\t# Hidden Layers = 2\n",
      "\t# Layer 1 Nodes = 16\n",
      "\t# Layer 2 Nodes = 4\n",
      "\t# of Output Nuerons = 1\n",
      "\t# Epochs = 25\n",
      "\t\t\t***                       Permutation:237 ==> Loss: 0.654804527759552, Accuracy: 0.7302623987197876 ***\n",
      "\t\t\t*** Best Running Results: Permutation:156 ==> Loss: 0.5500848293304443, Accuracy: 0.73399418592453 ***\n"
     ]
    },
    {
     "data": {
      "text/plain": [
       "'SPECIAL_CONSIDERATIONS'"
      ]
     },
     "metadata": {},
     "output_type": "display_data"
    },
    {
     "name": "stdout",
     "output_type": "stream",
     "text": [
      "Running Permuation #238\n",
      "\tFeature Drop = SPECIAL_CONSIDERATIONS\n",
      "\t# Input Features = 114\n",
      "\t Use Model Activation Function = relu\n",
      "\t# Hidden Layers = 2\n",
      "\t# Layer 1 Nodes = 16\n",
      "\t# Layer 2 Nodes = 4\n",
      "\t# of Output Nuerons = 1\n",
      "\t# Epochs = 50\n",
      "\t\t\t***                       Permutation:238 ==> Loss: 0.5975680351257324, Accuracy: 0.721982479095459 ***\n",
      "\t\t\t*** Best Running Results: Permutation:156 ==> Loss: 0.5500848293304443, Accuracy: 0.73399418592453 ***\n"
     ]
    },
    {
     "data": {
      "text/plain": [
       "'SPECIAL_CONSIDERATIONS'"
      ]
     },
     "metadata": {},
     "output_type": "display_data"
    },
    {
     "name": "stdout",
     "output_type": "stream",
     "text": [
      "Running Permuation #239\n",
      "\tFeature Drop = SPECIAL_CONSIDERATIONS\n",
      "\t# Input Features = 114\n",
      "\t Use Model Activation Function = relu\n",
      "\t# Hidden Layers = 2\n",
      "\t# Layer 1 Nodes = 16\n",
      "\t# Layer 2 Nodes = 4\n",
      "\t# of Output Nuerons = 1\n",
      "\t# Epochs = 75\n",
      "\t\t\t***                       Permutation:239 ==> Loss: 0.5833789706230164, Accuracy: 0.731195330619812 ***\n",
      "\t\t\t*** Best Running Results: Permutation:156 ==> Loss: 0.5500848293304443, Accuracy: 0.73399418592453 ***\n"
     ]
    },
    {
     "data": {
      "text/plain": [
       "'SPECIAL_CONSIDERATIONS'"
      ]
     },
     "metadata": {},
     "output_type": "display_data"
    },
    {
     "name": "stdout",
     "output_type": "stream",
     "text": [
      "Running Permuation #240\n",
      "\tFeature Drop = SPECIAL_CONSIDERATIONS\n",
      "\t# Input Features = 114\n",
      "\t Use Model Activation Function = relu\n",
      "\t# Hidden Layers = 2\n",
      "\t# Layer 1 Nodes = 16\n",
      "\t# Layer 2 Nodes = 4\n",
      "\t# of Output Nuerons = 1\n",
      "\t# Epochs = 100\n",
      "\t\t\t***                       Permutation:240 ==> Loss: 0.6124861836433411, Accuracy: 0.7295626997947693 ***\n",
      "\t\t\t*** Best Running Results: Permutation:156 ==> Loss: 0.5500848293304443, Accuracy: 0.73399418592453 ***\n"
     ]
    },
    {
     "data": {
      "text/plain": [
       "'SPECIAL_CONSIDERATIONS'"
      ]
     },
     "metadata": {},
     "output_type": "display_data"
    },
    {
     "name": "stdout",
     "output_type": "stream",
     "text": [
      "Running Permuation #241\n",
      "\tFeature Drop = SPECIAL_CONSIDERATIONS\n",
      "\t# Input Features = 114\n",
      "\t Use Model Activation Function = sigmoid\n",
      "\t# Hidden Layers = 1\n",
      "\t# Layer 1 Nodes = 8\n",
      "\t# of Output Nuerons = 1\n",
      "\t# Epochs = 25\n",
      "\t\t\t***                       Permutation:241 ==> Loss: 0.5535004734992981, Accuracy: 0.7310787439346313 ***\n",
      "\t\t\t*** Best Running Results: Permutation:156 ==> Loss: 0.5500848293304443, Accuracy: 0.73399418592453 ***\n"
     ]
    },
    {
     "data": {
      "text/plain": [
       "'SPECIAL_CONSIDERATIONS'"
      ]
     },
     "metadata": {},
     "output_type": "display_data"
    },
    {
     "name": "stdout",
     "output_type": "stream",
     "text": [
      "Running Permuation #242\n",
      "\tFeature Drop = SPECIAL_CONSIDERATIONS\n",
      "\t# Input Features = 114\n",
      "\t Use Model Activation Function = sigmoid\n",
      "\t# Hidden Layers = 1\n",
      "\t# Layer 1 Nodes = 8\n",
      "\t# of Output Nuerons = 1\n",
      "\t# Epochs = 50\n",
      "\t\t\t***                       Permutation:242 ==> Loss: 0.5521997213363647, Accuracy: 0.7315452098846436 ***\n",
      "\t\t\t*** Best Running Results: Permutation:156 ==> Loss: 0.5500848293304443, Accuracy: 0.73399418592453 ***\n"
     ]
    },
    {
     "data": {
      "text/plain": [
       "'SPECIAL_CONSIDERATIONS'"
      ]
     },
     "metadata": {},
     "output_type": "display_data"
    },
    {
     "name": "stdout",
     "output_type": "stream",
     "text": [
      "Running Permuation #243\n",
      "\tFeature Drop = SPECIAL_CONSIDERATIONS\n",
      "\t# Input Features = 114\n",
      "\t Use Model Activation Function = sigmoid\n",
      "\t# Hidden Layers = 1\n",
      "\t# Layer 1 Nodes = 8\n",
      "\t# of Output Nuerons = 1\n",
      "\t# Epochs = 75\n",
      "\t\t\t***                       Permutation:243 ==> Loss: 0.550896406173706, Accuracy: 0.7308454513549805 ***\n",
      "\t\t\t*** Best Running Results: Permutation:156 ==> Loss: 0.5500848293304443, Accuracy: 0.73399418592453 ***\n"
     ]
    },
    {
     "data": {
      "text/plain": [
       "'SPECIAL_CONSIDERATIONS'"
      ]
     },
     "metadata": {},
     "output_type": "display_data"
    },
    {
     "name": "stdout",
     "output_type": "stream",
     "text": [
      "Running Permuation #244\n",
      "\tFeature Drop = SPECIAL_CONSIDERATIONS\n",
      "\t# Input Features = 114\n",
      "\t Use Model Activation Function = sigmoid\n",
      "\t# Hidden Layers = 1\n",
      "\t# Layer 1 Nodes = 8\n",
      "\t# of Output Nuerons = 1\n",
      "\t# Epochs = 100\n",
      "\t\t\t***                       Permutation:244 ==> Loss: 0.5505126118659973, Accuracy: 0.7322449088096619 ***\n",
      "\t\t\t*** Best Running Results: Permutation:156 ==> Loss: 0.5500848293304443, Accuracy: 0.73399418592453 ***\n"
     ]
    },
    {
     "data": {
      "text/plain": [
       "'SPECIAL_CONSIDERATIONS'"
      ]
     },
     "metadata": {},
     "output_type": "display_data"
    },
    {
     "name": "stdout",
     "output_type": "stream",
     "text": [
      "Running Permuation #245\n",
      "\tFeature Drop = SPECIAL_CONSIDERATIONS\n",
      "\t# Input Features = 114\n",
      "\t Use Model Activation Function = sigmoid\n",
      "\t# Hidden Layers = 1\n",
      "\t# Layer 1 Nodes = 16\n",
      "\t# of Output Nuerons = 1\n",
      "\t# Epochs = 25\n",
      "\t\t\t***                       Permutation:245 ==> Loss: 0.5519031882286072, Accuracy: 0.7314285635948181 ***\n",
      "\t\t\t*** Best Running Results: Permutation:156 ==> Loss: 0.5500848293304443, Accuracy: 0.73399418592453 ***\n"
     ]
    },
    {
     "data": {
      "text/plain": [
       "'SPECIAL_CONSIDERATIONS'"
      ]
     },
     "metadata": {},
     "output_type": "display_data"
    },
    {
     "name": "stdout",
     "output_type": "stream",
     "text": [
      "Running Permuation #246\n",
      "\tFeature Drop = SPECIAL_CONSIDERATIONS\n",
      "\t# Input Features = 114\n",
      "\t Use Model Activation Function = sigmoid\n",
      "\t# Hidden Layers = 1\n",
      "\t# Layer 1 Nodes = 16\n",
      "\t# of Output Nuerons = 1\n",
      "\t# Epochs = 50\n",
      "\t\t\t***                       Permutation:246 ==> Loss: 0.5507774949073792, Accuracy: 0.7293294668197632 ***\n",
      "\t\t\t*** Best Running Results: Permutation:156 ==> Loss: 0.5500848293304443, Accuracy: 0.73399418592453 ***\n"
     ]
    },
    {
     "data": {
      "text/plain": [
       "'SPECIAL_CONSIDERATIONS'"
      ]
     },
     "metadata": {},
     "output_type": "display_data"
    },
    {
     "name": "stdout",
     "output_type": "stream",
     "text": [
      "Running Permuation #247\n",
      "\tFeature Drop = SPECIAL_CONSIDERATIONS\n",
      "\t# Input Features = 114\n",
      "\t Use Model Activation Function = sigmoid\n",
      "\t# Hidden Layers = 1\n",
      "\t# Layer 1 Nodes = 16\n",
      "\t# of Output Nuerons = 1\n",
      "\t# Epochs = 75\n",
      "\t\t\t***                       Permutation:247 ==> Loss: 0.5516440868377686, Accuracy: 0.7306122183799744 ***\n",
      "\t\t\t*** Best Running Results: Permutation:156 ==> Loss: 0.5500848293304443, Accuracy: 0.73399418592453 ***\n"
     ]
    },
    {
     "data": {
      "text/plain": [
       "'SPECIAL_CONSIDERATIONS'"
      ]
     },
     "metadata": {},
     "output_type": "display_data"
    },
    {
     "name": "stdout",
     "output_type": "stream",
     "text": [
      "Running Permuation #248\n",
      "\tFeature Drop = SPECIAL_CONSIDERATIONS\n",
      "\t# Input Features = 114\n",
      "\t Use Model Activation Function = sigmoid\n",
      "\t# Hidden Layers = 1\n",
      "\t# Layer 1 Nodes = 16\n",
      "\t# of Output Nuerons = 1\n",
      "\t# Epochs = 100\n",
      "\t\t\t***                       Permutation:248 ==> Loss: 0.5521520972251892, Accuracy: 0.7301457524299622 ***\n",
      "\t\t\t*** Best Running Results: Permutation:156 ==> Loss: 0.5500848293304443, Accuracy: 0.73399418592453 ***\n"
     ]
    },
    {
     "data": {
      "text/plain": [
       "'SPECIAL_CONSIDERATIONS'"
      ]
     },
     "metadata": {},
     "output_type": "display_data"
    },
    {
     "name": "stdout",
     "output_type": "stream",
     "text": [
      "Running Permuation #249\n",
      "\tFeature Drop = SPECIAL_CONSIDERATIONS\n",
      "\t# Input Features = 114\n",
      "\t Use Model Activation Function = sigmoid\n",
      "\t# Hidden Layers = 2\n",
      "\t# Layer 1 Nodes = 8\n",
      "\t# Layer 2 Nodes = 4\n",
      "\t# of Output Nuerons = 1\n",
      "\t# Epochs = 25\n",
      "\t\t\t***                       Permutation:249 ==> Loss: 0.5531014204025269, Accuracy: 0.7327113747596741 ***\n",
      "\t\t\t*** Best Running Results: Permutation:156 ==> Loss: 0.5500848293304443, Accuracy: 0.73399418592453 ***\n"
     ]
    },
    {
     "data": {
      "text/plain": [
       "'SPECIAL_CONSIDERATIONS'"
      ]
     },
     "metadata": {},
     "output_type": "display_data"
    },
    {
     "name": "stdout",
     "output_type": "stream",
     "text": [
      "Running Permuation #250\n",
      "\tFeature Drop = SPECIAL_CONSIDERATIONS\n",
      "\t# Input Features = 114\n",
      "\t Use Model Activation Function = sigmoid\n",
      "\t# Hidden Layers = 2\n",
      "\t# Layer 1 Nodes = 8\n",
      "\t# Layer 2 Nodes = 4\n",
      "\t# of Output Nuerons = 1\n",
      "\t# Epochs = 50\n",
      "\t\t\t***                       Permutation:250 ==> Loss: 0.5507593154907227, Accuracy: 0.732478141784668 ***\n",
      "\t\t\t*** Best Running Results: Permutation:156 ==> Loss: 0.5500848293304443, Accuracy: 0.73399418592453 ***\n"
     ]
    },
    {
     "data": {
      "text/plain": [
       "'SPECIAL_CONSIDERATIONS'"
      ]
     },
     "metadata": {},
     "output_type": "display_data"
    },
    {
     "name": "stdout",
     "output_type": "stream",
     "text": [
      "Running Permuation #251\n",
      "\tFeature Drop = SPECIAL_CONSIDERATIONS\n",
      "\t# Input Features = 114\n",
      "\t Use Model Activation Function = sigmoid\n",
      "\t# Hidden Layers = 2\n",
      "\t# Layer 1 Nodes = 8\n",
      "\t# Layer 2 Nodes = 4\n",
      "\t# of Output Nuerons = 1\n",
      "\t# Epochs = 75\n",
      "\t\t\t***                       Permutation:251 ==> Loss: 0.5481542944908142, Accuracy: 0.7338775396347046 ***\n",
      "\t\t\t*** Best Running Results: Permutation:156 ==> Loss: 0.5500848293304443, Accuracy: 0.73399418592453 ***\n"
     ]
    },
    {
     "data": {
      "text/plain": [
       "'SPECIAL_CONSIDERATIONS'"
      ]
     },
     "metadata": {},
     "output_type": "display_data"
    },
    {
     "name": "stdout",
     "output_type": "stream",
     "text": [
      "Running Permuation #252\n",
      "\tFeature Drop = SPECIAL_CONSIDERATIONS\n",
      "\t# Input Features = 114\n",
      "\t Use Model Activation Function = sigmoid\n",
      "\t# Hidden Layers = 2\n",
      "\t# Layer 1 Nodes = 8\n",
      "\t# Layer 2 Nodes = 4\n",
      "\t# of Output Nuerons = 1\n",
      "\t# Epochs = 100\n",
      "\t\t\t***                       Permutation:252 ==> Loss: 0.548416018486023, Accuracy: 0.7297959327697754 ***\n",
      "\t\t\t*** Best Running Results: Permutation:156 ==> Loss: 0.5500848293304443, Accuracy: 0.73399418592453 ***\n"
     ]
    },
    {
     "data": {
      "text/plain": [
       "'SPECIAL_CONSIDERATIONS'"
      ]
     },
     "metadata": {},
     "output_type": "display_data"
    },
    {
     "name": "stdout",
     "output_type": "stream",
     "text": [
      "Running Permuation #253\n",
      "\tFeature Drop = SPECIAL_CONSIDERATIONS\n",
      "\t# Input Features = 114\n",
      "\t Use Model Activation Function = sigmoid\n",
      "\t# Hidden Layers = 2\n",
      "\t# Layer 1 Nodes = 16\n",
      "\t# Layer 2 Nodes = 4\n",
      "\t# of Output Nuerons = 1\n",
      "\t# Epochs = 25\n",
      "\t\t\t***                       Permutation:253 ==> Loss: 0.55020672082901, Accuracy: 0.7308454513549805 ***\n",
      "\t\t\t*** Best Running Results: Permutation:156 ==> Loss: 0.5500848293304443, Accuracy: 0.73399418592453 ***\n"
     ]
    },
    {
     "data": {
      "text/plain": [
       "'SPECIAL_CONSIDERATIONS'"
      ]
     },
     "metadata": {},
     "output_type": "display_data"
    },
    {
     "name": "stdout",
     "output_type": "stream",
     "text": [
      "Running Permuation #254\n",
      "\tFeature Drop = SPECIAL_CONSIDERATIONS\n",
      "\t# Input Features = 114\n",
      "\t Use Model Activation Function = sigmoid\n",
      "\t# Hidden Layers = 2\n",
      "\t# Layer 1 Nodes = 16\n",
      "\t# Layer 2 Nodes = 4\n",
      "\t# of Output Nuerons = 1\n",
      "\t# Epochs = 50\n",
      "\t\t\t***                       Permutation:254 ==> Loss: 0.5497719645500183, Accuracy: 0.7325947284698486 ***\n",
      "\t\t\t*** Best Running Results: Permutation:156 ==> Loss: 0.5500848293304443, Accuracy: 0.73399418592453 ***\n"
     ]
    },
    {
     "data": {
      "text/plain": [
       "'SPECIAL_CONSIDERATIONS'"
      ]
     },
     "metadata": {},
     "output_type": "display_data"
    },
    {
     "name": "stdout",
     "output_type": "stream",
     "text": [
      "Running Permuation #255\n",
      "\tFeature Drop = SPECIAL_CONSIDERATIONS\n",
      "\t# Input Features = 114\n",
      "\t Use Model Activation Function = sigmoid\n",
      "\t# Hidden Layers = 2\n",
      "\t# Layer 1 Nodes = 16\n",
      "\t# Layer 2 Nodes = 4\n",
      "\t# of Output Nuerons = 1\n",
      "\t# Epochs = 75\n",
      "\t\t\t***                       Permutation:255 ==> Loss: 0.5478639006614685, Accuracy: 0.7304956316947937 ***\n",
      "\t\t\t*** Best Running Results: Permutation:156 ==> Loss: 0.5500848293304443, Accuracy: 0.73399418592453 ***\n"
     ]
    },
    {
     "data": {
      "text/plain": [
       "'SPECIAL_CONSIDERATIONS'"
      ]
     },
     "metadata": {},
     "output_type": "display_data"
    },
    {
     "name": "stdout",
     "output_type": "stream",
     "text": [
      "Running Permuation #256\n",
      "\tFeature Drop = SPECIAL_CONSIDERATIONS\n",
      "\t# Input Features = 114\n",
      "\t Use Model Activation Function = sigmoid\n",
      "\t# Hidden Layers = 2\n",
      "\t# Layer 1 Nodes = 16\n",
      "\t# Layer 2 Nodes = 4\n",
      "\t# of Output Nuerons = 1\n",
      "\t# Epochs = 100\n",
      "\t\t\t***                       Permutation:256 ==> Loss: 0.5499955415725708, Accuracy: 0.7290962338447571 ***\n",
      "\t\t\t*** Best Running Results: Permutation:156 ==> Loss: 0.5500848293304443, Accuracy: 0.73399418592453 ***\n",
      "\n",
      "\n",
      "*** Final Best Results: Permutation:156 ==> Loss: 0.5500848293304443, Accuracy: 0.73399418592453 ***\n"
     ]
    }
   ],
   "source": [
    "# Run the neural network through all the permutations\n",
    "\n",
    "print_debug = True\n",
    "model_verbose = False\n",
    "\n",
    "# create an empty array that will hold the neural network model for each permuation\n",
    "nn_sequential_permutation_model_npa = np.empty(total_num_model_permutations,  dtype=np.object)\n",
    "\n",
    "# Keep track of model permutation with best results\n",
    "best_permutation_num = 0\n",
    "best_loss_value = 0\n",
    "best_accuracy_value = 0\n",
    "\n",
    "# Create an initial empty list containter to hold the fit model history and permuation/losses\n",
    "nn_sequential_permutation_model_fit_lst = []\n",
    "nn_sequential_permutation_model_loss_lst = []\n",
    "nn_sequential_permutation_model_accuracy_lst = []\n",
    "\n",
    "for x in range(total_num_model_permutations):\n",
    "\n",
    "    # Check to see if should drop a feature in this model permutation, if yes, drop it\n",
    "    if (num_model_feature_perm_lst_idx_lst[x] > 0):\n",
    "        feature_to_drop = model_feature_perm_lst[num_model_feature_perm_lst_idx_lst[x]]\n",
    "        display(feature_to_drop)\n",
    "        feature_to_drop_idx = X_train_scaled_df.loc[:,X_train_scaled_df.columns.str.startswith(feature_to_drop)].columns        \n",
    "        feature_to_drop_npa = np.array(feature_to_drop_idx)\n",
    "        \n",
    "        X_train_scaled_feature_drop_df = X_train_scaled_df.drop(columns=feature_to_drop_npa)\n",
    "        X_test_scaled_feature_drop_df = X_test_scaled_df.drop(columns=feature_to_drop_npa)\n",
    "    else:\n",
    "        X_train_scaled_feature_drop_df = X_train_scaled_df\n",
    "        X_test_scaled_feature_drop_df = X_test_scaled_df\n",
    "\n",
    "    # Define the the number of inputs (features) to the model\n",
    "    number_input_features = X_train_scaled_feature_drop_df.shape[1]\n",
    "    number_output_neurons = 1\n",
    "\n",
    "    if (print_debug):\n",
    "        print(f\"Running Permuation #{x+1}\") \n",
    "        if (num_model_feature_perm_lst_idx_lst[x] > 0):\n",
    "            print(f\"\\tFeature Drop = {model_feature_perm_lst[num_model_feature_perm_lst_idx_lst[x]]}\")\n",
    "        print(f\"\\t# Input Features = {number_input_features}\")\n",
    "        print(f\"\\t Use Model Activation Function = {activation_function_lst[num_activation_functions_idx_lst[x]]}\")                \n",
    "        print(f\"\\t# Hidden Layers = {num_hidden_layers_lst[x]}\")\n",
    "        print(f\"\\t# Layer 1 Nodes = {num_hidden_nodes_layer1_lst[x]}\")\n",
    "        if (num_hidden_layers_lst[x] > 1):\n",
    "            print(f\"\\t# Layer 2 Nodes = {num_hidden_nodes_layer2_lst[x]}\")\n",
    "        if (num_hidden_layers_lst[x] > 2):\n",
    "            print(f\"\\t# Layer 3 Nodes = {num_hidden_nodes_layer3_lst[x]}\")\n",
    "        print(f\"\\t# of Output Nuerons = {number_output_neurons}\")\n",
    "        print(f\"\\t# Epochs = {num_epochs_lst[x]}\")\n",
    "    \n",
    "    # Create the Sequential model instance\n",
    "    nn_sequential_permutation_model_npa[x] = Sequential()\n",
    "\n",
    "    # Add the first hidden layer\n",
    "    nn_sequential_permutation_model_npa[x].add(Dense(units=num_hidden_nodes_layer1_lst[x], activation=activation_function_lst[num_activation_functions_idx_lst[x]], input_dim=number_input_features))\n",
    "\n",
    "    # If exist in this model permutation, add the second hidden layer\n",
    "    if (num_hidden_layers_lst[x] > 1):\n",
    "        nn_sequential_permutation_model_npa[x].add(Dense(units=num_hidden_nodes_layer2_lst[x], activation=activation_function_lst[num_activation_functions_idx_lst[x]]))\n",
    "\n",
    "    # If exist in this model permutation, add the third hidden layer\n",
    "    if (num_hidden_layers_lst[x] > 2):\n",
    "        nn_sequential_permutation_model_npa[x].add(Dense(units=num_hidden_nodes_layer3_lst[x], activation=activation_function_lst[num_activation_functions_idx_lst[x]]))         \n",
    "\n",
    "    # Add the output layer to the model specifying the number of output neurons and activation function\n",
    "    nn_sequential_permutation_model_npa[x].add(Dense(units=number_output_neurons, activation=activation_function_lst[num_activation_functions_idx_lst[x]]))\n",
    "\n",
    "    # Display the Sequential model summary\n",
    "    #nn_sequential_permutation_model_npa[x].summary()\n",
    "\n",
    "    # Compile the Sequential model\n",
    "    nn_sequential_permutation_model_npa[x].compile(loss=\"binary_crossentropy\", optimizer=\"adam\", metrics=[\"accuracy\"])\n",
    "    \n",
    "    # Fit the model and the training data\n",
    "    nn_sequential_original_model_fit = nn_sequential_permutation_model_npa[x].fit(X_train_scaled_feature_drop_df, y_train_srs, epochs=num_epochs_lst[x], verbose=model_verbose) \n",
    "\n",
    "    # Evaluate the model loss and accuracy metrics using the evaluate method and the test data\n",
    "    nn_sequential_permutation_model_loss, nn_sequential_permutation_model_accuracy =  nn_sequential_permutation_model_npa[x].evaluate(X_test_scaled_feature_drop_df,y_test_srs,verbose=0)\n",
    "\n",
    "    # If this model permutation provided the best results, update \"best\" value set\n",
    "    # (Finding best accuracy)\n",
    "    if (nn_sequential_permutation_model_accuracy > best_accuracy_value):\n",
    "        best_permutation_num = x\n",
    "        best_loss_value = nn_sequential_permutation_model_loss\n",
    "        best_accuracy_value = nn_sequential_permutation_model_accuracy\n",
    "    \n",
    "    # Display the model loss and accuracy results\n",
    "    if (print_debug):\n",
    "        print(f\"\\t\\t\\t***                       Permutation:{x+1} ==> Loss: {nn_sequential_permutation_model_loss}, Accuracy: {nn_sequential_permutation_model_accuracy} ***\") \n",
    "        print(f\"\\t\\t\\t*** Best Running Results: Permutation:{best_permutation_num+1} ==> Loss: {best_loss_value}, Accuracy: {best_accuracy_value} ***\")                 \n",
    "\n",
    "    nn_sequential_permutation_model_fit_lst.append(nn_sequential_original_model_fit)\n",
    "    nn_sequential_permutation_model_loss_lst.append(nn_sequential_permutation_model_loss)\n",
    "    nn_sequential_permutation_model_accuracy_lst.append(nn_sequential_permutation_model_accuracy)\n",
    "        \n",
    "print(f\"\\n\\n*** Final Best Results: Permutation:{best_permutation_num+1} ==> Loss: {best_loss_value}, Accuracy: {best_accuracy_value} ***\")      "
   ]
  },
  {
   "cell_type": "code",
   "execution_count": null,
   "metadata": {},
   "outputs": [],
   "source": []
  },
  {
   "cell_type": "code",
   "execution_count": null,
   "metadata": {},
   "outputs": [],
   "source": []
  },
  {
   "cell_type": "code",
   "execution_count": null,
   "metadata": {},
   "outputs": [],
   "source": []
  },
  {
   "cell_type": "code",
   "execution_count": null,
   "metadata": {},
   "outputs": [],
   "source": []
  },
  {
   "cell_type": "code",
   "execution_count": null,
   "metadata": {},
   "outputs": [],
   "source": []
  },
  {
   "cell_type": "markdown",
   "metadata": {},
   "source": [
    "### Step 2: After finishing your models, display the accuracy scores achieved by each model, and compare the results."
   ]
  },
  {
   "cell_type": "code",
   "execution_count": 51,
   "metadata": {},
   "outputs": [
    {
     "name": "stdout",
     "output_type": "stream",
     "text": [
      "\n",
      "\n",
      "\n",
      "*** Original Neural Network Results: ==> Loss: 0.5499955415725708, Accuracy: 0.7290962338447571 ***\n",
      "\n"
     ]
    },
    {
     "data": {
      "text/plain": [
       "<AxesSubplot:title={'center':'History Of Original Neural Network Model: Accuracy'}, xlabel='# Epoch', ylabel='Accuracy'>"
      ]
     },
     "execution_count": 51,
     "metadata": {},
     "output_type": "execute_result"
    },
    {
     "data": {
      "image/png": "[encoded data removed]",
      "text/plain": [
       "<Figure size 640x480 with 1 Axes>"
      ]
     },
     "metadata": {},
     "output_type": "display_data"
    },
    {
     "data": {
      "image/png": "[encoded data removed]",
      "text/plain": [
       "<Figure size 640x480 with 1 Axes>"
      ]
     },
     "metadata": {},
     "output_type": "display_data"
    }
   ],
   "source": [
    "# Plot the loss/accuracy of the original neural network model results\n",
    "model_plot = pd.DataFrame(\n",
    "    nn_sequential_original_model_fit.history, \n",
    "    index=range(1, len(nn_sequential_original_model_fit.history[\"loss\"]) + 1)\n",
    ")\n",
    "\n",
    "# Display the model loss and accuracy results\n",
    "\n",
    "print()\n",
    "print(f\"\\n\\n*** Original Neural Network Results: ==> Loss: {nn_sequential_permutation_model_loss}, Accuracy: {nn_sequential_permutation_model_accuracy} ***\")      \n",
    "print()\n",
    "\n",
    "# Vizualize the model plot where the y-axis displays the loss metric\n",
    "model_plot.plot(y=\"loss\", title=\"History Of Original Neural Network Model: Loss\", xlabel=\"# Epoch\", ylabel=\"Loss\")\n",
    "\n",
    "# Vizualize the model plot where the y-axis displays the accuracy metric\n",
    "model_plot.plot(y=\"accuracy\", title=\"History Of Original Neural Network Model: Accuracy\", xlabel=\"# Epoch\", ylabel=\"Accuracy\")"
   ]
  },
  {
   "cell_type": "code",
   "execution_count": 52,
   "metadata": {},
   "outputs": [
    {
     "name": "stdout",
     "output_type": "stream",
     "text": [
      "\n",
      "\n",
      "\n",
      "*** Final Best Results: Permutation:156 ==> Loss: 0.5500848293304443, Accuracy: 0.73399418592453 ***\n",
      "\n"
     ]
    },
    {
     "data": {
      "text/plain": [
       "<AxesSubplot:title={'center':'History Of The Best Neural Network Model: Accuracy'}, xlabel='# Epoch', ylabel='Accuracy'>"
      ]
     },
     "execution_count": 52,
     "metadata": {},
     "output_type": "execute_result"
    },
    {
     "data": {
      "image/png": "[encoded data removed]",
      "text/plain": [
       "<Figure size 640x480 with 1 Axes>"
      ]
     },
     "metadata": {},
     "output_type": "display_data"
    },
    {
     "data": {
      "image/png": "[encoded data removed]",
      "text/plain": [
       "<Figure size 640x480 with 1 Axes>"
      ]
     },
     "metadata": {},
     "output_type": "display_data"
    }
   ],
   "source": [
    "# Plot the loss/accuracy of the Best neural network model results that was obtained from all the different model permutation runs\n",
    "model_plot = pd.DataFrame(\n",
    "    nn_sequential_permutation_model_fit_lst[best_permutation_num].history, \n",
    "    index=range(1, len(nn_sequential_permutation_model_fit_lst[best_permutation_num].history[\"loss\"]) + 1)\n",
    ")\n",
    "\n",
    "print()\n",
    "print(f\"\\n\\n*** Final Best Results: Permutation:{best_permutation_num+1} ==> Loss: {best_loss_value}, Accuracy: {best_accuracy_value} ***\")      \n",
    "print()\n",
    "\n",
    "# Vizualize the model plot where the y-axis displays the loss metric\n",
    "model_plot.plot(y=\"loss\", title=\"History Of The Best Neural Network Model: Loss\", xlabel=\"# Epoch\", ylabel=\"Loss\")\n",
    "\n",
    "# Vizualize the model plot where the y-axis displays the accuracy metric\n",
    "model_plot.plot(y=\"accuracy\", title=\"History Of The Best Neural Network Model: Accuracy\", xlabel=\"# Epoch\", ylabel=\"Accuracy\")"
   ]
  },
  {
   "cell_type": "markdown",
   "metadata": {},
   "source": [
    "### Step 3: Save each of your alternative models as an HDF5 file.\n"
   ]
  },
  {
   "cell_type": "code",
   "execution_count": 53,
   "metadata": {},
   "outputs": [],
   "source": [
    "# Save the loss/accuracy of the original neural network model results\n",
    "\n",
    "# Save model as JSON\n",
    "nn_sequential_permutation_model_json = nn_sequential_original_model.to_json()\n",
    "\n",
    "file_path = Path(\"./Resources/nn_sequential_original_model.json\")\n",
    "with open(file_path, \"w\") as json_file:\n",
    "    json_file.write(nn_sequential_permutation_model_json)    \n",
    "    \n",
    "# Save weights\n",
    "file_path = Path(\"./Resources/nn_sequential_original_model.h5\")\n",
    "nn_sequential_original_model.save_weights(file_path)    "
   ]
  },
  {
   "cell_type": "code",
   "execution_count": 54,
   "metadata": {},
   "outputs": [],
   "source": [
    "# Save the loss/accuracy of the Best neural network model results that was obtained from all the different model permutation runs\n",
    "nn_sequential_best_model_json = nn_sequential_permutation_model_npa[best_permutation_num].to_json()\n",
    "\n",
    "file_path = Path(\"./Resources/nn_sequential_best_model_json.json\")\n",
    "with open(file_path, \"w\") as json_file:\n",
    "    json_file.write(nn_sequential_best_model_json)    \n",
    "    \n",
    "# Save weights\n",
    "file_path = Path(\"./Resources/nn_sequential_best_model_json.h5\")\n",
    "nn_sequential_permutation_model_npa[best_permutation_num].save_weights(file_path) "
   ]
  },
  {
   "cell_type": "code",
   "execution_count": null,
   "metadata": {},
   "outputs": [],
   "source": []
  }
 ],
 "metadata": {
  "kernelspec": {
   "display_name": "Python 3 (ipykernel)",
   "language": "python",
   "name": "python3"
  },
  "language_info": {
   "codemirror_mode": {
    "name": "ipython",
    "version": 3
   },
   "file_extension": ".py",
   "mimetype": "text/x-python",
   "name": "python",
   "nbconvert_exporter": "python",
   "pygments_lexer": "ipython3",
   "version": "3.9.12"
  }
 },
 "nbformat": 4,
 "nbformat_minor": 4
}
